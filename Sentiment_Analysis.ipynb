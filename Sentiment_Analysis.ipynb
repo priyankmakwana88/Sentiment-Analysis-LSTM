{
  "nbformat": 4,
  "nbformat_minor": 0,
  "metadata": {
    "colab": {
      "name": "Sentiment Analysis.ipynb",
      "provenance": [],
      "collapsed_sections": []
    },
    "kernelspec": {
      "name": "python3",
      "display_name": "Python 3"
    },
    "language_info": {
      "name": "python"
    }
  },
  "cells": [
    {
      "cell_type": "markdown",
      "metadata": {
        "id": "dHg7J_0F2B5_"
      },
      "source": [
        "**Sentiment Analysis on Text using LSTM**"
      ]
    },
    {
      "cell_type": "markdown",
      "metadata": {
        "id": "iyBY14Sp2bqa"
      },
      "source": [
        "**Paper Reference:**\n",
        "Sentiment analysis using deep learning approach: https://www.techscience.com/jai/v2n1/39512/pdf"
      ]
    },
    {
      "cell_type": "markdown",
      "metadata": {
        "id": "Sd-uHEbwlVV9"
      },
      "source": [
        "***-> Use GPU runtime before running the code***"
      ]
    },
    {
      "cell_type": "markdown",
      "metadata": {
        "id": "q6ldQTqwt2bP"
      },
      "source": [
        "**Downloading imdb dataset from google drive folder**"
      ]
    },
    {
      "cell_type": "code",
      "metadata": {
        "colab": {
          "base_uri": "https://localhost:8080/"
        },
        "id": "Uc7g-bRJ6p3Z",
        "outputId": "a2a42f0f-d186-4d15-9adf-1f2f9d4a1c13"
      },
      "source": [
        "!gdown --id 10uJu7ap6dponwrdViRUn5Yl86GY9ZHD4"
      ],
      "execution_count": null,
      "outputs": [
        {
          "output_type": "stream",
          "name": "stdout",
          "text": [
            "Downloading...\n",
            "From: https://drive.google.com/uc?id=10uJu7ap6dponwrdViRUn5Yl86GY9ZHD4\n",
            "To: /content/IMDB Dataset.csv\n",
            "100% 66.2M/66.2M [00:00<00:00, 140MB/s] \n"
          ]
        }
      ]
    },
    {
      "cell_type": "code",
      "metadata": {
        "id": "8dI1knmvJizs"
      },
      "source": [
        "import numpy as np\n",
        "import pandas as pd"
      ],
      "execution_count": null,
      "outputs": []
    },
    {
      "cell_type": "markdown",
      "metadata": {
        "id": "3IL6GbBRuZkO"
      },
      "source": [
        "**Importing necessary layers and model that are required for this code**"
      ]
    },
    {
      "cell_type": "code",
      "metadata": {
        "id": "r9HB-7kCXUoP"
      },
      "source": [
        "from tensorflow.keras.layers import Dense, LSTM,Embedding, SpatialDropout1D\n",
        "# from keras.utils.np_utils import to_categorical\n",
        "from tensorflow.keras.models import Sequential\n",
        "from tensorflow.keras.preprocessing.text import Tokenizer #to vectorize a text corpus, by turning each text into either a sequence of integers\n",
        "from tensorflow.keras.preprocessing.sequence import pad_sequences #for padding if sentence lengths are not equal\n",
        "from nltk.corpus import stopwords\n",
        "from tensorflow.keras.callbacks import ModelCheckpoint\n",
        "from tensorflow.keras.models import load_model"
      ],
      "execution_count": null,
      "outputs": []
    },
    {
      "cell_type": "code",
      "metadata": {
        "id": "FJptWrkEXYb9"
      },
      "source": [
        "import re   #for regular expression\n",
        "from sklearn.model_selection import train_test_split\n",
        "from collections import Counter"
      ],
      "execution_count": null,
      "outputs": []
    },
    {
      "cell_type": "markdown",
      "metadata": {
        "id": "9CGeUDxgvBbk"
      },
      "source": [
        "**Downloading stopwords from nltk library**\n"
      ]
    },
    {
      "cell_type": "code",
      "metadata": {
        "colab": {
          "base_uri": "https://localhost:8080/"
        },
        "id": "lIw3R4ePYEMf",
        "outputId": "d59c1831-42e0-4457-c4c6-55645a39e431"
      },
      "source": [
        "import nltk\n",
        "nltk.download('stopwords')"
      ],
      "execution_count": null,
      "outputs": [
        {
          "output_type": "stream",
          "name": "stdout",
          "text": [
            "[nltk_data] Downloading package stopwords to /root/nltk_data...\n",
            "[nltk_data]   Package stopwords is already up-to-date!\n"
          ]
        },
        {
          "output_type": "execute_result",
          "data": {
            "text/plain": [
              "True"
            ]
          },
          "metadata": {},
          "execution_count": 12
        }
      ]
    },
    {
      "cell_type": "markdown",
      "metadata": {
        "id": "ko6PTkpRv8x2"
      },
      "source": [
        "**Cell for GPU connection**"
      ]
    },
    {
      "cell_type": "code",
      "metadata": {
        "colab": {
          "base_uri": "https://localhost:8080/"
        },
        "id": "9jO9baCZlFrY",
        "outputId": "535a2e9d-df94-4eb5-eead-f2625ecf42f4"
      },
      "source": [
        "import tensorflow as tf\n",
        "isGPU=0\n",
        "device_name = tf.test.gpu_device_name()\n",
        "if device_name != '/device:GPU:0':\n",
        "  print('GPU device not found')\n",
        "else:\n",
        "  print('Found GPU at: {}'.format(device_name))\n",
        "  isGPU=1"
      ],
      "execution_count": null,
      "outputs": [
        {
          "output_type": "stream",
          "name": "stdout",
          "text": [
            "GPU device not found\n"
          ]
        }
      ]
    },
    {
      "cell_type": "markdown",
      "metadata": {
        "id": "HhnGTa5xxPEV"
      },
      "source": [
        "**Reading the IMDB dataset**"
      ]
    },
    {
      "cell_type": "code",
      "metadata": {
        "id": "_bT8WfGjlIjB"
      },
      "source": [
        "tf.debugging.set_log_device_placement(True)\n",
        "if isGPU:\n",
        "  with tf.device('/GPU:0'):\n",
        "    data=pd.read_csv('/content/IMDB Dataset.csv')\n",
        "else:\n",
        "  data=pd.read_csv('/content/IMDB Dataset.csv')"
      ],
      "execution_count": null,
      "outputs": []
    },
    {
      "cell_type": "markdown",
      "metadata": {
        "id": "p_tTkNTuyd4F"
      },
      "source": [
        "**How dataset look like**"
      ]
    },
    {
      "cell_type": "code",
      "metadata": {
        "colab": {
          "base_uri": "https://localhost:8080/",
          "height": 203
        },
        "id": "Kd1dU6I-XgCm",
        "outputId": "2f91465d-457e-40f1-84ea-8ca0c2b85daa"
      },
      "source": [
        "data.head()"
      ],
      "execution_count": null,
      "outputs": [
        {
          "output_type": "execute_result",
          "data": {
            "text/html": [
              "<div>\n",
              "<style scoped>\n",
              "    .dataframe tbody tr th:only-of-type {\n",
              "        vertical-align: middle;\n",
              "    }\n",
              "\n",
              "    .dataframe tbody tr th {\n",
              "        vertical-align: top;\n",
              "    }\n",
              "\n",
              "    .dataframe thead th {\n",
              "        text-align: right;\n",
              "    }\n",
              "</style>\n",
              "<table border=\"1\" class=\"dataframe\">\n",
              "  <thead>\n",
              "    <tr style=\"text-align: right;\">\n",
              "      <th></th>\n",
              "      <th>review</th>\n",
              "      <th>sentiment</th>\n",
              "    </tr>\n",
              "  </thead>\n",
              "  <tbody>\n",
              "    <tr>\n",
              "      <th>0</th>\n",
              "      <td>One of the other reviewers has mentioned that ...</td>\n",
              "      <td>positive</td>\n",
              "    </tr>\n",
              "    <tr>\n",
              "      <th>1</th>\n",
              "      <td>A wonderful little production. &lt;br /&gt;&lt;br /&gt;The...</td>\n",
              "      <td>positive</td>\n",
              "    </tr>\n",
              "    <tr>\n",
              "      <th>2</th>\n",
              "      <td>I thought this was a wonderful way to spend ti...</td>\n",
              "      <td>positive</td>\n",
              "    </tr>\n",
              "    <tr>\n",
              "      <th>3</th>\n",
              "      <td>Basically there's a family where a little boy ...</td>\n",
              "      <td>negative</td>\n",
              "    </tr>\n",
              "    <tr>\n",
              "      <th>4</th>\n",
              "      <td>Petter Mattei's \"Love in the Time of Money\" is...</td>\n",
              "      <td>positive</td>\n",
              "    </tr>\n",
              "  </tbody>\n",
              "</table>\n",
              "</div>"
            ],
            "text/plain": [
              "                                              review sentiment\n",
              "0  One of the other reviewers has mentioned that ...  positive\n",
              "1  A wonderful little production. <br /><br />The...  positive\n",
              "2  I thought this was a wonderful way to spend ti...  positive\n",
              "3  Basically there's a family where a little boy ...  negative\n",
              "4  Petter Mattei's \"Love in the Time of Money\" is...  positive"
            ]
          },
          "metadata": {},
          "execution_count": 15
        }
      ]
    },
    {
      "cell_type": "markdown",
      "metadata": {
        "id": "nP4FN0LX4sci"
      },
      "source": [
        "**Checking the shape of the dataset i.e. no. of rows and no. of columns**\n",
        "\n"
      ]
    },
    {
      "cell_type": "code",
      "metadata": {
        "colab": {
          "base_uri": "https://localhost:8080/"
        },
        "id": "MMCoy7glXnBa",
        "outputId": "518bcbeb-4328-4090-a9b6-4068bafa0bb6"
      },
      "source": [
        "data.shape"
      ],
      "execution_count": null,
      "outputs": [
        {
          "output_type": "execute_result",
          "data": {
            "text/plain": [
              "(50000, 2)"
            ]
          },
          "metadata": {},
          "execution_count": 16
        }
      ]
    },
    {
      "cell_type": "markdown",
      "metadata": {
        "id": "EhDGQ1CF4yQp"
      },
      "source": [
        "**The dataset has following columns**"
      ]
    },
    {
      "cell_type": "code",
      "metadata": {
        "colab": {
          "base_uri": "https://localhost:8080/"
        },
        "id": "4WOvd4xjYxMv",
        "outputId": "ffa71096-f4cb-479e-c8ee-4ec76a4bdefc"
      },
      "source": [
        "data.columns"
      ],
      "execution_count": null,
      "outputs": [
        {
          "output_type": "execute_result",
          "data": {
            "text/plain": [
              "Index(['review', 'sentiment'], dtype='object')"
            ]
          },
          "metadata": {},
          "execution_count": 17
        }
      ]
    },
    {
      "cell_type": "markdown",
      "metadata": {
        "id": "Rp0SfWWp48op"
      },
      "source": [
        "**Preprocessing and cleaning the data**"
      ]
    },
    {
      "cell_type": "markdown",
      "metadata": {
        "id": "jjSIWUdX45jl"
      },
      "source": [
        "**Next step is to make a set of all stop words in the dataset. Stop words are those words which are not of much relevance in the query statement. For ex. 'the', 'of', 'for' etc.**"
      ]
    },
    {
      "cell_type": "code",
      "metadata": {
        "id": "OnkZaELoXpME"
      },
      "source": [
        "english_stops = set(stopwords.words('english'))"
      ],
      "execution_count": null,
      "outputs": []
    },
    {
      "cell_type": "markdown",
      "metadata": {
        "id": "A6VvU1j45KNC"
      },
      "source": [
        "**Now we'll split the columns and save them separately**"
      ]
    },
    {
      "cell_type": "code",
      "metadata": {
        "id": "dGPL_1QyYArl"
      },
      "source": [
        "review = data['review']\n",
        "sentiment = data['sentiment'] "
      ],
      "execution_count": null,
      "outputs": []
    },
    {
      "cell_type": "code",
      "metadata": {
        "colab": {
          "base_uri": "https://localhost:8080/"
        },
        "id": "a7oGlkwvY5C2",
        "outputId": "3b4025db-1b78-4621-dd2e-433d58c90c10"
      },
      "source": [
        "print(review.head())\n",
        "print(sentiment.head())"
      ],
      "execution_count": null,
      "outputs": [
        {
          "output_type": "stream",
          "name": "stdout",
          "text": [
            "0    One of the other reviewers has mentioned that ...\n",
            "1    A wonderful little production. <br /><br />The...\n",
            "2    I thought this was a wonderful way to spend ti...\n",
            "3    Basically there's a family where a little boy ...\n",
            "4    Petter Mattei's \"Love in the Time of Money\" is...\n",
            "Name: review, dtype: object\n",
            "0    positive\n",
            "1    positive\n",
            "2    positive\n",
            "3    negative\n",
            "4    positive\n",
            "Name: sentiment, dtype: object\n"
          ]
        }
      ]
    },
    {
      "cell_type": "code",
      "metadata": {
        "colab": {
          "base_uri": "https://localhost:8080/",
          "height": 120
        },
        "id": "v1ycv5gPY9En",
        "outputId": "e318531e-7562-414e-e50c-94fb5828d620"
      },
      "source": [
        "review[0]"
      ],
      "execution_count": null,
      "outputs": [
        {
          "output_type": "execute_result",
          "data": {
            "application/vnd.google.colaboratory.intrinsic+json": {
              "type": "string"
            },
            "text/plain": [
              "\"One of the other reviewers has mentioned that after watching just 1 Oz episode you'll be hooked. They are right, as this is exactly what happened with me.<br /><br />The first thing that struck me about Oz was its brutality and unflinching scenes of violence, which set in right from the word GO. Trust me, this is not a show for the faint hearted or timid. This show pulls no punches with regards to drugs, sex or violence. Its is hardcore, in the classic use of the word.<br /><br />It is called OZ as that is the nickname given to the Oswald Maximum Security State Penitentary. It focuses mainly on Emerald City, an experimental section of the prison where all the cells have glass fronts and face inwards, so privacy is not high on the agenda. Em City is home to many..Aryans, Muslims, gangstas, Latinos, Christians, Italians, Irish and more....so scuffles, death stares, dodgy dealings and shady agreements are never far away.<br /><br />I would say the main appeal of the show is due to the fact that it goes where other shows wouldn't dare. Forget pretty pictures painted for mainstream audiences, forget charm, forget romance...OZ doesn't mess around. The first episode I ever saw struck me as so nasty it was surreal, I couldn't say I was ready for it, but as I watched more, I developed a taste for Oz, and got accustomed to the high levels of graphic violence. Not just violence, but injustice (crooked guards who'll be sold out for a nickel, inmates who'll kill on order and get away with it, well mannered, middle class inmates being turned into prison bitches due to their lack of street skills or prison experience) Watching Oz, you may become comfortable with what is uncomfortable viewing....thats if you can get in touch with your darker side.\""
            ]
          },
          "metadata": {},
          "execution_count": 21
        }
      ]
    },
    {
      "cell_type": "markdown",
      "metadata": {
        "id": "cJcYCIrh5WFJ"
      },
      "source": [
        "**Next step is to get rid of special characters from the review. Replacing HTML tags with space from the reviews.**"
      ]
    },
    {
      "cell_type": "code",
      "metadata": {
        "id": "sLSKjzOrZSV6"
      },
      "source": [
        "review = review.replace({'<.*?>': ''}, regex = True) "
      ],
      "execution_count": null,
      "outputs": []
    },
    {
      "cell_type": "code",
      "metadata": {
        "colab": {
          "base_uri": "https://localhost:8080/",
          "height": 120
        },
        "id": "k0Mf5XMwZdFL",
        "outputId": "c9d7f5cb-062d-4474-bc60-705c7227490d"
      },
      "source": [
        "review[0]"
      ],
      "execution_count": null,
      "outputs": [
        {
          "output_type": "execute_result",
          "data": {
            "application/vnd.google.colaboratory.intrinsic+json": {
              "type": "string"
            },
            "text/plain": [
              "\"One of the other reviewers has mentioned that after watching just 1 Oz episode you'll be hooked. They are right, as this is exactly what happened with me.The first thing that struck me about Oz was its brutality and unflinching scenes of violence, which set in right from the word GO. Trust me, this is not a show for the faint hearted or timid. This show pulls no punches with regards to drugs, sex or violence. Its is hardcore, in the classic use of the word.It is called OZ as that is the nickname given to the Oswald Maximum Security State Penitentary. It focuses mainly on Emerald City, an experimental section of the prison where all the cells have glass fronts and face inwards, so privacy is not high on the agenda. Em City is home to many..Aryans, Muslims, gangstas, Latinos, Christians, Italians, Irish and more....so scuffles, death stares, dodgy dealings and shady agreements are never far away.I would say the main appeal of the show is due to the fact that it goes where other shows wouldn't dare. Forget pretty pictures painted for mainstream audiences, forget charm, forget romance...OZ doesn't mess around. The first episode I ever saw struck me as so nasty it was surreal, I couldn't say I was ready for it, but as I watched more, I developed a taste for Oz, and got accustomed to the high levels of graphic violence. Not just violence, but injustice (crooked guards who'll be sold out for a nickel, inmates who'll kill on order and get away with it, well mannered, middle class inmates being turned into prison bitches due to their lack of street skills or prison experience) Watching Oz, you may become comfortable with what is uncomfortable viewing....thats if you can get in touch with your darker side.\""
            ]
          },
          "metadata": {},
          "execution_count": 23
        }
      ]
    },
    {
      "cell_type": "markdown",
      "metadata": {
        "id": "WGkGtC8_5a-Z"
      },
      "source": [
        "**Replacing those characters that are not alphabets with space.**"
      ]
    },
    {
      "cell_type": "code",
      "metadata": {
        "id": "FlLgnzcqZfwf"
      },
      "source": [
        "review = review.replace({'[^A-Za-z]': ' '}, regex = True)"
      ],
      "execution_count": null,
      "outputs": []
    },
    {
      "cell_type": "markdown",
      "metadata": {
        "id": "4d_YlNiV7Qww"
      },
      "source": [
        "**First review after removing non-alpha characters**"
      ]
    },
    {
      "cell_type": "code",
      "metadata": {
        "colab": {
          "base_uri": "https://localhost:8080/",
          "height": 120
        },
        "id": "fjCaflMiZrrS",
        "outputId": "fbe89df7-0c4d-494c-9157-8358e5174af0"
      },
      "source": [
        "review[0]"
      ],
      "execution_count": null,
      "outputs": [
        {
          "output_type": "execute_result",
          "data": {
            "application/vnd.google.colaboratory.intrinsic+json": {
              "type": "string"
            },
            "text/plain": [
              "'One of the other reviewers has mentioned that after watching just   Oz episode you ll be hooked  They are right  as this is exactly what happened with me The first thing that struck me about Oz was its brutality and unflinching scenes of violence  which set in right from the word GO  Trust me  this is not a show for the faint hearted or timid  This show pulls no punches with regards to drugs  sex or violence  Its is hardcore  in the classic use of the word It is called OZ as that is the nickname given to the Oswald Maximum Security State Penitentary  It focuses mainly on Emerald City  an experimental section of the prison where all the cells have glass fronts and face inwards  so privacy is not high on the agenda  Em City is home to many  Aryans  Muslims  gangstas  Latinos  Christians  Italians  Irish and more    so scuffles  death stares  dodgy dealings and shady agreements are never far away I would say the main appeal of the show is due to the fact that it goes where other shows wouldn t dare  Forget pretty pictures painted for mainstream audiences  forget charm  forget romance   OZ doesn t mess around  The first episode I ever saw struck me as so nasty it was surreal  I couldn t say I was ready for it  but as I watched more  I developed a taste for Oz  and got accustomed to the high levels of graphic violence  Not just violence  but injustice  crooked guards who ll be sold out for a nickel  inmates who ll kill on order and get away with it  well mannered  middle class inmates being turned into prison bitches due to their lack of street skills or prison experience  Watching Oz  you may become comfortable with what is uncomfortable viewing    thats if you can get in touch with your darker side '"
            ]
          },
          "metadata": {},
          "execution_count": 25
        }
      ]
    },
    {
      "cell_type": "markdown",
      "metadata": {
        "id": "_KNRoB827bMP"
      },
      "source": [
        "**A function for removing stopwords and convert the words into lowercase**"
      ]
    },
    {
      "cell_type": "code",
      "metadata": {
        "id": "FY3U-AkPZvSp"
      },
      "source": [
        "def remove_stop_word_and_lower(sent):\n",
        "  tokens=sent.split()\n",
        "  tokens = [w for w in tokens if not w in english_stops]\n",
        "  tokens = [w.lower() for w in tokens]\n",
        "  return \" \".join(tokens)\n"
      ],
      "execution_count": null,
      "outputs": []
    },
    {
      "cell_type": "markdown",
      "metadata": {
        "id": "vMOgL7MR7xOw"
      },
      "source": [
        "**Number of total reviews**"
      ]
    },
    {
      "cell_type": "code",
      "metadata": {
        "colab": {
          "base_uri": "https://localhost:8080/"
        },
        "id": "4R8RfbY0amOW",
        "outputId": "b2ef82a3-a58a-4e12-a659-3357aae36bcb"
      },
      "source": [
        "len(review.values)"
      ],
      "execution_count": null,
      "outputs": [
        {
          "output_type": "execute_result",
          "data": {
            "text/plain": [
              "50000"
            ]
          },
          "metadata": {},
          "execution_count": 27
        }
      ]
    },
    {
      "cell_type": "markdown",
      "metadata": {
        "id": "AwetjtRS75bM"
      },
      "source": [
        "**Taking review as input data and sentiment as label for that review**"
      ]
    },
    {
      "cell_type": "code",
      "metadata": {
        "id": "eN8OCetUczcO"
      },
      "source": [
        "x_data=review\n",
        "y_data=sentiment"
      ],
      "execution_count": null,
      "outputs": []
    },
    {
      "cell_type": "code",
      "metadata": {
        "colab": {
          "base_uri": "https://localhost:8080/"
        },
        "id": "ILB6-Kfac39Y",
        "outputId": "b68e6f8a-baf8-45ee-def5-63f0c1227bb3"
      },
      "source": [
        "x_data"
      ],
      "execution_count": null,
      "outputs": [
        {
          "output_type": "execute_result",
          "data": {
            "text/plain": [
              "0        One of the other reviewers has mentioned that ...\n",
              "1        A wonderful little production  The filming tec...\n",
              "2        I thought this was a wonderful way to spend ti...\n",
              "3        Basically there s a family where a little boy ...\n",
              "4        Petter Mattei s  Love in the Time of Money  is...\n",
              "                               ...                        \n",
              "49995    I thought this movie did a down right good job...\n",
              "49996    Bad plot  bad dialogue  bad acting  idiotic di...\n",
              "49997    I am a Catholic taught in parochial elementary...\n",
              "49998    I m going to have to disagree with the previou...\n",
              "49999    No one expects the Star Trek movies to be high...\n",
              "Name: review, Length: 50000, dtype: object"
            ]
          },
          "metadata": {},
          "execution_count": 29
        }
      ]
    },
    {
      "cell_type": "markdown",
      "metadata": {
        "id": "WWiq0RUe829n"
      },
      "source": [
        "**Tokenizing sentences into list of words and converting words into lowercase**"
      ]
    },
    {
      "cell_type": "code",
      "metadata": {
        "id": "BxHH_7GMct2h"
      },
      "source": [
        "x_data = x_data.apply(lambda review: [w for w in review.split() if w not in english_stops])\n",
        "x_data = x_data.apply(lambda review: [w.lower() for w in review]) "
      ],
      "execution_count": null,
      "outputs": []
    },
    {
      "cell_type": "code",
      "metadata": {
        "colab": {
          "base_uri": "https://localhost:8080/"
        },
        "id": "M7wkjzg1bA_q",
        "outputId": "e1c5e3d5-e5e3-4423-8f4c-6854dd0f8016"
      },
      "source": [
        "review.values"
      ],
      "execution_count": null,
      "outputs": [
        {
          "output_type": "execute_result",
          "data": {
            "text/plain": [
              "array(['One of the other reviewers has mentioned that after watching just   Oz episode you ll be hooked  They are right  as this is exactly what happened with me The first thing that struck me about Oz was its brutality and unflinching scenes of violence  which set in right from the word GO  Trust me  this is not a show for the faint hearted or timid  This show pulls no punches with regards to drugs  sex or violence  Its is hardcore  in the classic use of the word It is called OZ as that is the nickname given to the Oswald Maximum Security State Penitentary  It focuses mainly on Emerald City  an experimental section of the prison where all the cells have glass fronts and face inwards  so privacy is not high on the agenda  Em City is home to many  Aryans  Muslims  gangstas  Latinos  Christians  Italians  Irish and more    so scuffles  death stares  dodgy dealings and shady agreements are never far away I would say the main appeal of the show is due to the fact that it goes where other shows wouldn t dare  Forget pretty pictures painted for mainstream audiences  forget charm  forget romance   OZ doesn t mess around  The first episode I ever saw struck me as so nasty it was surreal  I couldn t say I was ready for it  but as I watched more  I developed a taste for Oz  and got accustomed to the high levels of graphic violence  Not just violence  but injustice  crooked guards who ll be sold out for a nickel  inmates who ll kill on order and get away with it  well mannered  middle class inmates being turned into prison bitches due to their lack of street skills or prison experience  Watching Oz  you may become comfortable with what is uncomfortable viewing    thats if you can get in touch with your darker side ',\n",
              "       'A wonderful little production  The filming technique is very unassuming  very old time BBC fashion and gives a comforting  and sometimes discomforting  sense of realism to the entire piece  The actors are extremely well chosen  Michael Sheen not only  has got all the polari  but he has all the voices down pat too  You can truly see the seamless editing guided by the references to Williams  diary entries  not only is it well worth the watching but it is a terrificly written and performed piece  A masterful production about one of the great master s of comedy and his life  The realism really comes home with the little things  the fantasy of the guard which  rather than use the traditional  dream  techniques remains solid then disappears  It plays on our knowledge and our senses  particularly with the scenes concerning Orton and Halliwell and the sets  particularly of their flat with Halliwell s murals decorating every surface  are terribly well done ',\n",
              "       'I thought this was a wonderful way to spend time on a too hot summer weekend  sitting in the air conditioned theater and watching a light hearted comedy  The plot is simplistic  but the dialogue is witty and the characters are likable  even the well bread suspected serial killer   While some may be disappointed when they realize this is not Match Point    Risk Addiction  I thought it was proof that Woody Allen is still fully in control of the style many of us have grown to love This was the most I d laughed at one of Woody s comedies in years  dare I say a decade    While I ve never been impressed with Scarlet Johanson  in this she managed to tone down her  sexy  image and jumped right into a average  but spirited young woman This may not be the crown jewel of his career  but it was wittier than  Devil Wears Prada  and more interesting than  Superman  a great comedy to go see with friends ',\n",
              "       ...,\n",
              "       'I am a Catholic taught in parochial elementary schools by nuns  taught by Jesuit priests in high school   college  I am still a practicing Catholic but would not be considered a  good Catholic  in the church s eyes because I don t believe certain things or act certain ways just because the church tells me to So back to the movie   its bad because two people are killed by this nun who is supposed to be a satire as the embodiment of a female religious figurehead  There is no comedy in that and the satire is not done well by the over acting of Diane Keaton  I never saw the play but if it was very different from this movies then it may be good At first I thought the gun might be a fake and the first shooting all a plan by the female lead of the four former students as an attempt to demonstrate Sister Mary s emotional and intellectual bigotry of faith  But it turns out the bullets were real and the story has tragedy   the tragedy of loss of life  besides the two former students   the lives of the aborted babies  the life of the student s mom   the tragedy of dogmatic authority over love of people  the tragedy of organized religion replacing true faith in God  This is what is wrong with today s Islam  and yesterday s Judaism and Christianity ',\n",
              "       'I m going to have to disagree with the previous comment and side with Maltin on this one  This is a second rate  excessively vicious Western that creaks and groans trying to put across its central theme of the Wild West being tamed and kicked aside by the steady march of time  It would like to be in the tradition of  Butch Cassidy and the Sundance Kid   but lacks that film s poignancy and charm  Andrew McLaglen s direction is limp  and the final    minutes or so are a real botch  with some incomprehensible strategy on the part of heroes Charlton Heston and Chris Mitchum   Someone give me a holler if you can explain to me why they set that hillside on fire   There was something callous about the whole treatment of the rape scene  and the woman s reaction afterwards certainly did not ring true  Coburn is plenty nasty as the half breed escaped convict out for revenge  but all of his fellow escapees are underdeveloped  they re like bowling pins to be knocked down one by one as the story lurches forward   Michael Parks gives one of his typically shifty  lethargic  mumbling performances  but in this case it was appropriate as his modern style sheriff symbolizes the complacency that technological progress can bring about ',\n",
              "       'No one expects the Star Trek movies to be high art  but the fans do expect a movie that is as good as some of the best episodes  Unfortunately  this movie had a muddled  implausible plot that just left me cringing   this is by far the worst of the nine  so far  movies  Even the chance to watch the well known characters interact in another movie can t save this movie   including the goofy scenes with Kirk  Spock and McCoy at Yosemite I would say this movie is not worth a rental  and hardly worth watching  however for the True Fan who needs to see all the movies  renting this movie is about the only way you ll see it   even the cable channels avoid this movie '],\n",
              "      dtype=object)"
            ]
          },
          "metadata": {},
          "execution_count": 31
        }
      ]
    },
    {
      "cell_type": "markdown",
      "metadata": {
        "id": "5smE49Jt8R-n"
      },
      "source": [
        "**Positive review as 1 and negative review as 0**"
      ]
    },
    {
      "cell_type": "code",
      "metadata": {
        "id": "tmoM0oHrclkA"
      },
      "source": [
        "y_data = y_data.replace('positive', 1)\n",
        "y_data = y_data.replace('negative', 0)"
      ],
      "execution_count": null,
      "outputs": []
    },
    {
      "cell_type": "code",
      "metadata": {
        "colab": {
          "base_uri": "https://localhost:8080/"
        },
        "id": "SJj2FHqndPQf",
        "outputId": "a1d6124b-ac6e-40e3-ad7d-9719d40ab82f"
      },
      "source": [
        "y_data"
      ],
      "execution_count": null,
      "outputs": [
        {
          "output_type": "execute_result",
          "data": {
            "text/plain": [
              "0        1\n",
              "1        1\n",
              "2        1\n",
              "3        0\n",
              "4        1\n",
              "        ..\n",
              "49995    1\n",
              "49996    0\n",
              "49997    0\n",
              "49998    0\n",
              "49999    0\n",
              "Name: sentiment, Length: 50000, dtype: int64"
            ]
          },
          "metadata": {},
          "execution_count": 33
        }
      ]
    },
    {
      "cell_type": "code",
      "metadata": {
        "colab": {
          "base_uri": "https://localhost:8080/"
        },
        "id": "ZP_bXp9tbzmb",
        "outputId": "bc878261-6110-46f1-bfc7-48f1f7a5418a"
      },
      "source": [
        "type(x_data)"
      ],
      "execution_count": null,
      "outputs": [
        {
          "output_type": "execute_result",
          "data": {
            "text/plain": [
              "pandas.core.series.Series"
            ]
          },
          "metadata": {},
          "execution_count": 34
        }
      ]
    },
    {
      "cell_type": "code",
      "metadata": {
        "colab": {
          "base_uri": "https://localhost:8080/"
        },
        "id": "AcbU29UweYan",
        "outputId": "00d862d6-34ac-4e64-fe9f-5fd4fea9b059"
      },
      "source": [
        "print('Reviews')\n",
        "print(x_data, '\\n')\n",
        "print('Sentiment')\n",
        "print(y_data)"
      ],
      "execution_count": null,
      "outputs": [
        {
          "output_type": "stream",
          "name": "stdout",
          "text": [
            "Reviews\n",
            "0        [one, reviewers, mentioned, watching, oz, epis...\n",
            "1        [a, wonderful, little, production, the, filmin...\n",
            "2        [i, thought, wonderful, way, spend, time, hot,...\n",
            "3        [basically, family, little, boy, jake, thinks,...\n",
            "4        [petter, mattei, love, time, money, visually, ...\n",
            "                               ...                        \n",
            "49995    [i, thought, movie, right, good, job, it, crea...\n",
            "49996    [bad, plot, bad, dialogue, bad, acting, idioti...\n",
            "49997    [i, catholic, taught, parochial, elementary, s...\n",
            "49998    [i, going, disagree, previous, comment, side, ...\n",
            "49999    [no, one, expects, star, trek, movies, high, a...\n",
            "Name: review, Length: 50000, dtype: object \n",
            "\n",
            "Sentiment\n",
            "0        1\n",
            "1        1\n",
            "2        1\n",
            "3        0\n",
            "4        1\n",
            "        ..\n",
            "49995    1\n",
            "49996    0\n",
            "49997    0\n",
            "49998    0\n",
            "49999    0\n",
            "Name: sentiment, Length: 50000, dtype: int64\n"
          ]
        }
      ]
    },
    {
      "cell_type": "markdown",
      "metadata": {
        "id": "_zkqjB-_89Db"
      },
      "source": [
        "**Splitting data into training and testing part in 80:20 ratio**"
      ]
    },
    {
      "cell_type": "code",
      "metadata": {
        "colab": {
          "base_uri": "https://localhost:8080/"
        },
        "id": "yyiRPvBKeejh",
        "outputId": "6160ca06-a62d-4618-80a9-62e3e2ecdbfd"
      },
      "source": [
        "x_train, x_test, y_train, y_test = train_test_split(x_data, y_data, test_size = 0.2)\n",
        "\n",
        "print('Train Set')\n",
        "print(x_train, '\\n')\n",
        "print(x_test, '\\n')\n",
        "print('Test Set')\n",
        "print(y_train, '\\n')\n",
        "print(y_test)"
      ],
      "execution_count": null,
      "outputs": [
        {
          "output_type": "stream",
          "name": "stdout",
          "text": [
            "Train Set\n",
            "15297    [written, wind, irresistible, wonderfully, kin...\n",
            "19407    [it, got, action, fantasy, mixed, together, wa...\n",
            "29818    [visconti, masterpiece, i, admit, i, unfamilia...\n",
            "2361     [this, movie, proof, go, redbox, read, descrip...\n",
            "9685     [over, acted, heavy, handed, full, speeches, p...\n",
            "                               ...                        \n",
            "39460    [i, would, liked, write, story, i, would, like...\n",
            "8247     [this, really, bad, waste, time, i, would, pro...\n",
            "24467    [very, literate, intelligent, drama, group, in...\n",
            "32326    [my, wife, i, saw, theater, first, came, there...\n",
            "25630    [if, i, look, hard, enough, flaws, found, film...\n",
            "Name: review, Length: 40000, dtype: object \n",
            "\n",
            "14537    [robert, duvall, direct, descendent, confedera...\n",
            "20100    [if, real, story, early, baroque, painter, art...\n",
            "9378     [while, i, never, fan, original, scooby, doo, ...\n",
            "46634    [this, movie, surprised, the, box, misleading,...\n",
            "32114    [i, always, found, betsy, drake, rather, creep...\n",
            "                               ...                        \n",
            "48527    [at, least, teenage, geek, gets, girl, films, ...\n",
            "25608    [a, wealthy, harvard, dude, falls, poor, radcl...\n",
            "2885     [my, first, impression, i, read, synopsis, upc...\n",
            "24611    [when, laws, viciously, murdered, gang, thugs,...\n",
            "4757     [i, stumbled, across, rerun, syndication, show...\n",
            "Name: review, Length: 10000, dtype: object \n",
            "\n",
            "Test Set\n",
            "15297    1\n",
            "19407    1\n",
            "29818    1\n",
            "2361     0\n",
            "9685     0\n",
            "        ..\n",
            "39460    0\n",
            "8247     0\n",
            "24467    1\n",
            "32326    0\n",
            "25630    1\n",
            "Name: sentiment, Length: 40000, dtype: int64 \n",
            "\n",
            "14537    1\n",
            "20100    0\n",
            "9378     0\n",
            "46634    1\n",
            "32114    0\n",
            "        ..\n",
            "48527    0\n",
            "25608    0\n",
            "2885     0\n",
            "24611    0\n",
            "4757     1\n",
            "Name: sentiment, Length: 10000, dtype: int64\n"
          ]
        }
      ]
    },
    {
      "cell_type": "code",
      "metadata": {
        "colab": {
          "base_uri": "https://localhost:8080/"
        },
        "id": "Y3D-YXtCeibZ",
        "outputId": "56c75c01-b081-43b2-d13a-f08086bb581d"
      },
      "source": [
        "print(len(x_train))\n",
        "print(len(x_test))"
      ],
      "execution_count": null,
      "outputs": [
        {
          "output_type": "stream",
          "name": "stdout",
          "text": [
            "40000\n",
            "10000\n"
          ]
        }
      ]
    },
    {
      "cell_type": "markdown",
      "metadata": {
        "id": "WbfGrlE69Nnn"
      },
      "source": [
        "**Finding the length of review i.e. size of list of tokens of review and using the maximum value for padding sequence**"
      ]
    },
    {
      "cell_type": "code",
      "metadata": {
        "id": "MOl_uBsce6l1"
      },
      "source": [
        "review_length = []\n",
        "for sent in x_train:\n",
        "  review_length.append(len(sent))\n",
        "max_length =int(np.ceil(np.mean(review_length)))"
      ],
      "execution_count": null,
      "outputs": []
    },
    {
      "cell_type": "code",
      "metadata": {
        "colab": {
          "base_uri": "https://localhost:8080/"
        },
        "id": "og8dClgDfiOv",
        "outputId": "3c97dfee-83c5-48d9-c830-ecee1d2d4f40"
      },
      "source": [
        "max_length"
      ],
      "execution_count": null,
      "outputs": [
        {
          "output_type": "execute_result",
          "data": {
            "text/plain": [
              "130"
            ]
          },
          "metadata": {},
          "execution_count": 39
        }
      ]
    },
    {
      "cell_type": "markdown",
      "metadata": {
        "id": "GBqF35IF9o-h"
      },
      "source": [
        "**Tokenizer converts list of words into list of integers. Basically it converts tokens into vector for learning(mathematical) purpose**\n",
        "\n",
        "**x_train and x_test is converted into integers using texts_to_sequences method**"
      ]
    },
    {
      "cell_type": "code",
      "metadata": {
        "id": "FdGTFDNvfkLB"
      },
      "source": [
        "token = Tokenizer(lower=False)\n",
        "token.fit_on_texts(x_train)"
      ],
      "execution_count": null,
      "outputs": []
    },
    {
      "cell_type": "code",
      "metadata": {
        "id": "NJ_EHsuRf6ey"
      },
      "source": [
        "x_train = token.texts_to_sequences(x_train)\n",
        "x_test = token.texts_to_sequences(x_test)"
      ],
      "execution_count": null,
      "outputs": []
    },
    {
      "cell_type": "markdown",
      "metadata": {
        "id": "XfHE00Up_VrP"
      },
      "source": [
        "**Each reviews has a different length, so we need to add padding (by adding 0) or truncating the words to the same length (in this case, it is the mean of all reviews length) using pad_sequences**"
      ]
    },
    {
      "cell_type": "code",
      "metadata": {
        "id": "t_RNcn47gBPN"
      },
      "source": [
        "x_train = pad_sequences(x_train, maxlen=max_length, padding='post', truncating='post')\n",
        "x_test = pad_sequences(x_test, maxlen=max_length, padding='post', truncating='post')"
      ],
      "execution_count": null,
      "outputs": []
    },
    {
      "cell_type": "code",
      "metadata": {
        "id": "uG5Y5bqLgzA_"
      },
      "source": [
        "total_words = len(token.word_index) + 1"
      ],
      "execution_count": null,
      "outputs": []
    },
    {
      "cell_type": "code",
      "metadata": {
        "colab": {
          "base_uri": "https://localhost:8080/"
        },
        "id": "Ijf-jQrzg3XJ",
        "outputId": "492bc047-d48a-4fad-da46-8e4273f1eec3"
      },
      "source": [
        "total_words"
      ],
      "execution_count": null,
      "outputs": [
        {
          "output_type": "execute_result",
          "data": {
            "text/plain": [
              "92433"
            ]
          },
          "metadata": {},
          "execution_count": 44
        }
      ]
    },
    {
      "cell_type": "code",
      "metadata": {
        "colab": {
          "base_uri": "https://localhost:8080/"
        },
        "id": "vxepZynLg6W1",
        "outputId": "3ea42b1a-8f01-45d6-ddcf-4741460590f7"
      },
      "source": [
        "print('Encoded X Train\\n', x_train, '\\n')\n",
        "print('Encoded X Test\\n', x_test, '\\n')\n",
        "print('Maximum review length: ', max_length)"
      ],
      "execution_count": null,
      "outputs": [
        {
          "output_type": "stream",
          "name": "stdout",
          "text": [
            "Encoded X Train\n",
            " [[  303  1773  9223 ...     0     0     0]\n",
            " [    7    99   114 ...     0     0     0]\n",
            " [ 6270   828     1 ...   714  2774  3565]\n",
            " ...\n",
            " [  812 10880   995 ...     0     0     0]\n",
            " [  210   225     1 ...     0     0     0]\n",
            " [   55     1    77 ...   107  8793  1224]] \n",
            "\n",
            "Encoded X Test\n",
            " [[  517  6069  1377 ...     0     0     0]\n",
            " [   55    64    15 ...     0     0     0]\n",
            " [  366     1    40 ...     0     0     0]\n",
            " ...\n",
            " [  210    23  1281 ...  2240   454  1227]\n",
            " [  169  4787 18036 ...     0     0     0]\n",
            " [    1  5151   535 ...     0     0     0]] \n",
            "\n",
            "Maximum review length:  130\n"
          ]
        }
      ]
    },
    {
      "cell_type": "markdown",
      "metadata": {
        "id": "IjlyNanIm4bV"
      },
      "source": [
        "**Defining the LSTM model used from training in GPU**\n"
      ]
    },
    {
      "cell_type": "code",
      "metadata": {
        "colab": {
          "base_uri": "https://localhost:8080/"
        },
        "id": "kKYRn6BShAeq",
        "outputId": "fca8359f-145d-4dd9-a39a-a3a76aca5d62"
      },
      "source": [
        "# EMBED_DIM = 32\n",
        "# LSTM_OUT = 64\n",
        "\n",
        "model = Sequential()\n",
        "model.add(Embedding(total_words, 32, input_length = max_length))\n",
        "model.add(LSTM(64))\n",
        "model.add(Dense(1, activation='sigmoid'))"
      ],
      "execution_count": null,
      "outputs": [
        {
          "output_type": "stream",
          "name": "stdout",
          "text": [
            "Executing op _EagerConst in device /job:localhost/replica:0/task:0/device:CPU:0\n",
            "Executing op VarHandleOp in device /job:localhost/replica:0/task:0/device:CPU:0\n",
            "Executing op AssignVariableOp in device /job:localhost/replica:0/task:0/device:CPU:0\n",
            "Executing op VarHandleOp in device /job:localhost/replica:0/task:0/device:CPU:0\n",
            "Executing op AssignVariableOp in device /job:localhost/replica:0/task:0/device:CPU:0\n",
            "Executing op VarHandleOp in device /job:localhost/replica:0/task:0/device:CPU:0\n",
            "Executing op AssignVariableOp in device /job:localhost/replica:0/task:0/device:CPU:0\n",
            "Executing op _EagerConst in device /job:localhost/replica:0/task:0/device:CPU:0\n",
            "Executing op _EagerConst in device /job:localhost/replica:0/task:0/device:CPU:0\n",
            "Executing op _EagerConst in device /job:localhost/replica:0/task:0/device:CPU:0\n",
            "Executing op RandomUniform in device /job:localhost/replica:0/task:0/device:CPU:0\n",
            "Executing op Sub in device /job:localhost/replica:0/task:0/device:CPU:0\n",
            "Executing op Mul in device /job:localhost/replica:0/task:0/device:CPU:0\n",
            "Executing op AddV2 in device /job:localhost/replica:0/task:0/device:CPU:0\n",
            "Executing op VarHandleOp in device /job:localhost/replica:0/task:0/device:CPU:0\n",
            "Executing op AssignVariableOp in device /job:localhost/replica:0/task:0/device:CPU:0\n",
            "Executing op _EagerConst in device /job:localhost/replica:0/task:0/device:CPU:0\n",
            "Executing op _EagerConst in device /job:localhost/replica:0/task:0/device:CPU:0\n",
            "Executing op _EagerConst in device /job:localhost/replica:0/task:0/device:CPU:0\n",
            "Executing op RandomUniform in device /job:localhost/replica:0/task:0/device:CPU:0\n",
            "Executing op Sub in device /job:localhost/replica:0/task:0/device:CPU:0\n",
            "Executing op Mul in device /job:localhost/replica:0/task:0/device:CPU:0\n",
            "Executing op AddV2 in device /job:localhost/replica:0/task:0/device:CPU:0\n",
            "Executing op VarHandleOp in device /job:localhost/replica:0/task:0/device:CPU:0\n",
            "Executing op AssignVariableOp in device /job:localhost/replica:0/task:0/device:CPU:0\n",
            "Executing op _EagerConst in device /job:localhost/replica:0/task:0/device:CPU:0\n",
            "Executing op _EagerConst in device /job:localhost/replica:0/task:0/device:CPU:0\n",
            "Executing op _EagerConst in device /job:localhost/replica:0/task:0/device:CPU:0\n",
            "Executing op RandomStandardNormal in device /job:localhost/replica:0/task:0/device:CPU:0\n",
            "Executing op Mul in device /job:localhost/replica:0/task:0/device:CPU:0\n",
            "Executing op AddV2 in device /job:localhost/replica:0/task:0/device:CPU:0\n",
            "Executing op Qr in device /job:localhost/replica:0/task:0/device:CPU:0\n",
            "Executing op DiagPart in device /job:localhost/replica:0/task:0/device:CPU:0\n",
            "Executing op Sign in device /job:localhost/replica:0/task:0/device:CPU:0\n",
            "Executing op Mul in device /job:localhost/replica:0/task:0/device:CPU:0\n",
            "Executing op _EagerConst in device /job:localhost/replica:0/task:0/device:CPU:0\n",
            "Executing op Transpose in device /job:localhost/replica:0/task:0/device:CPU:0\n",
            "Executing op _EagerConst in device /job:localhost/replica:0/task:0/device:CPU:0\n",
            "Executing op Reshape in device /job:localhost/replica:0/task:0/device:CPU:0\n",
            "Executing op _EagerConst in device /job:localhost/replica:0/task:0/device:CPU:0\n",
            "Executing op Mul in device /job:localhost/replica:0/task:0/device:CPU:0\n",
            "Executing op VarHandleOp in device /job:localhost/replica:0/task:0/device:CPU:0\n",
            "Executing op AssignVariableOp in device /job:localhost/replica:0/task:0/device:CPU:0\n",
            "Executing op _EagerConst in device /job:localhost/replica:0/task:0/device:CPU:0\n",
            "Executing op _EagerConst in device /job:localhost/replica:0/task:0/device:CPU:0\n",
            "Executing op Fill in device /job:localhost/replica:0/task:0/device:CPU:0\n",
            "Executing op _EagerConst in device /job:localhost/replica:0/task:0/device:CPU:0\n",
            "Executing op Fill in device /job:localhost/replica:0/task:0/device:CPU:0\n",
            "Executing op _EagerConst in device /job:localhost/replica:0/task:0/device:CPU:0\n",
            "Executing op Fill in device /job:localhost/replica:0/task:0/device:CPU:0\n",
            "Executing op _EagerConst in device /job:localhost/replica:0/task:0/device:CPU:0\n",
            "Executing op ConcatV2 in device /job:localhost/replica:0/task:0/device:CPU:0\n",
            "Executing op VarHandleOp in device /job:localhost/replica:0/task:0/device:CPU:0\n",
            "Executing op AssignVariableOp in device /job:localhost/replica:0/task:0/device:CPU:0\n",
            "Executing op _EagerConst in device /job:localhost/replica:0/task:0/device:CPU:0\n",
            "Executing op _EagerConst in device /job:localhost/replica:0/task:0/device:CPU:0\n",
            "Executing op _EagerConst in device /job:localhost/replica:0/task:0/device:CPU:0\n",
            "Executing op RandomUniform in device /job:localhost/replica:0/task:0/device:CPU:0\n",
            "Executing op Sub in device /job:localhost/replica:0/task:0/device:CPU:0\n",
            "Executing op Mul in device /job:localhost/replica:0/task:0/device:CPU:0\n",
            "Executing op AddV2 in device /job:localhost/replica:0/task:0/device:CPU:0\n",
            "Executing op VarHandleOp in device /job:localhost/replica:0/task:0/device:CPU:0\n",
            "Executing op AssignVariableOp in device /job:localhost/replica:0/task:0/device:CPU:0\n",
            "Executing op _EagerConst in device /job:localhost/replica:0/task:0/device:CPU:0\n",
            "Executing op Fill in device /job:localhost/replica:0/task:0/device:CPU:0\n",
            "Executing op VarHandleOp in device /job:localhost/replica:0/task:0/device:CPU:0\n",
            "Executing op AssignVariableOp in device /job:localhost/replica:0/task:0/device:CPU:0\n"
          ]
        }
      ]
    },
    {
      "cell_type": "markdown",
      "metadata": {
        "id": "GwLaWrPO7zGw"
      },
      "source": [
        "**The optimizer we are using is Adam. There are other opimizers as well like SGD, however adam turns out to be rather efficient than most other optimizers.**\n",
        "\n",
        "**Since the output is binary in nature, we've used binary crossentropy as our loss function and as an evaluation matrics, we went with accuracy.**"
      ]
    },
    {
      "cell_type": "markdown",
      "metadata": {
        "id": "73iJHPotnOys"
      },
      "source": [
        "**Compiling the defined model**"
      ]
    },
    {
      "cell_type": "code",
      "metadata": {
        "colab": {
          "base_uri": "https://localhost:8080/"
        },
        "id": "SQgx1fBfhUeb",
        "outputId": "2efac690-a21c-4857-a060-c31f9c2185d8"
      },
      "source": [
        "model.compile(optimizer = 'adam', loss = 'binary_crossentropy', metrics = ['accuracy'])"
      ],
      "execution_count": null,
      "outputs": [
        {
          "output_type": "stream",
          "name": "stdout",
          "text": [
            "Executing op _EagerConst in device /job:localhost/replica:0/task:0/device:CPU:0\n",
            "Executing op Fill in device /job:localhost/replica:0/task:0/device:CPU:0\n",
            "Executing op VarHandleOp in device /job:localhost/replica:0/task:0/device:CPU:0\n",
            "Executing op AssignVariableOp in device /job:localhost/replica:0/task:0/device:CPU:0\n",
            "Executing op _EagerConst in device /job:localhost/replica:0/task:0/device:CPU:0\n",
            "Executing op Fill in device /job:localhost/replica:0/task:0/device:CPU:0\n",
            "Executing op VarHandleOp in device /job:localhost/replica:0/task:0/device:CPU:0\n",
            "Executing op AssignVariableOp in device /job:localhost/replica:0/task:0/device:CPU:0\n",
            "Executing op _EagerConst in device /job:localhost/replica:0/task:0/device:CPU:0\n",
            "Executing op VarHandleOp in device /job:localhost/replica:0/task:0/device:CPU:0\n",
            "Executing op AssignVariableOp in device /job:localhost/replica:0/task:0/device:CPU:0\n"
          ]
        }
      ]
    },
    {
      "cell_type": "markdown",
      "metadata": {
        "id": "OAx4EBUQ9ovc"
      },
      "source": [
        "**Printing the description of the model**"
      ]
    },
    {
      "cell_type": "code",
      "metadata": {
        "colab": {
          "base_uri": "https://localhost:8080/"
        },
        "id": "cslQ498LhV1Y",
        "outputId": "17a60450-48a0-410d-8f7a-1c319f3981a5"
      },
      "source": [
        "print(model.summary())"
      ],
      "execution_count": null,
      "outputs": [
        {
          "output_type": "stream",
          "name": "stdout",
          "text": [
            "Model: \"sequential\"\n",
            "_________________________________________________________________\n",
            "Layer (type)                 Output Shape              Param #   \n",
            "=================================================================\n",
            "embedding (Embedding)        (None, 130, 32)           2957856   \n",
            "_________________________________________________________________\n",
            "lstm (LSTM)                  (None, 64)                24832     \n",
            "_________________________________________________________________\n",
            "dense (Dense)                (None, 1)                 65        \n",
            "=================================================================\n",
            "Total params: 2,982,753\n",
            "Trainable params: 2,982,753\n",
            "Non-trainable params: 0\n",
            "_________________________________________________________________\n",
            "None\n"
          ]
        }
      ]
    },
    {
      "cell_type": "markdown",
      "metadata": {
        "id": "zNrJ2QlB96ha"
      },
      "source": [
        "**We used a callback called checkpoint to save the model locally for every epoch if its accuracy improved from the previous epoch.**"
      ]
    },
    {
      "cell_type": "code",
      "metadata": {
        "id": "_ubYcRpljQOH"
      },
      "source": [
        "checkpoint = ModelCheckpoint(\n",
        "    '/content/LSTM.h5',\n",
        "    monitor='accuracy',\n",
        "    save_best_only=True,\n",
        "    verbose=1\n",
        ")"
      ],
      "execution_count": null,
      "outputs": []
    },
    {
      "cell_type": "markdown",
      "metadata": {
        "id": "sRYrdtGr-CjW"
      },
      "source": [
        "**TRAINING**\n",
        "\n",
        "**For training, We only need to fit our x_train (i.e. input) and y_train (i.e. output/label) data.**\n",
        "\n",
        "**For this training, we've used a mini-batch learning method with a batch_size of 128 and 5 epochs.**"
      ]
    },
    {
      "cell_type": "code",
      "metadata": {
        "colab": {
          "base_uri": "https://localhost:8080/"
        },
        "id": "ig6YyLu2hWmd",
        "outputId": "9efdd792-5472-4896-f4e9-f1e91fa0dfcf"
      },
      "source": [
        "model.fit(x_train, y_train, batch_size = 128, epochs = 5, callbacks=[checkpoint])"
      ],
      "execution_count": null,
      "outputs": [
        {
          "output_type": "stream",
          "name": "stdout",
          "text": [
            "Executing op ReadVariableOp in device /job:localhost/replica:0/task:0/device:CPU:0\n",
            "Executing op Identity in device /job:localhost/replica:0/task:0/device:CPU:0\n",
            "Executing op _EagerConst in device /job:localhost/replica:0/task:0/device:CPU:0\n",
            "Executing op RangeDataset in device /job:localhost/replica:0/task:0/device:CPU:0\n",
            "Executing op _EagerConst in device /job:localhost/replica:0/task:0/device:CPU:0\n",
            "Executing op RepeatDataset in device /job:localhost/replica:0/task:0/device:CPU:0\n",
            "Executing op MapDataset in device /job:localhost/replica:0/task:0/device:CPU:0\n",
            "Executing op PrefetchDataset in device /job:localhost/replica:0/task:0/device:CPU:0\n",
            "Executing op FlatMapDataset in device /job:localhost/replica:0/task:0/device:CPU:0\n",
            "Executing op _EagerConst in device /job:localhost/replica:0/task:0/device:CPU:0\n",
            "Executing op TensorDataset in device /job:localhost/replica:0/task:0/device:CPU:0\n",
            "Executing op _EagerConst in device /job:localhost/replica:0/task:0/device:CPU:0\n",
            "Executing op RepeatDataset in device /job:localhost/replica:0/task:0/device:CPU:0\n",
            "Executing op ZipDataset in device /job:localhost/replica:0/task:0/device:CPU:0\n",
            "Executing op ParallelMapDatasetV2 in device /job:localhost/replica:0/task:0/device:CPU:0\n",
            "Executing op OptionsDataset in device /job:localhost/replica:0/task:0/device:CPU:0\n",
            "Executing op ReadVariableOp in device /job:localhost/replica:0/task:0/device:CPU:0\n",
            "Executing op Identity in device /job:localhost/replica:0/task:0/device:CPU:0\n",
            "Executing op AssignVariableOp in device /job:localhost/replica:0/task:0/device:CPU:0\n",
            "Executing op AnonymousIteratorV2 in device /job:localhost/replica:0/task:0/device:CPU:0\n",
            "Executing op MakeIterator in device /job:localhost/replica:0/task:0/device:CPU:0\n",
            "Epoch 1/5\n",
            "Executing op _EagerConst in device /job:localhost/replica:0/task:0/device:CPU:0\n",
            "Executing op Fill in device /job:localhost/replica:0/task:0/device:CPU:0\n",
            "Executing op VarHandleOp in device /job:localhost/replica:0/task:0/device:CPU:0\n",
            "Executing op AssignVariableOp in device /job:localhost/replica:0/task:0/device:CPU:0\n",
            "Executing op _EagerConst in device /job:localhost/replica:0/task:0/device:CPU:0\n",
            "Executing op VarHandleOp in device /job:localhost/replica:0/task:0/device:CPU:0\n",
            "Executing op AssignVariableOp in device /job:localhost/replica:0/task:0/device:CPU:0\n",
            "Executing op _EagerConst in device /job:localhost/replica:0/task:0/device:CPU:0\n",
            "Executing op VarHandleOp in device /job:localhost/replica:0/task:0/device:CPU:0\n",
            "Executing op AssignVariableOp in device /job:localhost/replica:0/task:0/device:CPU:0\n",
            "Executing op _EagerConst in device /job:localhost/replica:0/task:0/device:CPU:0\n",
            "Executing op VarHandleOp in device /job:localhost/replica:0/task:0/device:CPU:0\n",
            "Executing op AssignVariableOp in device /job:localhost/replica:0/task:0/device:CPU:0\n",
            "Executing op _EagerConst in device /job:localhost/replica:0/task:0/device:CPU:0\n",
            "Executing op VarHandleOp in device /job:localhost/replica:0/task:0/device:CPU:0\n",
            "Executing op AssignVariableOp in device /job:localhost/replica:0/task:0/device:CPU:0\n",
            "Executing op Fill in device /job:localhost/replica:0/task:0/device:CPU:0\n",
            "Executing op VarHandleOp in device /job:localhost/replica:0/task:0/device:CPU:0\n",
            "Executing op AssignVariableOp in device /job:localhost/replica:0/task:0/device:CPU:0\n",
            "Executing op Fill in device /job:localhost/replica:0/task:0/device:CPU:0\n",
            "Executing op VarHandleOp in device /job:localhost/replica:0/task:0/device:CPU:0\n",
            "Executing op AssignVariableOp in device /job:localhost/replica:0/task:0/device:CPU:0\n",
            "Executing op Fill in device /job:localhost/replica:0/task:0/device:CPU:0\n",
            "Executing op VarHandleOp in device /job:localhost/replica:0/task:0/device:CPU:0\n",
            "Executing op AssignVariableOp in device /job:localhost/replica:0/task:0/device:CPU:0\n",
            "Executing op Fill in device /job:localhost/replica:0/task:0/device:CPU:0\n",
            "Executing op VarHandleOp in device /job:localhost/replica:0/task:0/device:CPU:0\n",
            "Executing op AssignVariableOp in device /job:localhost/replica:0/task:0/device:CPU:0\n",
            "Executing op Fill in device /job:localhost/replica:0/task:0/device:CPU:0\n",
            "Executing op VarHandleOp in device /job:localhost/replica:0/task:0/device:CPU:0\n",
            "Executing op AssignVariableOp in device /job:localhost/replica:0/task:0/device:CPU:0\n",
            "Executing op Fill in device /job:localhost/replica:0/task:0/device:CPU:0\n",
            "Executing op VarHandleOp in device /job:localhost/replica:0/task:0/device:CPU:0\n",
            "Executing op AssignVariableOp in device /job:localhost/replica:0/task:0/device:CPU:0\n",
            "Executing op Fill in device /job:localhost/replica:0/task:0/device:CPU:0\n",
            "Executing op VarHandleOp in device /job:localhost/replica:0/task:0/device:CPU:0\n",
            "Executing op AssignVariableOp in device /job:localhost/replica:0/task:0/device:CPU:0\n",
            "Executing op Fill in device /job:localhost/replica:0/task:0/device:CPU:0\n",
            "Executing op VarHandleOp in device /job:localhost/replica:0/task:0/device:CPU:0\n",
            "Executing op AssignVariableOp in device /job:localhost/replica:0/task:0/device:CPU:0\n",
            "Executing op Fill in device /job:localhost/replica:0/task:0/device:CPU:0\n",
            "Executing op VarHandleOp in device /job:localhost/replica:0/task:0/device:CPU:0\n",
            "Executing op AssignVariableOp in device /job:localhost/replica:0/task:0/device:CPU:0\n",
            "Executing op Fill in device /job:localhost/replica:0/task:0/device:CPU:0\n",
            "Executing op VarHandleOp in device /job:localhost/replica:0/task:0/device:CPU:0\n",
            "Executing op AssignVariableOp in device /job:localhost/replica:0/task:0/device:CPU:0\n",
            "Executing op Fill in device /job:localhost/replica:0/task:0/device:CPU:0\n",
            "Executing op VarHandleOp in device /job:localhost/replica:0/task:0/device:CPU:0\n",
            "Executing op AssignVariableOp in device /job:localhost/replica:0/task:0/device:CPU:0\n",
            "Executing op Fill in device /job:localhost/replica:0/task:0/device:CPU:0\n",
            "Executing op VarHandleOp in device /job:localhost/replica:0/task:0/device:CPU:0\n",
            "Executing op AssignVariableOp in device /job:localhost/replica:0/task:0/device:CPU:0\n",
            "Executing op _EagerConst in device /job:localhost/replica:0/task:0/device:CPU:0\n",
            "Executing op Fill in device /job:localhost/replica:0/task:0/device:CPU:0\n",
            "Executing op VarHandleOp in device /job:localhost/replica:0/task:0/device:CPU:0\n",
            "Executing op AssignVariableOp in device /job:localhost/replica:0/task:0/device:CPU:0\n",
            "Executing op _EagerConst in device /job:localhost/replica:0/task:0/device:CPU:0\n",
            "Executing op Fill in device /job:localhost/replica:0/task:0/device:CPU:0\n",
            "Executing op VarHandleOp in device /job:localhost/replica:0/task:0/device:CPU:0\n",
            "Executing op AssignVariableOp in device /job:localhost/replica:0/task:0/device:CPU:0\n",
            "Executing op __inference_train_function_3168 in device /job:localhost/replica:0/task:0/device:CPU:0\n",
            "  1/313 [..............................] - ETA: 16:30 - loss: 0.6933 - accuracy: 0.5078Executing op __inference_train_function_3168 in device /job:localhost/replica:0/task:0/device:CPU:0\n",
            "  2/313 [..............................] - ETA: 59s - loss: 0.6933 - accuracy: 0.5039  Executing op __inference_train_function_3168 in device /job:localhost/replica:0/task:0/device:CPU:0\n",
            "  3/313 [..............................] - ETA: 57s - loss: 0.6932 - accuracy: 0.5026Executing op __inference_train_function_3168 in device /job:localhost/replica:0/task:0/device:CPU:0\n",
            "  4/313 [..............................] - ETA: 57s - loss: 0.6931 - accuracy: 0.5000Executing op __inference_train_function_3168 in device /job:localhost/replica:0/task:0/device:CPU:0\n",
            "  5/313 [..............................] - ETA: 57s - loss: 0.6930 - accuracy: 0.5078Executing op __inference_train_function_3168 in device /job:localhost/replica:0/task:0/device:CPU:0\n",
            "  6/313 [..............................] - ETA: 57s - loss: 0.6928 - accuracy: 0.5117Executing op __inference_train_function_3168 in device /job:localhost/replica:0/task:0/device:CPU:0\n",
            "  7/313 [..............................] - ETA: 57s - loss: 0.6933 - accuracy: 0.5011Executing op __inference_train_function_3168 in device /job:localhost/replica:0/task:0/device:CPU:0\n",
            "  8/313 [..............................] - ETA: 57s - loss: 0.6933 - accuracy: 0.5000Executing op __inference_train_function_3168 in device /job:localhost/replica:0/task:0/device:CPU:0\n",
            "  9/313 [..............................] - ETA: 56s - loss: 0.6932 - accuracy: 0.5017Executing op __inference_train_function_3168 in device /job:localhost/replica:0/task:0/device:CPU:0\n",
            " 10/313 [..............................] - ETA: 56s - loss: 0.6935 - accuracy: 0.4961Executing op __inference_train_function_3168 in device /job:localhost/replica:0/task:0/device:CPU:0\n",
            " 11/313 [>.............................] - ETA: 56s - loss: 0.6934 - accuracy: 0.4972Executing op __inference_train_function_3168 in device /job:localhost/replica:0/task:0/device:CPU:0\n",
            " 12/313 [>.............................] - ETA: 56s - loss: 0.6934 - accuracy: 0.4961Executing op __inference_train_function_3168 in device /job:localhost/replica:0/task:0/device:CPU:0\n",
            " 13/313 [>.............................] - ETA: 55s - loss: 0.6934 - accuracy: 0.4976Executing op __inference_train_function_3168 in device /job:localhost/replica:0/task:0/device:CPU:0\n",
            " 14/313 [>.............................] - ETA: 55s - loss: 0.6933 - accuracy: 0.4994Executing op __inference_train_function_3168 in device /job:localhost/replica:0/task:0/device:CPU:0\n",
            " 15/313 [>.............................] - ETA: 55s - loss: 0.6932 - accuracy: 0.5026Executing op __inference_train_function_3168 in device /job:localhost/replica:0/task:0/device:CPU:0\n",
            " 16/313 [>.............................] - ETA: 55s - loss: 0.6932 - accuracy: 0.5010Executing op __inference_train_function_3168 in device /job:localhost/replica:0/task:0/device:CPU:0\n",
            " 17/313 [>.............................] - ETA: 55s - loss: 0.6933 - accuracy: 0.5005Executing op __inference_train_function_3168 in device /job:localhost/replica:0/task:0/device:CPU:0\n",
            " 18/313 [>.............................] - ETA: 55s - loss: 0.6933 - accuracy: 0.4996Executing op __inference_train_function_3168 in device /job:localhost/replica:0/task:0/device:CPU:0\n",
            " 19/313 [>.............................] - ETA: 54s - loss: 0.6934 - accuracy: 0.4971Executing op __inference_train_function_3168 in device /job:localhost/replica:0/task:0/device:CPU:0\n",
            " 20/313 [>.............................] - ETA: 54s - loss: 0.6934 - accuracy: 0.4961Executing op __inference_train_function_3168 in device /job:localhost/replica:0/task:0/device:CPU:0\n",
            " 21/313 [=>............................] - ETA: 54s - loss: 0.6934 - accuracy: 0.4974Executing op __inference_train_function_3168 in device /job:localhost/replica:0/task:0/device:CPU:0\n",
            " 22/313 [=>............................] - ETA: 54s - loss: 0.6934 - accuracy: 0.4961Executing op __inference_train_function_3168 in device /job:localhost/replica:0/task:0/device:CPU:0\n",
            " 23/313 [=>............................] - ETA: 54s - loss: 0.6934 - accuracy: 0.4980Executing op __inference_train_function_3168 in device /job:localhost/replica:0/task:0/device:CPU:0\n",
            " 24/313 [=>............................] - ETA: 54s - loss: 0.6933 - accuracy: 0.5013Executing op __inference_train_function_3168 in device /job:localhost/replica:0/task:0/device:CPU:0\n",
            " 25/313 [=>............................] - ETA: 53s - loss: 0.6933 - accuracy: 0.5025Executing op __inference_train_function_3168 in device /job:localhost/replica:0/task:0/device:CPU:0\n",
            " 26/313 [=>............................] - ETA: 53s - loss: 0.6933 - accuracy: 0.5021Executing op __inference_train_function_3168 in device /job:localhost/replica:0/task:0/device:CPU:0\n",
            " 27/313 [=>............................] - ETA: 53s - loss: 0.6933 - accuracy: 0.5020Executing op __inference_train_function_3168 in device /job:localhost/replica:0/task:0/device:CPU:0\n",
            " 28/313 [=>............................] - ETA: 53s - loss: 0.6933 - accuracy: 0.5042Executing op __inference_train_function_3168 in device /job:localhost/replica:0/task:0/device:CPU:0\n",
            " 29/313 [=>............................] - ETA: 53s - loss: 0.6933 - accuracy: 0.5022Executing op __inference_train_function_3168 in device /job:localhost/replica:0/task:0/device:CPU:0\n",
            " 30/313 [=>............................] - ETA: 52s - loss: 0.6933 - accuracy: 0.5031Executing op __inference_train_function_3168 in device /job:localhost/replica:0/task:0/device:CPU:0\n",
            " 31/313 [=>............................] - ETA: 52s - loss: 0.6933 - accuracy: 0.5038Executing op __inference_train_function_3168 in device /job:localhost/replica:0/task:0/device:CPU:0\n",
            " 32/313 [==>...........................] - ETA: 52s - loss: 0.6932 - accuracy: 0.5059Executing op __inference_train_function_3168 in device /job:localhost/replica:0/task:0/device:CPU:0\n",
            " 33/313 [==>...........................] - ETA: 52s - loss: 0.6932 - accuracy: 0.5071Executing op __inference_train_function_3168 in device /job:localhost/replica:0/task:0/device:CPU:0\n",
            " 34/313 [==>...........................] - ETA: 52s - loss: 0.6932 - accuracy: 0.5099Executing op __inference_train_function_3168 in device /job:localhost/replica:0/task:0/device:CPU:0\n",
            " 35/313 [==>...........................] - ETA: 52s - loss: 0.6931 - accuracy: 0.5103Executing op __inference_train_function_3168 in device /job:localhost/replica:0/task:0/device:CPU:0\n",
            " 36/313 [==>...........................] - ETA: 51s - loss: 0.6930 - accuracy: 0.5128Executing op __inference_train_function_3168 in device /job:localhost/replica:0/task:0/device:CPU:0\n",
            " 37/313 [==>...........................] - ETA: 51s - loss: 0.6931 - accuracy: 0.5120Executing op __inference_train_function_3168 in device /job:localhost/replica:0/task:0/device:CPU:0\n",
            " 38/313 [==>...........................] - ETA: 51s - loss: 0.6931 - accuracy: 0.5111Executing op __inference_train_function_3168 in device /job:localhost/replica:0/task:0/device:CPU:0\n",
            " 39/313 [==>...........................] - ETA: 51s - loss: 0.6931 - accuracy: 0.5114Executing op __inference_train_function_3168 in device /job:localhost/replica:0/task:0/device:CPU:0\n",
            " 40/313 [==>...........................] - ETA: 51s - loss: 0.6931 - accuracy: 0.5115Executing op __inference_train_function_3168 in device /job:localhost/replica:0/task:0/device:CPU:0\n",
            " 41/313 [==>...........................] - ETA: 51s - loss: 0.6932 - accuracy: 0.5099Executing op __inference_train_function_3168 in device /job:localhost/replica:0/task:0/device:CPU:0\n",
            " 42/313 [===>..........................] - ETA: 50s - loss: 0.6933 - accuracy: 0.5087Executing op __inference_train_function_3168 in device /job:localhost/replica:0/task:0/device:CPU:0\n",
            " 43/313 [===>..........................] - ETA: 50s - loss: 0.6933 - accuracy: 0.5080Executing op __inference_train_function_3168 in device /job:localhost/replica:0/task:0/device:CPU:0\n",
            " 44/313 [===>..........................] - ETA: 50s - loss: 0.6933 - accuracy: 0.5069Executing op __inference_train_function_3168 in device /job:localhost/replica:0/task:0/device:CPU:0\n",
            " 45/313 [===>..........................] - ETA: 50s - loss: 0.6934 - accuracy: 0.5061Executing op __inference_train_function_3168 in device /job:localhost/replica:0/task:0/device:CPU:0\n",
            " 46/313 [===>..........................] - ETA: 50s - loss: 0.6934 - accuracy: 0.5063Executing op __inference_train_function_3168 in device /job:localhost/replica:0/task:0/device:CPU:0\n",
            " 47/313 [===>..........................] - ETA: 49s - loss: 0.6933 - accuracy: 0.5076Executing op __inference_train_function_3168 in device /job:localhost/replica:0/task:0/device:CPU:0\n",
            " 48/313 [===>..........................] - ETA: 49s - loss: 0.6933 - accuracy: 0.5076Executing op __inference_train_function_3168 in device /job:localhost/replica:0/task:0/device:CPU:0\n",
            " 49/313 [===>..........................] - ETA: 49s - loss: 0.6933 - accuracy: 0.5072Executing op __inference_train_function_3168 in device /job:localhost/replica:0/task:0/device:CPU:0\n",
            " 50/313 [===>..........................] - ETA: 49s - loss: 0.6933 - accuracy: 0.5064Executing op __inference_train_function_3168 in device /job:localhost/replica:0/task:0/device:CPU:0\n",
            " 51/313 [===>..........................] - ETA: 49s - loss: 0.6933 - accuracy: 0.5070Executing op __inference_train_function_3168 in device /job:localhost/replica:0/task:0/device:CPU:0\n",
            " 52/313 [===>..........................] - ETA: 48s - loss: 0.6933 - accuracy: 0.5077Executing op __inference_train_function_3168 in device /job:localhost/replica:0/task:0/device:CPU:0\n",
            " 53/313 [====>.........................] - ETA: 48s - loss: 0.6932 - accuracy: 0.5090Executing op __inference_train_function_3168 in device /job:localhost/replica:0/task:0/device:CPU:0\n",
            " 54/313 [====>.........................] - ETA: 48s - loss: 0.6932 - accuracy: 0.5085Executing op __inference_train_function_3168 in device /job:localhost/replica:0/task:0/device:CPU:0\n",
            " 55/313 [====>.........................] - ETA: 48s - loss: 0.6932 - accuracy: 0.5084Executing op __inference_train_function_3168 in device /job:localhost/replica:0/task:0/device:CPU:0\n",
            " 56/313 [====>.........................] - ETA: 48s - loss: 0.6933 - accuracy: 0.5070Executing op __inference_train_function_3168 in device /job:localhost/replica:0/task:0/device:CPU:0\n",
            " 57/313 [====>.........................] - ETA: 47s - loss: 0.6933 - accuracy: 0.5066Executing op __inference_train_function_3168 in device /job:localhost/replica:0/task:0/device:CPU:0\n",
            " 58/313 [====>.........................] - ETA: 47s - loss: 0.6932 - accuracy: 0.5079Executing op __inference_train_function_3168 in device /job:localhost/replica:0/task:0/device:CPU:0\n",
            " 59/313 [====>.........................] - ETA: 47s - loss: 0.6932 - accuracy: 0.5082Executing op __inference_train_function_3168 in device /job:localhost/replica:0/task:0/device:CPU:0\n",
            " 60/313 [====>.........................] - ETA: 47s - loss: 0.6932 - accuracy: 0.5087Executing op __inference_train_function_3168 in device /job:localhost/replica:0/task:0/device:CPU:0\n",
            " 61/313 [====>.........................] - ETA: 47s - loss: 0.6932 - accuracy: 0.5083Executing op __inference_train_function_3168 in device /job:localhost/replica:0/task:0/device:CPU:0\n",
            " 62/313 [====>.........................] - ETA: 46s - loss: 0.6932 - accuracy: 0.5072Executing op __inference_train_function_3168 in device /job:localhost/replica:0/task:0/device:CPU:0\n",
            " 63/313 [=====>........................] - ETA: 46s - loss: 0.6932 - accuracy: 0.5073Executing op __inference_train_function_3168 in device /job:localhost/replica:0/task:0/device:CPU:0\n",
            " 64/313 [=====>........................] - ETA: 46s - loss: 0.6932 - accuracy: 0.5063Executing op __inference_train_function_3168 in device /job:localhost/replica:0/task:0/device:CPU:0\n",
            " 65/313 [=====>........................] - ETA: 46s - loss: 0.6932 - accuracy: 0.5067Executing op __inference_train_function_3168 in device /job:localhost/replica:0/task:0/device:CPU:0\n",
            " 66/313 [=====>........................] - ETA: 46s - loss: 0.6932 - accuracy: 0.5054Executing op __inference_train_function_3168 in device /job:localhost/replica:0/task:0/device:CPU:0\n",
            " 67/313 [=====>........................] - ETA: 45s - loss: 0.6932 - accuracy: 0.5059Executing op __inference_train_function_3168 in device /job:localhost/replica:0/task:0/device:CPU:0\n",
            " 68/313 [=====>........................] - ETA: 45s - loss: 0.6932 - accuracy: 0.5061Executing op __inference_train_function_3168 in device /job:localhost/replica:0/task:0/device:CPU:0\n",
            " 69/313 [=====>........................] - ETA: 45s - loss: 0.6932 - accuracy: 0.5072Executing op __inference_train_function_3168 in device /job:localhost/replica:0/task:0/device:CPU:0\n",
            " 70/313 [=====>........................] - ETA: 45s - loss: 0.6931 - accuracy: 0.5074Executing op __inference_train_function_3168 in device /job:localhost/replica:0/task:0/device:CPU:0\n",
            " 71/313 [=====>........................] - ETA: 45s - loss: 0.6932 - accuracy: 0.5066Executing op __inference_train_function_3168 in device /job:localhost/replica:0/task:0/device:CPU:0\n",
            " 72/313 [=====>........................] - ETA: 45s - loss: 0.6932 - accuracy: 0.5062Executing op __inference_train_function_3168 in device /job:localhost/replica:0/task:0/device:CPU:0\n",
            " 73/313 [=====>........................] - ETA: 44s - loss: 0.6932 - accuracy: 0.5061Executing op __inference_train_function_3168 in device /job:localhost/replica:0/task:0/device:CPU:0\n",
            " 74/313 [======>.......................] - ETA: 44s - loss: 0.6932 - accuracy: 0.5065Executing op __inference_train_function_3168 in device /job:localhost/replica:0/task:0/device:CPU:0\n",
            " 75/313 [======>.......................] - ETA: 44s - loss: 0.6931 - accuracy: 0.5073Executing op __inference_train_function_3168 in device /job:localhost/replica:0/task:0/device:CPU:0\n",
            " 76/313 [======>.......................] - ETA: 44s - loss: 0.6932 - accuracy: 0.5068Executing op __inference_train_function_3168 in device /job:localhost/replica:0/task:0/device:CPU:0\n",
            " 77/313 [======>.......................] - ETA: 44s - loss: 0.6931 - accuracy: 0.5076Executing op __inference_train_function_3168 in device /job:localhost/replica:0/task:0/device:CPU:0\n",
            " 78/313 [======>.......................] - ETA: 43s - loss: 0.6931 - accuracy: 0.5083Executing op __inference_train_function_3168 in device /job:localhost/replica:0/task:0/device:CPU:0\n",
            " 79/313 [======>.......................] - ETA: 43s - loss: 0.6931 - accuracy: 0.5088Executing op __inference_train_function_3168 in device /job:localhost/replica:0/task:0/device:CPU:0\n",
            " 80/313 [======>.......................] - ETA: 43s - loss: 0.6931 - accuracy: 0.5095Executing op __inference_train_function_3168 in device /job:localhost/replica:0/task:0/device:CPU:0\n",
            " 81/313 [======>.......................] - ETA: 43s - loss: 0.6930 - accuracy: 0.5105Executing op __inference_train_function_3168 in device /job:localhost/replica:0/task:0/device:CPU:0\n",
            " 82/313 [======>.......................] - ETA: 43s - loss: 0.6930 - accuracy: 0.5106Executing op __inference_train_function_3168 in device /job:localhost/replica:0/task:0/device:CPU:0\n",
            " 83/313 [======>.......................] - ETA: 42s - loss: 0.6930 - accuracy: 0.5108Executing op __inference_train_function_3168 in device /job:localhost/replica:0/task:0/device:CPU:0\n",
            " 84/313 [=======>......................] - ETA: 42s - loss: 0.6930 - accuracy: 0.5111Executing op __inference_train_function_3168 in device /job:localhost/replica:0/task:0/device:CPU:0\n",
            " 85/313 [=======>......................] - ETA: 42s - loss: 0.6930 - accuracy: 0.5117Executing op __inference_train_function_3168 in device /job:localhost/replica:0/task:0/device:CPU:0\n",
            " 86/313 [=======>......................] - ETA: 42s - loss: 0.6929 - accuracy: 0.5130Executing op __inference_train_function_3168 in device /job:localhost/replica:0/task:0/device:CPU:0\n",
            " 87/313 [=======>......................] - ETA: 42s - loss: 0.6928 - accuracy: 0.5136Executing op __inference_train_function_3168 in device /job:localhost/replica:0/task:0/device:CPU:0\n",
            " 88/313 [=======>......................] - ETA: 41s - loss: 0.6929 - accuracy: 0.5133Executing op __inference_train_function_3168 in device /job:localhost/replica:0/task:0/device:CPU:0\n",
            " 89/313 [=======>......................] - ETA: 41s - loss: 0.6926 - accuracy: 0.5131Executing op __inference_train_function_3168 in device /job:localhost/replica:0/task:0/device:CPU:0\n",
            " 90/313 [=======>......................] - ETA: 41s - loss: 0.6917 - accuracy: 0.5148Executing op __inference_train_function_3168 in device /job:localhost/replica:0/task:0/device:CPU:0\n",
            " 91/313 [=======>......................] - ETA: 41s - loss: 0.6904 - accuracy: 0.5168Executing op __inference_train_function_3168 in device /job:localhost/replica:0/task:0/device:CPU:0\n",
            " 92/313 [=======>......................] - ETA: 41s - loss: 0.6892 - accuracy: 0.5189Executing op __inference_train_function_3168 in device /job:localhost/replica:0/task:0/device:CPU:0\n",
            " 93/313 [=======>......................] - ETA: 41s - loss: 0.6896 - accuracy: 0.5204Executing op __inference_train_function_3168 in device /job:localhost/replica:0/task:0/device:CPU:0\n",
            " 94/313 [========>.....................] - ETA: 40s - loss: 0.6899 - accuracy: 0.5219Executing op __inference_train_function_3168 in device /job:localhost/replica:0/task:0/device:CPU:0\n",
            " 95/313 [========>.....................] - ETA: 40s - loss: 0.6889 - accuracy: 0.5238Executing op __inference_train_function_3168 in device /job:localhost/replica:0/task:0/device:CPU:0\n",
            " 96/313 [========>.....................] - ETA: 40s - loss: 0.6878 - accuracy: 0.5258Executing op __inference_train_function_3168 in device /job:localhost/replica:0/task:0/device:CPU:0\n",
            " 97/313 [========>.....................] - ETA: 40s - loss: 0.6870 - accuracy: 0.5271Executing op __inference_train_function_3168 in device /job:localhost/replica:0/task:0/device:CPU:0\n",
            " 98/313 [========>.....................] - ETA: 40s - loss: 0.6866 - accuracy: 0.5281Executing op __inference_train_function_3168 in device /job:localhost/replica:0/task:0/device:CPU:0\n",
            " 99/313 [========>.....................] - ETA: 39s - loss: 0.6857 - accuracy: 0.5296Executing op __inference_train_function_3168 in device /job:localhost/replica:0/task:0/device:CPU:0\n",
            "100/313 [========>.....................] - ETA: 39s - loss: 0.6849 - accuracy: 0.5314Executing op __inference_train_function_3168 in device /job:localhost/replica:0/task:0/device:CPU:0\n",
            "101/313 [========>.....................] - ETA: 39s - loss: 0.6835 - accuracy: 0.5340Executing op __inference_train_function_3168 in device /job:localhost/replica:0/task:0/device:CPU:0\n",
            "102/313 [========>.....................] - ETA: 39s - loss: 0.6818 - accuracy: 0.5370Executing op __inference_train_function_3168 in device /job:localhost/replica:0/task:0/device:CPU:0\n",
            "103/313 [========>.....................] - ETA: 39s - loss: 0.6809 - accuracy: 0.5390Executing op __inference_train_function_3168 in device /job:localhost/replica:0/task:0/device:CPU:0\n",
            "104/313 [========>.....................] - ETA: 38s - loss: 0.6803 - accuracy: 0.5407Executing op __inference_train_function_3168 in device /job:localhost/replica:0/task:0/device:CPU:0\n",
            "105/313 [=========>....................] - ETA: 38s - loss: 0.6795 - accuracy: 0.5422Executing op __inference_train_function_3168 in device /job:localhost/replica:0/task:0/device:CPU:0\n",
            "106/313 [=========>....................] - ETA: 38s - loss: 0.6783 - accuracy: 0.5442Executing op __inference_train_function_3168 in device /job:localhost/replica:0/task:0/device:CPU:0\n",
            "107/313 [=========>....................] - ETA: 38s - loss: 0.6769 - accuracy: 0.5464Executing op __inference_train_function_3168 in device /job:localhost/replica:0/task:0/device:CPU:0\n",
            "108/313 [=========>....................] - ETA: 38s - loss: 0.6755 - accuracy: 0.5485Executing op __inference_train_function_3168 in device /job:localhost/replica:0/task:0/device:CPU:0\n",
            "109/313 [=========>....................] - ETA: 37s - loss: 0.6753 - accuracy: 0.5495Executing op __inference_train_function_3168 in device /job:localhost/replica:0/task:0/device:CPU:0\n",
            "110/313 [=========>....................] - ETA: 37s - loss: 0.6738 - accuracy: 0.5516Executing op __inference_train_function_3168 in device /job:localhost/replica:0/task:0/device:CPU:0\n",
            "111/313 [=========>....................] - ETA: 37s - loss: 0.6723 - accuracy: 0.5538Executing op __inference_train_function_3168 in device /job:localhost/replica:0/task:0/device:CPU:0\n",
            "112/313 [=========>....................] - ETA: 37s - loss: 0.6706 - accuracy: 0.5564Executing op __inference_train_function_3168 in device /job:localhost/replica:0/task:0/device:CPU:0\n",
            "113/313 [=========>....................] - ETA: 37s - loss: 0.6691 - accuracy: 0.5587Executing op __inference_train_function_3168 in device /job:localhost/replica:0/task:0/device:CPU:0\n",
            "114/313 [=========>....................] - ETA: 37s - loss: 0.6676 - accuracy: 0.5606Executing op __inference_train_function_3168 in device /job:localhost/replica:0/task:0/device:CPU:0\n",
            "115/313 [==========>...................] - ETA: 36s - loss: 0.6663 - accuracy: 0.5625Executing op __inference_train_function_3168 in device /job:localhost/replica:0/task:0/device:CPU:0\n",
            "116/313 [==========>...................] - ETA: 36s - loss: 0.6656 - accuracy: 0.5639Executing op __inference_train_function_3168 in device /job:localhost/replica:0/task:0/device:CPU:0\n",
            "117/313 [==========>...................] - ETA: 36s - loss: 0.6643 - accuracy: 0.5658Executing op __inference_train_function_3168 in device /job:localhost/replica:0/task:0/device:CPU:0\n",
            "118/313 [==========>...................] - ETA: 36s - loss: 0.6625 - accuracy: 0.5680Executing op __inference_train_function_3168 in device /job:localhost/replica:0/task:0/device:CPU:0\n",
            "119/313 [==========>...................] - ETA: 36s - loss: 0.6610 - accuracy: 0.5699Executing op __inference_train_function_3168 in device /job:localhost/replica:0/task:0/device:CPU:0\n",
            "120/313 [==========>...................] - ETA: 35s - loss: 0.6599 - accuracy: 0.5714Executing op __inference_train_function_3168 in device /job:localhost/replica:0/task:0/device:CPU:0\n",
            "121/313 [==========>...................] - ETA: 35s - loss: 0.6585 - accuracy: 0.5729Executing op __inference_train_function_3168 in device /job:localhost/replica:0/task:0/device:CPU:0\n",
            "122/313 [==========>...................] - ETA: 35s - loss: 0.6565 - accuracy: 0.5752Executing op __inference_train_function_3168 in device /job:localhost/replica:0/task:0/device:CPU:0\n",
            "123/313 [==========>...................] - ETA: 35s - loss: 0.6544 - accuracy: 0.5774Executing op __inference_train_function_3168 in device /job:localhost/replica:0/task:0/device:CPU:0\n",
            "124/313 [==========>...................] - ETA: 35s - loss: 0.6523 - accuracy: 0.5794Executing op __inference_train_function_3168 in device /job:localhost/replica:0/task:0/device:CPU:0\n",
            "125/313 [==========>...................] - ETA: 35s - loss: 0.6510 - accuracy: 0.5811Executing op __inference_train_function_3168 in device /job:localhost/replica:0/task:0/device:CPU:0\n",
            "126/313 [===========>..................] - ETA: 34s - loss: 0.6494 - accuracy: 0.5829Executing op __inference_train_function_3168 in device /job:localhost/replica:0/task:0/device:CPU:0\n",
            "127/313 [===========>..................] - ETA: 34s - loss: 0.6474 - accuracy: 0.5851Executing op __inference_train_function_3168 in device /job:localhost/replica:0/task:0/device:CPU:0\n",
            "128/313 [===========>..................] - ETA: 34s - loss: 0.6459 - accuracy: 0.5864Executing op __inference_train_function_3168 in device /job:localhost/replica:0/task:0/device:CPU:0\n",
            "129/313 [===========>..................] - ETA: 34s - loss: 0.6445 - accuracy: 0.5881Executing op __inference_train_function_3168 in device /job:localhost/replica:0/task:0/device:CPU:0\n",
            "130/313 [===========>..................] - ETA: 34s - loss: 0.6428 - accuracy: 0.5903Executing op __inference_train_function_3168 in device /job:localhost/replica:0/task:0/device:CPU:0\n",
            "131/313 [===========>..................] - ETA: 33s - loss: 0.6413 - accuracy: 0.5920Executing op __inference_train_function_3168 in device /job:localhost/replica:0/task:0/device:CPU:0\n",
            "132/313 [===========>..................] - ETA: 33s - loss: 0.6396 - accuracy: 0.5934Executing op __inference_train_function_3168 in device /job:localhost/replica:0/task:0/device:CPU:0\n",
            "133/313 [===========>..................] - ETA: 33s - loss: 0.6381 - accuracy: 0.5950Executing op __inference_train_function_3168 in device /job:localhost/replica:0/task:0/device:CPU:0\n",
            "134/313 [===========>..................] - ETA: 33s - loss: 0.6366 - accuracy: 0.5966Executing op __inference_train_function_3168 in device /job:localhost/replica:0/task:0/device:CPU:0\n",
            "135/313 [===========>..................] - ETA: 33s - loss: 0.6347 - accuracy: 0.5986Executing op __inference_train_function_3168 in device /job:localhost/replica:0/task:0/device:CPU:0\n",
            "136/313 [============>.................] - ETA: 33s - loss: 0.6330 - accuracy: 0.6001Executing op __inference_train_function_3168 in device /job:localhost/replica:0/task:0/device:CPU:0\n",
            "137/313 [============>.................] - ETA: 32s - loss: 0.6306 - accuracy: 0.6023Executing op __inference_train_function_3168 in device /job:localhost/replica:0/task:0/device:CPU:0\n",
            "138/313 [============>.................] - ETA: 32s - loss: 0.6291 - accuracy: 0.6039Executing op __inference_train_function_3168 in device /job:localhost/replica:0/task:0/device:CPU:0\n",
            "139/313 [============>.................] - ETA: 32s - loss: 0.6273 - accuracy: 0.6056Executing op __inference_train_function_3168 in device /job:localhost/replica:0/task:0/device:CPU:0\n",
            "140/313 [============>.................] - ETA: 32s - loss: 0.6259 - accuracy: 0.6070Executing op __inference_train_function_3168 in device /job:localhost/replica:0/task:0/device:CPU:0\n",
            "141/313 [============>.................] - ETA: 32s - loss: 0.6248 - accuracy: 0.6079Executing op __inference_train_function_3168 in device /job:localhost/replica:0/task:0/device:CPU:0\n",
            "142/313 [============>.................] - ETA: 31s - loss: 0.6235 - accuracy: 0.6093Executing op __inference_train_function_3168 in device /job:localhost/replica:0/task:0/device:CPU:0\n",
            "143/313 [============>.................] - ETA: 31s - loss: 0.6225 - accuracy: 0.6105Executing op __inference_train_function_3168 in device /job:localhost/replica:0/task:0/device:CPU:0\n",
            "144/313 [============>.................] - ETA: 31s - loss: 0.6207 - accuracy: 0.6122Executing op __inference_train_function_3168 in device /job:localhost/replica:0/task:0/device:CPU:0\n",
            "145/313 [============>.................] - ETA: 31s - loss: 0.6186 - accuracy: 0.6140Executing op __inference_train_function_3168 in device /job:localhost/replica:0/task:0/device:CPU:0\n",
            "146/313 [============>.................] - ETA: 31s - loss: 0.6180 - accuracy: 0.6153Executing op __inference_train_function_3168 in device /job:localhost/replica:0/task:0/device:CPU:0\n",
            "147/313 [=============>................] - ETA: 31s - loss: 0.6169 - accuracy: 0.6166Executing op __inference_train_function_3168 in device /job:localhost/replica:0/task:0/device:CPU:0\n",
            "148/313 [=============>................] - ETA: 30s - loss: 0.6154 - accuracy: 0.6182Executing op __inference_train_function_3168 in device /job:localhost/replica:0/task:0/device:CPU:0\n",
            "149/313 [=============>................] - ETA: 30s - loss: 0.6138 - accuracy: 0.6195Executing op __inference_train_function_3168 in device /job:localhost/replica:0/task:0/device:CPU:0\n",
            "150/313 [=============>................] - ETA: 30s - loss: 0.6123 - accuracy: 0.6210Executing op __inference_train_function_3168 in device /job:localhost/replica:0/task:0/device:CPU:0\n",
            "151/313 [=============>................] - ETA: 30s - loss: 0.6111 - accuracy: 0.6224Executing op __inference_train_function_3168 in device /job:localhost/replica:0/task:0/device:CPU:0\n",
            "152/313 [=============>................] - ETA: 30s - loss: 0.6096 - accuracy: 0.6239Executing op __inference_train_function_3168 in device /job:localhost/replica:0/task:0/device:CPU:0\n",
            "153/313 [=============>................] - ETA: 29s - loss: 0.6081 - accuracy: 0.6254Executing op __inference_train_function_3168 in device /job:localhost/replica:0/task:0/device:CPU:0\n",
            "154/313 [=============>................] - ETA: 29s - loss: 0.6069 - accuracy: 0.6268Executing op __inference_train_function_3168 in device /job:localhost/replica:0/task:0/device:CPU:0\n",
            "155/313 [=============>................] - ETA: 29s - loss: 0.6065 - accuracy: 0.6278Executing op __inference_train_function_3168 in device /job:localhost/replica:0/task:0/device:CPU:0\n",
            "156/313 [=============>................] - ETA: 29s - loss: 0.6050 - accuracy: 0.6293Executing op __inference_train_function_3168 in device /job:localhost/replica:0/task:0/device:CPU:0\n",
            "157/313 [==============>...............] - ETA: 29s - loss: 0.6037 - accuracy: 0.6306Executing op __inference_train_function_3168 in device /job:localhost/replica:0/task:0/device:CPU:0\n",
            "158/313 [==============>...............] - ETA: 28s - loss: 0.6028 - accuracy: 0.6317Executing op __inference_train_function_3168 in device /job:localhost/replica:0/task:0/device:CPU:0\n",
            "159/313 [==============>...............] - ETA: 28s - loss: 0.6017 - accuracy: 0.6329Executing op __inference_train_function_3168 in device /job:localhost/replica:0/task:0/device:CPU:0\n",
            "160/313 [==============>...............] - ETA: 28s - loss: 0.6007 - accuracy: 0.6341Executing op __inference_train_function_3168 in device /job:localhost/replica:0/task:0/device:CPU:0\n",
            "161/313 [==============>...............] - ETA: 28s - loss: 0.6000 - accuracy: 0.6349Executing op __inference_train_function_3168 in device /job:localhost/replica:0/task:0/device:CPU:0\n",
            "162/313 [==============>...............] - ETA: 28s - loss: 0.5988 - accuracy: 0.6359Executing op __inference_train_function_3168 in device /job:localhost/replica:0/task:0/device:CPU:0\n",
            "163/313 [==============>...............] - ETA: 28s - loss: 0.5971 - accuracy: 0.6373Executing op __inference_train_function_3168 in device /job:localhost/replica:0/task:0/device:CPU:0\n",
            "164/313 [==============>...............] - ETA: 27s - loss: 0.5958 - accuracy: 0.6384Executing op __inference_train_function_3168 in device /job:localhost/replica:0/task:0/device:CPU:0\n",
            "165/313 [==============>...............] - ETA: 27s - loss: 0.5941 - accuracy: 0.6399Executing op __inference_train_function_3168 in device /job:localhost/replica:0/task:0/device:CPU:0\n",
            "166/313 [==============>...............] - ETA: 27s - loss: 0.5929 - accuracy: 0.6411Executing op __inference_train_function_3168 in device /job:localhost/replica:0/task:0/device:CPU:0\n",
            "167/313 [===============>..............] - ETA: 27s - loss: 0.5914 - accuracy: 0.6427Executing op __inference_train_function_3168 in device /job:localhost/replica:0/task:0/device:CPU:0\n",
            "168/313 [===============>..............] - ETA: 27s - loss: 0.5898 - accuracy: 0.6440Executing op __inference_train_function_3168 in device /job:localhost/replica:0/task:0/device:CPU:0\n",
            "169/313 [===============>..............] - ETA: 26s - loss: 0.5888 - accuracy: 0.6451Executing op __inference_train_function_3168 in device /job:localhost/replica:0/task:0/device:CPU:0\n",
            "170/313 [===============>..............] - ETA: 26s - loss: 0.5873 - accuracy: 0.6465Executing op __inference_train_function_3168 in device /job:localhost/replica:0/task:0/device:CPU:0\n",
            "171/313 [===============>..............] - ETA: 26s - loss: 0.5860 - accuracy: 0.6477Executing op __inference_train_function_3168 in device /job:localhost/replica:0/task:0/device:CPU:0\n",
            "172/313 [===============>..............] - ETA: 26s - loss: 0.5849 - accuracy: 0.6487Executing op __inference_train_function_3168 in device /job:localhost/replica:0/task:0/device:CPU:0\n",
            "173/313 [===============>..............] - ETA: 26s - loss: 0.5837 - accuracy: 0.6498Executing op __inference_train_function_3168 in device /job:localhost/replica:0/task:0/device:CPU:0\n",
            "174/313 [===============>..............] - ETA: 25s - loss: 0.5827 - accuracy: 0.6508Executing op __inference_train_function_3168 in device /job:localhost/replica:0/task:0/device:CPU:0\n",
            "175/313 [===============>..............] - ETA: 25s - loss: 0.5821 - accuracy: 0.6512Executing op __inference_train_function_3168 in device /job:localhost/replica:0/task:0/device:CPU:0\n",
            "176/313 [===============>..............] - ETA: 25s - loss: 0.5813 - accuracy: 0.6521Executing op __inference_train_function_3168 in device /job:localhost/replica:0/task:0/device:CPU:0\n",
            "177/313 [===============>..............] - ETA: 25s - loss: 0.5804 - accuracy: 0.6530Executing op __inference_train_function_3168 in device /job:localhost/replica:0/task:0/device:CPU:0\n",
            "178/313 [================>.............] - ETA: 25s - loss: 0.5796 - accuracy: 0.6534Executing op __inference_train_function_3168 in device /job:localhost/replica:0/task:0/device:CPU:0\n",
            "179/313 [================>.............] - ETA: 25s - loss: 0.5786 - accuracy: 0.6543Executing op __inference_train_function_3168 in device /job:localhost/replica:0/task:0/device:CPU:0\n",
            "180/313 [================>.............] - ETA: 24s - loss: 0.5776 - accuracy: 0.6553Executing op __inference_train_function_3168 in device /job:localhost/replica:0/task:0/device:CPU:0\n",
            "181/313 [================>.............] - ETA: 24s - loss: 0.5761 - accuracy: 0.6564Executing op __inference_train_function_3168 in device /job:localhost/replica:0/task:0/device:CPU:0\n",
            "182/313 [================>.............] - ETA: 24s - loss: 0.5752 - accuracy: 0.6574Executing op __inference_train_function_3168 in device /job:localhost/replica:0/task:0/device:CPU:0\n",
            "183/313 [================>.............] - ETA: 24s - loss: 0.5747 - accuracy: 0.6581Executing op __inference_train_function_3168 in device /job:localhost/replica:0/task:0/device:CPU:0\n",
            "184/313 [================>.............] - ETA: 24s - loss: 0.5732 - accuracy: 0.6593Executing op __inference_train_function_3168 in device /job:localhost/replica:0/task:0/device:CPU:0\n",
            "185/313 [================>.............] - ETA: 23s - loss: 0.5721 - accuracy: 0.6603Executing op __inference_train_function_3168 in device /job:localhost/replica:0/task:0/device:CPU:0\n",
            "186/313 [================>.............] - ETA: 23s - loss: 0.5709 - accuracy: 0.6614Executing op __inference_train_function_3168 in device /job:localhost/replica:0/task:0/device:CPU:0\n",
            "187/313 [================>.............] - ETA: 23s - loss: 0.5694 - accuracy: 0.6627Executing op __inference_train_function_3168 in device /job:localhost/replica:0/task:0/device:CPU:0\n",
            "188/313 [=================>............] - ETA: 23s - loss: 0.5685 - accuracy: 0.6637Executing op __inference_train_function_3168 in device /job:localhost/replica:0/task:0/device:CPU:0\n",
            "189/313 [=================>............] - ETA: 23s - loss: 0.5676 - accuracy: 0.6647Executing op __inference_train_function_3168 in device /job:localhost/replica:0/task:0/device:CPU:0\n",
            "190/313 [=================>............] - ETA: 22s - loss: 0.5663 - accuracy: 0.6657Executing op __inference_train_function_3168 in device /job:localhost/replica:0/task:0/device:CPU:0\n",
            "191/313 [=================>............] - ETA: 22s - loss: 0.5656 - accuracy: 0.6665Executing op __inference_train_function_3168 in device /job:localhost/replica:0/task:0/device:CPU:0\n",
            "192/313 [=================>............] - ETA: 22s - loss: 0.5646 - accuracy: 0.6675Executing op __inference_train_function_3168 in device /job:localhost/replica:0/task:0/device:CPU:0\n",
            "193/313 [=================>............] - ETA: 22s - loss: 0.5636 - accuracy: 0.6685Executing op __inference_train_function_3168 in device /job:localhost/replica:0/task:0/device:CPU:0\n",
            "194/313 [=================>............] - ETA: 22s - loss: 0.5623 - accuracy: 0.6696Executing op __inference_train_function_3168 in device /job:localhost/replica:0/task:0/device:CPU:0\n",
            "195/313 [=================>............] - ETA: 22s - loss: 0.5615 - accuracy: 0.6705Executing op __inference_train_function_3168 in device /job:localhost/replica:0/task:0/device:CPU:0\n",
            "196/313 [=================>............] - ETA: 21s - loss: 0.5604 - accuracy: 0.6716Executing op __inference_train_function_3168 in device /job:localhost/replica:0/task:0/device:CPU:0\n",
            "197/313 [=================>............] - ETA: 21s - loss: 0.5594 - accuracy: 0.6725Executing op __inference_train_function_3168 in device /job:localhost/replica:0/task:0/device:CPU:0\n",
            "198/313 [=================>............] - ETA: 21s - loss: 0.5584 - accuracy: 0.6735Executing op __inference_train_function_3168 in device /job:localhost/replica:0/task:0/device:CPU:0\n",
            "199/313 [==================>...........] - ETA: 21s - loss: 0.5578 - accuracy: 0.6742Executing op __inference_train_function_3168 in device /job:localhost/replica:0/task:0/device:CPU:0\n",
            "200/313 [==================>...........] - ETA: 21s - loss: 0.5566 - accuracy: 0.6752Executing op __inference_train_function_3168 in device /job:localhost/replica:0/task:0/device:CPU:0\n",
            "201/313 [==================>...........] - ETA: 20s - loss: 0.5559 - accuracy: 0.6760Executing op __inference_train_function_3168 in device /job:localhost/replica:0/task:0/device:CPU:0\n",
            "202/313 [==================>...........] - ETA: 20s - loss: 0.5551 - accuracy: 0.6767Executing op __inference_train_function_3168 in device /job:localhost/replica:0/task:0/device:CPU:0\n",
            "203/313 [==================>...........] - ETA: 20s - loss: 0.5542 - accuracy: 0.6775Executing op __inference_train_function_3168 in device /job:localhost/replica:0/task:0/device:CPU:0\n",
            "204/313 [==================>...........] - ETA: 20s - loss: 0.5534 - accuracy: 0.6780Executing op __inference_train_function_3168 in device /job:localhost/replica:0/task:0/device:CPU:0\n",
            "205/313 [==================>...........] - ETA: 20s - loss: 0.5526 - accuracy: 0.6787Executing op __inference_train_function_3168 in device /job:localhost/replica:0/task:0/device:CPU:0\n",
            "206/313 [==================>...........] - ETA: 20s - loss: 0.5516 - accuracy: 0.6796Executing op __inference_train_function_3168 in device /job:localhost/replica:0/task:0/device:CPU:0\n",
            "207/313 [==================>...........] - ETA: 19s - loss: 0.5504 - accuracy: 0.6806Executing op __inference_train_function_3168 in device /job:localhost/replica:0/task:0/device:CPU:0\n",
            "208/313 [==================>...........] - ETA: 19s - loss: 0.5491 - accuracy: 0.6816Executing op __inference_train_function_3168 in device /job:localhost/replica:0/task:0/device:CPU:0\n",
            "209/313 [===================>..........] - ETA: 19s - loss: 0.5482 - accuracy: 0.6824Executing op __inference_train_function_3168 in device /job:localhost/replica:0/task:0/device:CPU:0\n",
            "210/313 [===================>..........] - ETA: 19s - loss: 0.5478 - accuracy: 0.6830Executing op __inference_train_function_3168 in device /job:localhost/replica:0/task:0/device:CPU:0\n",
            "211/313 [===================>..........] - ETA: 19s - loss: 0.5469 - accuracy: 0.6838Executing op __inference_train_function_3168 in device /job:localhost/replica:0/task:0/device:CPU:0\n",
            "212/313 [===================>..........] - ETA: 18s - loss: 0.5458 - accuracy: 0.6847Executing op __inference_train_function_3168 in device /job:localhost/replica:0/task:0/device:CPU:0\n",
            "213/313 [===================>..........] - ETA: 18s - loss: 0.5447 - accuracy: 0.6857Executing op __inference_train_function_3168 in device /job:localhost/replica:0/task:0/device:CPU:0\n",
            "214/313 [===================>..........] - ETA: 18s - loss: 0.5438 - accuracy: 0.6865Executing op __inference_train_function_3168 in device /job:localhost/replica:0/task:0/device:CPU:0\n",
            "215/313 [===================>..........] - ETA: 18s - loss: 0.5430 - accuracy: 0.6871Executing op __inference_train_function_3168 in device /job:localhost/replica:0/task:0/device:CPU:0\n",
            "216/313 [===================>..........] - ETA: 18s - loss: 0.5421 - accuracy: 0.6878Executing op __inference_train_function_3168 in device /job:localhost/replica:0/task:0/device:CPU:0\n",
            "217/313 [===================>..........] - ETA: 17s - loss: 0.5408 - accuracy: 0.6887Executing op __inference_train_function_3168 in device /job:localhost/replica:0/task:0/device:CPU:0\n",
            "218/313 [===================>..........] - ETA: 17s - loss: 0.5403 - accuracy: 0.6893Executing op __inference_train_function_3168 in device /job:localhost/replica:0/task:0/device:CPU:0\n",
            "219/313 [===================>..........] - ETA: 17s - loss: 0.5395 - accuracy: 0.6900Executing op __inference_train_function_3168 in device /job:localhost/replica:0/task:0/device:CPU:0\n",
            "220/313 [====================>.........] - ETA: 17s - loss: 0.5386 - accuracy: 0.6909Executing op __inference_train_function_3168 in device /job:localhost/replica:0/task:0/device:CPU:0\n",
            "221/313 [====================>.........] - ETA: 17s - loss: 0.5379 - accuracy: 0.6915Executing op __inference_train_function_3168 in device /job:localhost/replica:0/task:0/device:CPU:0\n",
            "222/313 [====================>.........] - ETA: 17s - loss: 0.5372 - accuracy: 0.6923Executing op __inference_train_function_3168 in device /job:localhost/replica:0/task:0/device:CPU:0\n",
            "223/313 [====================>.........] - ETA: 16s - loss: 0.5362 - accuracy: 0.6930Executing op __inference_train_function_3168 in device /job:localhost/replica:0/task:0/device:CPU:0\n",
            "224/313 [====================>.........] - ETA: 16s - loss: 0.5351 - accuracy: 0.6940Executing op __inference_train_function_3168 in device /job:localhost/replica:0/task:0/device:CPU:0\n",
            "225/313 [====================>.........] - ETA: 16s - loss: 0.5340 - accuracy: 0.6948Executing op __inference_train_function_3168 in device /job:localhost/replica:0/task:0/device:CPU:0\n",
            "226/313 [====================>.........] - ETA: 16s - loss: 0.5332 - accuracy: 0.6956Executing op __inference_train_function_3168 in device /job:localhost/replica:0/task:0/device:CPU:0\n",
            "227/313 [====================>.........] - ETA: 16s - loss: 0.5323 - accuracy: 0.6962Executing op __inference_train_function_3168 in device /job:localhost/replica:0/task:0/device:CPU:0\n",
            "228/313 [====================>.........] - ETA: 15s - loss: 0.5312 - accuracy: 0.6970Executing op __inference_train_function_3168 in device /job:localhost/replica:0/task:0/device:CPU:0\n",
            "229/313 [====================>.........] - ETA: 15s - loss: 0.5302 - accuracy: 0.6979Executing op __inference_train_function_3168 in device /job:localhost/replica:0/task:0/device:CPU:0\n",
            "230/313 [=====================>........] - ETA: 15s - loss: 0.5294 - accuracy: 0.6986Executing op __inference_train_function_3168 in device /job:localhost/replica:0/task:0/device:CPU:0\n",
            "231/313 [=====================>........] - ETA: 15s - loss: 0.5284 - accuracy: 0.6993Executing op __inference_train_function_3168 in device /job:localhost/replica:0/task:0/device:CPU:0\n",
            "232/313 [=====================>........] - ETA: 15s - loss: 0.5276 - accuracy: 0.7001Executing op __inference_train_function_3168 in device /job:localhost/replica:0/task:0/device:CPU:0\n",
            "233/313 [=====================>........] - ETA: 15s - loss: 0.5267 - accuracy: 0.7008Executing op __inference_train_function_3168 in device /job:localhost/replica:0/task:0/device:CPU:0\n",
            "234/313 [=====================>........] - ETA: 14s - loss: 0.5258 - accuracy: 0.7016Executing op __inference_train_function_3168 in device /job:localhost/replica:0/task:0/device:CPU:0\n",
            "235/313 [=====================>........] - ETA: 14s - loss: 0.5251 - accuracy: 0.7023Executing op __inference_train_function_3168 in device /job:localhost/replica:0/task:0/device:CPU:0\n",
            "236/313 [=====================>........] - ETA: 14s - loss: 0.5245 - accuracy: 0.7029Executing op __inference_train_function_3168 in device /job:localhost/replica:0/task:0/device:CPU:0\n",
            "237/313 [=====================>........] - ETA: 14s - loss: 0.5238 - accuracy: 0.7034Executing op __inference_train_function_3168 in device /job:localhost/replica:0/task:0/device:CPU:0\n",
            "238/313 [=====================>........] - ETA: 14s - loss: 0.5232 - accuracy: 0.7041Executing op __inference_train_function_3168 in device /job:localhost/replica:0/task:0/device:CPU:0\n",
            "239/313 [=====================>........] - ETA: 13s - loss: 0.5225 - accuracy: 0.7046Executing op __inference_train_function_3168 in device /job:localhost/replica:0/task:0/device:CPU:0\n",
            "240/313 [======================>.......] - ETA: 13s - loss: 0.5217 - accuracy: 0.7052Executing op __inference_train_function_3168 in device /job:localhost/replica:0/task:0/device:CPU:0\n",
            "241/313 [======================>.......] - ETA: 13s - loss: 0.5210 - accuracy: 0.7060Executing op __inference_train_function_3168 in device /job:localhost/replica:0/task:0/device:CPU:0\n",
            "242/313 [======================>.......] - ETA: 13s - loss: 0.5200 - accuracy: 0.7068Executing op __inference_train_function_3168 in device /job:localhost/replica:0/task:0/device:CPU:0\n",
            "243/313 [======================>.......] - ETA: 13s - loss: 0.5195 - accuracy: 0.7071Executing op __inference_train_function_3168 in device /job:localhost/replica:0/task:0/device:CPU:0\n",
            "244/313 [======================>.......] - ETA: 12s - loss: 0.5188 - accuracy: 0.7078Executing op __inference_train_function_3168 in device /job:localhost/replica:0/task:0/device:CPU:0\n",
            "245/313 [======================>.......] - ETA: 12s - loss: 0.5180 - accuracy: 0.7084Executing op __inference_train_function_3168 in device /job:localhost/replica:0/task:0/device:CPU:0\n",
            "246/313 [======================>.......] - ETA: 12s - loss: 0.5175 - accuracy: 0.7089Executing op __inference_train_function_3168 in device /job:localhost/replica:0/task:0/device:CPU:0\n",
            "247/313 [======================>.......] - ETA: 12s - loss: 0.5166 - accuracy: 0.7097Executing op __inference_train_function_3168 in device /job:localhost/replica:0/task:0/device:CPU:0\n",
            "248/313 [======================>.......] - ETA: 12s - loss: 0.5160 - accuracy: 0.7103Executing op __inference_train_function_3168 in device /job:localhost/replica:0/task:0/device:CPU:0\n",
            "249/313 [======================>.......] - ETA: 12s - loss: 0.5152 - accuracy: 0.7109Executing op __inference_train_function_3168 in device /job:localhost/replica:0/task:0/device:CPU:0\n",
            "250/313 [======================>.......] - ETA: 11s - loss: 0.5145 - accuracy: 0.7115Executing op __inference_train_function_3168 in device /job:localhost/replica:0/task:0/device:CPU:0\n",
            "251/313 [=======================>......] - ETA: 11s - loss: 0.5138 - accuracy: 0.7122Executing op __inference_train_function_3168 in device /job:localhost/replica:0/task:0/device:CPU:0\n",
            "252/313 [=======================>......] - ETA: 11s - loss: 0.5132 - accuracy: 0.7128Executing op __inference_train_function_3168 in device /job:localhost/replica:0/task:0/device:CPU:0\n",
            "253/313 [=======================>......] - ETA: 11s - loss: 0.5124 - accuracy: 0.7135Executing op __inference_train_function_3168 in device /job:localhost/replica:0/task:0/device:CPU:0\n",
            "254/313 [=======================>......] - ETA: 11s - loss: 0.5115 - accuracy: 0.7142Executing op __inference_train_function_3168 in device /job:localhost/replica:0/task:0/device:CPU:0\n",
            "255/313 [=======================>......] - ETA: 10s - loss: 0.5108 - accuracy: 0.7148Executing op __inference_train_function_3168 in device /job:localhost/replica:0/task:0/device:CPU:0\n",
            "256/313 [=======================>......] - ETA: 10s - loss: 0.5097 - accuracy: 0.7156Executing op __inference_train_function_3168 in device /job:localhost/replica:0/task:0/device:CPU:0\n",
            "257/313 [=======================>......] - ETA: 10s - loss: 0.5092 - accuracy: 0.7161Executing op __inference_train_function_3168 in device /job:localhost/replica:0/task:0/device:CPU:0\n",
            "258/313 [=======================>......] - ETA: 10s - loss: 0.5090 - accuracy: 0.7165Executing op __inference_train_function_3168 in device /job:localhost/replica:0/task:0/device:CPU:0\n",
            "259/313 [=======================>......] - ETA: 10s - loss: 0.5082 - accuracy: 0.7170Executing op __inference_train_function_3168 in device /job:localhost/replica:0/task:0/device:CPU:0\n",
            "260/313 [=======================>......] - ETA: 9s - loss: 0.5075 - accuracy: 0.7176 Executing op __inference_train_function_3168 in device /job:localhost/replica:0/task:0/device:CPU:0\n",
            "261/313 [========================>.....] - ETA: 9s - loss: 0.5070 - accuracy: 0.7182Executing op __inference_train_function_3168 in device /job:localhost/replica:0/task:0/device:CPU:0\n",
            "262/313 [========================>.....] - ETA: 9s - loss: 0.5064 - accuracy: 0.7187Executing op __inference_train_function_3168 in device /job:localhost/replica:0/task:0/device:CPU:0\n",
            "263/313 [========================>.....] - ETA: 9s - loss: 0.5057 - accuracy: 0.7193Executing op __inference_train_function_3168 in device /job:localhost/replica:0/task:0/device:CPU:0\n",
            "264/313 [========================>.....] - ETA: 9s - loss: 0.5053 - accuracy: 0.7198Executing op __inference_train_function_3168 in device /job:localhost/replica:0/task:0/device:CPU:0\n",
            "265/313 [========================>.....] - ETA: 9s - loss: 0.5047 - accuracy: 0.7203Executing op __inference_train_function_3168 in device /job:localhost/replica:0/task:0/device:CPU:0\n",
            "266/313 [========================>.....] - ETA: 8s - loss: 0.5044 - accuracy: 0.7207Executing op __inference_train_function_3168 in device /job:localhost/replica:0/task:0/device:CPU:0\n",
            "267/313 [========================>.....] - ETA: 8s - loss: 0.5037 - accuracy: 0.7212Executing op __inference_train_function_3168 in device /job:localhost/replica:0/task:0/device:CPU:0\n",
            "268/313 [========================>.....] - ETA: 8s - loss: 0.5031 - accuracy: 0.7218Executing op __inference_train_function_3168 in device /job:localhost/replica:0/task:0/device:CPU:0\n",
            "269/313 [========================>.....] - ETA: 8s - loss: 0.5025 - accuracy: 0.7223Executing op __inference_train_function_3168 in device /job:localhost/replica:0/task:0/device:CPU:0\n",
            "270/313 [========================>.....] - ETA: 8s - loss: 0.5016 - accuracy: 0.7231Executing op __inference_train_function_3168 in device /job:localhost/replica:0/task:0/device:CPU:0\n",
            "271/313 [========================>.....] - ETA: 7s - loss: 0.5014 - accuracy: 0.7235Executing op __inference_train_function_3168 in device /job:localhost/replica:0/task:0/device:CPU:0\n",
            "272/313 [=========================>....] - ETA: 7s - loss: 0.5009 - accuracy: 0.7239Executing op __inference_train_function_3168 in device /job:localhost/replica:0/task:0/device:CPU:0\n",
            "273/313 [=========================>....] - ETA: 7s - loss: 0.5003 - accuracy: 0.7244Executing op __inference_train_function_3168 in device /job:localhost/replica:0/task:0/device:CPU:0\n",
            "274/313 [=========================>....] - ETA: 7s - loss: 0.4996 - accuracy: 0.7250Executing op __inference_train_function_3168 in device /job:localhost/replica:0/task:0/device:CPU:0\n",
            "275/313 [=========================>....] - ETA: 7s - loss: 0.4992 - accuracy: 0.7253Executing op __inference_train_function_3168 in device /job:localhost/replica:0/task:0/device:CPU:0\n",
            "276/313 [=========================>....] - ETA: 6s - loss: 0.4988 - accuracy: 0.7257Executing op __inference_train_function_3168 in device /job:localhost/replica:0/task:0/device:CPU:0\n",
            "277/313 [=========================>....] - ETA: 6s - loss: 0.4981 - accuracy: 0.7263Executing op __inference_train_function_3168 in device /job:localhost/replica:0/task:0/device:CPU:0\n",
            "278/313 [=========================>....] - ETA: 6s - loss: 0.4977 - accuracy: 0.7267Executing op __inference_train_function_3168 in device /job:localhost/replica:0/task:0/device:CPU:0\n",
            "279/313 [=========================>....] - ETA: 6s - loss: 0.4970 - accuracy: 0.7272Executing op __inference_train_function_3168 in device /job:localhost/replica:0/task:0/device:CPU:0\n",
            "280/313 [=========================>....] - ETA: 6s - loss: 0.4962 - accuracy: 0.7278Executing op __inference_train_function_3168 in device /job:localhost/replica:0/task:0/device:CPU:0\n",
            "281/313 [=========================>....] - ETA: 6s - loss: 0.4955 - accuracy: 0.7283Executing op __inference_train_function_3168 in device /job:localhost/replica:0/task:0/device:CPU:0\n",
            "282/313 [==========================>...] - ETA: 5s - loss: 0.4947 - accuracy: 0.7290Executing op __inference_train_function_3168 in device /job:localhost/replica:0/task:0/device:CPU:0\n",
            "283/313 [==========================>...] - ETA: 5s - loss: 0.4941 - accuracy: 0.7294Executing op __inference_train_function_3168 in device /job:localhost/replica:0/task:0/device:CPU:0\n",
            "284/313 [==========================>...] - ETA: 5s - loss: 0.4933 - accuracy: 0.7301Executing op __inference_train_function_3168 in device /job:localhost/replica:0/task:0/device:CPU:0\n",
            "285/313 [==========================>...] - ETA: 5s - loss: 0.4926 - accuracy: 0.7306Executing op __inference_train_function_3168 in device /job:localhost/replica:0/task:0/device:CPU:0\n",
            "286/313 [==========================>...] - ETA: 5s - loss: 0.4920 - accuracy: 0.7312Executing op __inference_train_function_3168 in device /job:localhost/replica:0/task:0/device:CPU:0\n",
            "287/313 [==========================>...] - ETA: 4s - loss: 0.4915 - accuracy: 0.7317Executing op __inference_train_function_3168 in device /job:localhost/replica:0/task:0/device:CPU:0\n",
            "288/313 [==========================>...] - ETA: 4s - loss: 0.4908 - accuracy: 0.7322Executing op __inference_train_function_3168 in device /job:localhost/replica:0/task:0/device:CPU:0\n",
            "289/313 [==========================>...] - ETA: 4s - loss: 0.4902 - accuracy: 0.7326Executing op __inference_train_function_3168 in device /job:localhost/replica:0/task:0/device:CPU:0\n",
            "290/313 [==========================>...] - ETA: 4s - loss: 0.4896 - accuracy: 0.7331Executing op __inference_train_function_3168 in device /job:localhost/replica:0/task:0/device:CPU:0\n",
            "291/313 [==========================>...] - ETA: 4s - loss: 0.4889 - accuracy: 0.7336Executing op __inference_train_function_3168 in device /job:localhost/replica:0/task:0/device:CPU:0\n",
            "292/313 [==========================>...] - ETA: 3s - loss: 0.4880 - accuracy: 0.7342Executing op __inference_train_function_3168 in device /job:localhost/replica:0/task:0/device:CPU:0\n",
            "293/313 [===========================>..] - ETA: 3s - loss: 0.4874 - accuracy: 0.7347Executing op __inference_train_function_3168 in device /job:localhost/replica:0/task:0/device:CPU:0\n",
            "294/313 [===========================>..] - ETA: 3s - loss: 0.4867 - accuracy: 0.7351Executing op __inference_train_function_3168 in device /job:localhost/replica:0/task:0/device:CPU:0\n",
            "295/313 [===========================>..] - ETA: 3s - loss: 0.4861 - accuracy: 0.7357Executing op __inference_train_function_3168 in device /job:localhost/replica:0/task:0/device:CPU:0\n",
            "296/313 [===========================>..] - ETA: 3s - loss: 0.4858 - accuracy: 0.7361Executing op __inference_train_function_3168 in device /job:localhost/replica:0/task:0/device:CPU:0\n",
            "297/313 [===========================>..] - ETA: 3s - loss: 0.4853 - accuracy: 0.7366Executing op __inference_train_function_3168 in device /job:localhost/replica:0/task:0/device:CPU:0\n",
            "298/313 [===========================>..] - ETA: 2s - loss: 0.4849 - accuracy: 0.7370Executing op __inference_train_function_3168 in device /job:localhost/replica:0/task:0/device:CPU:0\n",
            "299/313 [===========================>..] - ETA: 2s - loss: 0.4842 - accuracy: 0.7375Executing op __inference_train_function_3168 in device /job:localhost/replica:0/task:0/device:CPU:0\n",
            "300/313 [===========================>..] - ETA: 2s - loss: 0.4838 - accuracy: 0.7379Executing op __inference_train_function_3168 in device /job:localhost/replica:0/task:0/device:CPU:0\n",
            "301/313 [===========================>..] - ETA: 2s - loss: 0.4831 - accuracy: 0.7386Executing op __inference_train_function_3168 in device /job:localhost/replica:0/task:0/device:CPU:0\n",
            "302/313 [===========================>..] - ETA: 2s - loss: 0.4823 - accuracy: 0.7391Executing op __inference_train_function_3168 in device /job:localhost/replica:0/task:0/device:CPU:0\n",
            "303/313 [============================>.] - ETA: 1s - loss: 0.4817 - accuracy: 0.7395Executing op __inference_train_function_3168 in device /job:localhost/replica:0/task:0/device:CPU:0\n",
            "304/313 [============================>.] - ETA: 1s - loss: 0.4811 - accuracy: 0.7400Executing op __inference_train_function_3168 in device /job:localhost/replica:0/task:0/device:CPU:0\n",
            "305/313 [============================>.] - ETA: 1s - loss: 0.4802 - accuracy: 0.7406Executing op __inference_train_function_3168 in device /job:localhost/replica:0/task:0/device:CPU:0\n",
            "306/313 [============================>.] - ETA: 1s - loss: 0.4799 - accuracy: 0.7410Executing op __inference_train_function_3168 in device /job:localhost/replica:0/task:0/device:CPU:0\n",
            "307/313 [============================>.] - ETA: 1s - loss: 0.4794 - accuracy: 0.7414Executing op __inference_train_function_3168 in device /job:localhost/replica:0/task:0/device:CPU:0\n",
            "308/313 [============================>.] - ETA: 0s - loss: 0.4790 - accuracy: 0.7419Executing op __inference_train_function_3168 in device /job:localhost/replica:0/task:0/device:CPU:0\n",
            "309/313 [============================>.] - ETA: 0s - loss: 0.4785 - accuracy: 0.7422Executing op __inference_train_function_3168 in device /job:localhost/replica:0/task:0/device:CPU:0\n",
            "310/313 [============================>.] - ETA: 0s - loss: 0.4777 - accuracy: 0.7427Executing op __inference_train_function_3168 in device /job:localhost/replica:0/task:0/device:CPU:0\n",
            "311/313 [============================>.] - ETA: 0s - loss: 0.4772 - accuracy: 0.7430Executing op __inference_train_function_3168 in device /job:localhost/replica:0/task:0/device:CPU:0\n",
            "312/313 [============================>.] - ETA: 0s - loss: 0.4766 - accuracy: 0.7436Executing op __inference_train_function_3168 in device /job:localhost/replica:0/task:0/device:CPU:0\n",
            "313/313 [==============================] - 62s 188ms/step - loss: 0.4763 - accuracy: 0.7439\n",
            "\n",
            "Epoch 00001: accuracy improved from -inf to 0.74388, saving model to /content/LSTM.h5\n",
            "Executing op ReadVariableOp in device /job:localhost/replica:0/task:0/device:CPU:0\n",
            "Executing op Identity in device /job:localhost/replica:0/task:0/device:CPU:0\n",
            "Executing op ReadVariableOp in device /job:localhost/replica:0/task:0/device:CPU:0\n",
            "Executing op Identity in device /job:localhost/replica:0/task:0/device:CPU:0\n",
            "Executing op ReadVariableOp in device /job:localhost/replica:0/task:0/device:CPU:0\n",
            "Executing op Identity in device /job:localhost/replica:0/task:0/device:CPU:0\n",
            "Executing op ReadVariableOp in device /job:localhost/replica:0/task:0/device:CPU:0\n",
            "Executing op Identity in device /job:localhost/replica:0/task:0/device:CPU:0\n",
            "Executing op ReadVariableOp in device /job:localhost/replica:0/task:0/device:CPU:0\n",
            "Executing op Identity in device /job:localhost/replica:0/task:0/device:CPU:0\n",
            "Executing op ReadVariableOp in device /job:localhost/replica:0/task:0/device:CPU:0\n",
            "Executing op Identity in device /job:localhost/replica:0/task:0/device:CPU:0\n",
            "Executing op ReadVariableOp in device /job:localhost/replica:0/task:0/device:CPU:0\n",
            "Executing op Identity in device /job:localhost/replica:0/task:0/device:CPU:0\n",
            "Executing op ReadVariableOp in device /job:localhost/replica:0/task:0/device:CPU:0\n",
            "Executing op Identity in device /job:localhost/replica:0/task:0/device:CPU:0\n",
            "Executing op ReadVariableOp in device /job:localhost/replica:0/task:0/device:CPU:0\n",
            "Executing op Identity in device /job:localhost/replica:0/task:0/device:CPU:0\n",
            "Executing op ReadVariableOp in device /job:localhost/replica:0/task:0/device:CPU:0\n",
            "Executing op Identity in device /job:localhost/replica:0/task:0/device:CPU:0\n",
            "Executing op ReadVariableOp in device /job:localhost/replica:0/task:0/device:CPU:0\n",
            "Executing op Identity in device /job:localhost/replica:0/task:0/device:CPU:0\n",
            "Executing op ReadVariableOp in device /job:localhost/replica:0/task:0/device:CPU:0\n",
            "Executing op Identity in device /job:localhost/replica:0/task:0/device:CPU:0\n",
            "Executing op ReadVariableOp in device /job:localhost/replica:0/task:0/device:CPU:0\n",
            "Executing op Identity in device /job:localhost/replica:0/task:0/device:CPU:0\n",
            "Executing op ReadVariableOp in device /job:localhost/replica:0/task:0/device:CPU:0\n",
            "Executing op Identity in device /job:localhost/replica:0/task:0/device:CPU:0\n",
            "Executing op ReadVariableOp in device /job:localhost/replica:0/task:0/device:CPU:0\n",
            "Executing op Identity in device /job:localhost/replica:0/task:0/device:CPU:0\n",
            "Executing op ReadVariableOp in device /job:localhost/replica:0/task:0/device:CPU:0\n",
            "Executing op Identity in device /job:localhost/replica:0/task:0/device:CPU:0\n",
            "Executing op ReadVariableOp in device /job:localhost/replica:0/task:0/device:CPU:0\n",
            "Executing op Identity in device /job:localhost/replica:0/task:0/device:CPU:0\n",
            "Executing op ReadVariableOp in device /job:localhost/replica:0/task:0/device:CPU:0\n",
            "Executing op Identity in device /job:localhost/replica:0/task:0/device:CPU:0\n",
            "Executing op ReadVariableOp in device /job:localhost/replica:0/task:0/device:CPU:0\n",
            "Executing op Identity in device /job:localhost/replica:0/task:0/device:CPU:0\n",
            "Executing op ReadVariableOp in device /job:localhost/replica:0/task:0/device:CPU:0\n",
            "Executing op Identity in device /job:localhost/replica:0/task:0/device:CPU:0\n",
            "Executing op ReadVariableOp in device /job:localhost/replica:0/task:0/device:CPU:0\n",
            "Executing op Identity in device /job:localhost/replica:0/task:0/device:CPU:0\n",
            "Executing op ReadVariableOp in device /job:localhost/replica:0/task:0/device:CPU:0\n",
            "Executing op Identity in device /job:localhost/replica:0/task:0/device:CPU:0\n",
            "Executing op _EagerConst in device /job:localhost/replica:0/task:0/device:CPU:0\n",
            "Executing op AssignVariableOp in device /job:localhost/replica:0/task:0/device:CPU:0\n",
            "Executing op _EagerConst in device /job:localhost/replica:0/task:0/device:CPU:0\n",
            "Executing op AssignVariableOp in device /job:localhost/replica:0/task:0/device:CPU:0\n",
            "Executing op _EagerConst in device /job:localhost/replica:0/task:0/device:CPU:0\n",
            "Executing op AssignVariableOp in device /job:localhost/replica:0/task:0/device:CPU:0\n",
            "Executing op _EagerConst in device /job:localhost/replica:0/task:0/device:CPU:0\n",
            "Executing op AssignVariableOp in device /job:localhost/replica:0/task:0/device:CPU:0\n",
            "Epoch 2/5\n",
            "Executing op __inference_train_function_3168 in device /job:localhost/replica:0/task:0/device:CPU:0\n",
            "  1/313 [..............................] - ETA: 1:04 - loss: 0.1504 - accuracy: 0.9688Executing op __inference_train_function_3168 in device /job:localhost/replica:0/task:0/device:CPU:0\n",
            "  2/313 [..............................] - ETA: 1:00 - loss: 0.1765 - accuracy: 0.9609Executing op __inference_train_function_3168 in device /job:localhost/replica:0/task:0/device:CPU:0\n",
            "  3/313 [..............................] - ETA: 59s - loss: 0.1935 - accuracy: 0.9479 Executing op __inference_train_function_3168 in device /job:localhost/replica:0/task:0/device:CPU:0\n",
            "  4/313 [..............................] - ETA: 59s - loss: 0.1968 - accuracy: 0.9492Executing op __inference_train_function_3168 in device /job:localhost/replica:0/task:0/device:CPU:0\n",
            "  5/313 [..............................] - ETA: 59s - loss: 0.2010 - accuracy: 0.9453Executing op __inference_train_function_3168 in device /job:localhost/replica:0/task:0/device:CPU:0\n",
            "  6/313 [..............................] - ETA: 59s - loss: 0.2118 - accuracy: 0.9427Executing op __inference_train_function_3168 in device /job:localhost/replica:0/task:0/device:CPU:0\n",
            "  7/313 [..............................] - ETA: 58s - loss: 0.2154 - accuracy: 0.9397Executing op __inference_train_function_3168 in device /job:localhost/replica:0/task:0/device:CPU:0\n",
            "  8/313 [..............................] - ETA: 58s - loss: 0.2173 - accuracy: 0.9375Executing op __inference_train_function_3168 in device /job:localhost/replica:0/task:0/device:CPU:0\n",
            "  9/313 [..............................] - ETA: 58s - loss: 0.2138 - accuracy: 0.9366Executing op __inference_train_function_3168 in device /job:localhost/replica:0/task:0/device:CPU:0\n",
            " 10/313 [..............................] - ETA: 58s - loss: 0.2133 - accuracy: 0.9359Executing op __inference_train_function_3168 in device /job:localhost/replica:0/task:0/device:CPU:0\n",
            " 11/313 [>.............................] - ETA: 57s - loss: 0.2139 - accuracy: 0.9382Executing op __inference_train_function_3168 in device /job:localhost/replica:0/task:0/device:CPU:0\n",
            " 12/313 [>.............................] - ETA: 57s - loss: 0.2119 - accuracy: 0.9388Executing op __inference_train_function_3168 in device /job:localhost/replica:0/task:0/device:CPU:0\n",
            " 13/313 [>.............................] - ETA: 57s - loss: 0.2088 - accuracy: 0.9393Executing op __inference_train_function_3168 in device /job:localhost/replica:0/task:0/device:CPU:0\n",
            " 14/313 [>.............................] - ETA: 57s - loss: 0.2075 - accuracy: 0.9375Executing op __inference_train_function_3168 in device /job:localhost/replica:0/task:0/device:CPU:0\n",
            " 15/313 [>.............................] - ETA: 57s - loss: 0.2096 - accuracy: 0.9365Executing op __inference_train_function_3168 in device /job:localhost/replica:0/task:0/device:CPU:0\n",
            " 16/313 [>.............................] - ETA: 57s - loss: 0.2129 - accuracy: 0.9360Executing op __inference_train_function_3168 in device /job:localhost/replica:0/task:0/device:CPU:0\n",
            " 17/313 [>.............................] - ETA: 56s - loss: 0.2088 - accuracy: 0.9366Executing op __inference_train_function_3168 in device /job:localhost/replica:0/task:0/device:CPU:0\n",
            " 18/313 [>.............................] - ETA: 56s - loss: 0.2133 - accuracy: 0.9349Executing op __inference_train_function_3168 in device /job:localhost/replica:0/task:0/device:CPU:0\n",
            " 19/313 [>.............................] - ETA: 56s - loss: 0.2146 - accuracy: 0.9338Executing op __inference_train_function_3168 in device /job:localhost/replica:0/task:0/device:CPU:0\n",
            " 20/313 [>.............................] - ETA: 56s - loss: 0.2153 - accuracy: 0.9340Executing op __inference_train_function_3168 in device /job:localhost/replica:0/task:0/device:CPU:0\n",
            " 21/313 [=>............................] - ETA: 56s - loss: 0.2130 - accuracy: 0.9345Executing op __inference_train_function_3168 in device /job:localhost/replica:0/task:0/device:CPU:0\n",
            " 22/313 [=>............................] - ETA: 56s - loss: 0.2120 - accuracy: 0.9350Executing op __inference_train_function_3168 in device /job:localhost/replica:0/task:0/device:CPU:0\n",
            " 23/313 [=>............................] - ETA: 55s - loss: 0.2109 - accuracy: 0.9351Executing op __inference_train_function_3168 in device /job:localhost/replica:0/task:0/device:CPU:0\n",
            " 24/313 [=>............................] - ETA: 55s - loss: 0.2115 - accuracy: 0.9355Executing op __inference_train_function_3168 in device /job:localhost/replica:0/task:0/device:CPU:0\n",
            " 25/313 [=>............................] - ETA: 55s - loss: 0.2139 - accuracy: 0.9341Executing op __inference_train_function_3168 in device /job:localhost/replica:0/task:0/device:CPU:0\n",
            " 26/313 [=>............................] - ETA: 55s - loss: 0.2153 - accuracy: 0.9336Executing op __inference_train_function_3168 in device /job:localhost/replica:0/task:0/device:CPU:0\n",
            " 27/313 [=>............................] - ETA: 55s - loss: 0.2138 - accuracy: 0.9343Executing op __inference_train_function_3168 in device /job:localhost/replica:0/task:0/device:CPU:0\n",
            " 28/313 [=>............................] - ETA: 54s - loss: 0.2127 - accuracy: 0.9339Executing op __inference_train_function_3168 in device /job:localhost/replica:0/task:0/device:CPU:0\n",
            " 29/313 [=>............................] - ETA: 54s - loss: 0.2105 - accuracy: 0.9351Executing op __inference_train_function_3168 in device /job:localhost/replica:0/task:0/device:CPU:0\n",
            " 30/313 [=>............................] - ETA: 54s - loss: 0.2107 - accuracy: 0.9349Executing op __inference_train_function_3168 in device /job:localhost/replica:0/task:0/device:CPU:0\n",
            " 31/313 [=>............................] - ETA: 54s - loss: 0.2126 - accuracy: 0.9342Executing op __inference_train_function_3168 in device /job:localhost/replica:0/task:0/device:CPU:0\n",
            " 32/313 [==>...........................] - ETA: 54s - loss: 0.2136 - accuracy: 0.9338Executing op __inference_train_function_3168 in device /job:localhost/replica:0/task:0/device:CPU:0\n",
            " 33/313 [==>...........................] - ETA: 53s - loss: 0.2131 - accuracy: 0.9335Executing op __inference_train_function_3168 in device /job:localhost/replica:0/task:0/device:CPU:0\n",
            " 34/313 [==>...........................] - ETA: 53s - loss: 0.2148 - accuracy: 0.9327Executing op __inference_train_function_3168 in device /job:localhost/replica:0/task:0/device:CPU:0\n",
            " 35/313 [==>...........................] - ETA: 53s - loss: 0.2130 - accuracy: 0.9330Executing op __inference_train_function_3168 in device /job:localhost/replica:0/task:0/device:CPU:0\n",
            " 36/313 [==>...........................] - ETA: 53s - loss: 0.2138 - accuracy: 0.9329Executing op __inference_train_function_3168 in device /job:localhost/replica:0/task:0/device:CPU:0\n",
            " 37/313 [==>...........................] - ETA: 53s - loss: 0.2136 - accuracy: 0.9329Executing op __inference_train_function_3168 in device /job:localhost/replica:0/task:0/device:CPU:0\n",
            " 38/313 [==>...........................] - ETA: 53s - loss: 0.2139 - accuracy: 0.9326Executing op __inference_train_function_3168 in device /job:localhost/replica:0/task:0/device:CPU:0\n",
            " 39/313 [==>...........................] - ETA: 52s - loss: 0.2158 - accuracy: 0.9317Executing op __inference_train_function_3168 in device /job:localhost/replica:0/task:0/device:CPU:0\n",
            " 40/313 [==>...........................] - ETA: 52s - loss: 0.2173 - accuracy: 0.9309Executing op __inference_train_function_3168 in device /job:localhost/replica:0/task:0/device:CPU:0\n",
            " 41/313 [==>...........................] - ETA: 52s - loss: 0.2169 - accuracy: 0.9304Executing op __inference_train_function_3168 in device /job:localhost/replica:0/task:0/device:CPU:0\n",
            " 42/313 [===>..........................] - ETA: 52s - loss: 0.2163 - accuracy: 0.9302Executing op __inference_train_function_3168 in device /job:localhost/replica:0/task:0/device:CPU:0\n",
            " 43/313 [===>..........................] - ETA: 52s - loss: 0.2179 - accuracy: 0.9293Executing op __inference_train_function_3168 in device /job:localhost/replica:0/task:0/device:CPU:0\n",
            " 44/313 [===>..........................] - ETA: 52s - loss: 0.2193 - accuracy: 0.9286Executing op __inference_train_function_3168 in device /job:localhost/replica:0/task:0/device:CPU:0\n",
            " 45/313 [===>..........................] - ETA: 51s - loss: 0.2196 - accuracy: 0.9285Executing op __inference_train_function_3168 in device /job:localhost/replica:0/task:0/device:CPU:0\n",
            " 46/313 [===>..........................] - ETA: 51s - loss: 0.2193 - accuracy: 0.9287Executing op __inference_train_function_3168 in device /job:localhost/replica:0/task:0/device:CPU:0\n",
            " 47/313 [===>..........................] - ETA: 51s - loss: 0.2207 - accuracy: 0.9285Executing op __inference_train_function_3168 in device /job:localhost/replica:0/task:0/device:CPU:0\n",
            " 48/313 [===>..........................] - ETA: 51s - loss: 0.2213 - accuracy: 0.9279Executing op __inference_train_function_3168 in device /job:localhost/replica:0/task:0/device:CPU:0\n",
            " 49/313 [===>..........................] - ETA: 51s - loss: 0.2223 - accuracy: 0.9275Executing op __inference_train_function_3168 in device /job:localhost/replica:0/task:0/device:CPU:0\n",
            " 50/313 [===>..........................] - ETA: 50s - loss: 0.2228 - accuracy: 0.9272Executing op __inference_train_function_3168 in device /job:localhost/replica:0/task:0/device:CPU:0\n",
            " 51/313 [===>..........................] - ETA: 50s - loss: 0.2214 - accuracy: 0.9278Executing op __inference_train_function_3168 in device /job:localhost/replica:0/task:0/device:CPU:0\n",
            " 52/313 [===>..........................] - ETA: 50s - loss: 0.2205 - accuracy: 0.9282Executing op __inference_train_function_3168 in device /job:localhost/replica:0/task:0/device:CPU:0\n",
            " 53/313 [====>.........................] - ETA: 50s - loss: 0.2210 - accuracy: 0.9276Executing op __inference_train_function_3168 in device /job:localhost/replica:0/task:0/device:CPU:0\n",
            " 54/313 [====>.........................] - ETA: 50s - loss: 0.2208 - accuracy: 0.9271Executing op __inference_train_function_3168 in device /job:localhost/replica:0/task:0/device:CPU:0\n",
            " 55/313 [====>.........................] - ETA: 49s - loss: 0.2212 - accuracy: 0.9268Executing op __inference_train_function_3168 in device /job:localhost/replica:0/task:0/device:CPU:0\n",
            " 56/313 [====>.........................] - ETA: 49s - loss: 0.2207 - accuracy: 0.9270Executing op __inference_train_function_3168 in device /job:localhost/replica:0/task:0/device:CPU:0\n",
            " 57/313 [====>.........................] - ETA: 49s - loss: 0.2221 - accuracy: 0.9269Executing op __inference_train_function_3168 in device /job:localhost/replica:0/task:0/device:CPU:0\n",
            " 58/313 [====>.........................] - ETA: 49s - loss: 0.2222 - accuracy: 0.9270Executing op __inference_train_function_3168 in device /job:localhost/replica:0/task:0/device:CPU:0\n",
            " 59/313 [====>.........................] - ETA: 49s - loss: 0.2224 - accuracy: 0.9269Executing op __inference_train_function_3168 in device /job:localhost/replica:0/task:0/device:CPU:0\n",
            " 60/313 [====>.........................] - ETA: 48s - loss: 0.2224 - accuracy: 0.9264Executing op __inference_train_function_3168 in device /job:localhost/replica:0/task:0/device:CPU:0\n",
            " 61/313 [====>.........................] - ETA: 48s - loss: 0.2215 - accuracy: 0.9266Executing op __inference_train_function_3168 in device /job:localhost/replica:0/task:0/device:CPU:0\n",
            " 62/313 [====>.........................] - ETA: 48s - loss: 0.2205 - accuracy: 0.9269Executing op __inference_train_function_3168 in device /job:localhost/replica:0/task:0/device:CPU:0\n",
            " 63/313 [=====>........................] - ETA: 48s - loss: 0.2215 - accuracy: 0.9266Executing op __inference_train_function_3168 in device /job:localhost/replica:0/task:0/device:CPU:0\n",
            " 64/313 [=====>........................] - ETA: 48s - loss: 0.2211 - accuracy: 0.9265Executing op __inference_train_function_3168 in device /job:localhost/replica:0/task:0/device:CPU:0\n",
            " 65/313 [=====>........................] - ETA: 47s - loss: 0.2235 - accuracy: 0.9260Executing op __inference_train_function_3168 in device /job:localhost/replica:0/task:0/device:CPU:0\n",
            " 66/313 [=====>........................] - ETA: 47s - loss: 0.2238 - accuracy: 0.9255Executing op __inference_train_function_3168 in device /job:localhost/replica:0/task:0/device:CPU:0\n",
            " 67/313 [=====>........................] - ETA: 47s - loss: 0.2231 - accuracy: 0.9261Executing op __inference_train_function_3168 in device /job:localhost/replica:0/task:0/device:CPU:0\n",
            " 68/313 [=====>........................] - ETA: 47s - loss: 0.2228 - accuracy: 0.9262Executing op __inference_train_function_3168 in device /job:localhost/replica:0/task:0/device:CPU:0\n",
            " 69/313 [=====>........................] - ETA: 47s - loss: 0.2221 - accuracy: 0.9265Executing op __inference_train_function_3168 in device /job:localhost/replica:0/task:0/device:CPU:0\n",
            " 70/313 [=====>........................] - ETA: 46s - loss: 0.2223 - accuracy: 0.9266Executing op __inference_train_function_3168 in device /job:localhost/replica:0/task:0/device:CPU:0\n",
            " 71/313 [=====>........................] - ETA: 46s - loss: 0.2235 - accuracy: 0.9264Executing op __inference_train_function_3168 in device /job:localhost/replica:0/task:0/device:CPU:0\n",
            " 72/313 [=====>........................] - ETA: 46s - loss: 0.2228 - accuracy: 0.9265Executing op __inference_train_function_3168 in device /job:localhost/replica:0/task:0/device:CPU:0\n",
            " 73/313 [=====>........................] - ETA: 46s - loss: 0.2215 - accuracy: 0.9271Executing op __inference_train_function_3168 in device /job:localhost/replica:0/task:0/device:CPU:0\n",
            " 74/313 [======>.......................] - ETA: 46s - loss: 0.2211 - accuracy: 0.9275Executing op __inference_train_function_3168 in device /job:localhost/replica:0/task:0/device:CPU:0\n",
            " 75/313 [======>.......................] - ETA: 46s - loss: 0.2206 - accuracy: 0.9276Executing op __inference_train_function_3168 in device /job:localhost/replica:0/task:0/device:CPU:0\n",
            " 76/313 [======>.......................] - ETA: 45s - loss: 0.2194 - accuracy: 0.9281Executing op __inference_train_function_3168 in device /job:localhost/replica:0/task:0/device:CPU:0\n",
            " 77/313 [======>.......................] - ETA: 45s - loss: 0.2201 - accuracy: 0.9280Executing op __inference_train_function_3168 in device /job:localhost/replica:0/task:0/device:CPU:0\n",
            " 78/313 [======>.......................] - ETA: 45s - loss: 0.2213 - accuracy: 0.9275Executing op __inference_train_function_3168 in device /job:localhost/replica:0/task:0/device:CPU:0\n",
            " 79/313 [======>.......................] - ETA: 45s - loss: 0.2209 - accuracy: 0.9276Executing op __inference_train_function_3168 in device /job:localhost/replica:0/task:0/device:CPU:0\n",
            " 80/313 [======>.......................] - ETA: 44s - loss: 0.2230 - accuracy: 0.9266Executing op __inference_train_function_3168 in device /job:localhost/replica:0/task:0/device:CPU:0\n",
            " 81/313 [======>.......................] - ETA: 44s - loss: 0.2238 - accuracy: 0.9262Executing op __inference_train_function_3168 in device /job:localhost/replica:0/task:0/device:CPU:0\n",
            " 82/313 [======>.......................] - ETA: 44s - loss: 0.2241 - accuracy: 0.9261Executing op __inference_train_function_3168 in device /job:localhost/replica:0/task:0/device:CPU:0\n",
            " 83/313 [======>.......................] - ETA: 44s - loss: 0.2240 - accuracy: 0.9264Executing op __inference_train_function_3168 in device /job:localhost/replica:0/task:0/device:CPU:0\n",
            " 84/313 [=======>......................] - ETA: 44s - loss: 0.2243 - accuracy: 0.9266Executing op __inference_train_function_3168 in device /job:localhost/replica:0/task:0/device:CPU:0\n",
            " 85/313 [=======>......................] - ETA: 44s - loss: 0.2242 - accuracy: 0.9266Executing op __inference_train_function_3168 in device /job:localhost/replica:0/task:0/device:CPU:0\n",
            " 86/313 [=======>......................] - ETA: 43s - loss: 0.2243 - accuracy: 0.9265Executing op __inference_train_function_3168 in device /job:localhost/replica:0/task:0/device:CPU:0\n",
            " 87/313 [=======>......................] - ETA: 43s - loss: 0.2233 - accuracy: 0.9268Executing op __inference_train_function_3168 in device /job:localhost/replica:0/task:0/device:CPU:0\n",
            " 88/313 [=======>......................] - ETA: 43s - loss: 0.2227 - accuracy: 0.9270Executing op __inference_train_function_3168 in device /job:localhost/replica:0/task:0/device:CPU:0\n",
            " 89/313 [=======>......................] - ETA: 43s - loss: 0.2237 - accuracy: 0.9268Executing op __inference_train_function_3168 in device /job:localhost/replica:0/task:0/device:CPU:0\n",
            " 90/313 [=======>......................] - ETA: 43s - loss: 0.2241 - accuracy: 0.9266Executing op __inference_train_function_3168 in device /job:localhost/replica:0/task:0/device:CPU:0\n",
            " 91/313 [=======>......................] - ETA: 42s - loss: 0.2247 - accuracy: 0.9266Executing op __inference_train_function_3168 in device /job:localhost/replica:0/task:0/device:CPU:0\n",
            " 92/313 [=======>......................] - ETA: 42s - loss: 0.2244 - accuracy: 0.9266Executing op __inference_train_function_3168 in device /job:localhost/replica:0/task:0/device:CPU:0\n",
            " 93/313 [=======>......................] - ETA: 42s - loss: 0.2248 - accuracy: 0.9264Executing op __inference_train_function_3168 in device /job:localhost/replica:0/task:0/device:CPU:0\n",
            " 94/313 [========>.....................] - ETA: 42s - loss: 0.2243 - accuracy: 0.9267Executing op __inference_train_function_3168 in device /job:localhost/replica:0/task:0/device:CPU:0\n",
            " 95/313 [========>.....................] - ETA: 42s - loss: 0.2247 - accuracy: 0.9264Executing op __inference_train_function_3168 in device /job:localhost/replica:0/task:0/device:CPU:0\n",
            " 96/313 [========>.....................] - ETA: 41s - loss: 0.2251 - accuracy: 0.9263Executing op __inference_train_function_3168 in device /job:localhost/replica:0/task:0/device:CPU:0\n",
            " 97/313 [========>.....................] - ETA: 41s - loss: 0.2249 - accuracy: 0.9265Executing op __inference_train_function_3168 in device /job:localhost/replica:0/task:0/device:CPU:0\n",
            " 98/313 [========>.....................] - ETA: 41s - loss: 0.2245 - accuracy: 0.9267Executing op __inference_train_function_3168 in device /job:localhost/replica:0/task:0/device:CPU:0\n",
            " 99/313 [========>.....................] - ETA: 41s - loss: 0.2252 - accuracy: 0.9265Executing op __inference_train_function_3168 in device /job:localhost/replica:0/task:0/device:CPU:0\n",
            "100/313 [========>.....................] - ETA: 41s - loss: 0.2249 - accuracy: 0.9266Executing op __inference_train_function_3168 in device /job:localhost/replica:0/task:0/device:CPU:0\n",
            "101/313 [========>.....................] - ETA: 40s - loss: 0.2258 - accuracy: 0.9261Executing op __inference_train_function_3168 in device /job:localhost/replica:0/task:0/device:CPU:0\n",
            "102/313 [========>.....................] - ETA: 40s - loss: 0.2256 - accuracy: 0.9262Executing op __inference_train_function_3168 in device /job:localhost/replica:0/task:0/device:CPU:0\n",
            "103/313 [========>.....................] - ETA: 40s - loss: 0.2256 - accuracy: 0.9262Executing op __inference_train_function_3168 in device /job:localhost/replica:0/task:0/device:CPU:0\n",
            "104/313 [========>.....................] - ETA: 40s - loss: 0.2255 - accuracy: 0.9262Executing op __inference_train_function_3168 in device /job:localhost/replica:0/task:0/device:CPU:0\n",
            "105/313 [=========>....................] - ETA: 40s - loss: 0.2248 - accuracy: 0.9266Executing op __inference_train_function_3168 in device /job:localhost/replica:0/task:0/device:CPU:0\n",
            "106/313 [=========>....................] - ETA: 40s - loss: 0.2244 - accuracy: 0.9267Executing op __inference_train_function_3168 in device /job:localhost/replica:0/task:0/device:CPU:0\n",
            "107/313 [=========>....................] - ETA: 39s - loss: 0.2243 - accuracy: 0.9266Executing op __inference_train_function_3168 in device /job:localhost/replica:0/task:0/device:CPU:0\n",
            "108/313 [=========>....................] - ETA: 39s - loss: 0.2233 - accuracy: 0.9271Executing op __inference_train_function_3168 in device /job:localhost/replica:0/task:0/device:CPU:0\n",
            "109/313 [=========>....................] - ETA: 39s - loss: 0.2229 - accuracy: 0.9272Executing op __inference_train_function_3168 in device /job:localhost/replica:0/task:0/device:CPU:0\n",
            "110/313 [=========>....................] - ETA: 39s - loss: 0.2227 - accuracy: 0.9273Executing op __inference_train_function_3168 in device /job:localhost/replica:0/task:0/device:CPU:0\n",
            "111/313 [=========>....................] - ETA: 39s - loss: 0.2233 - accuracy: 0.9272Executing op __inference_train_function_3168 in device /job:localhost/replica:0/task:0/device:CPU:0\n",
            "112/313 [=========>....................] - ETA: 38s - loss: 0.2233 - accuracy: 0.9270Executing op __inference_train_function_3168 in device /job:localhost/replica:0/task:0/device:CPU:0\n",
            "113/313 [=========>....................] - ETA: 38s - loss: 0.2230 - accuracy: 0.9271Executing op __inference_train_function_3168 in device /job:localhost/replica:0/task:0/device:CPU:0\n",
            "114/313 [=========>....................] - ETA: 38s - loss: 0.2231 - accuracy: 0.9269Executing op __inference_train_function_3168 in device /job:localhost/replica:0/task:0/device:CPU:0\n",
            "115/313 [==========>...................] - ETA: 38s - loss: 0.2228 - accuracy: 0.9270Executing op __inference_train_function_3168 in device /job:localhost/replica:0/task:0/device:CPU:0\n",
            "116/313 [==========>...................] - ETA: 38s - loss: 0.2233 - accuracy: 0.9267Executing op __inference_train_function_3168 in device /job:localhost/replica:0/task:0/device:CPU:0\n",
            "117/313 [==========>...................] - ETA: 37s - loss: 0.2231 - accuracy: 0.9267Executing op __inference_train_function_3168 in device /job:localhost/replica:0/task:0/device:CPU:0\n",
            "118/313 [==========>...................] - ETA: 37s - loss: 0.2232 - accuracy: 0.9267Executing op __inference_train_function_3168 in device /job:localhost/replica:0/task:0/device:CPU:0\n",
            "119/313 [==========>...................] - ETA: 37s - loss: 0.2231 - accuracy: 0.9269Executing op __inference_train_function_3168 in device /job:localhost/replica:0/task:0/device:CPU:0\n",
            "120/313 [==========>...................] - ETA: 37s - loss: 0.2240 - accuracy: 0.9266Executing op __inference_train_function_3168 in device /job:localhost/replica:0/task:0/device:CPU:0\n",
            "121/313 [==========>...................] - ETA: 37s - loss: 0.2239 - accuracy: 0.9264Executing op __inference_train_function_3168 in device /job:localhost/replica:0/task:0/device:CPU:0\n",
            "122/313 [==========>...................] - ETA: 36s - loss: 0.2236 - accuracy: 0.9264Executing op __inference_train_function_3168 in device /job:localhost/replica:0/task:0/device:CPU:0\n",
            "123/313 [==========>...................] - ETA: 36s - loss: 0.2235 - accuracy: 0.9261Executing op __inference_train_function_3168 in device /job:localhost/replica:0/task:0/device:CPU:0\n",
            "124/313 [==========>...................] - ETA: 36s - loss: 0.2238 - accuracy: 0.9261Executing op __inference_train_function_3168 in device /job:localhost/replica:0/task:0/device:CPU:0\n",
            "125/313 [==========>...................] - ETA: 36s - loss: 0.2242 - accuracy: 0.9259Executing op __inference_train_function_3168 in device /job:localhost/replica:0/task:0/device:CPU:0\n",
            "126/313 [===========>..................] - ETA: 36s - loss: 0.2239 - accuracy: 0.9258Executing op __inference_train_function_3168 in device /job:localhost/replica:0/task:0/device:CPU:0\n",
            "127/313 [===========>..................] - ETA: 36s - loss: 0.2238 - accuracy: 0.9259Executing op __inference_train_function_3168 in device /job:localhost/replica:0/task:0/device:CPU:0\n",
            "128/313 [===========>..................] - ETA: 35s - loss: 0.2239 - accuracy: 0.9257Executing op __inference_train_function_3168 in device /job:localhost/replica:0/task:0/device:CPU:0\n",
            "129/313 [===========>..................] - ETA: 35s - loss: 0.2236 - accuracy: 0.9258Executing op __inference_train_function_3168 in device /job:localhost/replica:0/task:0/device:CPU:0\n",
            "130/313 [===========>..................] - ETA: 35s - loss: 0.2231 - accuracy: 0.9258Executing op __inference_train_function_3168 in device /job:localhost/replica:0/task:0/device:CPU:0\n",
            "131/313 [===========>..................] - ETA: 35s - loss: 0.2227 - accuracy: 0.9261Executing op __inference_train_function_3168 in device /job:localhost/replica:0/task:0/device:CPU:0\n",
            "132/313 [===========>..................] - ETA: 35s - loss: 0.2233 - accuracy: 0.9260Executing op __inference_train_function_3168 in device /job:localhost/replica:0/task:0/device:CPU:0\n",
            "133/313 [===========>..................] - ETA: 34s - loss: 0.2235 - accuracy: 0.9259Executing op __inference_train_function_3168 in device /job:localhost/replica:0/task:0/device:CPU:0\n",
            "134/313 [===========>..................] - ETA: 34s - loss: 0.2230 - accuracy: 0.9260Executing op __inference_train_function_3168 in device /job:localhost/replica:0/task:0/device:CPU:0\n",
            "135/313 [===========>..................] - ETA: 34s - loss: 0.2231 - accuracy: 0.9258Executing op __inference_train_function_3168 in device /job:localhost/replica:0/task:0/device:CPU:0\n",
            "136/313 [============>.................] - ETA: 34s - loss: 0.2232 - accuracy: 0.9256Executing op __inference_train_function_3168 in device /job:localhost/replica:0/task:0/device:CPU:0\n",
            "137/313 [============>.................] - ETA: 34s - loss: 0.2235 - accuracy: 0.9255Executing op __inference_train_function_3168 in device /job:localhost/replica:0/task:0/device:CPU:0\n",
            "138/313 [============>.................] - ETA: 33s - loss: 0.2237 - accuracy: 0.9254Executing op __inference_train_function_3168 in device /job:localhost/replica:0/task:0/device:CPU:0\n",
            "139/313 [============>.................] - ETA: 33s - loss: 0.2235 - accuracy: 0.9256Executing op __inference_train_function_3168 in device /job:localhost/replica:0/task:0/device:CPU:0\n",
            "140/313 [============>.................] - ETA: 33s - loss: 0.2235 - accuracy: 0.9255Executing op __inference_train_function_3168 in device /job:localhost/replica:0/task:0/device:CPU:0\n",
            "141/313 [============>.................] - ETA: 33s - loss: 0.2232 - accuracy: 0.9256Executing op __inference_train_function_3168 in device /job:localhost/replica:0/task:0/device:CPU:0\n",
            "142/313 [============>.................] - ETA: 33s - loss: 0.2231 - accuracy: 0.9256Executing op __inference_train_function_3168 in device /job:localhost/replica:0/task:0/device:CPU:0\n",
            "143/313 [============>.................] - ETA: 32s - loss: 0.2232 - accuracy: 0.9256Executing op __inference_train_function_3168 in device /job:localhost/replica:0/task:0/device:CPU:0\n",
            "144/313 [============>.................] - ETA: 32s - loss: 0.2251 - accuracy: 0.9251Executing op __inference_train_function_3168 in device /job:localhost/replica:0/task:0/device:CPU:0\n",
            "145/313 [============>.................] - ETA: 32s - loss: 0.2251 - accuracy: 0.9253Executing op __inference_train_function_3168 in device /job:localhost/replica:0/task:0/device:CPU:0\n",
            "146/313 [============>.................] - ETA: 32s - loss: 0.2257 - accuracy: 0.9250Executing op __inference_train_function_3168 in device /job:localhost/replica:0/task:0/device:CPU:0\n",
            "147/313 [=============>................] - ETA: 32s - loss: 0.2258 - accuracy: 0.9249Executing op __inference_train_function_3168 in device /job:localhost/replica:0/task:0/device:CPU:0\n",
            "148/313 [=============>................] - ETA: 31s - loss: 0.2257 - accuracy: 0.9247Executing op __inference_train_function_3168 in device /job:localhost/replica:0/task:0/device:CPU:0\n",
            "149/313 [=============>................] - ETA: 31s - loss: 0.2258 - accuracy: 0.9245Executing op __inference_train_function_3168 in device /job:localhost/replica:0/task:0/device:CPU:0\n",
            "150/313 [=============>................] - ETA: 31s - loss: 0.2257 - accuracy: 0.9245Executing op __inference_train_function_3168 in device /job:localhost/replica:0/task:0/device:CPU:0\n",
            "151/313 [=============>................] - ETA: 31s - loss: 0.2258 - accuracy: 0.9244Executing op __inference_train_function_3168 in device /job:localhost/replica:0/task:0/device:CPU:0\n",
            "152/313 [=============>................] - ETA: 31s - loss: 0.2257 - accuracy: 0.9244Executing op __inference_train_function_3168 in device /job:localhost/replica:0/task:0/device:CPU:0\n",
            "153/313 [=============>................] - ETA: 31s - loss: 0.2253 - accuracy: 0.9245Executing op __inference_train_function_3168 in device /job:localhost/replica:0/task:0/device:CPU:0\n",
            "154/313 [=============>................] - ETA: 30s - loss: 0.2252 - accuracy: 0.9244Executing op __inference_train_function_3168 in device /job:localhost/replica:0/task:0/device:CPU:0\n",
            "155/313 [=============>................] - ETA: 30s - loss: 0.2247 - accuracy: 0.9245Executing op __inference_train_function_3168 in device /job:localhost/replica:0/task:0/device:CPU:0\n",
            "156/313 [=============>................] - ETA: 30s - loss: 0.2250 - accuracy: 0.9244Executing op __inference_train_function_3168 in device /job:localhost/replica:0/task:0/device:CPU:0\n",
            "157/313 [==============>...............] - ETA: 30s - loss: 0.2248 - accuracy: 0.9245Executing op __inference_train_function_3168 in device /job:localhost/replica:0/task:0/device:CPU:0\n",
            "158/313 [==============>...............] - ETA: 30s - loss: 0.2246 - accuracy: 0.9245Executing op __inference_train_function_3168 in device /job:localhost/replica:0/task:0/device:CPU:0\n",
            "159/313 [==============>...............] - ETA: 29s - loss: 0.2248 - accuracy: 0.9243Executing op __inference_train_function_3168 in device /job:localhost/replica:0/task:0/device:CPU:0\n",
            "160/313 [==============>...............] - ETA: 29s - loss: 0.2252 - accuracy: 0.9241Executing op __inference_train_function_3168 in device /job:localhost/replica:0/task:0/device:CPU:0\n",
            "161/313 [==============>...............] - ETA: 29s - loss: 0.2254 - accuracy: 0.9239Executing op __inference_train_function_3168 in device /job:localhost/replica:0/task:0/device:CPU:0\n",
            "162/313 [==============>...............] - ETA: 29s - loss: 0.2254 - accuracy: 0.9239Executing op __inference_train_function_3168 in device /job:localhost/replica:0/task:0/device:CPU:0\n",
            "163/313 [==============>...............] - ETA: 29s - loss: 0.2251 - accuracy: 0.9242Executing op __inference_train_function_3168 in device /job:localhost/replica:0/task:0/device:CPU:0\n",
            "164/313 [==============>...............] - ETA: 28s - loss: 0.2249 - accuracy: 0.9243Executing op __inference_train_function_3168 in device /job:localhost/replica:0/task:0/device:CPU:0\n",
            "165/313 [==============>...............] - ETA: 28s - loss: 0.2251 - accuracy: 0.9241Executing op __inference_train_function_3168 in device /job:localhost/replica:0/task:0/device:CPU:0\n",
            "166/313 [==============>...............] - ETA: 28s - loss: 0.2252 - accuracy: 0.9240Executing op __inference_train_function_3168 in device /job:localhost/replica:0/task:0/device:CPU:0\n",
            "167/313 [===============>..............] - ETA: 28s - loss: 0.2258 - accuracy: 0.9237Executing op __inference_train_function_3168 in device /job:localhost/replica:0/task:0/device:CPU:0\n",
            "168/313 [===============>..............] - ETA: 28s - loss: 0.2255 - accuracy: 0.9238Executing op __inference_train_function_3168 in device /job:localhost/replica:0/task:0/device:CPU:0\n",
            "169/313 [===============>..............] - ETA: 27s - loss: 0.2260 - accuracy: 0.9236Executing op __inference_train_function_3168 in device /job:localhost/replica:0/task:0/device:CPU:0\n",
            "170/313 [===============>..............] - ETA: 27s - loss: 0.2259 - accuracy: 0.9235Executing op __inference_train_function_3168 in device /job:localhost/replica:0/task:0/device:CPU:0\n",
            "171/313 [===============>..............] - ETA: 27s - loss: 0.2256 - accuracy: 0.9237Executing op __inference_train_function_3168 in device /job:localhost/replica:0/task:0/device:CPU:0\n",
            "172/313 [===============>..............] - ETA: 27s - loss: 0.2255 - accuracy: 0.9239Executing op __inference_train_function_3168 in device /job:localhost/replica:0/task:0/device:CPU:0\n",
            "173/313 [===============>..............] - ETA: 27s - loss: 0.2255 - accuracy: 0.9240Executing op __inference_train_function_3168 in device /job:localhost/replica:0/task:0/device:CPU:0\n",
            "174/313 [===============>..............] - ETA: 26s - loss: 0.2260 - accuracy: 0.9237Executing op __inference_train_function_3168 in device /job:localhost/replica:0/task:0/device:CPU:0\n",
            "175/313 [===============>..............] - ETA: 26s - loss: 0.2262 - accuracy: 0.9237Executing op __inference_train_function_3168 in device /job:localhost/replica:0/task:0/device:CPU:0\n",
            "176/313 [===============>..............] - ETA: 26s - loss: 0.2265 - accuracy: 0.9234Executing op __inference_train_function_3168 in device /job:localhost/replica:0/task:0/device:CPU:0\n",
            "177/313 [===============>..............] - ETA: 26s - loss: 0.2266 - accuracy: 0.9233Executing op __inference_train_function_3168 in device /job:localhost/replica:0/task:0/device:CPU:0\n",
            "178/313 [================>.............] - ETA: 26s - loss: 0.2267 - accuracy: 0.9233Executing op __inference_train_function_3168 in device /job:localhost/replica:0/task:0/device:CPU:0\n",
            "179/313 [================>.............] - ETA: 25s - loss: 0.2270 - accuracy: 0.9234Executing op __inference_train_function_3168 in device /job:localhost/replica:0/task:0/device:CPU:0\n",
            "180/313 [================>.............] - ETA: 25s - loss: 0.2270 - accuracy: 0.9234Executing op __inference_train_function_3168 in device /job:localhost/replica:0/task:0/device:CPU:0\n",
            "181/313 [================>.............] - ETA: 25s - loss: 0.2272 - accuracy: 0.9233Executing op __inference_train_function_3168 in device /job:localhost/replica:0/task:0/device:CPU:0\n",
            "182/313 [================>.............] - ETA: 25s - loss: 0.2268 - accuracy: 0.9235Executing op __inference_train_function_3168 in device /job:localhost/replica:0/task:0/device:CPU:0\n",
            "183/313 [================>.............] - ETA: 25s - loss: 0.2270 - accuracy: 0.9235Executing op __inference_train_function_3168 in device /job:localhost/replica:0/task:0/device:CPU:0\n",
            "184/313 [================>.............] - ETA: 25s - loss: 0.2272 - accuracy: 0.9236Executing op __inference_train_function_3168 in device /job:localhost/replica:0/task:0/device:CPU:0\n",
            "185/313 [================>.............] - ETA: 24s - loss: 0.2272 - accuracy: 0.9236Executing op __inference_train_function_3168 in device /job:localhost/replica:0/task:0/device:CPU:0\n",
            "186/313 [================>.............] - ETA: 24s - loss: 0.2270 - accuracy: 0.9238Executing op __inference_train_function_3168 in device /job:localhost/replica:0/task:0/device:CPU:0\n",
            "187/313 [================>.............] - ETA: 24s - loss: 0.2273 - accuracy: 0.9237Executing op __inference_train_function_3168 in device /job:localhost/replica:0/task:0/device:CPU:0\n",
            "188/313 [=================>............] - ETA: 24s - loss: 0.2274 - accuracy: 0.9238Executing op __inference_train_function_3168 in device /job:localhost/replica:0/task:0/device:CPU:0\n",
            "189/313 [=================>............] - ETA: 24s - loss: 0.2278 - accuracy: 0.9237Executing op __inference_train_function_3168 in device /job:localhost/replica:0/task:0/device:CPU:0\n",
            "190/313 [=================>............] - ETA: 23s - loss: 0.2288 - accuracy: 0.9235Executing op __inference_train_function_3168 in device /job:localhost/replica:0/task:0/device:CPU:0\n",
            "191/313 [=================>............] - ETA: 23s - loss: 0.2293 - accuracy: 0.9232Executing op __inference_train_function_3168 in device /job:localhost/replica:0/task:0/device:CPU:0\n",
            "192/313 [=================>............] - ETA: 23s - loss: 0.2293 - accuracy: 0.9232Executing op __inference_train_function_3168 in device /job:localhost/replica:0/task:0/device:CPU:0\n",
            "193/313 [=================>............] - ETA: 23s - loss: 0.2292 - accuracy: 0.9233Executing op __inference_train_function_3168 in device /job:localhost/replica:0/task:0/device:CPU:0\n",
            "194/313 [=================>............] - ETA: 23s - loss: 0.2294 - accuracy: 0.9233Executing op __inference_train_function_3168 in device /job:localhost/replica:0/task:0/device:CPU:0\n",
            "195/313 [=================>............] - ETA: 22s - loss: 0.2296 - accuracy: 0.9233Executing op __inference_train_function_3168 in device /job:localhost/replica:0/task:0/device:CPU:0\n",
            "196/313 [=================>............] - ETA: 22s - loss: 0.2296 - accuracy: 0.9233Executing op __inference_train_function_3168 in device /job:localhost/replica:0/task:0/device:CPU:0\n",
            "197/313 [=================>............] - ETA: 22s - loss: 0.2296 - accuracy: 0.9234Executing op __inference_train_function_3168 in device /job:localhost/replica:0/task:0/device:CPU:0\n",
            "198/313 [=================>............] - ETA: 22s - loss: 0.2294 - accuracy: 0.9235Executing op __inference_train_function_3168 in device /job:localhost/replica:0/task:0/device:CPU:0\n",
            "199/313 [==================>...........] - ETA: 22s - loss: 0.2294 - accuracy: 0.9234Executing op __inference_train_function_3168 in device /job:localhost/replica:0/task:0/device:CPU:0\n",
            "200/313 [==================>...........] - ETA: 21s - loss: 0.2294 - accuracy: 0.9234Executing op __inference_train_function_3168 in device /job:localhost/replica:0/task:0/device:CPU:0\n",
            "201/313 [==================>...........] - ETA: 21s - loss: 0.2292 - accuracy: 0.9235Executing op __inference_train_function_3168 in device /job:localhost/replica:0/task:0/device:CPU:0\n",
            "202/313 [==================>...........] - ETA: 21s - loss: 0.2295 - accuracy: 0.9234Executing op __inference_train_function_3168 in device /job:localhost/replica:0/task:0/device:CPU:0\n",
            "203/313 [==================>...........] - ETA: 21s - loss: 0.2296 - accuracy: 0.9234Executing op __inference_train_function_3168 in device /job:localhost/replica:0/task:0/device:CPU:0\n",
            "204/313 [==================>...........] - ETA: 21s - loss: 0.2295 - accuracy: 0.9235Executing op __inference_train_function_3168 in device /job:localhost/replica:0/task:0/device:CPU:0\n",
            "205/313 [==================>...........] - ETA: 20s - loss: 0.2299 - accuracy: 0.9234Executing op __inference_train_function_3168 in device /job:localhost/replica:0/task:0/device:CPU:0\n",
            "206/313 [==================>...........] - ETA: 20s - loss: 0.2300 - accuracy: 0.9234Executing op __inference_train_function_3168 in device /job:localhost/replica:0/task:0/device:CPU:0\n",
            "207/313 [==================>...........] - ETA: 20s - loss: 0.2298 - accuracy: 0.9235Executing op __inference_train_function_3168 in device /job:localhost/replica:0/task:0/device:CPU:0\n",
            "208/313 [==================>...........] - ETA: 20s - loss: 0.2302 - accuracy: 0.9233Executing op __inference_train_function_3168 in device /job:localhost/replica:0/task:0/device:CPU:0\n",
            "209/313 [===================>..........] - ETA: 20s - loss: 0.2305 - accuracy: 0.9231Executing op __inference_train_function_3168 in device /job:localhost/replica:0/task:0/device:CPU:0\n",
            "210/313 [===================>..........] - ETA: 19s - loss: 0.2307 - accuracy: 0.9230Executing op __inference_train_function_3168 in device /job:localhost/replica:0/task:0/device:CPU:0\n",
            "211/313 [===================>..........] - ETA: 19s - loss: 0.2306 - accuracy: 0.9230Executing op __inference_train_function_3168 in device /job:localhost/replica:0/task:0/device:CPU:0\n",
            "212/313 [===================>..........] - ETA: 19s - loss: 0.2307 - accuracy: 0.9229Executing op __inference_train_function_3168 in device /job:localhost/replica:0/task:0/device:CPU:0\n",
            "213/313 [===================>..........] - ETA: 19s - loss: 0.2308 - accuracy: 0.9229Executing op __inference_train_function_3168 in device /job:localhost/replica:0/task:0/device:CPU:0\n",
            "214/313 [===================>..........] - ETA: 19s - loss: 0.2305 - accuracy: 0.9231Executing op __inference_train_function_3168 in device /job:localhost/replica:0/task:0/device:CPU:0\n",
            "215/313 [===================>..........] - ETA: 19s - loss: 0.2304 - accuracy: 0.9230Executing op __inference_train_function_3168 in device /job:localhost/replica:0/task:0/device:CPU:0\n",
            "216/313 [===================>..........] - ETA: 18s - loss: 0.2307 - accuracy: 0.9229Executing op __inference_train_function_3168 in device /job:localhost/replica:0/task:0/device:CPU:0\n",
            "217/313 [===================>..........] - ETA: 18s - loss: 0.2310 - accuracy: 0.9227Executing op __inference_train_function_3168 in device /job:localhost/replica:0/task:0/device:CPU:0\n",
            "218/313 [===================>..........] - ETA: 18s - loss: 0.2314 - accuracy: 0.9226Executing op __inference_train_function_3168 in device /job:localhost/replica:0/task:0/device:CPU:0\n",
            "219/313 [===================>..........] - ETA: 18s - loss: 0.2317 - accuracy: 0.9226Executing op __inference_train_function_3168 in device /job:localhost/replica:0/task:0/device:CPU:0\n",
            "220/313 [====================>.........] - ETA: 18s - loss: 0.2316 - accuracy: 0.9226Executing op __inference_train_function_3168 in device /job:localhost/replica:0/task:0/device:CPU:0\n",
            "221/313 [====================>.........] - ETA: 17s - loss: 0.2318 - accuracy: 0.9224Executing op __inference_train_function_3168 in device /job:localhost/replica:0/task:0/device:CPU:0\n",
            "222/313 [====================>.........] - ETA: 17s - loss: 0.2320 - accuracy: 0.9223Executing op __inference_train_function_3168 in device /job:localhost/replica:0/task:0/device:CPU:0\n",
            "223/313 [====================>.........] - ETA: 17s - loss: 0.2318 - accuracy: 0.9224Executing op __inference_train_function_3168 in device /job:localhost/replica:0/task:0/device:CPU:0\n",
            "224/313 [====================>.........] - ETA: 17s - loss: 0.2322 - accuracy: 0.9223Executing op __inference_train_function_3168 in device /job:localhost/replica:0/task:0/device:CPU:0\n",
            "225/313 [====================>.........] - ETA: 17s - loss: 0.2323 - accuracy: 0.9222Executing op __inference_train_function_3168 in device /job:localhost/replica:0/task:0/device:CPU:0\n",
            "226/313 [====================>.........] - ETA: 16s - loss: 0.2326 - accuracy: 0.9220Executing op __inference_train_function_3168 in device /job:localhost/replica:0/task:0/device:CPU:0\n",
            "227/313 [====================>.........] - ETA: 16s - loss: 0.2326 - accuracy: 0.9220Executing op __inference_train_function_3168 in device /job:localhost/replica:0/task:0/device:CPU:0\n",
            "228/313 [====================>.........] - ETA: 16s - loss: 0.2330 - accuracy: 0.9218Executing op __inference_train_function_3168 in device /job:localhost/replica:0/task:0/device:CPU:0\n",
            "229/313 [====================>.........] - ETA: 16s - loss: 0.2330 - accuracy: 0.9218Executing op __inference_train_function_3168 in device /job:localhost/replica:0/task:0/device:CPU:0\n",
            "230/313 [=====================>........] - ETA: 16s - loss: 0.2329 - accuracy: 0.9218Executing op __inference_train_function_3168 in device /job:localhost/replica:0/task:0/device:CPU:0\n",
            "231/313 [=====================>........] - ETA: 15s - loss: 0.2330 - accuracy: 0.9217Executing op __inference_train_function_3168 in device /job:localhost/replica:0/task:0/device:CPU:0\n",
            "232/313 [=====================>........] - ETA: 15s - loss: 0.2337 - accuracy: 0.9214Executing op __inference_train_function_3168 in device /job:localhost/replica:0/task:0/device:CPU:0\n",
            "233/313 [=====================>........] - ETA: 15s - loss: 0.2334 - accuracy: 0.9216Executing op __inference_train_function_3168 in device /job:localhost/replica:0/task:0/device:CPU:0\n",
            "234/313 [=====================>........] - ETA: 15s - loss: 0.2335 - accuracy: 0.9216Executing op __inference_train_function_3168 in device /job:localhost/replica:0/task:0/device:CPU:0\n",
            "235/313 [=====================>........] - ETA: 15s - loss: 0.2338 - accuracy: 0.9214Executing op __inference_train_function_3168 in device /job:localhost/replica:0/task:0/device:CPU:0\n",
            "236/313 [=====================>........] - ETA: 14s - loss: 0.2336 - accuracy: 0.9215Executing op __inference_train_function_3168 in device /job:localhost/replica:0/task:0/device:CPU:0\n",
            "237/313 [=====================>........] - ETA: 14s - loss: 0.2336 - accuracy: 0.9214Executing op __inference_train_function_3168 in device /job:localhost/replica:0/task:0/device:CPU:0\n",
            "238/313 [=====================>........] - ETA: 14s - loss: 0.2336 - accuracy: 0.9215Executing op __inference_train_function_3168 in device /job:localhost/replica:0/task:0/device:CPU:0\n",
            "239/313 [=====================>........] - ETA: 14s - loss: 0.2336 - accuracy: 0.9214Executing op __inference_train_function_3168 in device /job:localhost/replica:0/task:0/device:CPU:0\n",
            "240/313 [======================>.......] - ETA: 14s - loss: 0.2335 - accuracy: 0.9214Executing op __inference_train_function_3168 in device /job:localhost/replica:0/task:0/device:CPU:0\n",
            "241/313 [======================>.......] - ETA: 13s - loss: 0.2333 - accuracy: 0.9215Executing op __inference_train_function_3168 in device /job:localhost/replica:0/task:0/device:CPU:0\n",
            "242/313 [======================>.......] - ETA: 13s - loss: 0.2334 - accuracy: 0.9214Executing op __inference_train_function_3168 in device /job:localhost/replica:0/task:0/device:CPU:0\n",
            "243/313 [======================>.......] - ETA: 13s - loss: 0.2332 - accuracy: 0.9215Executing op __inference_train_function_3168 in device /job:localhost/replica:0/task:0/device:CPU:0\n",
            "244/313 [======================>.......] - ETA: 13s - loss: 0.2333 - accuracy: 0.9214Executing op __inference_train_function_3168 in device /job:localhost/replica:0/task:0/device:CPU:0\n",
            "245/313 [======================>.......] - ETA: 13s - loss: 0.2333 - accuracy: 0.9214Executing op __inference_train_function_3168 in device /job:localhost/replica:0/task:0/device:CPU:0\n",
            "246/313 [======================>.......] - ETA: 13s - loss: 0.2332 - accuracy: 0.9214Executing op __inference_train_function_3168 in device /job:localhost/replica:0/task:0/device:CPU:0\n",
            "247/313 [======================>.......] - ETA: 12s - loss: 0.2330 - accuracy: 0.9214Executing op __inference_train_function_3168 in device /job:localhost/replica:0/task:0/device:CPU:0\n",
            "248/313 [======================>.......] - ETA: 12s - loss: 0.2327 - accuracy: 0.9215Executing op __inference_train_function_3168 in device /job:localhost/replica:0/task:0/device:CPU:0\n",
            "249/313 [======================>.......] - ETA: 12s - loss: 0.2327 - accuracy: 0.9214Executing op __inference_train_function_3168 in device /job:localhost/replica:0/task:0/device:CPU:0\n",
            "250/313 [======================>.......] - ETA: 12s - loss: 0.2328 - accuracy: 0.9213Executing op __inference_train_function_3168 in device /job:localhost/replica:0/task:0/device:CPU:0\n",
            "251/313 [=======================>......] - ETA: 12s - loss: 0.2329 - accuracy: 0.9213Executing op __inference_train_function_3168 in device /job:localhost/replica:0/task:0/device:CPU:0\n",
            "252/313 [=======================>......] - ETA: 11s - loss: 0.2325 - accuracy: 0.9214Executing op __inference_train_function_3168 in device /job:localhost/replica:0/task:0/device:CPU:0\n",
            "253/313 [=======================>......] - ETA: 11s - loss: 0.2323 - accuracy: 0.9214Executing op __inference_train_function_3168 in device /job:localhost/replica:0/task:0/device:CPU:0\n",
            "254/313 [=======================>......] - ETA: 11s - loss: 0.2322 - accuracy: 0.9215Executing op __inference_train_function_3168 in device /job:localhost/replica:0/task:0/device:CPU:0\n",
            "255/313 [=======================>......] - ETA: 11s - loss: 0.2321 - accuracy: 0.9214Executing op __inference_train_function_3168 in device /job:localhost/replica:0/task:0/device:CPU:0\n",
            "256/313 [=======================>......] - ETA: 11s - loss: 0.2322 - accuracy: 0.9213Executing op __inference_train_function_3168 in device /job:localhost/replica:0/task:0/device:CPU:0\n",
            "257/313 [=======================>......] - ETA: 10s - loss: 0.2320 - accuracy: 0.9213Executing op __inference_train_function_3168 in device /job:localhost/replica:0/task:0/device:CPU:0\n",
            "258/313 [=======================>......] - ETA: 10s - loss: 0.2318 - accuracy: 0.9214Executing op __inference_train_function_3168 in device /job:localhost/replica:0/task:0/device:CPU:0\n",
            "259/313 [=======================>......] - ETA: 10s - loss: 0.2319 - accuracy: 0.9213Executing op __inference_train_function_3168 in device /job:localhost/replica:0/task:0/device:CPU:0\n",
            "260/313 [=======================>......] - ETA: 10s - loss: 0.2317 - accuracy: 0.9213Executing op __inference_train_function_3168 in device /job:localhost/replica:0/task:0/device:CPU:0\n",
            "261/313 [========================>.....] - ETA: 10s - loss: 0.2316 - accuracy: 0.9214Executing op __inference_train_function_3168 in device /job:localhost/replica:0/task:0/device:CPU:0\n",
            "262/313 [========================>.....] - ETA: 9s - loss: 0.2317 - accuracy: 0.9213 Executing op __inference_train_function_3168 in device /job:localhost/replica:0/task:0/device:CPU:0\n",
            "263/313 [========================>.....] - ETA: 9s - loss: 0.2319 - accuracy: 0.9212Executing op __inference_train_function_3168 in device /job:localhost/replica:0/task:0/device:CPU:0\n",
            "264/313 [========================>.....] - ETA: 9s - loss: 0.2320 - accuracy: 0.9211Executing op __inference_train_function_3168 in device /job:localhost/replica:0/task:0/device:CPU:0\n",
            "265/313 [========================>.....] - ETA: 9s - loss: 0.2319 - accuracy: 0.9212Executing op __inference_train_function_3168 in device /job:localhost/replica:0/task:0/device:CPU:0\n",
            "266/313 [========================>.....] - ETA: 9s - loss: 0.2318 - accuracy: 0.9212Executing op __inference_train_function_3168 in device /job:localhost/replica:0/task:0/device:CPU:0\n",
            "267/313 [========================>.....] - ETA: 8s - loss: 0.2319 - accuracy: 0.9211Executing op __inference_train_function_3168 in device /job:localhost/replica:0/task:0/device:CPU:0\n",
            "268/313 [========================>.....] - ETA: 8s - loss: 0.2320 - accuracy: 0.9211Executing op __inference_train_function_3168 in device /job:localhost/replica:0/task:0/device:CPU:0\n",
            "269/313 [========================>.....] - ETA: 8s - loss: 0.2318 - accuracy: 0.9211Executing op __inference_train_function_3168 in device /job:localhost/replica:0/task:0/device:CPU:0\n",
            "270/313 [========================>.....] - ETA: 8s - loss: 0.2319 - accuracy: 0.9211Executing op __inference_train_function_3168 in device /job:localhost/replica:0/task:0/device:CPU:0\n",
            "271/313 [========================>.....] - ETA: 8s - loss: 0.2323 - accuracy: 0.9210Executing op __inference_train_function_3168 in device /job:localhost/replica:0/task:0/device:CPU:0\n",
            "272/313 [=========================>....] - ETA: 7s - loss: 0.2320 - accuracy: 0.9210Executing op __inference_train_function_3168 in device /job:localhost/replica:0/task:0/device:CPU:0\n",
            "273/313 [=========================>....] - ETA: 7s - loss: 0.2316 - accuracy: 0.9212Executing op __inference_train_function_3168 in device /job:localhost/replica:0/task:0/device:CPU:0\n",
            "274/313 [=========================>....] - ETA: 7s - loss: 0.2313 - accuracy: 0.9212Executing op __inference_train_function_3168 in device /job:localhost/replica:0/task:0/device:CPU:0\n",
            "275/313 [=========================>....] - ETA: 7s - loss: 0.2311 - accuracy: 0.9213Executing op __inference_train_function_3168 in device /job:localhost/replica:0/task:0/device:CPU:0\n",
            "276/313 [=========================>....] - ETA: 7s - loss: 0.2310 - accuracy: 0.9213Executing op __inference_train_function_3168 in device /job:localhost/replica:0/task:0/device:CPU:0\n",
            "277/313 [=========================>....] - ETA: 6s - loss: 0.2309 - accuracy: 0.9213Executing op __inference_train_function_3168 in device /job:localhost/replica:0/task:0/device:CPU:0\n",
            "278/313 [=========================>....] - ETA: 6s - loss: 0.2308 - accuracy: 0.9213Executing op __inference_train_function_3168 in device /job:localhost/replica:0/task:0/device:CPU:0\n",
            "279/313 [=========================>....] - ETA: 6s - loss: 0.2304 - accuracy: 0.9214Executing op __inference_train_function_3168 in device /job:localhost/replica:0/task:0/device:CPU:0\n",
            "280/313 [=========================>....] - ETA: 6s - loss: 0.2302 - accuracy: 0.9214Executing op __inference_train_function_3168 in device /job:localhost/replica:0/task:0/device:CPU:0\n",
            "281/313 [=========================>....] - ETA: 6s - loss: 0.2302 - accuracy: 0.9215Executing op __inference_train_function_3168 in device /job:localhost/replica:0/task:0/device:CPU:0\n",
            "282/313 [==========================>...] - ETA: 6s - loss: 0.2300 - accuracy: 0.9216Executing op __inference_train_function_3168 in device /job:localhost/replica:0/task:0/device:CPU:0\n",
            "283/313 [==========================>...] - ETA: 5s - loss: 0.2302 - accuracy: 0.9214Executing op __inference_train_function_3168 in device /job:localhost/replica:0/task:0/device:CPU:0\n",
            "284/313 [==========================>...] - ETA: 5s - loss: 0.2301 - accuracy: 0.9214Executing op __inference_train_function_3168 in device /job:localhost/replica:0/task:0/device:CPU:0\n",
            "285/313 [==========================>...] - ETA: 5s - loss: 0.2299 - accuracy: 0.9215Executing op __inference_train_function_3168 in device /job:localhost/replica:0/task:0/device:CPU:0\n",
            "286/313 [==========================>...] - ETA: 5s - loss: 0.2300 - accuracy: 0.9215Executing op __inference_train_function_3168 in device /job:localhost/replica:0/task:0/device:CPU:0\n",
            "287/313 [==========================>...] - ETA: 5s - loss: 0.2301 - accuracy: 0.9214Executing op __inference_train_function_3168 in device /job:localhost/replica:0/task:0/device:CPU:0\n",
            "288/313 [==========================>...] - ETA: 4s - loss: 0.2301 - accuracy: 0.9213Executing op __inference_train_function_3168 in device /job:localhost/replica:0/task:0/device:CPU:0\n",
            "289/313 [==========================>...] - ETA: 4s - loss: 0.2302 - accuracy: 0.9213Executing op __inference_train_function_3168 in device /job:localhost/replica:0/task:0/device:CPU:0\n",
            "290/313 [==========================>...] - ETA: 4s - loss: 0.2302 - accuracy: 0.9213Executing op __inference_train_function_3168 in device /job:localhost/replica:0/task:0/device:CPU:0\n",
            "291/313 [==========================>...] - ETA: 4s - loss: 0.2302 - accuracy: 0.9213Executing op __inference_train_function_3168 in device /job:localhost/replica:0/task:0/device:CPU:0\n",
            "292/313 [==========================>...] - ETA: 4s - loss: 0.2301 - accuracy: 0.9213Executing op __inference_train_function_3168 in device /job:localhost/replica:0/task:0/device:CPU:0\n",
            "293/313 [===========================>..] - ETA: 3s - loss: 0.2300 - accuracy: 0.9213Executing op __inference_train_function_3168 in device /job:localhost/replica:0/task:0/device:CPU:0\n",
            "294/313 [===========================>..] - ETA: 3s - loss: 0.2303 - accuracy: 0.9213Executing op __inference_train_function_3168 in device /job:localhost/replica:0/task:0/device:CPU:0\n",
            "295/313 [===========================>..] - ETA: 3s - loss: 0.2303 - accuracy: 0.9212Executing op __inference_train_function_3168 in device /job:localhost/replica:0/task:0/device:CPU:0\n",
            "296/313 [===========================>..] - ETA: 3s - loss: 0.2299 - accuracy: 0.9212Executing op __inference_train_function_3168 in device /job:localhost/replica:0/task:0/device:CPU:0\n",
            "297/313 [===========================>..] - ETA: 3s - loss: 0.2299 - accuracy: 0.9213Executing op __inference_train_function_3168 in device /job:localhost/replica:0/task:0/device:CPU:0\n",
            "298/313 [===========================>..] - ETA: 2s - loss: 0.2298 - accuracy: 0.9213Executing op __inference_train_function_3168 in device /job:localhost/replica:0/task:0/device:CPU:0\n",
            "299/313 [===========================>..] - ETA: 2s - loss: 0.2298 - accuracy: 0.9213Executing op __inference_train_function_3168 in device /job:localhost/replica:0/task:0/device:CPU:0\n",
            "300/313 [===========================>..] - ETA: 2s - loss: 0.2298 - accuracy: 0.9213Executing op __inference_train_function_3168 in device /job:localhost/replica:0/task:0/device:CPU:0\n",
            "301/313 [===========================>..] - ETA: 2s - loss: 0.2295 - accuracy: 0.9215Executing op __inference_train_function_3168 in device /job:localhost/replica:0/task:0/device:CPU:0\n",
            "302/313 [===========================>..] - ETA: 2s - loss: 0.2295 - accuracy: 0.9214Executing op __inference_train_function_3168 in device /job:localhost/replica:0/task:0/device:CPU:0\n",
            "303/313 [============================>.] - ETA: 1s - loss: 0.2295 - accuracy: 0.9214Executing op __inference_train_function_3168 in device /job:localhost/replica:0/task:0/device:CPU:0\n",
            "304/313 [============================>.] - ETA: 1s - loss: 0.2294 - accuracy: 0.9214Executing op __inference_train_function_3168 in device /job:localhost/replica:0/task:0/device:CPU:0\n",
            "305/313 [============================>.] - ETA: 1s - loss: 0.2294 - accuracy: 0.9214Executing op __inference_train_function_3168 in device /job:localhost/replica:0/task:0/device:CPU:0\n",
            "306/313 [============================>.] - ETA: 1s - loss: 0.2296 - accuracy: 0.9213Executing op __inference_train_function_3168 in device /job:localhost/replica:0/task:0/device:CPU:0\n",
            "307/313 [============================>.] - ETA: 1s - loss: 0.2294 - accuracy: 0.9214Executing op __inference_train_function_3168 in device /job:localhost/replica:0/task:0/device:CPU:0\n",
            "308/313 [============================>.] - ETA: 0s - loss: 0.2294 - accuracy: 0.9214Executing op __inference_train_function_3168 in device /job:localhost/replica:0/task:0/device:CPU:0\n",
            "309/313 [============================>.] - ETA: 0s - loss: 0.2294 - accuracy: 0.9213Executing op __inference_train_function_3168 in device /job:localhost/replica:0/task:0/device:CPU:0\n",
            "310/313 [============================>.] - ETA: 0s - loss: 0.2293 - accuracy: 0.9213Executing op __inference_train_function_3168 in device /job:localhost/replica:0/task:0/device:CPU:0\n",
            "311/313 [============================>.] - ETA: 0s - loss: 0.2291 - accuracy: 0.9214Executing op __inference_train_function_3168 in device /job:localhost/replica:0/task:0/device:CPU:0\n",
            "312/313 [============================>.] - ETA: 0s - loss: 0.2291 - accuracy: 0.9213Executing op __inference_train_function_3168 in device /job:localhost/replica:0/task:0/device:CPU:0\n",
            "313/313 [==============================] - 61s 194ms/step - loss: 0.2293 - accuracy: 0.9212\n",
            "\n",
            "Epoch 00002: accuracy improved from 0.74388 to 0.92125, saving model to /content/LSTM.h5\n",
            "Executing op ReadVariableOp in device /job:localhost/replica:0/task:0/device:CPU:0\n",
            "Executing op Identity in device /job:localhost/replica:0/task:0/device:CPU:0\n",
            "Executing op ReadVariableOp in device /job:localhost/replica:0/task:0/device:CPU:0\n",
            "Executing op Identity in device /job:localhost/replica:0/task:0/device:CPU:0\n",
            "Executing op ReadVariableOp in device /job:localhost/replica:0/task:0/device:CPU:0\n",
            "Executing op Identity in device /job:localhost/replica:0/task:0/device:CPU:0\n",
            "Executing op ReadVariableOp in device /job:localhost/replica:0/task:0/device:CPU:0\n",
            "Executing op Identity in device /job:localhost/replica:0/task:0/device:CPU:0\n",
            "Executing op ReadVariableOp in device /job:localhost/replica:0/task:0/device:CPU:0\n",
            "Executing op Identity in device /job:localhost/replica:0/task:0/device:CPU:0\n",
            "Executing op ReadVariableOp in device /job:localhost/replica:0/task:0/device:CPU:0\n",
            "Executing op Identity in device /job:localhost/replica:0/task:0/device:CPU:0\n",
            "Executing op ReadVariableOp in device /job:localhost/replica:0/task:0/device:CPU:0\n",
            "Executing op Identity in device /job:localhost/replica:0/task:0/device:CPU:0\n",
            "Executing op ReadVariableOp in device /job:localhost/replica:0/task:0/device:CPU:0\n",
            "Executing op Identity in device /job:localhost/replica:0/task:0/device:CPU:0\n",
            "Executing op ReadVariableOp in device /job:localhost/replica:0/task:0/device:CPU:0\n",
            "Executing op Identity in device /job:localhost/replica:0/task:0/device:CPU:0\n",
            "Executing op ReadVariableOp in device /job:localhost/replica:0/task:0/device:CPU:0\n",
            "Executing op Identity in device /job:localhost/replica:0/task:0/device:CPU:0\n",
            "Executing op ReadVariableOp in device /job:localhost/replica:0/task:0/device:CPU:0\n",
            "Executing op Identity in device /job:localhost/replica:0/task:0/device:CPU:0\n",
            "Executing op ReadVariableOp in device /job:localhost/replica:0/task:0/device:CPU:0\n",
            "Executing op Identity in device /job:localhost/replica:0/task:0/device:CPU:0\n",
            "Executing op ReadVariableOp in device /job:localhost/replica:0/task:0/device:CPU:0\n",
            "Executing op Identity in device /job:localhost/replica:0/task:0/device:CPU:0\n",
            "Executing op ReadVariableOp in device /job:localhost/replica:0/task:0/device:CPU:0\n",
            "Executing op Identity in device /job:localhost/replica:0/task:0/device:CPU:0\n",
            "Executing op ReadVariableOp in device /job:localhost/replica:0/task:0/device:CPU:0\n",
            "Executing op Identity in device /job:localhost/replica:0/task:0/device:CPU:0\n",
            "Executing op ReadVariableOp in device /job:localhost/replica:0/task:0/device:CPU:0\n",
            "Executing op Identity in device /job:localhost/replica:0/task:0/device:CPU:0\n",
            "Executing op ReadVariableOp in device /job:localhost/replica:0/task:0/device:CPU:0\n",
            "Executing op Identity in device /job:localhost/replica:0/task:0/device:CPU:0\n",
            "Executing op ReadVariableOp in device /job:localhost/replica:0/task:0/device:CPU:0\n",
            "Executing op Identity in device /job:localhost/replica:0/task:0/device:CPU:0\n",
            "Executing op ReadVariableOp in device /job:localhost/replica:0/task:0/device:CPU:0\n",
            "Executing op Identity in device /job:localhost/replica:0/task:0/device:CPU:0\n",
            "Executing op ReadVariableOp in device /job:localhost/replica:0/task:0/device:CPU:0\n",
            "Executing op Identity in device /job:localhost/replica:0/task:0/device:CPU:0\n",
            "Executing op ReadVariableOp in device /job:localhost/replica:0/task:0/device:CPU:0\n",
            "Executing op Identity in device /job:localhost/replica:0/task:0/device:CPU:0\n",
            "Executing op ReadVariableOp in device /job:localhost/replica:0/task:0/device:CPU:0\n",
            "Executing op Identity in device /job:localhost/replica:0/task:0/device:CPU:0\n",
            "Executing op _EagerConst in device /job:localhost/replica:0/task:0/device:CPU:0\n",
            "Executing op AssignVariableOp in device /job:localhost/replica:0/task:0/device:CPU:0\n",
            "Executing op _EagerConst in device /job:localhost/replica:0/task:0/device:CPU:0\n",
            "Executing op AssignVariableOp in device /job:localhost/replica:0/task:0/device:CPU:0\n",
            "Executing op _EagerConst in device /job:localhost/replica:0/task:0/device:CPU:0\n",
            "Executing op AssignVariableOp in device /job:localhost/replica:0/task:0/device:CPU:0\n",
            "Executing op _EagerConst in device /job:localhost/replica:0/task:0/device:CPU:0\n",
            "Executing op AssignVariableOp in device /job:localhost/replica:0/task:0/device:CPU:0\n",
            "Epoch 3/5\n",
            "Executing op __inference_train_function_3168 in device /job:localhost/replica:0/task:0/device:CPU:0\n",
            "  1/313 [..............................] - ETA: 1:08 - loss: 0.1447 - accuracy: 0.9531Executing op __inference_train_function_3168 in device /job:localhost/replica:0/task:0/device:CPU:0\n",
            "  2/313 [..............................] - ETA: 1:02 - loss: 0.1368 - accuracy: 0.9570Executing op __inference_train_function_3168 in device /job:localhost/replica:0/task:0/device:CPU:0\n",
            "  3/313 [..............................] - ETA: 1:02 - loss: 0.1310 - accuracy: 0.9635Executing op __inference_train_function_3168 in device /job:localhost/replica:0/task:0/device:CPU:0\n",
            "  4/313 [..............................] - ETA: 1:02 - loss: 0.1323 - accuracy: 0.9648Executing op __inference_train_function_3168 in device /job:localhost/replica:0/task:0/device:CPU:0\n",
            "  5/313 [..............................] - ETA: 1:01 - loss: 0.1480 - accuracy: 0.9625Executing op __inference_train_function_3168 in device /job:localhost/replica:0/task:0/device:CPU:0\n",
            "  6/313 [..............................] - ETA: 1:01 - loss: 0.1582 - accuracy: 0.9570Executing op __inference_train_function_3168 in device /job:localhost/replica:0/task:0/device:CPU:0\n",
            "  7/313 [..............................] - ETA: 1:00 - loss: 0.1616 - accuracy: 0.9576Executing op __inference_train_function_3168 in device /job:localhost/replica:0/task:0/device:CPU:0\n",
            "  8/313 [..............................] - ETA: 1:00 - loss: 0.1651 - accuracy: 0.9570Executing op __inference_train_function_3168 in device /job:localhost/replica:0/task:0/device:CPU:0\n",
            "  9/313 [..............................] - ETA: 1:00 - loss: 0.1589 - accuracy: 0.9583Executing op __inference_train_function_3168 in device /job:localhost/replica:0/task:0/device:CPU:0\n",
            " 10/313 [..............................] - ETA: 1:00 - loss: 0.1496 - accuracy: 0.9609Executing op __inference_train_function_3168 in device /job:localhost/replica:0/task:0/device:CPU:0\n",
            " 11/313 [>.............................] - ETA: 59s - loss: 0.1491 - accuracy: 0.9616 Executing op __inference_train_function_3168 in device /job:localhost/replica:0/task:0/device:CPU:0\n",
            " 12/313 [>.............................] - ETA: 59s - loss: 0.1474 - accuracy: 0.9629Executing op __inference_train_function_3168 in device /job:localhost/replica:0/task:0/device:CPU:0\n",
            " 13/313 [>.............................] - ETA: 59s - loss: 0.1413 - accuracy: 0.9645Executing op __inference_train_function_3168 in device /job:localhost/replica:0/task:0/device:CPU:0\n",
            " 14/313 [>.............................] - ETA: 59s - loss: 0.1406 - accuracy: 0.9637Executing op __inference_train_function_3168 in device /job:localhost/replica:0/task:0/device:CPU:0\n",
            " 15/313 [>.............................] - ETA: 59s - loss: 0.1428 - accuracy: 0.9620Executing op __inference_train_function_3168 in device /job:localhost/replica:0/task:0/device:CPU:0\n",
            " 16/313 [>.............................] - ETA: 58s - loss: 0.1440 - accuracy: 0.9624Executing op __inference_train_function_3168 in device /job:localhost/replica:0/task:0/device:CPU:0\n",
            " 17/313 [>.............................] - ETA: 58s - loss: 0.1401 - accuracy: 0.9632Executing op __inference_train_function_3168 in device /job:localhost/replica:0/task:0/device:CPU:0\n",
            " 18/313 [>.............................] - ETA: 58s - loss: 0.1372 - accuracy: 0.9640Executing op __inference_train_function_3168 in device /job:localhost/replica:0/task:0/device:CPU:0\n",
            " 19/313 [>.............................] - ETA: 58s - loss: 0.1370 - accuracy: 0.9642Executing op __inference_train_function_3168 in device /job:localhost/replica:0/task:0/device:CPU:0\n",
            " 20/313 [>.............................] - ETA: 58s - loss: 0.1382 - accuracy: 0.9637Executing op __inference_train_function_3168 in device /job:localhost/replica:0/task:0/device:CPU:0\n",
            " 21/313 [=>............................] - ETA: 57s - loss: 0.1375 - accuracy: 0.9635Executing op __inference_train_function_3168 in device /job:localhost/replica:0/task:0/device:CPU:0\n",
            " 22/313 [=>............................] - ETA: 57s - loss: 0.1371 - accuracy: 0.9638Executing op __inference_train_function_3168 in device /job:localhost/replica:0/task:0/device:CPU:0\n",
            " 23/313 [=>............................] - ETA: 57s - loss: 0.1354 - accuracy: 0.9640Executing op __inference_train_function_3168 in device /job:localhost/replica:0/task:0/device:CPU:0\n",
            " 24/313 [=>............................] - ETA: 57s - loss: 0.1336 - accuracy: 0.9648Executing op __inference_train_function_3168 in device /job:localhost/replica:0/task:0/device:CPU:0\n",
            " 25/313 [=>............................] - ETA: 56s - loss: 0.1337 - accuracy: 0.9644Executing op __inference_train_function_3168 in device /job:localhost/replica:0/task:0/device:CPU:0\n",
            " 26/313 [=>............................] - ETA: 56s - loss: 0.1357 - accuracy: 0.9642Executing op __inference_train_function_3168 in device /job:localhost/replica:0/task:0/device:CPU:0\n",
            " 27/313 [=>............................] - ETA: 56s - loss: 0.1340 - accuracy: 0.9644Executing op __inference_train_function_3168 in device /job:localhost/replica:0/task:0/device:CPU:0\n",
            " 28/313 [=>............................] - ETA: 56s - loss: 0.1318 - accuracy: 0.9654Executing op __inference_train_function_3168 in device /job:localhost/replica:0/task:0/device:CPU:0\n",
            " 29/313 [=>............................] - ETA: 56s - loss: 0.1317 - accuracy: 0.9652Executing op __inference_train_function_3168 in device /job:localhost/replica:0/task:0/device:CPU:0\n",
            " 30/313 [=>............................] - ETA: 55s - loss: 0.1295 - accuracy: 0.9659Executing op __inference_train_function_3168 in device /job:localhost/replica:0/task:0/device:CPU:0\n",
            " 31/313 [=>............................] - ETA: 55s - loss: 0.1287 - accuracy: 0.9660Executing op __inference_train_function_3168 in device /job:localhost/replica:0/task:0/device:CPU:0\n",
            " 32/313 [==>...........................] - ETA: 55s - loss: 0.1290 - accuracy: 0.9658Executing op __inference_train_function_3168 in device /job:localhost/replica:0/task:0/device:CPU:0\n",
            " 33/313 [==>...........................] - ETA: 55s - loss: 0.1283 - accuracy: 0.9659Executing op __inference_train_function_3168 in device /job:localhost/replica:0/task:0/device:CPU:0\n",
            " 34/313 [==>...........................] - ETA: 55s - loss: 0.1263 - accuracy: 0.9665Executing op __inference_train_function_3168 in device /job:localhost/replica:0/task:0/device:CPU:0\n",
            " 35/313 [==>...........................] - ETA: 54s - loss: 0.1272 - accuracy: 0.9663Executing op __inference_train_function_3168 in device /job:localhost/replica:0/task:0/device:CPU:0\n",
            " 36/313 [==>...........................] - ETA: 54s - loss: 0.1259 - accuracy: 0.9666Executing op __inference_train_function_3168 in device /job:localhost/replica:0/task:0/device:CPU:0\n",
            " 37/313 [==>...........................] - ETA: 54s - loss: 0.1256 - accuracy: 0.9671Executing op __inference_train_function_3168 in device /job:localhost/replica:0/task:0/device:CPU:0\n",
            " 38/313 [==>...........................] - ETA: 54s - loss: 0.1253 - accuracy: 0.9667Executing op __inference_train_function_3168 in device /job:localhost/replica:0/task:0/device:CPU:0\n",
            " 39/313 [==>...........................] - ETA: 54s - loss: 0.1235 - accuracy: 0.9671Executing op __inference_train_function_3168 in device /job:localhost/replica:0/task:0/device:CPU:0\n",
            " 40/313 [==>...........................] - ETA: 54s - loss: 0.1239 - accuracy: 0.9668Executing op __inference_train_function_3168 in device /job:localhost/replica:0/task:0/device:CPU:0\n",
            " 41/313 [==>...........................] - ETA: 53s - loss: 0.1236 - accuracy: 0.9670Executing op __inference_train_function_3168 in device /job:localhost/replica:0/task:0/device:CPU:0\n",
            " 42/313 [===>..........................] - ETA: 53s - loss: 0.1230 - accuracy: 0.9673Executing op __inference_train_function_3168 in device /job:localhost/replica:0/task:0/device:CPU:0\n",
            " 43/313 [===>..........................] - ETA: 53s - loss: 0.1234 - accuracy: 0.9675Executing op __inference_train_function_3168 in device /job:localhost/replica:0/task:0/device:CPU:0\n",
            " 44/313 [===>..........................] - ETA: 53s - loss: 0.1243 - accuracy: 0.9672Executing op __inference_train_function_3168 in device /job:localhost/replica:0/task:0/device:CPU:0\n",
            " 45/313 [===>..........................] - ETA: 53s - loss: 0.1234 - accuracy: 0.9674Executing op __inference_train_function_3168 in device /job:localhost/replica:0/task:0/device:CPU:0\n",
            " 46/313 [===>..........................] - ETA: 52s - loss: 0.1225 - accuracy: 0.9677Executing op __inference_train_function_3168 in device /job:localhost/replica:0/task:0/device:CPU:0\n",
            " 47/313 [===>..........................] - ETA: 52s - loss: 0.1207 - accuracy: 0.9683Executing op __inference_train_function_3168 in device /job:localhost/replica:0/task:0/device:CPU:0\n",
            " 48/313 [===>..........................] - ETA: 52s - loss: 0.1199 - accuracy: 0.9684Executing op __inference_train_function_3168 in device /job:localhost/replica:0/task:0/device:CPU:0\n",
            " 49/313 [===>..........................] - ETA: 52s - loss: 0.1201 - accuracy: 0.9683Executing op __inference_train_function_3168 in device /job:localhost/replica:0/task:0/device:CPU:0\n",
            " 50/313 [===>..........................] - ETA: 52s - loss: 0.1191 - accuracy: 0.9684Executing op __inference_train_function_3168 in device /job:localhost/replica:0/task:0/device:CPU:0\n",
            " 51/313 [===>..........................] - ETA: 51s - loss: 0.1184 - accuracy: 0.9688Executing op __inference_train_function_3168 in device /job:localhost/replica:0/task:0/device:CPU:0\n",
            " 52/313 [===>..........................] - ETA: 51s - loss: 0.1182 - accuracy: 0.9686Executing op __inference_train_function_3168 in device /job:localhost/replica:0/task:0/device:CPU:0\n",
            " 53/313 [====>.........................] - ETA: 51s - loss: 0.1173 - accuracy: 0.9686Executing op __inference_train_function_3168 in device /job:localhost/replica:0/task:0/device:CPU:0\n",
            " 54/313 [====>.........................] - ETA: 51s - loss: 0.1177 - accuracy: 0.9685Executing op __inference_train_function_3168 in device /job:localhost/replica:0/task:0/device:CPU:0\n",
            " 55/313 [====>.........................] - ETA: 51s - loss: 0.1171 - accuracy: 0.9682Executing op __inference_train_function_3168 in device /job:localhost/replica:0/task:0/device:CPU:0\n",
            " 56/313 [====>.........................] - ETA: 50s - loss: 0.1169 - accuracy: 0.9683Executing op __inference_train_function_3168 in device /job:localhost/replica:0/task:0/device:CPU:0\n",
            " 57/313 [====>.........................] - ETA: 50s - loss: 0.1168 - accuracy: 0.9682Executing op __inference_train_function_3168 in device /job:localhost/replica:0/task:0/device:CPU:0\n",
            " 58/313 [====>.........................] - ETA: 50s - loss: 0.1183 - accuracy: 0.9677Executing op __inference_train_function_3168 in device /job:localhost/replica:0/task:0/device:CPU:0\n",
            " 59/313 [====>.........................] - ETA: 50s - loss: 0.1186 - accuracy: 0.9678Executing op __inference_train_function_3168 in device /job:localhost/replica:0/task:0/device:CPU:0\n",
            " 60/313 [====>.........................] - ETA: 50s - loss: 0.1200 - accuracy: 0.9674Executing op __inference_train_function_3168 in device /job:localhost/replica:0/task:0/device:CPU:0\n",
            " 61/313 [====>.........................] - ETA: 50s - loss: 0.1212 - accuracy: 0.9672Executing op __inference_train_function_3168 in device /job:localhost/replica:0/task:0/device:CPU:0\n",
            " 62/313 [====>.........................] - ETA: 49s - loss: 0.1203 - accuracy: 0.9676Executing op __inference_train_function_3168 in device /job:localhost/replica:0/task:0/device:CPU:0\n",
            " 63/313 [=====>........................] - ETA: 49s - loss: 0.1200 - accuracy: 0.9676Executing op __inference_train_function_3168 in device /job:localhost/replica:0/task:0/device:CPU:0\n",
            " 64/313 [=====>........................] - ETA: 49s - loss: 0.1201 - accuracy: 0.9678Executing op __inference_train_function_3168 in device /job:localhost/replica:0/task:0/device:CPU:0\n",
            " 65/313 [=====>........................] - ETA: 49s - loss: 0.1206 - accuracy: 0.9674Executing op __inference_train_function_3168 in device /job:localhost/replica:0/task:0/device:CPU:0\n",
            " 66/313 [=====>........................] - ETA: 49s - loss: 0.1209 - accuracy: 0.9673Executing op __inference_train_function_3168 in device /job:localhost/replica:0/task:0/device:CPU:0\n",
            " 67/313 [=====>........................] - ETA: 48s - loss: 0.1207 - accuracy: 0.9674Executing op __inference_train_function_3168 in device /job:localhost/replica:0/task:0/device:CPU:0\n",
            " 68/313 [=====>........................] - ETA: 48s - loss: 0.1209 - accuracy: 0.9671Executing op __inference_train_function_3168 in device /job:localhost/replica:0/task:0/device:CPU:0\n",
            " 69/313 [=====>........................] - ETA: 48s - loss: 0.1210 - accuracy: 0.9668Executing op __inference_train_function_3168 in device /job:localhost/replica:0/task:0/device:CPU:0\n",
            " 70/313 [=====>........................] - ETA: 48s - loss: 0.1210 - accuracy: 0.9667Executing op __inference_train_function_3168 in device /job:localhost/replica:0/task:0/device:CPU:0\n",
            " 71/313 [=====>........................] - ETA: 48s - loss: 0.1208 - accuracy: 0.9668Executing op __inference_train_function_3168 in device /job:localhost/replica:0/task:0/device:CPU:0\n",
            " 72/313 [=====>........................] - ETA: 47s - loss: 0.1209 - accuracy: 0.9666Executing op __inference_train_function_3168 in device /job:localhost/replica:0/task:0/device:CPU:0\n",
            " 73/313 [=====>........................] - ETA: 47s - loss: 0.1206 - accuracy: 0.9667Executing op __inference_train_function_3168 in device /job:localhost/replica:0/task:0/device:CPU:0\n",
            " 74/313 [======>.......................] - ETA: 47s - loss: 0.1215 - accuracy: 0.9665Executing op __inference_train_function_3168 in device /job:localhost/replica:0/task:0/device:CPU:0\n",
            " 75/313 [======>.......................] - ETA: 47s - loss: 0.1208 - accuracy: 0.9666Executing op __inference_train_function_3168 in device /job:localhost/replica:0/task:0/device:CPU:0\n",
            " 76/313 [======>.......................] - ETA: 47s - loss: 0.1210 - accuracy: 0.9665Executing op __inference_train_function_3168 in device /job:localhost/replica:0/task:0/device:CPU:0\n",
            " 77/313 [======>.......................] - ETA: 46s - loss: 0.1210 - accuracy: 0.9665Executing op __inference_train_function_3168 in device /job:localhost/replica:0/task:0/device:CPU:0\n",
            " 78/313 [======>.......................] - ETA: 46s - loss: 0.1216 - accuracy: 0.9662Executing op __inference_train_function_3168 in device /job:localhost/replica:0/task:0/device:CPU:0\n",
            " 79/313 [======>.......................] - ETA: 46s - loss: 0.1209 - accuracy: 0.9664Executing op __inference_train_function_3168 in device /job:localhost/replica:0/task:0/device:CPU:0\n",
            " 80/313 [======>.......................] - ETA: 46s - loss: 0.1213 - accuracy: 0.9662Executing op __inference_train_function_3168 in device /job:localhost/replica:0/task:0/device:CPU:0\n",
            " 81/313 [======>.......................] - ETA: 46s - loss: 0.1213 - accuracy: 0.9661Executing op __inference_train_function_3168 in device /job:localhost/replica:0/task:0/device:CPU:0\n",
            " 82/313 [======>.......................] - ETA: 45s - loss: 0.1206 - accuracy: 0.9664Executing op __inference_train_function_3168 in device /job:localhost/replica:0/task:0/device:CPU:0\n",
            " 83/313 [======>.......................] - ETA: 45s - loss: 0.1203 - accuracy: 0.9665Executing op __inference_train_function_3168 in device /job:localhost/replica:0/task:0/device:CPU:0\n",
            " 84/313 [=======>......................] - ETA: 45s - loss: 0.1209 - accuracy: 0.9659Executing op __inference_train_function_3168 in device /job:localhost/replica:0/task:0/device:CPU:0\n",
            " 85/313 [=======>......................] - ETA: 45s - loss: 0.1210 - accuracy: 0.9657Executing op __inference_train_function_3168 in device /job:localhost/replica:0/task:0/device:CPU:0\n",
            " 86/313 [=======>......................] - ETA: 45s - loss: 0.1203 - accuracy: 0.9658Executing op __inference_train_function_3168 in device /job:localhost/replica:0/task:0/device:CPU:0\n",
            " 87/313 [=======>......................] - ETA: 45s - loss: 0.1205 - accuracy: 0.9654Executing op __inference_train_function_3168 in device /job:localhost/replica:0/task:0/device:CPU:0\n",
            " 88/313 [=======>......................] - ETA: 44s - loss: 0.1199 - accuracy: 0.9655Executing op __inference_train_function_3168 in device /job:localhost/replica:0/task:0/device:CPU:0\n",
            " 89/313 [=======>......................] - ETA: 44s - loss: 0.1201 - accuracy: 0.9654Executing op __inference_train_function_3168 in device /job:localhost/replica:0/task:0/device:CPU:0\n",
            " 90/313 [=======>......................] - ETA: 44s - loss: 0.1204 - accuracy: 0.9654Executing op __inference_train_function_3168 in device /job:localhost/replica:0/task:0/device:CPU:0\n",
            " 91/313 [=======>......................] - ETA: 44s - loss: 0.1208 - accuracy: 0.9652Executing op __inference_train_function_3168 in device /job:localhost/replica:0/task:0/device:CPU:0\n",
            " 92/313 [=======>......................] - ETA: 44s - loss: 0.1207 - accuracy: 0.9653Executing op __inference_train_function_3168 in device /job:localhost/replica:0/task:0/device:CPU:0\n",
            " 93/313 [=======>......................] - ETA: 43s - loss: 0.1205 - accuracy: 0.9655Executing op __inference_train_function_3168 in device /job:localhost/replica:0/task:0/device:CPU:0\n",
            " 94/313 [========>.....................] - ETA: 43s - loss: 0.1199 - accuracy: 0.9656Executing op __inference_train_function_3168 in device /job:localhost/replica:0/task:0/device:CPU:0\n",
            " 95/313 [========>.....................] - ETA: 43s - loss: 0.1202 - accuracy: 0.9655Executing op __inference_train_function_3168 in device /job:localhost/replica:0/task:0/device:CPU:0\n",
            " 96/313 [========>.....................] - ETA: 43s - loss: 0.1214 - accuracy: 0.9653Executing op __inference_train_function_3168 in device /job:localhost/replica:0/task:0/device:CPU:0\n",
            " 97/313 [========>.....................] - ETA: 43s - loss: 0.1222 - accuracy: 0.9647Executing op __inference_train_function_3168 in device /job:localhost/replica:0/task:0/device:CPU:0\n",
            " 98/313 [========>.....................] - ETA: 42s - loss: 0.1225 - accuracy: 0.9646Executing op __inference_train_function_3168 in device /job:localhost/replica:0/task:0/device:CPU:0\n",
            " 99/313 [========>.....................] - ETA: 42s - loss: 0.1224 - accuracy: 0.9646Executing op __inference_train_function_3168 in device /job:localhost/replica:0/task:0/device:CPU:0\n",
            "100/313 [========>.....................] - ETA: 42s - loss: 0.1225 - accuracy: 0.9645Executing op __inference_train_function_3168 in device /job:localhost/replica:0/task:0/device:CPU:0\n",
            "101/313 [========>.....................] - ETA: 42s - loss: 0.1226 - accuracy: 0.9646Executing op __inference_train_function_3168 in device /job:localhost/replica:0/task:0/device:CPU:0\n",
            "102/313 [========>.....................] - ETA: 42s - loss: 0.1227 - accuracy: 0.9645Executing op __inference_train_function_3168 in device /job:localhost/replica:0/task:0/device:CPU:0\n",
            "103/313 [========>.....................] - ETA: 41s - loss: 0.1233 - accuracy: 0.9644Executing op __inference_train_function_3168 in device /job:localhost/replica:0/task:0/device:CPU:0\n",
            "104/313 [========>.....................] - ETA: 41s - loss: 0.1234 - accuracy: 0.9644Executing op __inference_train_function_3168 in device /job:localhost/replica:0/task:0/device:CPU:0\n",
            "105/313 [=========>....................] - ETA: 41s - loss: 0.1239 - accuracy: 0.9641Executing op __inference_train_function_3168 in device /job:localhost/replica:0/task:0/device:CPU:0\n",
            "106/313 [=========>....................] - ETA: 41s - loss: 0.1237 - accuracy: 0.9643Executing op __inference_train_function_3168 in device /job:localhost/replica:0/task:0/device:CPU:0\n",
            "107/313 [=========>....................] - ETA: 41s - loss: 0.1236 - accuracy: 0.9642Executing op __inference_train_function_3168 in device /job:localhost/replica:0/task:0/device:CPU:0\n",
            "108/313 [=========>....................] - ETA: 40s - loss: 0.1238 - accuracy: 0.9642Executing op __inference_train_function_3168 in device /job:localhost/replica:0/task:0/device:CPU:0\n",
            "109/313 [=========>....................] - ETA: 40s - loss: 0.1233 - accuracy: 0.9642Executing op __inference_train_function_3168 in device /job:localhost/replica:0/task:0/device:CPU:0\n",
            "110/313 [=========>....................] - ETA: 40s - loss: 0.1227 - accuracy: 0.9645Executing op __inference_train_function_3168 in device /job:localhost/replica:0/task:0/device:CPU:0\n",
            "111/313 [=========>....................] - ETA: 40s - loss: 0.1233 - accuracy: 0.9642Executing op __inference_train_function_3168 in device /job:localhost/replica:0/task:0/device:CPU:0\n",
            "112/313 [=========>....................] - ETA: 40s - loss: 0.1232 - accuracy: 0.9644Executing op __inference_train_function_3168 in device /job:localhost/replica:0/task:0/device:CPU:0\n",
            "113/313 [=========>....................] - ETA: 39s - loss: 0.1227 - accuracy: 0.9646Executing op __inference_train_function_3168 in device /job:localhost/replica:0/task:0/device:CPU:0\n",
            "114/313 [=========>....................] - ETA: 39s - loss: 0.1225 - accuracy: 0.9646Executing op __inference_train_function_3168 in device /job:localhost/replica:0/task:0/device:CPU:0\n",
            "115/313 [==========>...................] - ETA: 39s - loss: 0.1225 - accuracy: 0.9646Executing op __inference_train_function_3168 in device /job:localhost/replica:0/task:0/device:CPU:0\n",
            "116/313 [==========>...................] - ETA: 39s - loss: 0.1232 - accuracy: 0.9644Executing op __inference_train_function_3168 in device /job:localhost/replica:0/task:0/device:CPU:0\n",
            "117/313 [==========>...................] - ETA: 39s - loss: 0.1231 - accuracy: 0.9643Executing op __inference_train_function_3168 in device /job:localhost/replica:0/task:0/device:CPU:0\n",
            "118/313 [==========>...................] - ETA: 38s - loss: 0.1231 - accuracy: 0.9644Executing op __inference_train_function_3168 in device /job:localhost/replica:0/task:0/device:CPU:0\n",
            "119/313 [==========>...................] - ETA: 38s - loss: 0.1233 - accuracy: 0.9644Executing op __inference_train_function_3168 in device /job:localhost/replica:0/task:0/device:CPU:0\n",
            "120/313 [==========>...................] - ETA: 38s - loss: 0.1231 - accuracy: 0.9645Executing op __inference_train_function_3168 in device /job:localhost/replica:0/task:0/device:CPU:0\n",
            "121/313 [==========>...................] - ETA: 38s - loss: 0.1230 - accuracy: 0.9645Executing op __inference_train_function_3168 in device /job:localhost/replica:0/task:0/device:CPU:0\n",
            "122/313 [==========>...................] - ETA: 38s - loss: 0.1229 - accuracy: 0.9643Executing op __inference_train_function_3168 in device /job:localhost/replica:0/task:0/device:CPU:0\n",
            "123/313 [==========>...................] - ETA: 37s - loss: 0.1237 - accuracy: 0.9640Executing op __inference_train_function_3168 in device /job:localhost/replica:0/task:0/device:CPU:0\n",
            "124/313 [==========>...................] - ETA: 37s - loss: 0.1235 - accuracy: 0.9641Executing op __inference_train_function_3168 in device /job:localhost/replica:0/task:0/device:CPU:0\n",
            "125/313 [==========>...................] - ETA: 37s - loss: 0.1239 - accuracy: 0.9639Executing op __inference_train_function_3168 in device /job:localhost/replica:0/task:0/device:CPU:0\n",
            "126/313 [===========>..................] - ETA: 37s - loss: 0.1238 - accuracy: 0.9639Executing op __inference_train_function_3168 in device /job:localhost/replica:0/task:0/device:CPU:0\n",
            "127/313 [===========>..................] - ETA: 37s - loss: 0.1234 - accuracy: 0.9641Executing op __inference_train_function_3168 in device /job:localhost/replica:0/task:0/device:CPU:0\n",
            "128/313 [===========>..................] - ETA: 36s - loss: 0.1236 - accuracy: 0.9641Executing op __inference_train_function_3168 in device /job:localhost/replica:0/task:0/device:CPU:0\n",
            "129/313 [===========>..................] - ETA: 36s - loss: 0.1245 - accuracy: 0.9638Executing op __inference_train_function_3168 in device /job:localhost/replica:0/task:0/device:CPU:0\n",
            "130/313 [===========>..................] - ETA: 36s - loss: 0.1246 - accuracy: 0.9637Executing op __inference_train_function_3168 in device /job:localhost/replica:0/task:0/device:CPU:0\n",
            "131/313 [===========>..................] - ETA: 36s - loss: 0.1242 - accuracy: 0.9639Executing op __inference_train_function_3168 in device /job:localhost/replica:0/task:0/device:CPU:0\n",
            "132/313 [===========>..................] - ETA: 36s - loss: 0.1244 - accuracy: 0.9639Executing op __inference_train_function_3168 in device /job:localhost/replica:0/task:0/device:CPU:0\n",
            "133/313 [===========>..................] - ETA: 35s - loss: 0.1247 - accuracy: 0.9638Executing op __inference_train_function_3168 in device /job:localhost/replica:0/task:0/device:CPU:0\n",
            "134/313 [===========>..................] - ETA: 35s - loss: 0.1245 - accuracy: 0.9639Executing op __inference_train_function_3168 in device /job:localhost/replica:0/task:0/device:CPU:0\n",
            "135/313 [===========>..................] - ETA: 35s - loss: 0.1244 - accuracy: 0.9639Executing op __inference_train_function_3168 in device /job:localhost/replica:0/task:0/device:CPU:0\n",
            "136/313 [============>.................] - ETA: 35s - loss: 0.1243 - accuracy: 0.9639Executing op __inference_train_function_3168 in device /job:localhost/replica:0/task:0/device:CPU:0\n",
            "137/313 [============>.................] - ETA: 35s - loss: 0.1251 - accuracy: 0.9637Executing op __inference_train_function_3168 in device /job:localhost/replica:0/task:0/device:CPU:0\n",
            "138/313 [============>.................] - ETA: 34s - loss: 0.1253 - accuracy: 0.9637Executing op __inference_train_function_3168 in device /job:localhost/replica:0/task:0/device:CPU:0\n",
            "139/313 [============>.................] - ETA: 34s - loss: 0.1250 - accuracy: 0.9638Executing op __inference_train_function_3168 in device /job:localhost/replica:0/task:0/device:CPU:0\n",
            "140/313 [============>.................] - ETA: 34s - loss: 0.1244 - accuracy: 0.9640Executing op __inference_train_function_3168 in device /job:localhost/replica:0/task:0/device:CPU:0\n",
            "141/313 [============>.................] - ETA: 34s - loss: 0.1247 - accuracy: 0.9640Executing op __inference_train_function_3168 in device /job:localhost/replica:0/task:0/device:CPU:0\n",
            "142/313 [============>.................] - ETA: 34s - loss: 0.1245 - accuracy: 0.9640Executing op __inference_train_function_3168 in device /job:localhost/replica:0/task:0/device:CPU:0\n",
            "143/313 [============>.................] - ETA: 33s - loss: 0.1244 - accuracy: 0.9641Executing op __inference_train_function_3168 in device /job:localhost/replica:0/task:0/device:CPU:0\n",
            "144/313 [============>.................] - ETA: 33s - loss: 0.1243 - accuracy: 0.9641Executing op __inference_train_function_3168 in device /job:localhost/replica:0/task:0/device:CPU:0\n",
            "145/313 [============>.................] - ETA: 33s - loss: 0.1239 - accuracy: 0.9641Executing op __inference_train_function_3168 in device /job:localhost/replica:0/task:0/device:CPU:0\n",
            "146/313 [============>.................] - ETA: 33s - loss: 0.1238 - accuracy: 0.9641Executing op __inference_train_function_3168 in device /job:localhost/replica:0/task:0/device:CPU:0\n",
            "147/313 [=============>................] - ETA: 33s - loss: 0.1235 - accuracy: 0.9642Executing op __inference_train_function_3168 in device /job:localhost/replica:0/task:0/device:CPU:0\n",
            "148/313 [=============>................] - ETA: 32s - loss: 0.1235 - accuracy: 0.9641Executing op __inference_train_function_3168 in device /job:localhost/replica:0/task:0/device:CPU:0\n",
            "149/313 [=============>................] - ETA: 32s - loss: 0.1231 - accuracy: 0.9642Executing op __inference_train_function_3168 in device /job:localhost/replica:0/task:0/device:CPU:0\n",
            "150/313 [=============>................] - ETA: 32s - loss: 0.1233 - accuracy: 0.9641Executing op __inference_train_function_3168 in device /job:localhost/replica:0/task:0/device:CPU:0\n",
            "151/313 [=============>................] - ETA: 32s - loss: 0.1231 - accuracy: 0.9642Executing op __inference_train_function_3168 in device /job:localhost/replica:0/task:0/device:CPU:0\n",
            "152/313 [=============>................] - ETA: 32s - loss: 0.1230 - accuracy: 0.9643Executing op __inference_train_function_3168 in device /job:localhost/replica:0/task:0/device:CPU:0\n",
            "153/313 [=============>................] - ETA: 31s - loss: 0.1230 - accuracy: 0.9644Executing op __inference_train_function_3168 in device /job:localhost/replica:0/task:0/device:CPU:0\n",
            "154/313 [=============>................] - ETA: 31s - loss: 0.1235 - accuracy: 0.9643Executing op __inference_train_function_3168 in device /job:localhost/replica:0/task:0/device:CPU:0\n",
            "155/313 [=============>................] - ETA: 31s - loss: 0.1234 - accuracy: 0.9643Executing op __inference_train_function_3168 in device /job:localhost/replica:0/task:0/device:CPU:0\n",
            "156/313 [=============>................] - ETA: 31s - loss: 0.1238 - accuracy: 0.9641Executing op __inference_train_function_3168 in device /job:localhost/replica:0/task:0/device:CPU:0\n",
            "157/313 [==============>...............] - ETA: 31s - loss: 0.1237 - accuracy: 0.9642Executing op __inference_train_function_3168 in device /job:localhost/replica:0/task:0/device:CPU:0\n",
            "158/313 [==============>...............] - ETA: 30s - loss: 0.1237 - accuracy: 0.9640Executing op __inference_train_function_3168 in device /job:localhost/replica:0/task:0/device:CPU:0\n",
            "159/313 [==============>...............] - ETA: 30s - loss: 0.1235 - accuracy: 0.9639Executing op __inference_train_function_3168 in device /job:localhost/replica:0/task:0/device:CPU:0\n",
            "160/313 [==============>...............] - ETA: 30s - loss: 0.1236 - accuracy: 0.9638Executing op __inference_train_function_3168 in device /job:localhost/replica:0/task:0/device:CPU:0\n",
            "161/313 [==============>...............] - ETA: 30s - loss: 0.1234 - accuracy: 0.9638Executing op __inference_train_function_3168 in device /job:localhost/replica:0/task:0/device:CPU:0\n",
            "162/313 [==============>...............] - ETA: 30s - loss: 0.1235 - accuracy: 0.9639Executing op __inference_train_function_3168 in device /job:localhost/replica:0/task:0/device:CPU:0\n",
            "163/313 [==============>...............] - ETA: 29s - loss: 0.1238 - accuracy: 0.9637Executing op __inference_train_function_3168 in device /job:localhost/replica:0/task:0/device:CPU:0\n",
            "164/313 [==============>...............] - ETA: 29s - loss: 0.1236 - accuracy: 0.9638Executing op __inference_train_function_3168 in device /job:localhost/replica:0/task:0/device:CPU:0\n",
            "165/313 [==============>...............] - ETA: 29s - loss: 0.1235 - accuracy: 0.9638Executing op __inference_train_function_3168 in device /job:localhost/replica:0/task:0/device:CPU:0\n",
            "166/313 [==============>...............] - ETA: 29s - loss: 0.1234 - accuracy: 0.9638Executing op __inference_train_function_3168 in device /job:localhost/replica:0/task:0/device:CPU:0\n",
            "167/313 [===============>..............] - ETA: 29s - loss: 0.1233 - accuracy: 0.9638Executing op __inference_train_function_3168 in device /job:localhost/replica:0/task:0/device:CPU:0\n",
            "168/313 [===============>..............] - ETA: 28s - loss: 0.1233 - accuracy: 0.9639Executing op __inference_train_function_3168 in device /job:localhost/replica:0/task:0/device:CPU:0\n",
            "169/313 [===============>..............] - ETA: 28s - loss: 0.1231 - accuracy: 0.9639Executing op __inference_train_function_3168 in device /job:localhost/replica:0/task:0/device:CPU:0\n",
            "170/313 [===============>..............] - ETA: 28s - loss: 0.1231 - accuracy: 0.9639Executing op __inference_train_function_3168 in device /job:localhost/replica:0/task:0/device:CPU:0\n",
            "171/313 [===============>..............] - ETA: 28s - loss: 0.1230 - accuracy: 0.9639Executing op __inference_train_function_3168 in device /job:localhost/replica:0/task:0/device:CPU:0\n",
            "172/313 [===============>..............] - ETA: 28s - loss: 0.1231 - accuracy: 0.9639Executing op __inference_train_function_3168 in device /job:localhost/replica:0/task:0/device:CPU:0\n",
            "173/313 [===============>..............] - ETA: 27s - loss: 0.1239 - accuracy: 0.9636Executing op __inference_train_function_3168 in device /job:localhost/replica:0/task:0/device:CPU:0\n",
            "174/313 [===============>..............] - ETA: 27s - loss: 0.1241 - accuracy: 0.9636Executing op __inference_train_function_3168 in device /job:localhost/replica:0/task:0/device:CPU:0\n",
            "175/313 [===============>..............] - ETA: 27s - loss: 0.1240 - accuracy: 0.9637Executing op __inference_train_function_3168 in device /job:localhost/replica:0/task:0/device:CPU:0\n",
            "176/313 [===============>..............] - ETA: 27s - loss: 0.1245 - accuracy: 0.9635Executing op __inference_train_function_3168 in device /job:localhost/replica:0/task:0/device:CPU:0\n",
            "177/313 [===============>..............] - ETA: 27s - loss: 0.1246 - accuracy: 0.9635Executing op __inference_train_function_3168 in device /job:localhost/replica:0/task:0/device:CPU:0\n",
            "178/313 [================>.............] - ETA: 26s - loss: 0.1248 - accuracy: 0.9635Executing op __inference_train_function_3168 in device /job:localhost/replica:0/task:0/device:CPU:0\n",
            "179/313 [================>.............] - ETA: 26s - loss: 0.1245 - accuracy: 0.9636Executing op __inference_train_function_3168 in device /job:localhost/replica:0/task:0/device:CPU:0\n",
            "180/313 [================>.............] - ETA: 26s - loss: 0.1245 - accuracy: 0.9636Executing op __inference_train_function_3168 in device /job:localhost/replica:0/task:0/device:CPU:0\n",
            "181/313 [================>.............] - ETA: 26s - loss: 0.1243 - accuracy: 0.9637Executing op __inference_train_function_3168 in device /job:localhost/replica:0/task:0/device:CPU:0\n",
            "182/313 [================>.............] - ETA: 26s - loss: 0.1246 - accuracy: 0.9635Executing op __inference_train_function_3168 in device /job:localhost/replica:0/task:0/device:CPU:0\n",
            "183/313 [================>.............] - ETA: 25s - loss: 0.1247 - accuracy: 0.9634Executing op __inference_train_function_3168 in device /job:localhost/replica:0/task:0/device:CPU:0\n",
            "184/313 [================>.............] - ETA: 25s - loss: 0.1246 - accuracy: 0.9634Executing op __inference_train_function_3168 in device /job:localhost/replica:0/task:0/device:CPU:0\n",
            "185/313 [================>.............] - ETA: 25s - loss: 0.1245 - accuracy: 0.9634Executing op __inference_train_function_3168 in device /job:localhost/replica:0/task:0/device:CPU:0\n",
            "186/313 [================>.............] - ETA: 25s - loss: 0.1243 - accuracy: 0.9634Executing op __inference_train_function_3168 in device /job:localhost/replica:0/task:0/device:CPU:0\n",
            "187/313 [================>.............] - ETA: 25s - loss: 0.1246 - accuracy: 0.9634Executing op __inference_train_function_3168 in device /job:localhost/replica:0/task:0/device:CPU:0\n",
            "188/313 [=================>............] - ETA: 24s - loss: 0.1247 - accuracy: 0.9634Executing op __inference_train_function_3168 in device /job:localhost/replica:0/task:0/device:CPU:0\n",
            "189/313 [=================>............] - ETA: 24s - loss: 0.1253 - accuracy: 0.9632Executing op __inference_train_function_3168 in device /job:localhost/replica:0/task:0/device:CPU:0\n",
            "190/313 [=================>............] - ETA: 24s - loss: 0.1255 - accuracy: 0.9631Executing op __inference_train_function_3168 in device /job:localhost/replica:0/task:0/device:CPU:0\n",
            "191/313 [=================>............] - ETA: 24s - loss: 0.1253 - accuracy: 0.9633Executing op __inference_train_function_3168 in device /job:localhost/replica:0/task:0/device:CPU:0\n",
            "192/313 [=================>............] - ETA: 24s - loss: 0.1256 - accuracy: 0.9632Executing op __inference_train_function_3168 in device /job:localhost/replica:0/task:0/device:CPU:0\n",
            "193/313 [=================>............] - ETA: 23s - loss: 0.1257 - accuracy: 0.9631Executing op __inference_train_function_3168 in device /job:localhost/replica:0/task:0/device:CPU:0\n",
            "194/313 [=================>............] - ETA: 23s - loss: 0.1256 - accuracy: 0.9631Executing op __inference_train_function_3168 in device /job:localhost/replica:0/task:0/device:CPU:0\n",
            "195/313 [=================>............] - ETA: 23s - loss: 0.1254 - accuracy: 0.9631Executing op __inference_train_function_3168 in device /job:localhost/replica:0/task:0/device:CPU:0\n",
            "196/313 [=================>............] - ETA: 23s - loss: 0.1252 - accuracy: 0.9632Executing op __inference_train_function_3168 in device /job:localhost/replica:0/task:0/device:CPU:0\n",
            "197/313 [=================>............] - ETA: 23s - loss: 0.1257 - accuracy: 0.9631Executing op __inference_train_function_3168 in device /job:localhost/replica:0/task:0/device:CPU:0\n",
            "198/313 [=================>............] - ETA: 22s - loss: 0.1256 - accuracy: 0.9630Executing op __inference_train_function_3168 in device /job:localhost/replica:0/task:0/device:CPU:0\n",
            "199/313 [==================>...........] - ETA: 22s - loss: 0.1257 - accuracy: 0.9629Executing op __inference_train_function_3168 in device /job:localhost/replica:0/task:0/device:CPU:0\n",
            "200/313 [==================>...........] - ETA: 22s - loss: 0.1258 - accuracy: 0.9629Executing op __inference_train_function_3168 in device /job:localhost/replica:0/task:0/device:CPU:0\n",
            "201/313 [==================>...........] - ETA: 22s - loss: 0.1258 - accuracy: 0.9629Executing op __inference_train_function_3168 in device /job:localhost/replica:0/task:0/device:CPU:0\n",
            "202/313 [==================>...........] - ETA: 22s - loss: 0.1257 - accuracy: 0.9629Executing op __inference_train_function_3168 in device /job:localhost/replica:0/task:0/device:CPU:0\n",
            "203/313 [==================>...........] - ETA: 21s - loss: 0.1256 - accuracy: 0.9630Executing op __inference_train_function_3168 in device /job:localhost/replica:0/task:0/device:CPU:0\n",
            "204/313 [==================>...........] - ETA: 21s - loss: 0.1256 - accuracy: 0.9630Executing op __inference_train_function_3168 in device /job:localhost/replica:0/task:0/device:CPU:0\n",
            "205/313 [==================>...........] - ETA: 21s - loss: 0.1257 - accuracy: 0.9628Executing op __inference_train_function_3168 in device /job:localhost/replica:0/task:0/device:CPU:0\n",
            "206/313 [==================>...........] - ETA: 21s - loss: 0.1256 - accuracy: 0.9629Executing op __inference_train_function_3168 in device /job:localhost/replica:0/task:0/device:CPU:0\n",
            "207/313 [==================>...........] - ETA: 21s - loss: 0.1256 - accuracy: 0.9629Executing op __inference_train_function_3168 in device /job:localhost/replica:0/task:0/device:CPU:0\n",
            "208/313 [==================>...........] - ETA: 20s - loss: 0.1256 - accuracy: 0.9629Executing op __inference_train_function_3168 in device /job:localhost/replica:0/task:0/device:CPU:0\n",
            "209/313 [===================>..........] - ETA: 20s - loss: 0.1256 - accuracy: 0.9628Executing op __inference_train_function_3168 in device /job:localhost/replica:0/task:0/device:CPU:0\n",
            "210/313 [===================>..........] - ETA: 20s - loss: 0.1256 - accuracy: 0.9628Executing op __inference_train_function_3168 in device /job:localhost/replica:0/task:0/device:CPU:0\n",
            "211/313 [===================>..........] - ETA: 20s - loss: 0.1255 - accuracy: 0.9629Executing op __inference_train_function_3168 in device /job:localhost/replica:0/task:0/device:CPU:0\n",
            "212/313 [===================>..........] - ETA: 20s - loss: 0.1252 - accuracy: 0.9630Executing op __inference_train_function_3168 in device /job:localhost/replica:0/task:0/device:CPU:0\n",
            "213/313 [===================>..........] - ETA: 19s - loss: 0.1251 - accuracy: 0.9630Executing op __inference_train_function_3168 in device /job:localhost/replica:0/task:0/device:CPU:0\n",
            "214/313 [===================>..........] - ETA: 19s - loss: 0.1254 - accuracy: 0.9628Executing op __inference_train_function_3168 in device /job:localhost/replica:0/task:0/device:CPU:0\n",
            "215/313 [===================>..........] - ETA: 19s - loss: 0.1257 - accuracy: 0.9628Executing op __inference_train_function_3168 in device /job:localhost/replica:0/task:0/device:CPU:0\n",
            "216/313 [===================>..........] - ETA: 19s - loss: 0.1262 - accuracy: 0.9626Executing op __inference_train_function_3168 in device /job:localhost/replica:0/task:0/device:CPU:0\n",
            "217/313 [===================>..........] - ETA: 19s - loss: 0.1265 - accuracy: 0.9625Executing op __inference_train_function_3168 in device /job:localhost/replica:0/task:0/device:CPU:0\n",
            "218/313 [===================>..........] - ETA: 18s - loss: 0.1265 - accuracy: 0.9625Executing op __inference_train_function_3168 in device /job:localhost/replica:0/task:0/device:CPU:0\n",
            "219/313 [===================>..........] - ETA: 18s - loss: 0.1264 - accuracy: 0.9625Executing op __inference_train_function_3168 in device /job:localhost/replica:0/task:0/device:CPU:0\n",
            "220/313 [====================>.........] - ETA: 18s - loss: 0.1263 - accuracy: 0.9626Executing op __inference_train_function_3168 in device /job:localhost/replica:0/task:0/device:CPU:0\n",
            "221/313 [====================>.........] - ETA: 18s - loss: 0.1263 - accuracy: 0.9626Executing op __inference_train_function_3168 in device /job:localhost/replica:0/task:0/device:CPU:0\n",
            "222/313 [====================>.........] - ETA: 18s - loss: 0.1262 - accuracy: 0.9627Executing op __inference_train_function_3168 in device /job:localhost/replica:0/task:0/device:CPU:0\n",
            "223/313 [====================>.........] - ETA: 17s - loss: 0.1262 - accuracy: 0.9627Executing op __inference_train_function_3168 in device /job:localhost/replica:0/task:0/device:CPU:0\n",
            "224/313 [====================>.........] - ETA: 17s - loss: 0.1265 - accuracy: 0.9626Executing op __inference_train_function_3168 in device /job:localhost/replica:0/task:0/device:CPU:0\n",
            "225/313 [====================>.........] - ETA: 17s - loss: 0.1263 - accuracy: 0.9626Executing op __inference_train_function_3168 in device /job:localhost/replica:0/task:0/device:CPU:0\n",
            "226/313 [====================>.........] - ETA: 17s - loss: 0.1261 - accuracy: 0.9627Executing op __inference_train_function_3168 in device /job:localhost/replica:0/task:0/device:CPU:0\n",
            "227/313 [====================>.........] - ETA: 17s - loss: 0.1260 - accuracy: 0.9627Executing op __inference_train_function_3168 in device /job:localhost/replica:0/task:0/device:CPU:0\n",
            "228/313 [====================>.........] - ETA: 16s - loss: 0.1267 - accuracy: 0.9623Executing op __inference_train_function_3168 in device /job:localhost/replica:0/task:0/device:CPU:0\n",
            "229/313 [====================>.........] - ETA: 16s - loss: 0.1266 - accuracy: 0.9624Executing op __inference_train_function_3168 in device /job:localhost/replica:0/task:0/device:CPU:0\n",
            "230/313 [=====================>........] - ETA: 16s - loss: 0.1266 - accuracy: 0.9623Executing op __inference_train_function_3168 in device /job:localhost/replica:0/task:0/device:CPU:0\n",
            "231/313 [=====================>........] - ETA: 16s - loss: 0.1267 - accuracy: 0.9622Executing op __inference_train_function_3168 in device /job:localhost/replica:0/task:0/device:CPU:0\n",
            "232/313 [=====================>........] - ETA: 16s - loss: 0.1268 - accuracy: 0.9622Executing op __inference_train_function_3168 in device /job:localhost/replica:0/task:0/device:CPU:0\n",
            "233/313 [=====================>........] - ETA: 15s - loss: 0.1271 - accuracy: 0.9620Executing op __inference_train_function_3168 in device /job:localhost/replica:0/task:0/device:CPU:0\n",
            "234/313 [=====================>........] - ETA: 15s - loss: 0.1274 - accuracy: 0.9618Executing op __inference_train_function_3168 in device /job:localhost/replica:0/task:0/device:CPU:0\n",
            "235/313 [=====================>........] - ETA: 15s - loss: 0.1273 - accuracy: 0.9617Executing op __inference_train_function_3168 in device /job:localhost/replica:0/task:0/device:CPU:0\n",
            "236/313 [=====================>........] - ETA: 15s - loss: 0.1270 - accuracy: 0.9618Executing op __inference_train_function_3168 in device /job:localhost/replica:0/task:0/device:CPU:0\n",
            "237/313 [=====================>........] - ETA: 15s - loss: 0.1268 - accuracy: 0.9619Executing op __inference_train_function_3168 in device /job:localhost/replica:0/task:0/device:CPU:0\n",
            "238/313 [=====================>........] - ETA: 14s - loss: 0.1268 - accuracy: 0.9619Executing op __inference_train_function_3168 in device /job:localhost/replica:0/task:0/device:CPU:0\n",
            "239/313 [=====================>........] - ETA: 14s - loss: 0.1268 - accuracy: 0.9619Executing op __inference_train_function_3168 in device /job:localhost/replica:0/task:0/device:CPU:0\n",
            "240/313 [======================>.......] - ETA: 14s - loss: 0.1267 - accuracy: 0.9619Executing op __inference_train_function_3168 in device /job:localhost/replica:0/task:0/device:CPU:0\n",
            "241/313 [======================>.......] - ETA: 14s - loss: 0.1275 - accuracy: 0.9617Executing op __inference_train_function_3168 in device /job:localhost/replica:0/task:0/device:CPU:0\n",
            "242/313 [======================>.......] - ETA: 14s - loss: 0.1275 - accuracy: 0.9617Executing op __inference_train_function_3168 in device /job:localhost/replica:0/task:0/device:CPU:0\n",
            "243/313 [======================>.......] - ETA: 13s - loss: 0.1277 - accuracy: 0.9616Executing op __inference_train_function_3168 in device /job:localhost/replica:0/task:0/device:CPU:0\n",
            "244/313 [======================>.......] - ETA: 13s - loss: 0.1274 - accuracy: 0.9618Executing op __inference_train_function_3168 in device /job:localhost/replica:0/task:0/device:CPU:0\n",
            "245/313 [======================>.......] - ETA: 13s - loss: 0.1273 - accuracy: 0.9618Executing op __inference_train_function_3168 in device /job:localhost/replica:0/task:0/device:CPU:0\n",
            "246/313 [======================>.......] - ETA: 13s - loss: 0.1272 - accuracy: 0.9618Executing op __inference_train_function_3168 in device /job:localhost/replica:0/task:0/device:CPU:0\n",
            "247/313 [======================>.......] - ETA: 13s - loss: 0.1275 - accuracy: 0.9617Executing op __inference_train_function_3168 in device /job:localhost/replica:0/task:0/device:CPU:0\n",
            "248/313 [======================>.......] - ETA: 12s - loss: 0.1276 - accuracy: 0.9617Executing op __inference_train_function_3168 in device /job:localhost/replica:0/task:0/device:CPU:0\n",
            "249/313 [======================>.......] - ETA: 12s - loss: 0.1277 - accuracy: 0.9615Executing op __inference_train_function_3168 in device /job:localhost/replica:0/task:0/device:CPU:0\n",
            "250/313 [======================>.......] - ETA: 12s - loss: 0.1279 - accuracy: 0.9614Executing op __inference_train_function_3168 in device /job:localhost/replica:0/task:0/device:CPU:0\n",
            "251/313 [=======================>......] - ETA: 12s - loss: 0.1280 - accuracy: 0.9614Executing op __inference_train_function_3168 in device /job:localhost/replica:0/task:0/device:CPU:0\n",
            "252/313 [=======================>......] - ETA: 12s - loss: 0.1281 - accuracy: 0.9613Executing op __inference_train_function_3168 in device /job:localhost/replica:0/task:0/device:CPU:0\n",
            "253/313 [=======================>......] - ETA: 11s - loss: 0.1285 - accuracy: 0.9612Executing op __inference_train_function_3168 in device /job:localhost/replica:0/task:0/device:CPU:0\n",
            "254/313 [=======================>......] - ETA: 11s - loss: 0.1285 - accuracy: 0.9612Executing op __inference_train_function_3168 in device /job:localhost/replica:0/task:0/device:CPU:0\n",
            "255/313 [=======================>......] - ETA: 11s - loss: 0.1288 - accuracy: 0.9609Executing op __inference_train_function_3168 in device /job:localhost/replica:0/task:0/device:CPU:0\n",
            "256/313 [=======================>......] - ETA: 11s - loss: 0.1293 - accuracy: 0.9608Executing op __inference_train_function_3168 in device /job:localhost/replica:0/task:0/device:CPU:0\n",
            "257/313 [=======================>......] - ETA: 11s - loss: 0.1291 - accuracy: 0.9608Executing op __inference_train_function_3168 in device /job:localhost/replica:0/task:0/device:CPU:0\n",
            "258/313 [=======================>......] - ETA: 10s - loss: 0.1291 - accuracy: 0.9608Executing op __inference_train_function_3168 in device /job:localhost/replica:0/task:0/device:CPU:0\n",
            "259/313 [=======================>......] - ETA: 10s - loss: 0.1290 - accuracy: 0.9609Executing op __inference_train_function_3168 in device /job:localhost/replica:0/task:0/device:CPU:0\n",
            "260/313 [=======================>......] - ETA: 10s - loss: 0.1292 - accuracy: 0.9608Executing op __inference_train_function_3168 in device /job:localhost/replica:0/task:0/device:CPU:0\n",
            "261/313 [========================>.....] - ETA: 10s - loss: 0.1292 - accuracy: 0.9608Executing op __inference_train_function_3168 in device /job:localhost/replica:0/task:0/device:CPU:0\n",
            "262/313 [========================>.....] - ETA: 10s - loss: 0.1295 - accuracy: 0.9608Executing op __inference_train_function_3168 in device /job:localhost/replica:0/task:0/device:CPU:0\n",
            "263/313 [========================>.....] - ETA: 10s - loss: 0.1296 - accuracy: 0.9608Executing op __inference_train_function_3168 in device /job:localhost/replica:0/task:0/device:CPU:0\n",
            "264/313 [========================>.....] - ETA: 9s - loss: 0.1298 - accuracy: 0.9607 Executing op __inference_train_function_3168 in device /job:localhost/replica:0/task:0/device:CPU:0\n",
            "265/313 [========================>.....] - ETA: 9s - loss: 0.1296 - accuracy: 0.9608Executing op __inference_train_function_3168 in device /job:localhost/replica:0/task:0/device:CPU:0\n",
            "266/313 [========================>.....] - ETA: 9s - loss: 0.1296 - accuracy: 0.9608Executing op __inference_train_function_3168 in device /job:localhost/replica:0/task:0/device:CPU:0\n",
            "267/313 [========================>.....] - ETA: 9s - loss: 0.1296 - accuracy: 0.9607Executing op __inference_train_function_3168 in device /job:localhost/replica:0/task:0/device:CPU:0\n",
            "268/313 [========================>.....] - ETA: 9s - loss: 0.1296 - accuracy: 0.9607Executing op __inference_train_function_3168 in device /job:localhost/replica:0/task:0/device:CPU:0\n",
            "269/313 [========================>.....] - ETA: 8s - loss: 0.1296 - accuracy: 0.9607Executing op __inference_train_function_3168 in device /job:localhost/replica:0/task:0/device:CPU:0\n",
            "270/313 [========================>.....] - ETA: 8s - loss: 0.1298 - accuracy: 0.9606Executing op __inference_train_function_3168 in device /job:localhost/replica:0/task:0/device:CPU:0\n",
            "271/313 [========================>.....] - ETA: 8s - loss: 0.1302 - accuracy: 0.9605Executing op __inference_train_function_3168 in device /job:localhost/replica:0/task:0/device:CPU:0\n",
            "272/313 [=========================>....] - ETA: 8s - loss: 0.1305 - accuracy: 0.9604Executing op __inference_train_function_3168 in device /job:localhost/replica:0/task:0/device:CPU:0\n",
            "273/313 [=========================>....] - ETA: 7s - loss: 0.1306 - accuracy: 0.9603Executing op __inference_train_function_3168 in device /job:localhost/replica:0/task:0/device:CPU:0\n",
            "274/313 [=========================>....] - ETA: 7s - loss: 0.1305 - accuracy: 0.9603Executing op __inference_train_function_3168 in device /job:localhost/replica:0/task:0/device:CPU:0\n",
            "275/313 [=========================>....] - ETA: 7s - loss: 0.1306 - accuracy: 0.9602Executing op __inference_train_function_3168 in device /job:localhost/replica:0/task:0/device:CPU:0\n",
            "276/313 [=========================>....] - ETA: 7s - loss: 0.1306 - accuracy: 0.9602Executing op __inference_train_function_3168 in device /job:localhost/replica:0/task:0/device:CPU:0\n",
            "277/313 [=========================>....] - ETA: 7s - loss: 0.1306 - accuracy: 0.9602Executing op __inference_train_function_3168 in device /job:localhost/replica:0/task:0/device:CPU:0\n",
            "278/313 [=========================>....] - ETA: 6s - loss: 0.1305 - accuracy: 0.9603Executing op __inference_train_function_3168 in device /job:localhost/replica:0/task:0/device:CPU:0\n",
            "279/313 [=========================>....] - ETA: 6s - loss: 0.1305 - accuracy: 0.9602Executing op __inference_train_function_3168 in device /job:localhost/replica:0/task:0/device:CPU:0\n",
            "280/313 [=========================>....] - ETA: 6s - loss: 0.1308 - accuracy: 0.9601Executing op __inference_train_function_3168 in device /job:localhost/replica:0/task:0/device:CPU:0\n",
            "281/313 [=========================>....] - ETA: 6s - loss: 0.1307 - accuracy: 0.9601Executing op __inference_train_function_3168 in device /job:localhost/replica:0/task:0/device:CPU:0\n",
            "282/313 [==========================>...] - ETA: 6s - loss: 0.1309 - accuracy: 0.9600Executing op __inference_train_function_3168 in device /job:localhost/replica:0/task:0/device:CPU:0\n",
            "283/313 [==========================>...] - ETA: 5s - loss: 0.1309 - accuracy: 0.9600Executing op __inference_train_function_3168 in device /job:localhost/replica:0/task:0/device:CPU:0\n",
            "284/313 [==========================>...] - ETA: 5s - loss: 0.1308 - accuracy: 0.9600Executing op __inference_train_function_3168 in device /job:localhost/replica:0/task:0/device:CPU:0\n",
            "285/313 [==========================>...] - ETA: 5s - loss: 0.1306 - accuracy: 0.9601Executing op __inference_train_function_3168 in device /job:localhost/replica:0/task:0/device:CPU:0\n",
            "286/313 [==========================>...] - ETA: 5s - loss: 0.1306 - accuracy: 0.9601Executing op __inference_train_function_3168 in device /job:localhost/replica:0/task:0/device:CPU:0\n",
            "287/313 [==========================>...] - ETA: 5s - loss: 0.1304 - accuracy: 0.9602Executing op __inference_train_function_3168 in device /job:localhost/replica:0/task:0/device:CPU:0\n",
            "288/313 [==========================>...] - ETA: 4s - loss: 0.1305 - accuracy: 0.9601Executing op __inference_train_function_3168 in device /job:localhost/replica:0/task:0/device:CPU:0\n",
            "289/313 [==========================>...] - ETA: 4s - loss: 0.1306 - accuracy: 0.9601Executing op __inference_train_function_3168 in device /job:localhost/replica:0/task:0/device:CPU:0\n",
            "290/313 [==========================>...] - ETA: 4s - loss: 0.1306 - accuracy: 0.9601Executing op __inference_train_function_3168 in device /job:localhost/replica:0/task:0/device:CPU:0\n",
            "291/313 [==========================>...] - ETA: 4s - loss: 0.1306 - accuracy: 0.9601Executing op __inference_train_function_3168 in device /job:localhost/replica:0/task:0/device:CPU:0\n",
            "292/313 [==========================>...] - ETA: 4s - loss: 0.1307 - accuracy: 0.9600Executing op __inference_train_function_3168 in device /job:localhost/replica:0/task:0/device:CPU:0\n",
            "293/313 [===========================>..] - ETA: 4s - loss: 0.1308 - accuracy: 0.9600Executing op __inference_train_function_3168 in device /job:localhost/replica:0/task:0/device:CPU:0\n",
            "294/313 [===========================>..] - ETA: 3s - loss: 0.1309 - accuracy: 0.9600Executing op __inference_train_function_3168 in device /job:localhost/replica:0/task:0/device:CPU:0\n",
            "295/313 [===========================>..] - ETA: 3s - loss: 0.1310 - accuracy: 0.9600Executing op __inference_train_function_3168 in device /job:localhost/replica:0/task:0/device:CPU:0\n",
            "296/313 [===========================>..] - ETA: 3s - loss: 0.1310 - accuracy: 0.9600Executing op __inference_train_function_3168 in device /job:localhost/replica:0/task:0/device:CPU:0\n",
            "297/313 [===========================>..] - ETA: 3s - loss: 0.1312 - accuracy: 0.9600Executing op __inference_train_function_3168 in device /job:localhost/replica:0/task:0/device:CPU:0\n",
            "298/313 [===========================>..] - ETA: 2s - loss: 0.1311 - accuracy: 0.9600Executing op __inference_train_function_3168 in device /job:localhost/replica:0/task:0/device:CPU:0\n",
            "299/313 [===========================>..] - ETA: 2s - loss: 0.1311 - accuracy: 0.9600Executing op __inference_train_function_3168 in device /job:localhost/replica:0/task:0/device:CPU:0\n",
            "300/313 [===========================>..] - ETA: 2s - loss: 0.1310 - accuracy: 0.9600Executing op __inference_train_function_3168 in device /job:localhost/replica:0/task:0/device:CPU:0\n",
            "301/313 [===========================>..] - ETA: 2s - loss: 0.1310 - accuracy: 0.9600Executing op __inference_train_function_3168 in device /job:localhost/replica:0/task:0/device:CPU:0\n",
            "302/313 [===========================>..] - ETA: 2s - loss: 0.1309 - accuracy: 0.9601Executing op __inference_train_function_3168 in device /job:localhost/replica:0/task:0/device:CPU:0\n",
            "303/313 [============================>.] - ETA: 2s - loss: 0.1310 - accuracy: 0.9600Executing op __inference_train_function_3168 in device /job:localhost/replica:0/task:0/device:CPU:0\n",
            "304/313 [============================>.] - ETA: 1s - loss: 0.1309 - accuracy: 0.9600Executing op __inference_train_function_3168 in device /job:localhost/replica:0/task:0/device:CPU:0\n",
            "305/313 [============================>.] - ETA: 1s - loss: 0.1308 - accuracy: 0.9601Executing op __inference_train_function_3168 in device /job:localhost/replica:0/task:0/device:CPU:0\n",
            "306/313 [============================>.] - ETA: 1s - loss: 0.1308 - accuracy: 0.9600Executing op __inference_train_function_3168 in device /job:localhost/replica:0/task:0/device:CPU:0\n",
            "307/313 [============================>.] - ETA: 1s - loss: 0.1308 - accuracy: 0.9600Executing op __inference_train_function_3168 in device /job:localhost/replica:0/task:0/device:CPU:0\n",
            "308/313 [============================>.] - ETA: 0s - loss: 0.1308 - accuracy: 0.9600Executing op __inference_train_function_3168 in device /job:localhost/replica:0/task:0/device:CPU:0\n",
            "309/313 [============================>.] - ETA: 0s - loss: 0.1308 - accuracy: 0.9600Executing op __inference_train_function_3168 in device /job:localhost/replica:0/task:0/device:CPU:0\n",
            "310/313 [============================>.] - ETA: 0s - loss: 0.1310 - accuracy: 0.9599Executing op __inference_train_function_3168 in device /job:localhost/replica:0/task:0/device:CPU:0\n",
            "311/313 [============================>.] - ETA: 0s - loss: 0.1308 - accuracy: 0.9600Executing op __inference_train_function_3168 in device /job:localhost/replica:0/task:0/device:CPU:0\n",
            "312/313 [============================>.] - ETA: 0s - loss: 0.1308 - accuracy: 0.9600Executing op __inference_train_function_3168 in device /job:localhost/replica:0/task:0/device:CPU:0\n",
            "313/313 [==============================] - 63s 200ms/step - loss: 0.1307 - accuracy: 0.9600\n",
            "\n",
            "Epoch 00003: accuracy improved from 0.92125 to 0.95998, saving model to /content/LSTM.h5\n",
            "Executing op ReadVariableOp in device /job:localhost/replica:0/task:0/device:CPU:0\n",
            "Executing op Identity in device /job:localhost/replica:0/task:0/device:CPU:0\n",
            "Executing op ReadVariableOp in device /job:localhost/replica:0/task:0/device:CPU:0\n",
            "Executing op Identity in device /job:localhost/replica:0/task:0/device:CPU:0\n",
            "Executing op ReadVariableOp in device /job:localhost/replica:0/task:0/device:CPU:0\n",
            "Executing op Identity in device /job:localhost/replica:0/task:0/device:CPU:0\n",
            "Executing op ReadVariableOp in device /job:localhost/replica:0/task:0/device:CPU:0\n",
            "Executing op Identity in device /job:localhost/replica:0/task:0/device:CPU:0\n",
            "Executing op ReadVariableOp in device /job:localhost/replica:0/task:0/device:CPU:0\n",
            "Executing op Identity in device /job:localhost/replica:0/task:0/device:CPU:0\n",
            "Executing op ReadVariableOp in device /job:localhost/replica:0/task:0/device:CPU:0\n",
            "Executing op Identity in device /job:localhost/replica:0/task:0/device:CPU:0\n",
            "Executing op ReadVariableOp in device /job:localhost/replica:0/task:0/device:CPU:0\n",
            "Executing op Identity in device /job:localhost/replica:0/task:0/device:CPU:0\n",
            "Executing op ReadVariableOp in device /job:localhost/replica:0/task:0/device:CPU:0\n",
            "Executing op Identity in device /job:localhost/replica:0/task:0/device:CPU:0\n",
            "Executing op ReadVariableOp in device /job:localhost/replica:0/task:0/device:CPU:0\n",
            "Executing op Identity in device /job:localhost/replica:0/task:0/device:CPU:0\n",
            "Executing op ReadVariableOp in device /job:localhost/replica:0/task:0/device:CPU:0\n",
            "Executing op Identity in device /job:localhost/replica:0/task:0/device:CPU:0\n",
            "Executing op ReadVariableOp in device /job:localhost/replica:0/task:0/device:CPU:0\n",
            "Executing op Identity in device /job:localhost/replica:0/task:0/device:CPU:0\n",
            "Executing op ReadVariableOp in device /job:localhost/replica:0/task:0/device:CPU:0\n",
            "Executing op Identity in device /job:localhost/replica:0/task:0/device:CPU:0\n",
            "Executing op ReadVariableOp in device /job:localhost/replica:0/task:0/device:CPU:0\n",
            "Executing op Identity in device /job:localhost/replica:0/task:0/device:CPU:0\n",
            "Executing op ReadVariableOp in device /job:localhost/replica:0/task:0/device:CPU:0\n",
            "Executing op Identity in device /job:localhost/replica:0/task:0/device:CPU:0\n",
            "Executing op ReadVariableOp in device /job:localhost/replica:0/task:0/device:CPU:0\n",
            "Executing op Identity in device /job:localhost/replica:0/task:0/device:CPU:0\n",
            "Executing op ReadVariableOp in device /job:localhost/replica:0/task:0/device:CPU:0\n",
            "Executing op Identity in device /job:localhost/replica:0/task:0/device:CPU:0\n",
            "Executing op ReadVariableOp in device /job:localhost/replica:0/task:0/device:CPU:0\n",
            "Executing op Identity in device /job:localhost/replica:0/task:0/device:CPU:0\n",
            "Executing op ReadVariableOp in device /job:localhost/replica:0/task:0/device:CPU:0\n",
            "Executing op Identity in device /job:localhost/replica:0/task:0/device:CPU:0\n",
            "Executing op ReadVariableOp in device /job:localhost/replica:0/task:0/device:CPU:0\n",
            "Executing op Identity in device /job:localhost/replica:0/task:0/device:CPU:0\n",
            "Executing op ReadVariableOp in device /job:localhost/replica:0/task:0/device:CPU:0\n",
            "Executing op Identity in device /job:localhost/replica:0/task:0/device:CPU:0\n",
            "Executing op ReadVariableOp in device /job:localhost/replica:0/task:0/device:CPU:0\n",
            "Executing op Identity in device /job:localhost/replica:0/task:0/device:CPU:0\n",
            "Executing op ReadVariableOp in device /job:localhost/replica:0/task:0/device:CPU:0\n",
            "Executing op Identity in device /job:localhost/replica:0/task:0/device:CPU:0\n",
            "Executing op _EagerConst in device /job:localhost/replica:0/task:0/device:CPU:0\n",
            "Executing op AssignVariableOp in device /job:localhost/replica:0/task:0/device:CPU:0\n",
            "Executing op _EagerConst in device /job:localhost/replica:0/task:0/device:CPU:0\n",
            "Executing op AssignVariableOp in device /job:localhost/replica:0/task:0/device:CPU:0\n",
            "Executing op _EagerConst in device /job:localhost/replica:0/task:0/device:CPU:0\n",
            "Executing op AssignVariableOp in device /job:localhost/replica:0/task:0/device:CPU:0\n",
            "Executing op _EagerConst in device /job:localhost/replica:0/task:0/device:CPU:0\n",
            "Executing op AssignVariableOp in device /job:localhost/replica:0/task:0/device:CPU:0\n",
            "Epoch 4/5\n",
            "Executing op __inference_train_function_3168 in device /job:localhost/replica:0/task:0/device:CPU:0\n",
            "  1/313 [..............................] - ETA: 1:10 - loss: 0.0358 - accuracy: 0.9922Executing op __inference_train_function_3168 in device /job:localhost/replica:0/task:0/device:CPU:0\n",
            "  2/313 [..............................] - ETA: 1:03 - loss: 0.0847 - accuracy: 0.9805Executing op __inference_train_function_3168 in device /job:localhost/replica:0/task:0/device:CPU:0\n",
            "  3/313 [..............................] - ETA: 1:03 - loss: 0.1019 - accuracy: 0.9792Executing op __inference_train_function_3168 in device /job:localhost/replica:0/task:0/device:CPU:0\n",
            "  4/313 [..............................] - ETA: 1:04 - loss: 0.1030 - accuracy: 0.9785Executing op __inference_train_function_3168 in device /job:localhost/replica:0/task:0/device:CPU:0\n",
            "  5/313 [..............................] - ETA: 1:02 - loss: 0.0862 - accuracy: 0.9828Executing op __inference_train_function_3168 in device /job:localhost/replica:0/task:0/device:CPU:0\n",
            "  6/313 [..............................] - ETA: 1:01 - loss: 0.0781 - accuracy: 0.9844Executing op __inference_train_function_3168 in device /job:localhost/replica:0/task:0/device:CPU:0\n",
            "  7/313 [..............................] - ETA: 1:01 - loss: 0.0794 - accuracy: 0.9833Executing op __inference_train_function_3168 in device /job:localhost/replica:0/task:0/device:CPU:0\n",
            "  8/313 [..............................] - ETA: 1:01 - loss: 0.0777 - accuracy: 0.9824Executing op __inference_train_function_3168 in device /job:localhost/replica:0/task:0/device:CPU:0\n",
            "  9/313 [..............................] - ETA: 1:01 - loss: 0.0781 - accuracy: 0.9826Executing op __inference_train_function_3168 in device /job:localhost/replica:0/task:0/device:CPU:0\n",
            " 10/313 [..............................] - ETA: 1:01 - loss: 0.0765 - accuracy: 0.9828Executing op __inference_train_function_3168 in device /job:localhost/replica:0/task:0/device:CPU:0\n",
            " 11/313 [>.............................] - ETA: 1:00 - loss: 0.0751 - accuracy: 0.9830Executing op __inference_train_function_3168 in device /job:localhost/replica:0/task:0/device:CPU:0\n",
            " 12/313 [>.............................] - ETA: 1:00 - loss: 0.0730 - accuracy: 0.9831Executing op __inference_train_function_3168 in device /job:localhost/replica:0/task:0/device:CPU:0\n",
            " 13/313 [>.............................] - ETA: 1:00 - loss: 0.0756 - accuracy: 0.9826Executing op __inference_train_function_3168 in device /job:localhost/replica:0/task:0/device:CPU:0\n",
            " 14/313 [>.............................] - ETA: 1:00 - loss: 0.0763 - accuracy: 0.9827Executing op __inference_train_function_3168 in device /job:localhost/replica:0/task:0/device:CPU:0\n",
            " 15/313 [>.............................] - ETA: 1:00 - loss: 0.0741 - accuracy: 0.9833Executing op __inference_train_function_3168 in device /job:localhost/replica:0/task:0/device:CPU:0\n",
            " 16/313 [>.............................] - ETA: 59s - loss: 0.0736 - accuracy: 0.9834 Executing op __inference_train_function_3168 in device /job:localhost/replica:0/task:0/device:CPU:0\n",
            " 17/313 [>.............................] - ETA: 59s - loss: 0.0749 - accuracy: 0.9825Executing op __inference_train_function_3168 in device /job:localhost/replica:0/task:0/device:CPU:0\n",
            " 18/313 [>.............................] - ETA: 59s - loss: 0.0731 - accuracy: 0.9831Executing op __inference_train_function_3168 in device /job:localhost/replica:0/task:0/device:CPU:0\n",
            " 19/313 [>.............................] - ETA: 59s - loss: 0.0709 - accuracy: 0.9836Executing op __inference_train_function_3168 in device /job:localhost/replica:0/task:0/device:CPU:0\n",
            " 20/313 [>.............................] - ETA: 59s - loss: 0.0754 - accuracy: 0.9820Executing op __inference_train_function_3168 in device /job:localhost/replica:0/task:0/device:CPU:0\n",
            " 21/313 [=>............................] - ETA: 58s - loss: 0.0758 - accuracy: 0.9818Executing op __inference_train_function_3168 in device /job:localhost/replica:0/task:0/device:CPU:0\n",
            " 22/313 [=>............................] - ETA: 58s - loss: 0.0757 - accuracy: 0.9815Executing op __inference_train_function_3168 in device /job:localhost/replica:0/task:0/device:CPU:0\n",
            " 23/313 [=>............................] - ETA: 58s - loss: 0.0764 - accuracy: 0.9813Executing op __inference_train_function_3168 in device /job:localhost/replica:0/task:0/device:CPU:0\n",
            " 24/313 [=>............................] - ETA: 58s - loss: 0.0747 - accuracy: 0.9818Executing op __inference_train_function_3168 in device /job:localhost/replica:0/task:0/device:CPU:0\n",
            " 25/313 [=>............................] - ETA: 58s - loss: 0.0739 - accuracy: 0.9819Executing op __inference_train_function_3168 in device /job:localhost/replica:0/task:0/device:CPU:0\n",
            " 26/313 [=>............................] - ETA: 57s - loss: 0.0738 - accuracy: 0.9814Executing op __inference_train_function_3168 in device /job:localhost/replica:0/task:0/device:CPU:0\n",
            " 27/313 [=>............................] - ETA: 57s - loss: 0.0738 - accuracy: 0.9812Executing op __inference_train_function_3168 in device /job:localhost/replica:0/task:0/device:CPU:0\n",
            " 28/313 [=>............................] - ETA: 57s - loss: 0.0731 - accuracy: 0.9813Executing op __inference_train_function_3168 in device /job:localhost/replica:0/task:0/device:CPU:0\n",
            " 29/313 [=>............................] - ETA: 57s - loss: 0.0723 - accuracy: 0.9814Executing op __inference_train_function_3168 in device /job:localhost/replica:0/task:0/device:CPU:0\n",
            " 30/313 [=>............................] - ETA: 57s - loss: 0.0727 - accuracy: 0.9812Executing op __inference_train_function_3168 in device /job:localhost/replica:0/task:0/device:CPU:0\n",
            " 31/313 [=>............................] - ETA: 57s - loss: 0.0720 - accuracy: 0.9816Executing op __inference_train_function_3168 in device /job:localhost/replica:0/task:0/device:CPU:0\n",
            " 32/313 [==>...........................] - ETA: 56s - loss: 0.0710 - accuracy: 0.9819Executing op __inference_train_function_3168 in device /job:localhost/replica:0/task:0/device:CPU:0\n",
            " 33/313 [==>...........................] - ETA: 56s - loss: 0.0726 - accuracy: 0.9818Executing op __inference_train_function_3168 in device /job:localhost/replica:0/task:0/device:CPU:0\n",
            " 34/313 [==>...........................] - ETA: 56s - loss: 0.0719 - accuracy: 0.9821Executing op __inference_train_function_3168 in device /job:localhost/replica:0/task:0/device:CPU:0\n",
            " 35/313 [==>...........................] - ETA: 56s - loss: 0.0709 - accuracy: 0.9824Executing op __inference_train_function_3168 in device /job:localhost/replica:0/task:0/device:CPU:0\n",
            " 36/313 [==>...........................] - ETA: 55s - loss: 0.0722 - accuracy: 0.9820Executing op __inference_train_function_3168 in device /job:localhost/replica:0/task:0/device:CPU:0\n",
            " 37/313 [==>...........................] - ETA: 55s - loss: 0.0747 - accuracy: 0.9814Executing op __inference_train_function_3168 in device /job:localhost/replica:0/task:0/device:CPU:0\n",
            " 38/313 [==>...........................] - ETA: 55s - loss: 0.0732 - accuracy: 0.9819Executing op __inference_train_function_3168 in device /job:localhost/replica:0/task:0/device:CPU:0\n",
            " 39/313 [==>...........................] - ETA: 55s - loss: 0.0754 - accuracy: 0.9816Executing op __inference_train_function_3168 in device /job:localhost/replica:0/task:0/device:CPU:0\n",
            " 40/313 [==>...........................] - ETA: 55s - loss: 0.0745 - accuracy: 0.9818Executing op __inference_train_function_3168 in device /job:localhost/replica:0/task:0/device:CPU:0\n",
            " 41/313 [==>...........................] - ETA: 54s - loss: 0.0739 - accuracy: 0.9819Executing op __inference_train_function_3168 in device /job:localhost/replica:0/task:0/device:CPU:0\n",
            " 42/313 [===>..........................] - ETA: 54s - loss: 0.0747 - accuracy: 0.9816Executing op __inference_train_function_3168 in device /job:localhost/replica:0/task:0/device:CPU:0\n",
            " 43/313 [===>..........................] - ETA: 54s - loss: 0.0736 - accuracy: 0.9820Executing op __inference_train_function_3168 in device /job:localhost/replica:0/task:0/device:CPU:0\n",
            " 44/313 [===>..........................] - ETA: 54s - loss: 0.0723 - accuracy: 0.9824Executing op __inference_train_function_3168 in device /job:localhost/replica:0/task:0/device:CPU:0\n",
            " 45/313 [===>..........................] - ETA: 54s - loss: 0.0712 - accuracy: 0.9826Executing op __inference_train_function_3168 in device /job:localhost/replica:0/task:0/device:CPU:0\n",
            " 46/313 [===>..........................] - ETA: 53s - loss: 0.0709 - accuracy: 0.9828Executing op __inference_train_function_3168 in device /job:localhost/replica:0/task:0/device:CPU:0\n",
            " 47/313 [===>..........................] - ETA: 53s - loss: 0.0712 - accuracy: 0.9827Executing op __inference_train_function_3168 in device /job:localhost/replica:0/task:0/device:CPU:0\n",
            " 48/313 [===>..........................] - ETA: 53s - loss: 0.0712 - accuracy: 0.9826Executing op __inference_train_function_3168 in device /job:localhost/replica:0/task:0/device:CPU:0\n",
            " 49/313 [===>..........................] - ETA: 53s - loss: 0.0723 - accuracy: 0.9823Executing op __inference_train_function_3168 in device /job:localhost/replica:0/task:0/device:CPU:0\n",
            " 50/313 [===>..........................] - ETA: 53s - loss: 0.0714 - accuracy: 0.9825Executing op __inference_train_function_3168 in device /job:localhost/replica:0/task:0/device:CPU:0\n",
            " 51/313 [===>..........................] - ETA: 52s - loss: 0.0711 - accuracy: 0.9827Executing op __inference_train_function_3168 in device /job:localhost/replica:0/task:0/device:CPU:0\n",
            " 52/313 [===>..........................] - ETA: 52s - loss: 0.0707 - accuracy: 0.9829Executing op __inference_train_function_3168 in device /job:localhost/replica:0/task:0/device:CPU:0\n",
            " 53/313 [====>.........................] - ETA: 52s - loss: 0.0715 - accuracy: 0.9825Executing op __inference_train_function_3168 in device /job:localhost/replica:0/task:0/device:CPU:0\n",
            " 54/313 [====>.........................] - ETA: 52s - loss: 0.0717 - accuracy: 0.9826Executing op __inference_train_function_3168 in device /job:localhost/replica:0/task:0/device:CPU:0\n",
            " 55/313 [====>.........................] - ETA: 52s - loss: 0.0733 - accuracy: 0.9824Executing op __inference_train_function_3168 in device /job:localhost/replica:0/task:0/device:CPU:0\n",
            " 56/313 [====>.........................] - ETA: 51s - loss: 0.0746 - accuracy: 0.9820Executing op __inference_train_function_3168 in device /job:localhost/replica:0/task:0/device:CPU:0\n",
            " 57/313 [====>.........................] - ETA: 51s - loss: 0.0752 - accuracy: 0.9819Executing op __inference_train_function_3168 in device /job:localhost/replica:0/task:0/device:CPU:0\n",
            " 58/313 [====>.........................] - ETA: 51s - loss: 0.0752 - accuracy: 0.9818Executing op __inference_train_function_3168 in device /job:localhost/replica:0/task:0/device:CPU:0\n",
            " 59/313 [====>.........................] - ETA: 51s - loss: 0.0749 - accuracy: 0.9820Executing op __inference_train_function_3168 in device /job:localhost/replica:0/task:0/device:CPU:0\n",
            " 60/313 [====>.........................] - ETA: 51s - loss: 0.0746 - accuracy: 0.9819Executing op __inference_train_function_3168 in device /job:localhost/replica:0/task:0/device:CPU:0\n",
            " 61/313 [====>.........................] - ETA: 50s - loss: 0.0753 - accuracy: 0.9816Executing op __inference_train_function_3168 in device /job:localhost/replica:0/task:0/device:CPU:0\n",
            " 62/313 [====>.........................] - ETA: 50s - loss: 0.0747 - accuracy: 0.9816Executing op __inference_train_function_3168 in device /job:localhost/replica:0/task:0/device:CPU:0\n",
            " 63/313 [=====>........................] - ETA: 50s - loss: 0.0751 - accuracy: 0.9813Executing op __inference_train_function_3168 in device /job:localhost/replica:0/task:0/device:CPU:0\n",
            " 64/313 [=====>........................] - ETA: 50s - loss: 0.0743 - accuracy: 0.9814Executing op __inference_train_function_3168 in device /job:localhost/replica:0/task:0/device:CPU:0\n",
            " 65/313 [=====>........................] - ETA: 50s - loss: 0.0740 - accuracy: 0.9815Executing op __inference_train_function_3168 in device /job:localhost/replica:0/task:0/device:CPU:0\n",
            " 66/313 [=====>........................] - ETA: 49s - loss: 0.0744 - accuracy: 0.9814Executing op __inference_train_function_3168 in device /job:localhost/replica:0/task:0/device:CPU:0\n",
            " 67/313 [=====>........................] - ETA: 49s - loss: 0.0738 - accuracy: 0.9815Executing op __inference_train_function_3168 in device /job:localhost/replica:0/task:0/device:CPU:0\n",
            " 68/313 [=====>........................] - ETA: 49s - loss: 0.0732 - accuracy: 0.9817Executing op __inference_train_function_3168 in device /job:localhost/replica:0/task:0/device:CPU:0\n",
            " 69/313 [=====>........................] - ETA: 49s - loss: 0.0727 - accuracy: 0.9819Executing op __inference_train_function_3168 in device /job:localhost/replica:0/task:0/device:CPU:0\n",
            " 70/313 [=====>........................] - ETA: 49s - loss: 0.0732 - accuracy: 0.9816Executing op __inference_train_function_3168 in device /job:localhost/replica:0/task:0/device:CPU:0\n",
            " 71/313 [=====>........................] - ETA: 48s - loss: 0.0736 - accuracy: 0.9815Executing op __inference_train_function_3168 in device /job:localhost/replica:0/task:0/device:CPU:0\n",
            " 72/313 [=====>........................] - ETA: 48s - loss: 0.0731 - accuracy: 0.9817Executing op __inference_train_function_3168 in device /job:localhost/replica:0/task:0/device:CPU:0\n",
            " 73/313 [=====>........................] - ETA: 48s - loss: 0.0734 - accuracy: 0.9816Executing op __inference_train_function_3168 in device /job:localhost/replica:0/task:0/device:CPU:0\n",
            " 74/313 [======>.......................] - ETA: 48s - loss: 0.0729 - accuracy: 0.9815Executing op __inference_train_function_3168 in device /job:localhost/replica:0/task:0/device:CPU:0\n",
            " 75/313 [======>.......................] - ETA: 47s - loss: 0.0726 - accuracy: 0.9816Executing op __inference_train_function_3168 in device /job:localhost/replica:0/task:0/device:CPU:0\n",
            " 76/313 [======>.......................] - ETA: 47s - loss: 0.0727 - accuracy: 0.9815Executing op __inference_train_function_3168 in device /job:localhost/replica:0/task:0/device:CPU:0\n",
            " 77/313 [======>.......................] - ETA: 47s - loss: 0.0738 - accuracy: 0.9812Executing op __inference_train_function_3168 in device /job:localhost/replica:0/task:0/device:CPU:0\n",
            " 78/313 [======>.......................] - ETA: 47s - loss: 0.0740 - accuracy: 0.9812Executing op __inference_train_function_3168 in device /job:localhost/replica:0/task:0/device:CPU:0\n",
            " 79/313 [======>.......................] - ETA: 47s - loss: 0.0744 - accuracy: 0.9811Executing op __inference_train_function_3168 in device /job:localhost/replica:0/task:0/device:CPU:0\n",
            " 80/313 [======>.......................] - ETA: 46s - loss: 0.0748 - accuracy: 0.9808Executing op __inference_train_function_3168 in device /job:localhost/replica:0/task:0/device:CPU:0\n",
            " 81/313 [======>.......................] - ETA: 46s - loss: 0.0743 - accuracy: 0.9809Executing op __inference_train_function_3168 in device /job:localhost/replica:0/task:0/device:CPU:0\n",
            " 82/313 [======>.......................] - ETA: 46s - loss: 0.0741 - accuracy: 0.9809Executing op __inference_train_function_3168 in device /job:localhost/replica:0/task:0/device:CPU:0\n",
            " 83/313 [======>.......................] - ETA: 46s - loss: 0.0736 - accuracy: 0.9810Executing op __inference_train_function_3168 in device /job:localhost/replica:0/task:0/device:CPU:0\n",
            " 84/313 [=======>......................] - ETA: 46s - loss: 0.0736 - accuracy: 0.9810Executing op __inference_train_function_3168 in device /job:localhost/replica:0/task:0/device:CPU:0\n",
            " 85/313 [=======>......................] - ETA: 46s - loss: 0.0734 - accuracy: 0.9811Executing op __inference_train_function_3168 in device /job:localhost/replica:0/task:0/device:CPU:0\n",
            " 86/313 [=======>......................] - ETA: 45s - loss: 0.0734 - accuracy: 0.9810Executing op __inference_train_function_3168 in device /job:localhost/replica:0/task:0/device:CPU:0\n",
            " 87/313 [=======>......................] - ETA: 45s - loss: 0.0735 - accuracy: 0.9811Executing op __inference_train_function_3168 in device /job:localhost/replica:0/task:0/device:CPU:0\n",
            " 88/313 [=======>......................] - ETA: 45s - loss: 0.0734 - accuracy: 0.9811Executing op __inference_train_function_3168 in device /job:localhost/replica:0/task:0/device:CPU:0\n",
            " 89/313 [=======>......................] - ETA: 45s - loss: 0.0728 - accuracy: 0.9813Executing op __inference_train_function_3168 in device /job:localhost/replica:0/task:0/device:CPU:0\n",
            " 90/313 [=======>......................] - ETA: 44s - loss: 0.0723 - accuracy: 0.9813Executing op __inference_train_function_3168 in device /job:localhost/replica:0/task:0/device:CPU:0\n",
            " 91/313 [=======>......................] - ETA: 44s - loss: 0.0721 - accuracy: 0.9813Executing op __inference_train_function_3168 in device /job:localhost/replica:0/task:0/device:CPU:0\n",
            " 92/313 [=======>......................] - ETA: 44s - loss: 0.0722 - accuracy: 0.9812Executing op __inference_train_function_3168 in device /job:localhost/replica:0/task:0/device:CPU:0\n",
            " 93/313 [=======>......................] - ETA: 44s - loss: 0.0724 - accuracy: 0.9813Executing op __inference_train_function_3168 in device /job:localhost/replica:0/task:0/device:CPU:0\n",
            " 94/313 [========>.....................] - ETA: 44s - loss: 0.0722 - accuracy: 0.9813Executing op __inference_train_function_3168 in device /job:localhost/replica:0/task:0/device:CPU:0\n",
            " 95/313 [========>.....................] - ETA: 43s - loss: 0.0725 - accuracy: 0.9813Executing op __inference_train_function_3168 in device /job:localhost/replica:0/task:0/device:CPU:0\n",
            " 96/313 [========>.....................] - ETA: 43s - loss: 0.0734 - accuracy: 0.9811Executing op __inference_train_function_3168 in device /job:localhost/replica:0/task:0/device:CPU:0\n",
            " 97/313 [========>.....................] - ETA: 43s - loss: 0.0729 - accuracy: 0.9812Executing op __inference_train_function_3168 in device /job:localhost/replica:0/task:0/device:CPU:0\n",
            " 98/313 [========>.....................] - ETA: 43s - loss: 0.0731 - accuracy: 0.9812Executing op __inference_train_function_3168 in device /job:localhost/replica:0/task:0/device:CPU:0\n",
            " 99/313 [========>.....................] - ETA: 43s - loss: 0.0737 - accuracy: 0.9808Executing op __inference_train_function_3168 in device /job:localhost/replica:0/task:0/device:CPU:0\n",
            "100/313 [========>.....................] - ETA: 42s - loss: 0.0733 - accuracy: 0.9809Executing op __inference_train_function_3168 in device /job:localhost/replica:0/task:0/device:CPU:0\n",
            "101/313 [========>.....................] - ETA: 42s - loss: 0.0732 - accuracy: 0.9809Executing op __inference_train_function_3168 in device /job:localhost/replica:0/task:0/device:CPU:0\n",
            "102/313 [========>.....................] - ETA: 42s - loss: 0.0746 - accuracy: 0.9803Executing op __inference_train_function_3168 in device /job:localhost/replica:0/task:0/device:CPU:0\n",
            "103/313 [========>.....................] - ETA: 42s - loss: 0.0751 - accuracy: 0.9801Executing op __inference_train_function_3168 in device /job:localhost/replica:0/task:0/device:CPU:0\n",
            "104/313 [========>.....................] - ETA: 42s - loss: 0.0755 - accuracy: 0.9801Executing op __inference_train_function_3168 in device /job:localhost/replica:0/task:0/device:CPU:0\n",
            "105/313 [=========>....................] - ETA: 41s - loss: 0.0756 - accuracy: 0.9801Executing op __inference_train_function_3168 in device /job:localhost/replica:0/task:0/device:CPU:0\n",
            "106/313 [=========>....................] - ETA: 41s - loss: 0.0758 - accuracy: 0.9800Executing op __inference_train_function_3168 in device /job:localhost/replica:0/task:0/device:CPU:0\n",
            "107/313 [=========>....................] - ETA: 41s - loss: 0.0755 - accuracy: 0.9801Executing op __inference_train_function_3168 in device /job:localhost/replica:0/task:0/device:CPU:0\n",
            "108/313 [=========>....................] - ETA: 41s - loss: 0.0751 - accuracy: 0.9802Executing op __inference_train_function_3168 in device /job:localhost/replica:0/task:0/device:CPU:0\n",
            "109/313 [=========>....................] - ETA: 41s - loss: 0.0747 - accuracy: 0.9804Executing op __inference_train_function_3168 in device /job:localhost/replica:0/task:0/device:CPU:0\n",
            "110/313 [=========>....................] - ETA: 40s - loss: 0.0742 - accuracy: 0.9805Executing op __inference_train_function_3168 in device /job:localhost/replica:0/task:0/device:CPU:0\n",
            "111/313 [=========>....................] - ETA: 40s - loss: 0.0740 - accuracy: 0.9805Executing op __inference_train_function_3168 in device /job:localhost/replica:0/task:0/device:CPU:0\n",
            "112/313 [=========>....................] - ETA: 40s - loss: 0.0743 - accuracy: 0.9805Executing op __inference_train_function_3168 in device /job:localhost/replica:0/task:0/device:CPU:0\n",
            "113/313 [=========>....................] - ETA: 40s - loss: 0.0753 - accuracy: 0.9803Executing op __inference_train_function_3168 in device /job:localhost/replica:0/task:0/device:CPU:0\n",
            "114/313 [=========>....................] - ETA: 40s - loss: 0.0749 - accuracy: 0.9804Executing op __inference_train_function_3168 in device /job:localhost/replica:0/task:0/device:CPU:0\n",
            "115/313 [==========>...................] - ETA: 39s - loss: 0.0744 - accuracy: 0.9805Executing op __inference_train_function_3168 in device /job:localhost/replica:0/task:0/device:CPU:0\n",
            "116/313 [==========>...................] - ETA: 39s - loss: 0.0740 - accuracy: 0.9805Executing op __inference_train_function_3168 in device /job:localhost/replica:0/task:0/device:CPU:0\n",
            "117/313 [==========>...................] - ETA: 39s - loss: 0.0738 - accuracy: 0.9806Executing op __inference_train_function_3168 in device /job:localhost/replica:0/task:0/device:CPU:0\n",
            "118/313 [==========>...................] - ETA: 39s - loss: 0.0739 - accuracy: 0.9806Executing op __inference_train_function_3168 in device /job:localhost/replica:0/task:0/device:CPU:0\n",
            "119/313 [==========>...................] - ETA: 39s - loss: 0.0739 - accuracy: 0.9806Executing op __inference_train_function_3168 in device /job:localhost/replica:0/task:0/device:CPU:0\n",
            "120/313 [==========>...................] - ETA: 38s - loss: 0.0741 - accuracy: 0.9805Executing op __inference_train_function_3168 in device /job:localhost/replica:0/task:0/device:CPU:0\n",
            "121/313 [==========>...................] - ETA: 38s - loss: 0.0744 - accuracy: 0.9804Executing op __inference_train_function_3168 in device /job:localhost/replica:0/task:0/device:CPU:0\n",
            "122/313 [==========>...................] - ETA: 38s - loss: 0.0743 - accuracy: 0.9804Executing op __inference_train_function_3168 in device /job:localhost/replica:0/task:0/device:CPU:0\n",
            "123/313 [==========>...................] - ETA: 38s - loss: 0.0741 - accuracy: 0.9805Executing op __inference_train_function_3168 in device /job:localhost/replica:0/task:0/device:CPU:0\n",
            "124/313 [==========>...................] - ETA: 38s - loss: 0.0741 - accuracy: 0.9805Executing op __inference_train_function_3168 in device /job:localhost/replica:0/task:0/device:CPU:0\n",
            "125/313 [==========>...................] - ETA: 37s - loss: 0.0744 - accuracy: 0.9804Executing op __inference_train_function_3168 in device /job:localhost/replica:0/task:0/device:CPU:0\n",
            "126/313 [===========>..................] - ETA: 37s - loss: 0.0741 - accuracy: 0.9805Executing op __inference_train_function_3168 in device /job:localhost/replica:0/task:0/device:CPU:0\n",
            "127/313 [===========>..................] - ETA: 37s - loss: 0.0740 - accuracy: 0.9804Executing op __inference_train_function_3168 in device /job:localhost/replica:0/task:0/device:CPU:0\n",
            "128/313 [===========>..................] - ETA: 37s - loss: 0.0745 - accuracy: 0.9803Executing op __inference_train_function_3168 in device /job:localhost/replica:0/task:0/device:CPU:0\n",
            "129/313 [===========>..................] - ETA: 37s - loss: 0.0756 - accuracy: 0.9800Executing op __inference_train_function_3168 in device /job:localhost/replica:0/task:0/device:CPU:0\n",
            "130/313 [===========>..................] - ETA: 36s - loss: 0.0756 - accuracy: 0.9800Executing op __inference_train_function_3168 in device /job:localhost/replica:0/task:0/device:CPU:0\n",
            "131/313 [===========>..................] - ETA: 36s - loss: 0.0760 - accuracy: 0.9799Executing op __inference_train_function_3168 in device /job:localhost/replica:0/task:0/device:CPU:0\n",
            "132/313 [===========>..................] - ETA: 36s - loss: 0.0757 - accuracy: 0.9800Executing op __inference_train_function_3168 in device /job:localhost/replica:0/task:0/device:CPU:0\n",
            "133/313 [===========>..................] - ETA: 36s - loss: 0.0760 - accuracy: 0.9800Executing op __inference_train_function_3168 in device /job:localhost/replica:0/task:0/device:CPU:0\n",
            "134/313 [===========>..................] - ETA: 36s - loss: 0.0764 - accuracy: 0.9798Executing op __inference_train_function_3168 in device /job:localhost/replica:0/task:0/device:CPU:0\n",
            "135/313 [===========>..................] - ETA: 35s - loss: 0.0766 - accuracy: 0.9796Executing op __inference_train_function_3168 in device /job:localhost/replica:0/task:0/device:CPU:0\n",
            "136/313 [============>.................] - ETA: 35s - loss: 0.0763 - accuracy: 0.9797Executing op __inference_train_function_3168 in device /job:localhost/replica:0/task:0/device:CPU:0\n",
            "137/313 [============>.................] - ETA: 35s - loss: 0.0760 - accuracy: 0.9799Executing op __inference_train_function_3168 in device /job:localhost/replica:0/task:0/device:CPU:0\n",
            "138/313 [============>.................] - ETA: 35s - loss: 0.0758 - accuracy: 0.9799Executing op __inference_train_function_3168 in device /job:localhost/replica:0/task:0/device:CPU:0\n",
            "139/313 [============>.................] - ETA: 35s - loss: 0.0754 - accuracy: 0.9800Executing op __inference_train_function_3168 in device /job:localhost/replica:0/task:0/device:CPU:0\n",
            "140/313 [============>.................] - ETA: 34s - loss: 0.0754 - accuracy: 0.9800Executing op __inference_train_function_3168 in device /job:localhost/replica:0/task:0/device:CPU:0\n",
            "141/313 [============>.................] - ETA: 34s - loss: 0.0753 - accuracy: 0.9801Executing op __inference_train_function_3168 in device /job:localhost/replica:0/task:0/device:CPU:0\n",
            "142/313 [============>.................] - ETA: 34s - loss: 0.0756 - accuracy: 0.9800Executing op __inference_train_function_3168 in device /job:localhost/replica:0/task:0/device:CPU:0\n",
            "143/313 [============>.................] - ETA: 34s - loss: 0.0755 - accuracy: 0.9799Executing op __inference_train_function_3168 in device /job:localhost/replica:0/task:0/device:CPU:0\n",
            "144/313 [============>.................] - ETA: 34s - loss: 0.0754 - accuracy: 0.9799Executing op __inference_train_function_3168 in device /job:localhost/replica:0/task:0/device:CPU:0\n",
            "145/313 [============>.................] - ETA: 33s - loss: 0.0752 - accuracy: 0.9800Executing op __inference_train_function_3168 in device /job:localhost/replica:0/task:0/device:CPU:0\n",
            "146/313 [============>.................] - ETA: 33s - loss: 0.0759 - accuracy: 0.9798Executing op __inference_train_function_3168 in device /job:localhost/replica:0/task:0/device:CPU:0\n",
            "147/313 [=============>................] - ETA: 33s - loss: 0.0765 - accuracy: 0.9796Executing op __inference_train_function_3168 in device /job:localhost/replica:0/task:0/device:CPU:0\n",
            "148/313 [=============>................] - ETA: 33s - loss: 0.0764 - accuracy: 0.9796Executing op __inference_train_function_3168 in device /job:localhost/replica:0/task:0/device:CPU:0\n",
            "149/313 [=============>................] - ETA: 33s - loss: 0.0763 - accuracy: 0.9796Executing op __inference_train_function_3168 in device /job:localhost/replica:0/task:0/device:CPU:0\n",
            "150/313 [=============>................] - ETA: 32s - loss: 0.0764 - accuracy: 0.9796Executing op __inference_train_function_3168 in device /job:localhost/replica:0/task:0/device:CPU:0\n",
            "151/313 [=============>................] - ETA: 32s - loss: 0.0766 - accuracy: 0.9796Executing op __inference_train_function_3168 in device /job:localhost/replica:0/task:0/device:CPU:0\n",
            "152/313 [=============>................] - ETA: 32s - loss: 0.0768 - accuracy: 0.9795Executing op __inference_train_function_3168 in device /job:localhost/replica:0/task:0/device:CPU:0\n",
            "153/313 [=============>................] - ETA: 32s - loss: 0.0770 - accuracy: 0.9794Executing op __inference_train_function_3168 in device /job:localhost/replica:0/task:0/device:CPU:0\n",
            "154/313 [=============>................] - ETA: 32s - loss: 0.0769 - accuracy: 0.9794Executing op __inference_train_function_3168 in device /job:localhost/replica:0/task:0/device:CPU:0\n",
            "155/313 [=============>................] - ETA: 31s - loss: 0.0765 - accuracy: 0.9795Executing op __inference_train_function_3168 in device /job:localhost/replica:0/task:0/device:CPU:0\n",
            "156/313 [=============>................] - ETA: 31s - loss: 0.0770 - accuracy: 0.9795Executing op __inference_train_function_3168 in device /job:localhost/replica:0/task:0/device:CPU:0\n",
            "157/313 [==============>...............] - ETA: 31s - loss: 0.0766 - accuracy: 0.9795Executing op __inference_train_function_3168 in device /job:localhost/replica:0/task:0/device:CPU:0\n",
            "158/313 [==============>...............] - ETA: 31s - loss: 0.0766 - accuracy: 0.9795Executing op __inference_train_function_3168 in device /job:localhost/replica:0/task:0/device:CPU:0\n",
            "159/313 [==============>...............] - ETA: 31s - loss: 0.0770 - accuracy: 0.9795Executing op __inference_train_function_3168 in device /job:localhost/replica:0/task:0/device:CPU:0\n",
            "160/313 [==============>...............] - ETA: 30s - loss: 0.0770 - accuracy: 0.9795Executing op __inference_train_function_3168 in device /job:localhost/replica:0/task:0/device:CPU:0\n",
            "161/313 [==============>...............] - ETA: 30s - loss: 0.0769 - accuracy: 0.9795Executing op __inference_train_function_3168 in device /job:localhost/replica:0/task:0/device:CPU:0\n",
            "162/313 [==============>...............] - ETA: 30s - loss: 0.0769 - accuracy: 0.9795Executing op __inference_train_function_3168 in device /job:localhost/replica:0/task:0/device:CPU:0\n",
            "163/313 [==============>...............] - ETA: 30s - loss: 0.0765 - accuracy: 0.9796Executing op __inference_train_function_3168 in device /job:localhost/replica:0/task:0/device:CPU:0\n",
            "164/313 [==============>...............] - ETA: 30s - loss: 0.0763 - accuracy: 0.9797Executing op __inference_train_function_3168 in device /job:localhost/replica:0/task:0/device:CPU:0\n",
            "165/313 [==============>...............] - ETA: 29s - loss: 0.0766 - accuracy: 0.9797Executing op __inference_train_function_3168 in device /job:localhost/replica:0/task:0/device:CPU:0\n",
            "166/313 [==============>...............] - ETA: 29s - loss: 0.0767 - accuracy: 0.9796Executing op __inference_train_function_3168 in device /job:localhost/replica:0/task:0/device:CPU:0\n",
            "167/313 [===============>..............] - ETA: 29s - loss: 0.0765 - accuracy: 0.9797Executing op __inference_train_function_3168 in device /job:localhost/replica:0/task:0/device:CPU:0\n",
            "168/313 [===============>..............] - ETA: 29s - loss: 0.0765 - accuracy: 0.9797Executing op __inference_train_function_3168 in device /job:localhost/replica:0/task:0/device:CPU:0\n",
            "169/313 [===============>..............] - ETA: 28s - loss: 0.0766 - accuracy: 0.9796Executing op __inference_train_function_3168 in device /job:localhost/replica:0/task:0/device:CPU:0\n",
            "170/313 [===============>..............] - ETA: 28s - loss: 0.0765 - accuracy: 0.9797Executing op __inference_train_function_3168 in device /job:localhost/replica:0/task:0/device:CPU:0\n",
            "171/313 [===============>..............] - ETA: 28s - loss: 0.0763 - accuracy: 0.9797Executing op __inference_train_function_3168 in device /job:localhost/replica:0/task:0/device:CPU:0\n",
            "172/313 [===============>..............] - ETA: 28s - loss: 0.0765 - accuracy: 0.9797Executing op __inference_train_function_3168 in device /job:localhost/replica:0/task:0/device:CPU:0\n",
            "173/313 [===============>..............] - ETA: 28s - loss: 0.0763 - accuracy: 0.9798Executing op __inference_train_function_3168 in device /job:localhost/replica:0/task:0/device:CPU:0\n",
            "174/313 [===============>..............] - ETA: 27s - loss: 0.0762 - accuracy: 0.9798Executing op __inference_train_function_3168 in device /job:localhost/replica:0/task:0/device:CPU:0\n",
            "175/313 [===============>..............] - ETA: 27s - loss: 0.0761 - accuracy: 0.9798Executing op __inference_train_function_3168 in device /job:localhost/replica:0/task:0/device:CPU:0\n",
            "176/313 [===============>..............] - ETA: 27s - loss: 0.0763 - accuracy: 0.9798Executing op __inference_train_function_3168 in device /job:localhost/replica:0/task:0/device:CPU:0\n",
            "177/313 [===============>..............] - ETA: 27s - loss: 0.0763 - accuracy: 0.9798Executing op __inference_train_function_3168 in device /job:localhost/replica:0/task:0/device:CPU:0\n",
            "178/313 [================>.............] - ETA: 27s - loss: 0.0764 - accuracy: 0.9798Executing op __inference_train_function_3168 in device /job:localhost/replica:0/task:0/device:CPU:0\n",
            "179/313 [================>.............] - ETA: 26s - loss: 0.0764 - accuracy: 0.9798Executing op __inference_train_function_3168 in device /job:localhost/replica:0/task:0/device:CPU:0\n",
            "180/313 [================>.............] - ETA: 26s - loss: 0.0763 - accuracy: 0.9799Executing op __inference_train_function_3168 in device /job:localhost/replica:0/task:0/device:CPU:0\n",
            "181/313 [================>.............] - ETA: 26s - loss: 0.0766 - accuracy: 0.9798Executing op __inference_train_function_3168 in device /job:localhost/replica:0/task:0/device:CPU:0\n",
            "182/313 [================>.............] - ETA: 26s - loss: 0.0767 - accuracy: 0.9797Executing op __inference_train_function_3168 in device /job:localhost/replica:0/task:0/device:CPU:0\n",
            "183/313 [================>.............] - ETA: 26s - loss: 0.0767 - accuracy: 0.9796Executing op __inference_train_function_3168 in device /job:localhost/replica:0/task:0/device:CPU:0\n",
            "184/313 [================>.............] - ETA: 25s - loss: 0.0767 - accuracy: 0.9797Executing op __inference_train_function_3168 in device /job:localhost/replica:0/task:0/device:CPU:0\n",
            "185/313 [================>.............] - ETA: 25s - loss: 0.0766 - accuracy: 0.9797Executing op __inference_train_function_3168 in device /job:localhost/replica:0/task:0/device:CPU:0\n",
            "186/313 [================>.............] - ETA: 25s - loss: 0.0767 - accuracy: 0.9797Executing op __inference_train_function_3168 in device /job:localhost/replica:0/task:0/device:CPU:0\n",
            "187/313 [================>.............] - ETA: 25s - loss: 0.0766 - accuracy: 0.9797Executing op __inference_train_function_3168 in device /job:localhost/replica:0/task:0/device:CPU:0\n",
            "188/313 [=================>............] - ETA: 25s - loss: 0.0770 - accuracy: 0.9795Executing op __inference_train_function_3168 in device /job:localhost/replica:0/task:0/device:CPU:0\n",
            "189/313 [=================>............] - ETA: 24s - loss: 0.0768 - accuracy: 0.9795Executing op __inference_train_function_3168 in device /job:localhost/replica:0/task:0/device:CPU:0\n",
            "190/313 [=================>............] - ETA: 24s - loss: 0.0768 - accuracy: 0.9795Executing op __inference_train_function_3168 in device /job:localhost/replica:0/task:0/device:CPU:0\n",
            "191/313 [=================>............] - ETA: 24s - loss: 0.0770 - accuracy: 0.9793Executing op __inference_train_function_3168 in device /job:localhost/replica:0/task:0/device:CPU:0\n",
            "192/313 [=================>............] - ETA: 24s - loss: 0.0771 - accuracy: 0.9794Executing op __inference_train_function_3168 in device /job:localhost/replica:0/task:0/device:CPU:0\n",
            "193/313 [=================>............] - ETA: 24s - loss: 0.0771 - accuracy: 0.9794Executing op __inference_train_function_3168 in device /job:localhost/replica:0/task:0/device:CPU:0\n",
            "194/313 [=================>............] - ETA: 23s - loss: 0.0772 - accuracy: 0.9793Executing op __inference_train_function_3168 in device /job:localhost/replica:0/task:0/device:CPU:0\n",
            "195/313 [=================>............] - ETA: 23s - loss: 0.0772 - accuracy: 0.9792Executing op __inference_train_function_3168 in device /job:localhost/replica:0/task:0/device:CPU:0\n",
            "196/313 [=================>............] - ETA: 23s - loss: 0.0774 - accuracy: 0.9791Executing op __inference_train_function_3168 in device /job:localhost/replica:0/task:0/device:CPU:0\n",
            "197/313 [=================>............] - ETA: 23s - loss: 0.0772 - accuracy: 0.9791Executing op __inference_train_function_3168 in device /job:localhost/replica:0/task:0/device:CPU:0\n",
            "198/313 [=================>............] - ETA: 23s - loss: 0.0771 - accuracy: 0.9792Executing op __inference_train_function_3168 in device /job:localhost/replica:0/task:0/device:CPU:0\n",
            "199/313 [==================>...........] - ETA: 22s - loss: 0.0770 - accuracy: 0.9792Executing op __inference_train_function_3168 in device /job:localhost/replica:0/task:0/device:CPU:0\n",
            "200/313 [==================>...........] - ETA: 22s - loss: 0.0767 - accuracy: 0.9793Executing op __inference_train_function_3168 in device /job:localhost/replica:0/task:0/device:CPU:0\n",
            "201/313 [==================>...........] - ETA: 22s - loss: 0.0770 - accuracy: 0.9792Executing op __inference_train_function_3168 in device /job:localhost/replica:0/task:0/device:CPU:0\n",
            "202/313 [==================>...........] - ETA: 22s - loss: 0.0768 - accuracy: 0.9792Executing op __inference_train_function_3168 in device /job:localhost/replica:0/task:0/device:CPU:0\n",
            "203/313 [==================>...........] - ETA: 22s - loss: 0.0768 - accuracy: 0.9792Executing op __inference_train_function_3168 in device /job:localhost/replica:0/task:0/device:CPU:0\n",
            "204/313 [==================>...........] - ETA: 21s - loss: 0.0772 - accuracy: 0.9791Executing op __inference_train_function_3168 in device /job:localhost/replica:0/task:0/device:CPU:0\n",
            "205/313 [==================>...........] - ETA: 21s - loss: 0.0773 - accuracy: 0.9791Executing op __inference_train_function_3168 in device /job:localhost/replica:0/task:0/device:CPU:0\n",
            "206/313 [==================>...........] - ETA: 21s - loss: 0.0772 - accuracy: 0.9791Executing op __inference_train_function_3168 in device /job:localhost/replica:0/task:0/device:CPU:0\n",
            "207/313 [==================>...........] - ETA: 21s - loss: 0.0774 - accuracy: 0.9790Executing op __inference_train_function_3168 in device /job:localhost/replica:0/task:0/device:CPU:0\n",
            "208/313 [==================>...........] - ETA: 21s - loss: 0.0774 - accuracy: 0.9790Executing op __inference_train_function_3168 in device /job:localhost/replica:0/task:0/device:CPU:0\n",
            "209/313 [===================>..........] - ETA: 20s - loss: 0.0774 - accuracy: 0.9790Executing op __inference_train_function_3168 in device /job:localhost/replica:0/task:0/device:CPU:0\n",
            "210/313 [===================>..........] - ETA: 20s - loss: 0.0774 - accuracy: 0.9790Executing op __inference_train_function_3168 in device /job:localhost/replica:0/task:0/device:CPU:0\n",
            "211/313 [===================>..........] - ETA: 20s - loss: 0.0771 - accuracy: 0.9791Executing op __inference_train_function_3168 in device /job:localhost/replica:0/task:0/device:CPU:0\n",
            "212/313 [===================>..........] - ETA: 20s - loss: 0.0772 - accuracy: 0.9790Executing op __inference_train_function_3168 in device /job:localhost/replica:0/task:0/device:CPU:0\n",
            "213/313 [===================>..........] - ETA: 20s - loss: 0.0777 - accuracy: 0.9789Executing op __inference_train_function_3168 in device /job:localhost/replica:0/task:0/device:CPU:0\n",
            "214/313 [===================>..........] - ETA: 19s - loss: 0.0775 - accuracy: 0.9789Executing op __inference_train_function_3168 in device /job:localhost/replica:0/task:0/device:CPU:0\n",
            "215/313 [===================>..........] - ETA: 19s - loss: 0.0778 - accuracy: 0.9789Executing op __inference_train_function_3168 in device /job:localhost/replica:0/task:0/device:CPU:0\n",
            "216/313 [===================>..........] - ETA: 19s - loss: 0.0780 - accuracy: 0.9788Executing op __inference_train_function_3168 in device /job:localhost/replica:0/task:0/device:CPU:0\n",
            "217/313 [===================>..........] - ETA: 19s - loss: 0.0781 - accuracy: 0.9788Executing op __inference_train_function_3168 in device /job:localhost/replica:0/task:0/device:CPU:0\n",
            "218/313 [===================>..........] - ETA: 19s - loss: 0.0783 - accuracy: 0.9787Executing op __inference_train_function_3168 in device /job:localhost/replica:0/task:0/device:CPU:0\n",
            "219/313 [===================>..........] - ETA: 18s - loss: 0.0786 - accuracy: 0.9786Executing op __inference_train_function_3168 in device /job:localhost/replica:0/task:0/device:CPU:0\n",
            "220/313 [====================>.........] - ETA: 18s - loss: 0.0786 - accuracy: 0.9786Executing op __inference_train_function_3168 in device /job:localhost/replica:0/task:0/device:CPU:0\n",
            "221/313 [====================>.........] - ETA: 18s - loss: 0.0789 - accuracy: 0.9784Executing op __inference_train_function_3168 in device /job:localhost/replica:0/task:0/device:CPU:0\n",
            "222/313 [====================>.........] - ETA: 18s - loss: 0.0791 - accuracy: 0.9784Executing op __inference_train_function_3168 in device /job:localhost/replica:0/task:0/device:CPU:0\n",
            "223/313 [====================>.........] - ETA: 18s - loss: 0.0793 - accuracy: 0.9782Executing op __inference_train_function_3168 in device /job:localhost/replica:0/task:0/device:CPU:0\n",
            "224/313 [====================>.........] - ETA: 17s - loss: 0.0793 - accuracy: 0.9782Executing op __inference_train_function_3168 in device /job:localhost/replica:0/task:0/device:CPU:0\n",
            "225/313 [====================>.........] - ETA: 17s - loss: 0.0797 - accuracy: 0.9782Executing op __inference_train_function_3168 in device /job:localhost/replica:0/task:0/device:CPU:0\n",
            "226/313 [====================>.........] - ETA: 17s - loss: 0.0795 - accuracy: 0.9782Executing op __inference_train_function_3168 in device /job:localhost/replica:0/task:0/device:CPU:0\n",
            "227/313 [====================>.........] - ETA: 17s - loss: 0.0793 - accuracy: 0.9783Executing op __inference_train_function_3168 in device /job:localhost/replica:0/task:0/device:CPU:0\n",
            "228/313 [====================>.........] - ETA: 17s - loss: 0.0796 - accuracy: 0.9782Executing op __inference_train_function_3168 in device /job:localhost/replica:0/task:0/device:CPU:0\n",
            "229/313 [====================>.........] - ETA: 16s - loss: 0.0794 - accuracy: 0.9783Executing op __inference_train_function_3168 in device /job:localhost/replica:0/task:0/device:CPU:0\n",
            "230/313 [=====================>........] - ETA: 16s - loss: 0.0796 - accuracy: 0.9782Executing op __inference_train_function_3168 in device /job:localhost/replica:0/task:0/device:CPU:0\n",
            "231/313 [=====================>........] - ETA: 16s - loss: 0.0797 - accuracy: 0.9782Executing op __inference_train_function_3168 in device /job:localhost/replica:0/task:0/device:CPU:0\n",
            "232/313 [=====================>........] - ETA: 16s - loss: 0.0796 - accuracy: 0.9782Executing op __inference_train_function_3168 in device /job:localhost/replica:0/task:0/device:CPU:0\n",
            "233/313 [=====================>........] - ETA: 16s - loss: 0.0795 - accuracy: 0.9782Executing op __inference_train_function_3168 in device /job:localhost/replica:0/task:0/device:CPU:0\n",
            "234/313 [=====================>........] - ETA: 15s - loss: 0.0797 - accuracy: 0.9782Executing op __inference_train_function_3168 in device /job:localhost/replica:0/task:0/device:CPU:0\n",
            "235/313 [=====================>........] - ETA: 15s - loss: 0.0800 - accuracy: 0.9782Executing op __inference_train_function_3168 in device /job:localhost/replica:0/task:0/device:CPU:0\n",
            "236/313 [=====================>........] - ETA: 15s - loss: 0.0801 - accuracy: 0.9780Executing op __inference_train_function_3168 in device /job:localhost/replica:0/task:0/device:CPU:0\n",
            "237/313 [=====================>........] - ETA: 15s - loss: 0.0800 - accuracy: 0.9780Executing op __inference_train_function_3168 in device /job:localhost/replica:0/task:0/device:CPU:0\n",
            "238/313 [=====================>........] - ETA: 15s - loss: 0.0800 - accuracy: 0.9780Executing op __inference_train_function_3168 in device /job:localhost/replica:0/task:0/device:CPU:0\n",
            "239/313 [=====================>........] - ETA: 14s - loss: 0.0799 - accuracy: 0.9780Executing op __inference_train_function_3168 in device /job:localhost/replica:0/task:0/device:CPU:0\n",
            "240/313 [======================>.......] - ETA: 14s - loss: 0.0801 - accuracy: 0.9780Executing op __inference_train_function_3168 in device /job:localhost/replica:0/task:0/device:CPU:0\n",
            "241/313 [======================>.......] - ETA: 14s - loss: 0.0803 - accuracy: 0.9779Executing op __inference_train_function_3168 in device /job:localhost/replica:0/task:0/device:CPU:0\n",
            "242/313 [======================>.......] - ETA: 14s - loss: 0.0805 - accuracy: 0.9779Executing op __inference_train_function_3168 in device /job:localhost/replica:0/task:0/device:CPU:0\n",
            "243/313 [======================>.......] - ETA: 14s - loss: 0.0805 - accuracy: 0.9778Executing op __inference_train_function_3168 in device /job:localhost/replica:0/task:0/device:CPU:0\n",
            "244/313 [======================>.......] - ETA: 13s - loss: 0.0805 - accuracy: 0.9779Executing op __inference_train_function_3168 in device /job:localhost/replica:0/task:0/device:CPU:0\n",
            "245/313 [======================>.......] - ETA: 13s - loss: 0.0804 - accuracy: 0.9778Executing op __inference_train_function_3168 in device /job:localhost/replica:0/task:0/device:CPU:0\n",
            "246/313 [======================>.......] - ETA: 13s - loss: 0.0805 - accuracy: 0.9778Executing op __inference_train_function_3168 in device /job:localhost/replica:0/task:0/device:CPU:0\n",
            "247/313 [======================>.......] - ETA: 13s - loss: 0.0806 - accuracy: 0.9778Executing op __inference_train_function_3168 in device /job:localhost/replica:0/task:0/device:CPU:0\n",
            "248/313 [======================>.......] - ETA: 13s - loss: 0.0805 - accuracy: 0.9779Executing op __inference_train_function_3168 in device /job:localhost/replica:0/task:0/device:CPU:0\n",
            "249/313 [======================>.......] - ETA: 12s - loss: 0.0803 - accuracy: 0.9779Executing op __inference_train_function_3168 in device /job:localhost/replica:0/task:0/device:CPU:0\n",
            "250/313 [======================>.......] - ETA: 12s - loss: 0.0802 - accuracy: 0.9779Executing op __inference_train_function_3168 in device /job:localhost/replica:0/task:0/device:CPU:0\n",
            "251/313 [=======================>......] - ETA: 12s - loss: 0.0804 - accuracy: 0.9779Executing op __inference_train_function_3168 in device /job:localhost/replica:0/task:0/device:CPU:0\n",
            "252/313 [=======================>......] - ETA: 12s - loss: 0.0801 - accuracy: 0.9780Executing op __inference_train_function_3168 in device /job:localhost/replica:0/task:0/device:CPU:0\n",
            "253/313 [=======================>......] - ETA: 12s - loss: 0.0801 - accuracy: 0.9780Executing op __inference_train_function_3168 in device /job:localhost/replica:0/task:0/device:CPU:0\n",
            "254/313 [=======================>......] - ETA: 11s - loss: 0.0801 - accuracy: 0.9780Executing op __inference_train_function_3168 in device /job:localhost/replica:0/task:0/device:CPU:0\n",
            "255/313 [=======================>......] - ETA: 11s - loss: 0.0800 - accuracy: 0.9781Executing op __inference_train_function_3168 in device /job:localhost/replica:0/task:0/device:CPU:0\n",
            "256/313 [=======================>......] - ETA: 11s - loss: 0.0800 - accuracy: 0.9781Executing op __inference_train_function_3168 in device /job:localhost/replica:0/task:0/device:CPU:0\n",
            "257/313 [=======================>......] - ETA: 11s - loss: 0.0802 - accuracy: 0.9780Executing op __inference_train_function_3168 in device /job:localhost/replica:0/task:0/device:CPU:0\n",
            "258/313 [=======================>......] - ETA: 11s - loss: 0.0803 - accuracy: 0.9780Executing op __inference_train_function_3168 in device /job:localhost/replica:0/task:0/device:CPU:0\n",
            "259/313 [=======================>......] - ETA: 10s - loss: 0.0803 - accuracy: 0.9779Executing op __inference_train_function_3168 in device /job:localhost/replica:0/task:0/device:CPU:0\n",
            "260/313 [=======================>......] - ETA: 10s - loss: 0.0803 - accuracy: 0.9779Executing op __inference_train_function_3168 in device /job:localhost/replica:0/task:0/device:CPU:0\n",
            "261/313 [========================>.....] - ETA: 10s - loss: 0.0807 - accuracy: 0.9778Executing op __inference_train_function_3168 in device /job:localhost/replica:0/task:0/device:CPU:0\n",
            "262/313 [========================>.....] - ETA: 10s - loss: 0.0806 - accuracy: 0.9779Executing op __inference_train_function_3168 in device /job:localhost/replica:0/task:0/device:CPU:0\n",
            "263/313 [========================>.....] - ETA: 10s - loss: 0.0804 - accuracy: 0.9780Executing op __inference_train_function_3168 in device /job:localhost/replica:0/task:0/device:CPU:0\n",
            "264/313 [========================>.....] - ETA: 9s - loss: 0.0804 - accuracy: 0.9780 Executing op __inference_train_function_3168 in device /job:localhost/replica:0/task:0/device:CPU:0\n",
            "265/313 [========================>.....] - ETA: 9s - loss: 0.0803 - accuracy: 0.9780Executing op __inference_train_function_3168 in device /job:localhost/replica:0/task:0/device:CPU:0\n",
            "266/313 [========================>.....] - ETA: 9s - loss: 0.0804 - accuracy: 0.9780Executing op __inference_train_function_3168 in device /job:localhost/replica:0/task:0/device:CPU:0\n",
            "267/313 [========================>.....] - ETA: 9s - loss: 0.0802 - accuracy: 0.9780Executing op __inference_train_function_3168 in device /job:localhost/replica:0/task:0/device:CPU:0\n",
            "268/313 [========================>.....] - ETA: 9s - loss: 0.0808 - accuracy: 0.9779Executing op __inference_train_function_3168 in device /job:localhost/replica:0/task:0/device:CPU:0\n",
            "269/313 [========================>.....] - ETA: 8s - loss: 0.0807 - accuracy: 0.9779Executing op __inference_train_function_3168 in device /job:localhost/replica:0/task:0/device:CPU:0\n",
            "270/313 [========================>.....] - ETA: 8s - loss: 0.0807 - accuracy: 0.9779Executing op __inference_train_function_3168 in device /job:localhost/replica:0/task:0/device:CPU:0\n",
            "271/313 [========================>.....] - ETA: 8s - loss: 0.0805 - accuracy: 0.9779Executing op __inference_train_function_3168 in device /job:localhost/replica:0/task:0/device:CPU:0\n",
            "272/313 [=========================>....] - ETA: 8s - loss: 0.0806 - accuracy: 0.9779Executing op __inference_train_function_3168 in device /job:localhost/replica:0/task:0/device:CPU:0\n",
            "273/313 [=========================>....] - ETA: 8s - loss: 0.0809 - accuracy: 0.9779Executing op __inference_train_function_3168 in device /job:localhost/replica:0/task:0/device:CPU:0\n",
            "274/313 [=========================>....] - ETA: 7s - loss: 0.0813 - accuracy: 0.9777Executing op __inference_train_function_3168 in device /job:localhost/replica:0/task:0/device:CPU:0\n",
            "275/313 [=========================>....] - ETA: 7s - loss: 0.0814 - accuracy: 0.9777Executing op __inference_train_function_3168 in device /job:localhost/replica:0/task:0/device:CPU:0\n",
            "276/313 [=========================>....] - ETA: 7s - loss: 0.0815 - accuracy: 0.9776Executing op __inference_train_function_3168 in device /job:localhost/replica:0/task:0/device:CPU:0\n",
            "277/313 [=========================>....] - ETA: 7s - loss: 0.0818 - accuracy: 0.9775Executing op __inference_train_function_3168 in device /job:localhost/replica:0/task:0/device:CPU:0\n",
            "278/313 [=========================>....] - ETA: 7s - loss: 0.0818 - accuracy: 0.9775Executing op __inference_train_function_3168 in device /job:localhost/replica:0/task:0/device:CPU:0\n",
            "279/313 [=========================>....] - ETA: 6s - loss: 0.0817 - accuracy: 0.9775Executing op __inference_train_function_3168 in device /job:localhost/replica:0/task:0/device:CPU:0\n",
            "280/313 [=========================>....] - ETA: 6s - loss: 0.0817 - accuracy: 0.9775Executing op __inference_train_function_3168 in device /job:localhost/replica:0/task:0/device:CPU:0\n",
            "281/313 [=========================>....] - ETA: 6s - loss: 0.0818 - accuracy: 0.9774Executing op __inference_train_function_3168 in device /job:localhost/replica:0/task:0/device:CPU:0\n",
            "282/313 [==========================>...] - ETA: 6s - loss: 0.0818 - accuracy: 0.9774Executing op __inference_train_function_3168 in device /job:localhost/replica:0/task:0/device:CPU:0\n",
            "283/313 [==========================>...] - ETA: 6s - loss: 0.0817 - accuracy: 0.9774Executing op __inference_train_function_3168 in device /job:localhost/replica:0/task:0/device:CPU:0\n",
            "284/313 [==========================>...] - ETA: 5s - loss: 0.0815 - accuracy: 0.9775Executing op __inference_train_function_3168 in device /job:localhost/replica:0/task:0/device:CPU:0\n",
            "285/313 [==========================>...] - ETA: 5s - loss: 0.0815 - accuracy: 0.9775Executing op __inference_train_function_3168 in device /job:localhost/replica:0/task:0/device:CPU:0\n",
            "286/313 [==========================>...] - ETA: 5s - loss: 0.0816 - accuracy: 0.9775Executing op __inference_train_function_3168 in device /job:localhost/replica:0/task:0/device:CPU:0\n",
            "287/313 [==========================>...] - ETA: 5s - loss: 0.0817 - accuracy: 0.9774Executing op __inference_train_function_3168 in device /job:localhost/replica:0/task:0/device:CPU:0\n",
            "288/313 [==========================>...] - ETA: 5s - loss: 0.0816 - accuracy: 0.9775Executing op __inference_train_function_3168 in device /job:localhost/replica:0/task:0/device:CPU:0\n",
            "289/313 [==========================>...] - ETA: 4s - loss: 0.0815 - accuracy: 0.9774Executing op __inference_train_function_3168 in device /job:localhost/replica:0/task:0/device:CPU:0\n",
            "290/313 [==========================>...] - ETA: 4s - loss: 0.0814 - accuracy: 0.9774Executing op __inference_train_function_3168 in device /job:localhost/replica:0/task:0/device:CPU:0\n",
            "291/313 [==========================>...] - ETA: 4s - loss: 0.0813 - accuracy: 0.9774Executing op __inference_train_function_3168 in device /job:localhost/replica:0/task:0/device:CPU:0\n",
            "292/313 [==========================>...] - ETA: 4s - loss: 0.0811 - accuracy: 0.9775Executing op __inference_train_function_3168 in device /job:localhost/replica:0/task:0/device:CPU:0\n",
            "293/313 [===========================>..] - ETA: 4s - loss: 0.0810 - accuracy: 0.9775Executing op __inference_train_function_3168 in device /job:localhost/replica:0/task:0/device:CPU:0\n",
            "294/313 [===========================>..] - ETA: 3s - loss: 0.0811 - accuracy: 0.9775Executing op __inference_train_function_3168 in device /job:localhost/replica:0/task:0/device:CPU:0\n",
            "295/313 [===========================>..] - ETA: 3s - loss: 0.0813 - accuracy: 0.9774Executing op __inference_train_function_3168 in device /job:localhost/replica:0/task:0/device:CPU:0\n",
            "296/313 [===========================>..] - ETA: 3s - loss: 0.0813 - accuracy: 0.9774Executing op __inference_train_function_3168 in device /job:localhost/replica:0/task:0/device:CPU:0\n",
            "297/313 [===========================>..] - ETA: 3s - loss: 0.0812 - accuracy: 0.9774Executing op __inference_train_function_3168 in device /job:localhost/replica:0/task:0/device:CPU:0\n",
            "298/313 [===========================>..] - ETA: 3s - loss: 0.0812 - accuracy: 0.9774Executing op __inference_train_function_3168 in device /job:localhost/replica:0/task:0/device:CPU:0\n",
            "299/313 [===========================>..] - ETA: 2s - loss: 0.0813 - accuracy: 0.9773Executing op __inference_train_function_3168 in device /job:localhost/replica:0/task:0/device:CPU:0\n",
            "300/313 [===========================>..] - ETA: 2s - loss: 0.0813 - accuracy: 0.9773Executing op __inference_train_function_3168 in device /job:localhost/replica:0/task:0/device:CPU:0\n",
            "301/313 [===========================>..] - ETA: 2s - loss: 0.0816 - accuracy: 0.9773Executing op __inference_train_function_3168 in device /job:localhost/replica:0/task:0/device:CPU:0\n",
            "302/313 [===========================>..] - ETA: 2s - loss: 0.0815 - accuracy: 0.9773Executing op __inference_train_function_3168 in device /job:localhost/replica:0/task:0/device:CPU:0\n",
            "303/313 [============================>.] - ETA: 2s - loss: 0.0815 - accuracy: 0.9774Executing op __inference_train_function_3168 in device /job:localhost/replica:0/task:0/device:CPU:0\n",
            "304/313 [============================>.] - ETA: 1s - loss: 0.0814 - accuracy: 0.9774Executing op __inference_train_function_3168 in device /job:localhost/replica:0/task:0/device:CPU:0\n",
            "305/313 [============================>.] - ETA: 1s - loss: 0.0813 - accuracy: 0.9774Executing op __inference_train_function_3168 in device /job:localhost/replica:0/task:0/device:CPU:0\n",
            "306/313 [============================>.] - ETA: 1s - loss: 0.0815 - accuracy: 0.9773Executing op __inference_train_function_3168 in device /job:localhost/replica:0/task:0/device:CPU:0\n",
            "307/313 [============================>.] - ETA: 1s - loss: 0.0816 - accuracy: 0.9773Executing op __inference_train_function_3168 in device /job:localhost/replica:0/task:0/device:CPU:0\n",
            "308/313 [============================>.] - ETA: 1s - loss: 0.0814 - accuracy: 0.9773Executing op __inference_train_function_3168 in device /job:localhost/replica:0/task:0/device:CPU:0\n",
            "309/313 [============================>.] - ETA: 0s - loss: 0.0815 - accuracy: 0.9773Executing op __inference_train_function_3168 in device /job:localhost/replica:0/task:0/device:CPU:0\n",
            "310/313 [============================>.] - ETA: 0s - loss: 0.0815 - accuracy: 0.9773Executing op __inference_train_function_3168 in device /job:localhost/replica:0/task:0/device:CPU:0\n",
            "311/313 [============================>.] - ETA: 0s - loss: 0.0813 - accuracy: 0.9774Executing op __inference_train_function_3168 in device /job:localhost/replica:0/task:0/device:CPU:0\n",
            "312/313 [============================>.] - ETA: 0s - loss: 0.0817 - accuracy: 0.9772Executing op __inference_train_function_3168 in device /job:localhost/replica:0/task:0/device:CPU:0\n",
            "313/313 [==============================] - 63s 202ms/step - loss: 0.0817 - accuracy: 0.9772\n",
            "\n",
            "Epoch 00004: accuracy improved from 0.95998 to 0.97720, saving model to /content/LSTM.h5\n",
            "Executing op ReadVariableOp in device /job:localhost/replica:0/task:0/device:CPU:0\n",
            "Executing op Identity in device /job:localhost/replica:0/task:0/device:CPU:0\n",
            "Executing op ReadVariableOp in device /job:localhost/replica:0/task:0/device:CPU:0\n",
            "Executing op Identity in device /job:localhost/replica:0/task:0/device:CPU:0\n",
            "Executing op ReadVariableOp in device /job:localhost/replica:0/task:0/device:CPU:0\n",
            "Executing op Identity in device /job:localhost/replica:0/task:0/device:CPU:0\n",
            "Executing op ReadVariableOp in device /job:localhost/replica:0/task:0/device:CPU:0\n",
            "Executing op Identity in device /job:localhost/replica:0/task:0/device:CPU:0\n",
            "Executing op ReadVariableOp in device /job:localhost/replica:0/task:0/device:CPU:0\n",
            "Executing op Identity in device /job:localhost/replica:0/task:0/device:CPU:0\n",
            "Executing op ReadVariableOp in device /job:localhost/replica:0/task:0/device:CPU:0\n",
            "Executing op Identity in device /job:localhost/replica:0/task:0/device:CPU:0\n",
            "Executing op ReadVariableOp in device /job:localhost/replica:0/task:0/device:CPU:0\n",
            "Executing op Identity in device /job:localhost/replica:0/task:0/device:CPU:0\n",
            "Executing op ReadVariableOp in device /job:localhost/replica:0/task:0/device:CPU:0\n",
            "Executing op Identity in device /job:localhost/replica:0/task:0/device:CPU:0\n",
            "Executing op ReadVariableOp in device /job:localhost/replica:0/task:0/device:CPU:0\n",
            "Executing op Identity in device /job:localhost/replica:0/task:0/device:CPU:0\n",
            "Executing op ReadVariableOp in device /job:localhost/replica:0/task:0/device:CPU:0\n",
            "Executing op Identity in device /job:localhost/replica:0/task:0/device:CPU:0\n",
            "Executing op ReadVariableOp in device /job:localhost/replica:0/task:0/device:CPU:0\n",
            "Executing op Identity in device /job:localhost/replica:0/task:0/device:CPU:0\n",
            "Executing op ReadVariableOp in device /job:localhost/replica:0/task:0/device:CPU:0\n",
            "Executing op Identity in device /job:localhost/replica:0/task:0/device:CPU:0\n",
            "Executing op ReadVariableOp in device /job:localhost/replica:0/task:0/device:CPU:0\n",
            "Executing op Identity in device /job:localhost/replica:0/task:0/device:CPU:0\n",
            "Executing op ReadVariableOp in device /job:localhost/replica:0/task:0/device:CPU:0\n",
            "Executing op Identity in device /job:localhost/replica:0/task:0/device:CPU:0\n",
            "Executing op ReadVariableOp in device /job:localhost/replica:0/task:0/device:CPU:0\n",
            "Executing op Identity in device /job:localhost/replica:0/task:0/device:CPU:0\n",
            "Executing op ReadVariableOp in device /job:localhost/replica:0/task:0/device:CPU:0\n",
            "Executing op Identity in device /job:localhost/replica:0/task:0/device:CPU:0\n",
            "Executing op ReadVariableOp in device /job:localhost/replica:0/task:0/device:CPU:0\n",
            "Executing op Identity in device /job:localhost/replica:0/task:0/device:CPU:0\n",
            "Executing op ReadVariableOp in device /job:localhost/replica:0/task:0/device:CPU:0\n",
            "Executing op Identity in device /job:localhost/replica:0/task:0/device:CPU:0\n",
            "Executing op ReadVariableOp in device /job:localhost/replica:0/task:0/device:CPU:0\n",
            "Executing op Identity in device /job:localhost/replica:0/task:0/device:CPU:0\n",
            "Executing op ReadVariableOp in device /job:localhost/replica:0/task:0/device:CPU:0\n",
            "Executing op Identity in device /job:localhost/replica:0/task:0/device:CPU:0\n",
            "Executing op ReadVariableOp in device /job:localhost/replica:0/task:0/device:CPU:0\n",
            "Executing op Identity in device /job:localhost/replica:0/task:0/device:CPU:0\n",
            "Executing op ReadVariableOp in device /job:localhost/replica:0/task:0/device:CPU:0\n",
            "Executing op Identity in device /job:localhost/replica:0/task:0/device:CPU:0\n",
            "Executing op _EagerConst in device /job:localhost/replica:0/task:0/device:CPU:0\n",
            "Executing op AssignVariableOp in device /job:localhost/replica:0/task:0/device:CPU:0\n",
            "Executing op _EagerConst in device /job:localhost/replica:0/task:0/device:CPU:0\n",
            "Executing op AssignVariableOp in device /job:localhost/replica:0/task:0/device:CPU:0\n",
            "Executing op _EagerConst in device /job:localhost/replica:0/task:0/device:CPU:0\n",
            "Executing op AssignVariableOp in device /job:localhost/replica:0/task:0/device:CPU:0\n",
            "Executing op _EagerConst in device /job:localhost/replica:0/task:0/device:CPU:0\n",
            "Executing op AssignVariableOp in device /job:localhost/replica:0/task:0/device:CPU:0\n",
            "Epoch 5/5\n",
            "Executing op __inference_train_function_3168 in device /job:localhost/replica:0/task:0/device:CPU:0\n",
            "  1/313 [..............................] - ETA: 1:32 - loss: 0.0324 - accuracy: 1.0000Executing op __inference_train_function_3168 in device /job:localhost/replica:0/task:0/device:CPU:0\n",
            "  2/313 [..............................] - ETA: 1:07 - loss: 0.0383 - accuracy: 0.9922Executing op __inference_train_function_3168 in device /job:localhost/replica:0/task:0/device:CPU:0\n",
            "  3/313 [..............................] - ETA: 1:06 - loss: 0.0326 - accuracy: 0.9948Executing op __inference_train_function_3168 in device /job:localhost/replica:0/task:0/device:CPU:0\n",
            "  4/313 [..............................] - ETA: 1:05 - loss: 0.0433 - accuracy: 0.9883Executing op __inference_train_function_3168 in device /job:localhost/replica:0/task:0/device:CPU:0\n",
            "  5/313 [..............................] - ETA: 1:04 - loss: 0.0429 - accuracy: 0.9891Executing op __inference_train_function_3168 in device /job:localhost/replica:0/task:0/device:CPU:0\n",
            "  6/313 [..............................] - ETA: 1:03 - loss: 0.0532 - accuracy: 0.9870Executing op __inference_train_function_3168 in device /job:localhost/replica:0/task:0/device:CPU:0\n",
            "  7/313 [..............................] - ETA: 1:03 - loss: 0.0493 - accuracy: 0.9877Executing op __inference_train_function_3168 in device /job:localhost/replica:0/task:0/device:CPU:0\n",
            "  8/313 [..............................] - ETA: 1:03 - loss: 0.0487 - accuracy: 0.9873Executing op __inference_train_function_3168 in device /job:localhost/replica:0/task:0/device:CPU:0\n",
            "  9/313 [..............................] - ETA: 1:02 - loss: 0.0448 - accuracy: 0.9887Executing op __inference_train_function_3168 in device /job:localhost/replica:0/task:0/device:CPU:0\n",
            " 10/313 [..............................] - ETA: 1:01 - loss: 0.0425 - accuracy: 0.9891Executing op __inference_train_function_3168 in device /job:localhost/replica:0/task:0/device:CPU:0\n",
            " 11/313 [>.............................] - ETA: 1:01 - loss: 0.0408 - accuracy: 0.9893Executing op __inference_train_function_3168 in device /job:localhost/replica:0/task:0/device:CPU:0\n",
            " 12/313 [>.............................] - ETA: 1:01 - loss: 0.0462 - accuracy: 0.9863Executing op __inference_train_function_3168 in device /job:localhost/replica:0/task:0/device:CPU:0\n",
            " 13/313 [>.............................] - ETA: 1:00 - loss: 0.0478 - accuracy: 0.9868Executing op __inference_train_function_3168 in device /job:localhost/replica:0/task:0/device:CPU:0\n",
            " 14/313 [>.............................] - ETA: 1:00 - loss: 0.0544 - accuracy: 0.9855Executing op __inference_train_function_3168 in device /job:localhost/replica:0/task:0/device:CPU:0\n",
            " 15/313 [>.............................] - ETA: 1:00 - loss: 0.0552 - accuracy: 0.9859Executing op __inference_train_function_3168 in device /job:localhost/replica:0/task:0/device:CPU:0\n",
            " 16/313 [>.............................] - ETA: 1:00 - loss: 0.0530 - accuracy: 0.9863Executing op __inference_train_function_3168 in device /job:localhost/replica:0/task:0/device:CPU:0\n",
            " 17/313 [>.............................] - ETA: 59s - loss: 0.0514 - accuracy: 0.9867 Executing op __inference_train_function_3168 in device /job:localhost/replica:0/task:0/device:CPU:0\n",
            " 18/313 [>.............................] - ETA: 59s - loss: 0.0491 - accuracy: 0.9874Executing op __inference_train_function_3168 in device /job:localhost/replica:0/task:0/device:CPU:0\n",
            " 19/313 [>.............................] - ETA: 59s - loss: 0.0470 - accuracy: 0.9881Executing op __inference_train_function_3168 in device /job:localhost/replica:0/task:0/device:CPU:0\n",
            " 20/313 [>.............................] - ETA: 59s - loss: 0.0525 - accuracy: 0.9863Executing op __inference_train_function_3168 in device /job:localhost/replica:0/task:0/device:CPU:0\n",
            " 21/313 [=>............................] - ETA: 59s - loss: 0.0507 - accuracy: 0.9866Executing op __inference_train_function_3168 in device /job:localhost/replica:0/task:0/device:CPU:0\n",
            " 22/313 [=>............................] - ETA: 59s - loss: 0.0508 - accuracy: 0.9865Executing op __inference_train_function_3168 in device /job:localhost/replica:0/task:0/device:CPU:0\n",
            " 23/313 [=>............................] - ETA: 58s - loss: 0.0498 - accuracy: 0.9868Executing op __inference_train_function_3168 in device /job:localhost/replica:0/task:0/device:CPU:0\n",
            " 24/313 [=>............................] - ETA: 58s - loss: 0.0512 - accuracy: 0.9867Executing op __inference_train_function_3168 in device /job:localhost/replica:0/task:0/device:CPU:0\n",
            " 25/313 [=>............................] - ETA: 58s - loss: 0.0506 - accuracy: 0.9869Executing op __inference_train_function_3168 in device /job:localhost/replica:0/task:0/device:CPU:0\n",
            " 26/313 [=>............................] - ETA: 58s - loss: 0.0500 - accuracy: 0.9868Executing op __inference_train_function_3168 in device /job:localhost/replica:0/task:0/device:CPU:0\n",
            " 27/313 [=>............................] - ETA: 58s - loss: 0.0491 - accuracy: 0.9870Executing op __inference_train_function_3168 in device /job:localhost/replica:0/task:0/device:CPU:0\n",
            " 28/313 [=>............................] - ETA: 57s - loss: 0.0496 - accuracy: 0.9866Executing op __inference_train_function_3168 in device /job:localhost/replica:0/task:0/device:CPU:0\n",
            " 29/313 [=>............................] - ETA: 57s - loss: 0.0501 - accuracy: 0.9863Executing op __inference_train_function_3168 in device /job:localhost/replica:0/task:0/device:CPU:0\n",
            " 30/313 [=>............................] - ETA: 57s - loss: 0.0499 - accuracy: 0.9862Executing op __inference_train_function_3168 in device /job:localhost/replica:0/task:0/device:CPU:0\n",
            " 31/313 [=>............................] - ETA: 57s - loss: 0.0499 - accuracy: 0.9861Executing op __inference_train_function_3168 in device /job:localhost/replica:0/task:0/device:CPU:0\n",
            " 32/313 [==>...........................] - ETA: 57s - loss: 0.0504 - accuracy: 0.9861Executing op __inference_train_function_3168 in device /job:localhost/replica:0/task:0/device:CPU:0\n",
            " 33/313 [==>...........................] - ETA: 56s - loss: 0.0498 - accuracy: 0.9863Executing op __inference_train_function_3168 in device /job:localhost/replica:0/task:0/device:CPU:0\n",
            " 34/313 [==>...........................] - ETA: 56s - loss: 0.0502 - accuracy: 0.9862Executing op __inference_train_function_3168 in device /job:localhost/replica:0/task:0/device:CPU:0\n",
            " 35/313 [==>...........................] - ETA: 56s - loss: 0.0515 - accuracy: 0.9857Executing op __inference_train_function_3168 in device /job:localhost/replica:0/task:0/device:CPU:0\n",
            " 36/313 [==>...........................] - ETA: 56s - loss: 0.0519 - accuracy: 0.9857Executing op __inference_train_function_3168 in device /job:localhost/replica:0/task:0/device:CPU:0\n",
            " 37/313 [==>...........................] - ETA: 56s - loss: 0.0507 - accuracy: 0.9861Executing op __inference_train_function_3168 in device /job:localhost/replica:0/task:0/device:CPU:0\n",
            " 38/313 [==>...........................] - ETA: 55s - loss: 0.0510 - accuracy: 0.9858Executing op __inference_train_function_3168 in device /job:localhost/replica:0/task:0/device:CPU:0\n",
            " 39/313 [==>...........................] - ETA: 55s - loss: 0.0504 - accuracy: 0.9860Executing op __inference_train_function_3168 in device /job:localhost/replica:0/task:0/device:CPU:0\n",
            " 40/313 [==>...........................] - ETA: 55s - loss: 0.0494 - accuracy: 0.9863Executing op __inference_train_function_3168 in device /job:localhost/replica:0/task:0/device:CPU:0\n",
            " 41/313 [==>...........................] - ETA: 55s - loss: 0.0492 - accuracy: 0.9865Executing op __inference_train_function_3168 in device /job:localhost/replica:0/task:0/device:CPU:0\n",
            " 42/313 [===>..........................] - ETA: 55s - loss: 0.0483 - accuracy: 0.9868Executing op __inference_train_function_3168 in device /job:localhost/replica:0/task:0/device:CPU:0\n",
            " 43/313 [===>..........................] - ETA: 54s - loss: 0.0489 - accuracy: 0.9866Executing op __inference_train_function_3168 in device /job:localhost/replica:0/task:0/device:CPU:0\n",
            " 44/313 [===>..........................] - ETA: 54s - loss: 0.0492 - accuracy: 0.9865Executing op __inference_train_function_3168 in device /job:localhost/replica:0/task:0/device:CPU:0\n",
            " 45/313 [===>..........................] - ETA: 54s - loss: 0.0486 - accuracy: 0.9866Executing op __inference_train_function_3168 in device /job:localhost/replica:0/task:0/device:CPU:0\n",
            " 46/313 [===>..........................] - ETA: 54s - loss: 0.0483 - accuracy: 0.9868Executing op __inference_train_function_3168 in device /job:localhost/replica:0/task:0/device:CPU:0\n",
            " 47/313 [===>..........................] - ETA: 54s - loss: 0.0486 - accuracy: 0.9867Executing op __inference_train_function_3168 in device /job:localhost/replica:0/task:0/device:CPU:0\n",
            " 48/313 [===>..........................] - ETA: 53s - loss: 0.0495 - accuracy: 0.9867Executing op __inference_train_function_3168 in device /job:localhost/replica:0/task:0/device:CPU:0\n",
            " 49/313 [===>..........................] - ETA: 53s - loss: 0.0490 - accuracy: 0.9869Executing op __inference_train_function_3168 in device /job:localhost/replica:0/task:0/device:CPU:0\n",
            " 50/313 [===>..........................] - ETA: 53s - loss: 0.0486 - accuracy: 0.9869Executing op __inference_train_function_3168 in device /job:localhost/replica:0/task:0/device:CPU:0\n",
            " 51/313 [===>..........................] - ETA: 53s - loss: 0.0483 - accuracy: 0.9870Executing op __inference_train_function_3168 in device /job:localhost/replica:0/task:0/device:CPU:0\n",
            " 52/313 [===>..........................] - ETA: 53s - loss: 0.0483 - accuracy: 0.9871Executing op __inference_train_function_3168 in device /job:localhost/replica:0/task:0/device:CPU:0\n",
            " 53/313 [====>.........................] - ETA: 52s - loss: 0.0477 - accuracy: 0.9873Executing op __inference_train_function_3168 in device /job:localhost/replica:0/task:0/device:CPU:0\n",
            " 54/313 [====>.........................] - ETA: 52s - loss: 0.0472 - accuracy: 0.9874Executing op __inference_train_function_3168 in device /job:localhost/replica:0/task:0/device:CPU:0\n",
            " 55/313 [====>.........................] - ETA: 52s - loss: 0.0473 - accuracy: 0.9875Executing op __inference_train_function_3168 in device /job:localhost/replica:0/task:0/device:CPU:0\n",
            " 56/313 [====>.........................] - ETA: 52s - loss: 0.0470 - accuracy: 0.9874Executing op __inference_train_function_3168 in device /job:localhost/replica:0/task:0/device:CPU:0\n",
            " 57/313 [====>.........................] - ETA: 52s - loss: 0.0469 - accuracy: 0.9875Executing op __inference_train_function_3168 in device /job:localhost/replica:0/task:0/device:CPU:0\n",
            " 58/313 [====>.........................] - ETA: 51s - loss: 0.0462 - accuracy: 0.9877Executing op __inference_train_function_3168 in device /job:localhost/replica:0/task:0/device:CPU:0\n",
            " 59/313 [====>.........................] - ETA: 51s - loss: 0.0461 - accuracy: 0.9876Executing op __inference_train_function_3168 in device /job:localhost/replica:0/task:0/device:CPU:0\n",
            " 60/313 [====>.........................] - ETA: 51s - loss: 0.0458 - accuracy: 0.9876Executing op __inference_train_function_3168 in device /job:localhost/replica:0/task:0/device:CPU:0\n",
            " 61/313 [====>.........................] - ETA: 51s - loss: 0.0454 - accuracy: 0.9877Executing op __inference_train_function_3168 in device /job:localhost/replica:0/task:0/device:CPU:0\n",
            " 62/313 [====>.........................] - ETA: 51s - loss: 0.0460 - accuracy: 0.9877Executing op __inference_train_function_3168 in device /job:localhost/replica:0/task:0/device:CPU:0\n",
            " 63/313 [=====>........................] - ETA: 50s - loss: 0.0462 - accuracy: 0.9877Executing op __inference_train_function_3168 in device /job:localhost/replica:0/task:0/device:CPU:0\n",
            " 64/313 [=====>........................] - ETA: 50s - loss: 0.0462 - accuracy: 0.9878Executing op __inference_train_function_3168 in device /job:localhost/replica:0/task:0/device:CPU:0\n",
            " 65/313 [=====>........................] - ETA: 50s - loss: 0.0465 - accuracy: 0.9879Executing op __inference_train_function_3168 in device /job:localhost/replica:0/task:0/device:CPU:0\n",
            " 66/313 [=====>........................] - ETA: 50s - loss: 0.0471 - accuracy: 0.9876Executing op __inference_train_function_3168 in device /job:localhost/replica:0/task:0/device:CPU:0\n",
            " 67/313 [=====>........................] - ETA: 49s - loss: 0.0471 - accuracy: 0.9876Executing op __inference_train_function_3168 in device /job:localhost/replica:0/task:0/device:CPU:0\n",
            " 68/313 [=====>........................] - ETA: 49s - loss: 0.0473 - accuracy: 0.9877Executing op __inference_train_function_3168 in device /job:localhost/replica:0/task:0/device:CPU:0\n",
            " 69/313 [=====>........................] - ETA: 49s - loss: 0.0467 - accuracy: 0.9879Executing op __inference_train_function_3168 in device /job:localhost/replica:0/task:0/device:CPU:0\n",
            " 70/313 [=====>........................] - ETA: 49s - loss: 0.0464 - accuracy: 0.9881Executing op __inference_train_function_3168 in device /job:localhost/replica:0/task:0/device:CPU:0\n",
            " 71/313 [=====>........................] - ETA: 49s - loss: 0.0467 - accuracy: 0.9881Executing op __inference_train_function_3168 in device /job:localhost/replica:0/task:0/device:CPU:0\n",
            " 72/313 [=====>........................] - ETA: 48s - loss: 0.0474 - accuracy: 0.9880Executing op __inference_train_function_3168 in device /job:localhost/replica:0/task:0/device:CPU:0\n",
            " 73/313 [=====>........................] - ETA: 48s - loss: 0.0473 - accuracy: 0.9879Executing op __inference_train_function_3168 in device /job:localhost/replica:0/task:0/device:CPU:0\n",
            " 74/313 [======>.......................] - ETA: 48s - loss: 0.0473 - accuracy: 0.9880Executing op __inference_train_function_3168 in device /job:localhost/replica:0/task:0/device:CPU:0\n",
            " 75/313 [======>.......................] - ETA: 48s - loss: 0.0468 - accuracy: 0.9881Executing op __inference_train_function_3168 in device /job:localhost/replica:0/task:0/device:CPU:0\n",
            " 76/313 [======>.......................] - ETA: 48s - loss: 0.0470 - accuracy: 0.9882Executing op __inference_train_function_3168 in device /job:localhost/replica:0/task:0/device:CPU:0\n",
            " 77/313 [======>.......................] - ETA: 47s - loss: 0.0472 - accuracy: 0.9882Executing op __inference_train_function_3168 in device /job:localhost/replica:0/task:0/device:CPU:0\n",
            " 78/313 [======>.......................] - ETA: 47s - loss: 0.0470 - accuracy: 0.9883Executing op __inference_train_function_3168 in device /job:localhost/replica:0/task:0/device:CPU:0\n",
            " 79/313 [======>.......................] - ETA: 47s - loss: 0.0473 - accuracy: 0.9881Executing op __inference_train_function_3168 in device /job:localhost/replica:0/task:0/device:CPU:0\n",
            " 80/313 [======>.......................] - ETA: 47s - loss: 0.0472 - accuracy: 0.9882Executing op __inference_train_function_3168 in device /job:localhost/replica:0/task:0/device:CPU:0\n",
            " 81/313 [======>.......................] - ETA: 47s - loss: 0.0473 - accuracy: 0.9882Executing op __inference_train_function_3168 in device /job:localhost/replica:0/task:0/device:CPU:0\n",
            " 82/313 [======>.......................] - ETA: 46s - loss: 0.0475 - accuracy: 0.9882Executing op __inference_train_function_3168 in device /job:localhost/replica:0/task:0/device:CPU:0\n",
            " 83/313 [======>.......................] - ETA: 46s - loss: 0.0477 - accuracy: 0.9882Executing op __inference_train_function_3168 in device /job:localhost/replica:0/task:0/device:CPU:0\n",
            " 84/313 [=======>......................] - ETA: 46s - loss: 0.0482 - accuracy: 0.9883Executing op __inference_train_function_3168 in device /job:localhost/replica:0/task:0/device:CPU:0\n",
            " 85/313 [=======>......................] - ETA: 46s - loss: 0.0486 - accuracy: 0.9882Executing op __inference_train_function_3168 in device /job:localhost/replica:0/task:0/device:CPU:0\n",
            " 86/313 [=======>......................] - ETA: 46s - loss: 0.0484 - accuracy: 0.9883Executing op __inference_train_function_3168 in device /job:localhost/replica:0/task:0/device:CPU:0\n",
            " 87/313 [=======>......................] - ETA: 45s - loss: 0.0489 - accuracy: 0.9881Executing op __inference_train_function_3168 in device /job:localhost/replica:0/task:0/device:CPU:0\n",
            " 88/313 [=======>......................] - ETA: 45s - loss: 0.0490 - accuracy: 0.9880Executing op __inference_train_function_3168 in device /job:localhost/replica:0/task:0/device:CPU:0\n",
            " 89/313 [=======>......................] - ETA: 45s - loss: 0.0496 - accuracy: 0.9879Executing op __inference_train_function_3168 in device /job:localhost/replica:0/task:0/device:CPU:0\n",
            " 90/313 [=======>......................] - ETA: 45s - loss: 0.0496 - accuracy: 0.9878Executing op __inference_train_function_3168 in device /job:localhost/replica:0/task:0/device:CPU:0\n",
            " 91/313 [=======>......................] - ETA: 45s - loss: 0.0496 - accuracy: 0.9878Executing op __inference_train_function_3168 in device /job:localhost/replica:0/task:0/device:CPU:0\n",
            " 92/313 [=======>......................] - ETA: 44s - loss: 0.0500 - accuracy: 0.9876Executing op __inference_train_function_3168 in device /job:localhost/replica:0/task:0/device:CPU:0\n",
            " 93/313 [=======>......................] - ETA: 44s - loss: 0.0509 - accuracy: 0.9874Executing op __inference_train_function_3168 in device /job:localhost/replica:0/task:0/device:CPU:0\n",
            " 94/313 [========>.....................] - ETA: 44s - loss: 0.0508 - accuracy: 0.9875Executing op __inference_train_function_3168 in device /job:localhost/replica:0/task:0/device:CPU:0\n",
            " 95/313 [========>.....................] - ETA: 44s - loss: 0.0513 - accuracy: 0.9873Executing op __inference_train_function_3168 in device /job:localhost/replica:0/task:0/device:CPU:0\n",
            " 96/313 [========>.....................] - ETA: 44s - loss: 0.0513 - accuracy: 0.9872Executing op __inference_train_function_3168 in device /job:localhost/replica:0/task:0/device:CPU:0\n",
            " 97/313 [========>.....................] - ETA: 43s - loss: 0.0519 - accuracy: 0.9869Executing op __inference_train_function_3168 in device /job:localhost/replica:0/task:0/device:CPU:0\n",
            " 98/313 [========>.....................] - ETA: 43s - loss: 0.0526 - accuracy: 0.9868Executing op __inference_train_function_3168 in device /job:localhost/replica:0/task:0/device:CPU:0\n",
            " 99/313 [========>.....................] - ETA: 43s - loss: 0.0526 - accuracy: 0.9868Executing op __inference_train_function_3168 in device /job:localhost/replica:0/task:0/device:CPU:0\n",
            "100/313 [========>.....................] - ETA: 43s - loss: 0.0525 - accuracy: 0.9868Executing op __inference_train_function_3168 in device /job:localhost/replica:0/task:0/device:CPU:0\n",
            "101/313 [========>.....................] - ETA: 43s - loss: 0.0523 - accuracy: 0.9869Executing op __inference_train_function_3168 in device /job:localhost/replica:0/task:0/device:CPU:0\n",
            "102/313 [========>.....................] - ETA: 42s - loss: 0.0521 - accuracy: 0.9869Executing op __inference_train_function_3168 in device /job:localhost/replica:0/task:0/device:CPU:0\n",
            "103/313 [========>.....................] - ETA: 42s - loss: 0.0520 - accuracy: 0.9869Executing op __inference_train_function_3168 in device /job:localhost/replica:0/task:0/device:CPU:0\n",
            "104/313 [========>.....................] - ETA: 42s - loss: 0.0518 - accuracy: 0.9869Executing op __inference_train_function_3168 in device /job:localhost/replica:0/task:0/device:CPU:0\n",
            "105/313 [=========>....................] - ETA: 42s - loss: 0.0523 - accuracy: 0.9868Executing op __inference_train_function_3168 in device /job:localhost/replica:0/task:0/device:CPU:0\n",
            "106/313 [=========>....................] - ETA: 42s - loss: 0.0526 - accuracy: 0.9868Executing op __inference_train_function_3168 in device /job:localhost/replica:0/task:0/device:CPU:0\n",
            "107/313 [=========>....................] - ETA: 41s - loss: 0.0523 - accuracy: 0.9869Executing op __inference_train_function_3168 in device /job:localhost/replica:0/task:0/device:CPU:0\n",
            "108/313 [=========>....................] - ETA: 41s - loss: 0.0527 - accuracy: 0.9868Executing op __inference_train_function_3168 in device /job:localhost/replica:0/task:0/device:CPU:0\n",
            "109/313 [=========>....................] - ETA: 41s - loss: 0.0524 - accuracy: 0.9868Executing op __inference_train_function_3168 in device /job:localhost/replica:0/task:0/device:CPU:0\n",
            "110/313 [=========>....................] - ETA: 41s - loss: 0.0524 - accuracy: 0.9869Executing op __inference_train_function_3168 in device /job:localhost/replica:0/task:0/device:CPU:0\n",
            "111/313 [=========>....................] - ETA: 41s - loss: 0.0521 - accuracy: 0.9868Executing op __inference_train_function_3168 in device /job:localhost/replica:0/task:0/device:CPU:0\n",
            "112/313 [=========>....................] - ETA: 40s - loss: 0.0526 - accuracy: 0.9867Executing op __inference_train_function_3168 in device /job:localhost/replica:0/task:0/device:CPU:0\n",
            "113/313 [=========>....................] - ETA: 40s - loss: 0.0527 - accuracy: 0.9867Executing op __inference_train_function_3168 in device /job:localhost/replica:0/task:0/device:CPU:0\n",
            "114/313 [=========>....................] - ETA: 40s - loss: 0.0526 - accuracy: 0.9868Executing op __inference_train_function_3168 in device /job:localhost/replica:0/task:0/device:CPU:0\n",
            "115/313 [==========>...................] - ETA: 40s - loss: 0.0523 - accuracy: 0.9869Executing op __inference_train_function_3168 in device /job:localhost/replica:0/task:0/device:CPU:0\n",
            "116/313 [==========>...................] - ETA: 40s - loss: 0.0529 - accuracy: 0.9868Executing op __inference_train_function_3168 in device /job:localhost/replica:0/task:0/device:CPU:0\n",
            "117/313 [==========>...................] - ETA: 39s - loss: 0.0532 - accuracy: 0.9867Executing op __inference_train_function_3168 in device /job:localhost/replica:0/task:0/device:CPU:0\n",
            "118/313 [==========>...................] - ETA: 39s - loss: 0.0535 - accuracy: 0.9867Executing op __inference_train_function_3168 in device /job:localhost/replica:0/task:0/device:CPU:0\n",
            "119/313 [==========>...................] - ETA: 39s - loss: 0.0532 - accuracy: 0.9867Executing op __inference_train_function_3168 in device /job:localhost/replica:0/task:0/device:CPU:0\n",
            "120/313 [==========>...................] - ETA: 39s - loss: 0.0532 - accuracy: 0.9867Executing op __inference_train_function_3168 in device /job:localhost/replica:0/task:0/device:CPU:0\n",
            "121/313 [==========>...................] - ETA: 39s - loss: 0.0531 - accuracy: 0.9868Executing op __inference_train_function_3168 in device /job:localhost/replica:0/task:0/device:CPU:0\n",
            "122/313 [==========>...................] - ETA: 38s - loss: 0.0535 - accuracy: 0.9867Executing op __inference_train_function_3168 in device /job:localhost/replica:0/task:0/device:CPU:0\n",
            "123/313 [==========>...................] - ETA: 38s - loss: 0.0532 - accuracy: 0.9867Executing op __inference_train_function_3168 in device /job:localhost/replica:0/task:0/device:CPU:0\n",
            "124/313 [==========>...................] - ETA: 38s - loss: 0.0531 - accuracy: 0.9868Executing op __inference_train_function_3168 in device /job:localhost/replica:0/task:0/device:CPU:0\n",
            "125/313 [==========>...................] - ETA: 38s - loss: 0.0532 - accuracy: 0.9868Executing op __inference_train_function_3168 in device /job:localhost/replica:0/task:0/device:CPU:0\n",
            "126/313 [===========>..................] - ETA: 38s - loss: 0.0541 - accuracy: 0.9865Executing op __inference_train_function_3168 in device /job:localhost/replica:0/task:0/device:CPU:0\n",
            "127/313 [===========>..................] - ETA: 37s - loss: 0.0541 - accuracy: 0.9865Executing op __inference_train_function_3168 in device /job:localhost/replica:0/task:0/device:CPU:0\n",
            "128/313 [===========>..................] - ETA: 37s - loss: 0.0542 - accuracy: 0.9865Executing op __inference_train_function_3168 in device /job:localhost/replica:0/task:0/device:CPU:0\n",
            "129/313 [===========>..................] - ETA: 37s - loss: 0.0539 - accuracy: 0.9866Executing op __inference_train_function_3168 in device /job:localhost/replica:0/task:0/device:CPU:0\n",
            "130/313 [===========>..................] - ETA: 37s - loss: 0.0542 - accuracy: 0.9865Executing op __inference_train_function_3168 in device /job:localhost/replica:0/task:0/device:CPU:0\n",
            "131/313 [===========>..................] - ETA: 36s - loss: 0.0545 - accuracy: 0.9865Executing op __inference_train_function_3168 in device /job:localhost/replica:0/task:0/device:CPU:0\n",
            "132/313 [===========>..................] - ETA: 36s - loss: 0.0548 - accuracy: 0.9864Executing op __inference_train_function_3168 in device /job:localhost/replica:0/task:0/device:CPU:0\n",
            "133/313 [===========>..................] - ETA: 36s - loss: 0.0549 - accuracy: 0.9863Executing op __inference_train_function_3168 in device /job:localhost/replica:0/task:0/device:CPU:0\n",
            "134/313 [===========>..................] - ETA: 36s - loss: 0.0552 - accuracy: 0.9861Executing op __inference_train_function_3168 in device /job:localhost/replica:0/task:0/device:CPU:0\n",
            "135/313 [===========>..................] - ETA: 36s - loss: 0.0552 - accuracy: 0.9862Executing op __inference_train_function_3168 in device /job:localhost/replica:0/task:0/device:CPU:0\n",
            "136/313 [============>.................] - ETA: 35s - loss: 0.0550 - accuracy: 0.9862Executing op __inference_train_function_3168 in device /job:localhost/replica:0/task:0/device:CPU:0\n",
            "137/313 [============>.................] - ETA: 35s - loss: 0.0550 - accuracy: 0.9863Executing op __inference_train_function_3168 in device /job:localhost/replica:0/task:0/device:CPU:0\n",
            "138/313 [============>.................] - ETA: 35s - loss: 0.0548 - accuracy: 0.9864Executing op __inference_train_function_3168 in device /job:localhost/replica:0/task:0/device:CPU:0\n",
            "139/313 [============>.................] - ETA: 35s - loss: 0.0545 - accuracy: 0.9865Executing op __inference_train_function_3168 in device /job:localhost/replica:0/task:0/device:CPU:0\n",
            "140/313 [============>.................] - ETA: 35s - loss: 0.0547 - accuracy: 0.9864Executing op __inference_train_function_3168 in device /job:localhost/replica:0/task:0/device:CPU:0\n",
            "141/313 [============>.................] - ETA: 34s - loss: 0.0544 - accuracy: 0.9865Executing op __inference_train_function_3168 in device /job:localhost/replica:0/task:0/device:CPU:0\n",
            "142/313 [============>.................] - ETA: 34s - loss: 0.0551 - accuracy: 0.9863Executing op __inference_train_function_3168 in device /job:localhost/replica:0/task:0/device:CPU:0\n",
            "143/313 [============>.................] - ETA: 34s - loss: 0.0548 - accuracy: 0.9864Executing op __inference_train_function_3168 in device /job:localhost/replica:0/task:0/device:CPU:0\n",
            "144/313 [============>.................] - ETA: 34s - loss: 0.0548 - accuracy: 0.9864Executing op __inference_train_function_3168 in device /job:localhost/replica:0/task:0/device:CPU:0\n",
            "145/313 [============>.................] - ETA: 34s - loss: 0.0548 - accuracy: 0.9864Executing op __inference_train_function_3168 in device /job:localhost/replica:0/task:0/device:CPU:0\n",
            "146/313 [============>.................] - ETA: 33s - loss: 0.0545 - accuracy: 0.9865Executing op __inference_train_function_3168 in device /job:localhost/replica:0/task:0/device:CPU:0\n",
            "147/313 [=============>................] - ETA: 33s - loss: 0.0543 - accuracy: 0.9866Executing op __inference_train_function_3168 in device /job:localhost/replica:0/task:0/device:CPU:0\n",
            "148/313 [=============>................] - ETA: 33s - loss: 0.0545 - accuracy: 0.9865Executing op __inference_train_function_3168 in device /job:localhost/replica:0/task:0/device:CPU:0\n",
            "149/313 [=============>................] - ETA: 33s - loss: 0.0543 - accuracy: 0.9866Executing op __inference_train_function_3168 in device /job:localhost/replica:0/task:0/device:CPU:0\n",
            "150/313 [=============>................] - ETA: 33s - loss: 0.0544 - accuracy: 0.9865Executing op __inference_train_function_3168 in device /job:localhost/replica:0/task:0/device:CPU:0\n",
            "151/313 [=============>................] - ETA: 32s - loss: 0.0543 - accuracy: 0.9864Executing op __inference_train_function_3168 in device /job:localhost/replica:0/task:0/device:CPU:0\n",
            "152/313 [=============>................] - ETA: 32s - loss: 0.0546 - accuracy: 0.9864Executing op __inference_train_function_3168 in device /job:localhost/replica:0/task:0/device:CPU:0\n",
            "153/313 [=============>................] - ETA: 32s - loss: 0.0543 - accuracy: 0.9865Executing op __inference_train_function_3168 in device /job:localhost/replica:0/task:0/device:CPU:0\n",
            "154/313 [=============>................] - ETA: 32s - loss: 0.0541 - accuracy: 0.9865Executing op __inference_train_function_3168 in device /job:localhost/replica:0/task:0/device:CPU:0\n",
            "155/313 [=============>................] - ETA: 32s - loss: 0.0542 - accuracy: 0.9863Executing op __inference_train_function_3168 in device /job:localhost/replica:0/task:0/device:CPU:0\n",
            "156/313 [=============>................] - ETA: 31s - loss: 0.0540 - accuracy: 0.9863Executing op __inference_train_function_3168 in device /job:localhost/replica:0/task:0/device:CPU:0\n",
            "157/313 [==============>...............] - ETA: 31s - loss: 0.0540 - accuracy: 0.9863Executing op __inference_train_function_3168 in device /job:localhost/replica:0/task:0/device:CPU:0\n",
            "158/313 [==============>...............] - ETA: 31s - loss: 0.0538 - accuracy: 0.9863Executing op __inference_train_function_3168 in device /job:localhost/replica:0/task:0/device:CPU:0\n",
            "159/313 [==============>...............] - ETA: 31s - loss: 0.0537 - accuracy: 0.9863Executing op __inference_train_function_3168 in device /job:localhost/replica:0/task:0/device:CPU:0\n",
            "160/313 [==============>...............] - ETA: 31s - loss: 0.0538 - accuracy: 0.9863Executing op __inference_train_function_3168 in device /job:localhost/replica:0/task:0/device:CPU:0\n",
            "161/313 [==============>...............] - ETA: 30s - loss: 0.0537 - accuracy: 0.9863Executing op __inference_train_function_3168 in device /job:localhost/replica:0/task:0/device:CPU:0\n",
            "162/313 [==============>...............] - ETA: 30s - loss: 0.0538 - accuracy: 0.9863Executing op __inference_train_function_3168 in device /job:localhost/replica:0/task:0/device:CPU:0\n",
            "163/313 [==============>...............] - ETA: 30s - loss: 0.0540 - accuracy: 0.9863Executing op __inference_train_function_3168 in device /job:localhost/replica:0/task:0/device:CPU:0\n",
            "164/313 [==============>...............] - ETA: 30s - loss: 0.0538 - accuracy: 0.9863Executing op __inference_train_function_3168 in device /job:localhost/replica:0/task:0/device:CPU:0\n",
            "165/313 [==============>...............] - ETA: 30s - loss: 0.0539 - accuracy: 0.9863Executing op __inference_train_function_3168 in device /job:localhost/replica:0/task:0/device:CPU:0\n",
            "166/313 [==============>...............] - ETA: 29s - loss: 0.0544 - accuracy: 0.9861Executing op __inference_train_function_3168 in device /job:localhost/replica:0/task:0/device:CPU:0\n",
            "167/313 [===============>..............] - ETA: 29s - loss: 0.0544 - accuracy: 0.9862Executing op __inference_train_function_3168 in device /job:localhost/replica:0/task:0/device:CPU:0\n",
            "168/313 [===============>..............] - ETA: 29s - loss: 0.0544 - accuracy: 0.9862Executing op __inference_train_function_3168 in device /job:localhost/replica:0/task:0/device:CPU:0\n",
            "169/313 [===============>..............] - ETA: 29s - loss: 0.0541 - accuracy: 0.9863Executing op __inference_train_function_3168 in device /job:localhost/replica:0/task:0/device:CPU:0\n",
            "170/313 [===============>..............] - ETA: 29s - loss: 0.0543 - accuracy: 0.9862Executing op __inference_train_function_3168 in device /job:localhost/replica:0/task:0/device:CPU:0\n",
            "171/313 [===============>..............] - ETA: 28s - loss: 0.0541 - accuracy: 0.9863Executing op __inference_train_function_3168 in device /job:localhost/replica:0/task:0/device:CPU:0\n",
            "172/313 [===============>..............] - ETA: 28s - loss: 0.0538 - accuracy: 0.9864Executing op __inference_train_function_3168 in device /job:localhost/replica:0/task:0/device:CPU:0\n",
            "173/313 [===============>..............] - ETA: 28s - loss: 0.0540 - accuracy: 0.9864Executing op __inference_train_function_3168 in device /job:localhost/replica:0/task:0/device:CPU:0\n",
            "174/313 [===============>..............] - ETA: 28s - loss: 0.0541 - accuracy: 0.9863Executing op __inference_train_function_3168 in device /job:localhost/replica:0/task:0/device:CPU:0\n",
            "175/313 [===============>..............] - ETA: 28s - loss: 0.0540 - accuracy: 0.9863Executing op __inference_train_function_3168 in device /job:localhost/replica:0/task:0/device:CPU:0\n",
            "176/313 [===============>..............] - ETA: 27s - loss: 0.0544 - accuracy: 0.9862Executing op __inference_train_function_3168 in device /job:localhost/replica:0/task:0/device:CPU:0\n",
            "177/313 [===============>..............] - ETA: 27s - loss: 0.0542 - accuracy: 0.9863Executing op __inference_train_function_3168 in device /job:localhost/replica:0/task:0/device:CPU:0\n",
            "178/313 [================>.............] - ETA: 27s - loss: 0.0541 - accuracy: 0.9863Executing op __inference_train_function_3168 in device /job:localhost/replica:0/task:0/device:CPU:0\n",
            "179/313 [================>.............] - ETA: 27s - loss: 0.0540 - accuracy: 0.9863Executing op __inference_train_function_3168 in device /job:localhost/replica:0/task:0/device:CPU:0\n",
            "180/313 [================>.............] - ETA: 27s - loss: 0.0539 - accuracy: 0.9863Executing op __inference_train_function_3168 in device /job:localhost/replica:0/task:0/device:CPU:0\n",
            "181/313 [================>.............] - ETA: 26s - loss: 0.0541 - accuracy: 0.9862Executing op __inference_train_function_3168 in device /job:localhost/replica:0/task:0/device:CPU:0\n",
            "182/313 [================>.............] - ETA: 26s - loss: 0.0542 - accuracy: 0.9861Executing op __inference_train_function_3168 in device /job:localhost/replica:0/task:0/device:CPU:0\n",
            "183/313 [================>.............] - ETA: 26s - loss: 0.0542 - accuracy: 0.9862Executing op __inference_train_function_3168 in device /job:localhost/replica:0/task:0/device:CPU:0\n",
            "184/313 [================>.............] - ETA: 26s - loss: 0.0542 - accuracy: 0.9862Executing op __inference_train_function_3168 in device /job:localhost/replica:0/task:0/device:CPU:0\n",
            "185/313 [================>.............] - ETA: 26s - loss: 0.0544 - accuracy: 0.9861Executing op __inference_train_function_3168 in device /job:localhost/replica:0/task:0/device:CPU:0\n",
            "186/313 [================>.............] - ETA: 25s - loss: 0.0544 - accuracy: 0.9861Executing op __inference_train_function_3168 in device /job:localhost/replica:0/task:0/device:CPU:0\n",
            "187/313 [================>.............] - ETA: 25s - loss: 0.0548 - accuracy: 0.9860Executing op __inference_train_function_3168 in device /job:localhost/replica:0/task:0/device:CPU:0\n",
            "188/313 [=================>............] - ETA: 25s - loss: 0.0546 - accuracy: 0.9861Executing op __inference_train_function_3168 in device /job:localhost/replica:0/task:0/device:CPU:0\n",
            "189/313 [=================>............] - ETA: 25s - loss: 0.0548 - accuracy: 0.9860Executing op __inference_train_function_3168 in device /job:localhost/replica:0/task:0/device:CPU:0\n",
            "190/313 [=================>............] - ETA: 25s - loss: 0.0549 - accuracy: 0.9860Executing op __inference_train_function_3168 in device /job:localhost/replica:0/task:0/device:CPU:0\n",
            "191/313 [=================>............] - ETA: 24s - loss: 0.0549 - accuracy: 0.9859Executing op __inference_train_function_3168 in device /job:localhost/replica:0/task:0/device:CPU:0\n",
            "192/313 [=================>............] - ETA: 24s - loss: 0.0548 - accuracy: 0.9859Executing op __inference_train_function_3168 in device /job:localhost/replica:0/task:0/device:CPU:0\n",
            "193/313 [=================>............] - ETA: 24s - loss: 0.0547 - accuracy: 0.9859Executing op __inference_train_function_3168 in device /job:localhost/replica:0/task:0/device:CPU:0\n",
            "194/313 [=================>............] - ETA: 24s - loss: 0.0547 - accuracy: 0.9859Executing op __inference_train_function_3168 in device /job:localhost/replica:0/task:0/device:CPU:0\n",
            "195/313 [=================>............] - ETA: 24s - loss: 0.0549 - accuracy: 0.9859Executing op __inference_train_function_3168 in device /job:localhost/replica:0/task:0/device:CPU:0\n",
            "196/313 [=================>............] - ETA: 23s - loss: 0.0550 - accuracy: 0.9858Executing op __inference_train_function_3168 in device /job:localhost/replica:0/task:0/device:CPU:0\n",
            "197/313 [=================>............] - ETA: 23s - loss: 0.0555 - accuracy: 0.9858Executing op __inference_train_function_3168 in device /job:localhost/replica:0/task:0/device:CPU:0\n",
            "198/313 [=================>............] - ETA: 23s - loss: 0.0555 - accuracy: 0.9858Executing op __inference_train_function_3168 in device /job:localhost/replica:0/task:0/device:CPU:0\n",
            "199/313 [==================>...........] - ETA: 23s - loss: 0.0555 - accuracy: 0.9857Executing op __inference_train_function_3168 in device /job:localhost/replica:0/task:0/device:CPU:0\n",
            "200/313 [==================>...........] - ETA: 23s - loss: 0.0556 - accuracy: 0.9856Executing op __inference_train_function_3168 in device /job:localhost/replica:0/task:0/device:CPU:0\n",
            "201/313 [==================>...........] - ETA: 22s - loss: 0.0556 - accuracy: 0.9856Executing op __inference_train_function_3168 in device /job:localhost/replica:0/task:0/device:CPU:0\n",
            "202/313 [==================>...........] - ETA: 22s - loss: 0.0556 - accuracy: 0.9856Executing op __inference_train_function_3168 in device /job:localhost/replica:0/task:0/device:CPU:0\n",
            "203/313 [==================>...........] - ETA: 22s - loss: 0.0558 - accuracy: 0.9855Executing op __inference_train_function_3168 in device /job:localhost/replica:0/task:0/device:CPU:0\n",
            "204/313 [==================>...........] - ETA: 22s - loss: 0.0560 - accuracy: 0.9854Executing op __inference_train_function_3168 in device /job:localhost/replica:0/task:0/device:CPU:0\n",
            "205/313 [==================>...........] - ETA: 22s - loss: 0.0561 - accuracy: 0.9854Executing op __inference_train_function_3168 in device /job:localhost/replica:0/task:0/device:CPU:0\n",
            "206/313 [==================>...........] - ETA: 21s - loss: 0.0561 - accuracy: 0.9855Executing op __inference_train_function_3168 in device /job:localhost/replica:0/task:0/device:CPU:0\n",
            "207/313 [==================>...........] - ETA: 21s - loss: 0.0562 - accuracy: 0.9855Executing op __inference_train_function_3168 in device /job:localhost/replica:0/task:0/device:CPU:0\n",
            "208/313 [==================>...........] - ETA: 21s - loss: 0.0560 - accuracy: 0.9855Executing op __inference_train_function_3168 in device /job:localhost/replica:0/task:0/device:CPU:0\n",
            "209/313 [===================>..........] - ETA: 21s - loss: 0.0563 - accuracy: 0.9855Executing op __inference_train_function_3168 in device /job:localhost/replica:0/task:0/device:CPU:0\n",
            "210/313 [===================>..........] - ETA: 21s - loss: 0.0563 - accuracy: 0.9855Executing op __inference_train_function_3168 in device /job:localhost/replica:0/task:0/device:CPU:0\n",
            "211/313 [===================>..........] - ETA: 20s - loss: 0.0563 - accuracy: 0.9855Executing op __inference_train_function_3168 in device /job:localhost/replica:0/task:0/device:CPU:0\n",
            "212/313 [===================>..........] - ETA: 20s - loss: 0.0563 - accuracy: 0.9854Executing op __inference_train_function_3168 in device /job:localhost/replica:0/task:0/device:CPU:0\n",
            "213/313 [===================>..........] - ETA: 20s - loss: 0.0565 - accuracy: 0.9854Executing op __inference_train_function_3168 in device /job:localhost/replica:0/task:0/device:CPU:0\n",
            "214/313 [===================>..........] - ETA: 20s - loss: 0.0564 - accuracy: 0.9854Executing op __inference_train_function_3168 in device /job:localhost/replica:0/task:0/device:CPU:0\n",
            "215/313 [===================>..........] - ETA: 19s - loss: 0.0562 - accuracy: 0.9854Executing op __inference_train_function_3168 in device /job:localhost/replica:0/task:0/device:CPU:0\n",
            "216/313 [===================>..........] - ETA: 19s - loss: 0.0562 - accuracy: 0.9855Executing op __inference_train_function_3168 in device /job:localhost/replica:0/task:0/device:CPU:0\n",
            "217/313 [===================>..........] - ETA: 19s - loss: 0.0560 - accuracy: 0.9855Executing op __inference_train_function_3168 in device /job:localhost/replica:0/task:0/device:CPU:0\n",
            "218/313 [===================>..........] - ETA: 19s - loss: 0.0561 - accuracy: 0.9854Executing op __inference_train_function_3168 in device /job:localhost/replica:0/task:0/device:CPU:0\n",
            "219/313 [===================>..........] - ETA: 19s - loss: 0.0560 - accuracy: 0.9854Executing op __inference_train_function_3168 in device /job:localhost/replica:0/task:0/device:CPU:0\n",
            "220/313 [====================>.........] - ETA: 18s - loss: 0.0559 - accuracy: 0.9855Executing op __inference_train_function_3168 in device /job:localhost/replica:0/task:0/device:CPU:0\n",
            "221/313 [====================>.........] - ETA: 18s - loss: 0.0559 - accuracy: 0.9855Executing op __inference_train_function_3168 in device /job:localhost/replica:0/task:0/device:CPU:0\n",
            "222/313 [====================>.........] - ETA: 18s - loss: 0.0561 - accuracy: 0.9854Executing op __inference_train_function_3168 in device /job:localhost/replica:0/task:0/device:CPU:0\n",
            "223/313 [====================>.........] - ETA: 18s - loss: 0.0561 - accuracy: 0.9854Executing op __inference_train_function_3168 in device /job:localhost/replica:0/task:0/device:CPU:0\n",
            "224/313 [====================>.........] - ETA: 18s - loss: 0.0562 - accuracy: 0.9854Executing op __inference_train_function_3168 in device /job:localhost/replica:0/task:0/device:CPU:0\n",
            "225/313 [====================>.........] - ETA: 17s - loss: 0.0563 - accuracy: 0.9853Executing op __inference_train_function_3168 in device /job:localhost/replica:0/task:0/device:CPU:0\n",
            "226/313 [====================>.........] - ETA: 17s - loss: 0.0562 - accuracy: 0.9853Executing op __inference_train_function_3168 in device /job:localhost/replica:0/task:0/device:CPU:0\n",
            "227/313 [====================>.........] - ETA: 17s - loss: 0.0560 - accuracy: 0.9853Executing op __inference_train_function_3168 in device /job:localhost/replica:0/task:0/device:CPU:0\n",
            "228/313 [====================>.........] - ETA: 17s - loss: 0.0558 - accuracy: 0.9854Executing op __inference_train_function_3168 in device /job:localhost/replica:0/task:0/device:CPU:0\n",
            "229/313 [====================>.........] - ETA: 17s - loss: 0.0559 - accuracy: 0.9854Executing op __inference_train_function_3168 in device /job:localhost/replica:0/task:0/device:CPU:0\n",
            "230/313 [=====================>........] - ETA: 16s - loss: 0.0557 - accuracy: 0.9855Executing op __inference_train_function_3168 in device /job:localhost/replica:0/task:0/device:CPU:0\n",
            "231/313 [=====================>........] - ETA: 16s - loss: 0.0558 - accuracy: 0.9854Executing op __inference_train_function_3168 in device /job:localhost/replica:0/task:0/device:CPU:0\n",
            "232/313 [=====================>........] - ETA: 16s - loss: 0.0558 - accuracy: 0.9855Executing op __inference_train_function_3168 in device /job:localhost/replica:0/task:0/device:CPU:0\n",
            "233/313 [=====================>........] - ETA: 16s - loss: 0.0558 - accuracy: 0.9855Executing op __inference_train_function_3168 in device /job:localhost/replica:0/task:0/device:CPU:0\n",
            "234/313 [=====================>........] - ETA: 16s - loss: 0.0556 - accuracy: 0.9855Executing op __inference_train_function_3168 in device /job:localhost/replica:0/task:0/device:CPU:0\n",
            "235/313 [=====================>........] - ETA: 15s - loss: 0.0555 - accuracy: 0.9855Executing op __inference_train_function_3168 in device /job:localhost/replica:0/task:0/device:CPU:0\n",
            "236/313 [=====================>........] - ETA: 15s - loss: 0.0558 - accuracy: 0.9854Executing op __inference_train_function_3168 in device /job:localhost/replica:0/task:0/device:CPU:0\n",
            "237/313 [=====================>........] - ETA: 15s - loss: 0.0563 - accuracy: 0.9853Executing op __inference_train_function_3168 in device /job:localhost/replica:0/task:0/device:CPU:0\n",
            "238/313 [=====================>........] - ETA: 15s - loss: 0.0562 - accuracy: 0.9853Executing op __inference_train_function_3168 in device /job:localhost/replica:0/task:0/device:CPU:0\n",
            "239/313 [=====================>........] - ETA: 15s - loss: 0.0563 - accuracy: 0.9853Executing op __inference_train_function_3168 in device /job:localhost/replica:0/task:0/device:CPU:0\n",
            "240/313 [======================>.......] - ETA: 14s - loss: 0.0565 - accuracy: 0.9852Executing op __inference_train_function_3168 in device /job:localhost/replica:0/task:0/device:CPU:0\n",
            "241/313 [======================>.......] - ETA: 14s - loss: 0.0564 - accuracy: 0.9853Executing op __inference_train_function_3168 in device /job:localhost/replica:0/task:0/device:CPU:0\n",
            "242/313 [======================>.......] - ETA: 14s - loss: 0.0562 - accuracy: 0.9853Executing op __inference_train_function_3168 in device /job:localhost/replica:0/task:0/device:CPU:0\n",
            "243/313 [======================>.......] - ETA: 14s - loss: 0.0564 - accuracy: 0.9852Executing op __inference_train_function_3168 in device /job:localhost/replica:0/task:0/device:CPU:0\n",
            "244/313 [======================>.......] - ETA: 14s - loss: 0.0563 - accuracy: 0.9852Executing op __inference_train_function_3168 in device /job:localhost/replica:0/task:0/device:CPU:0\n",
            "245/313 [======================>.......] - ETA: 13s - loss: 0.0562 - accuracy: 0.9853Executing op __inference_train_function_3168 in device /job:localhost/replica:0/task:0/device:CPU:0\n",
            "246/313 [======================>.......] - ETA: 13s - loss: 0.0564 - accuracy: 0.9852Executing op __inference_train_function_3168 in device /job:localhost/replica:0/task:0/device:CPU:0\n",
            "247/313 [======================>.......] - ETA: 13s - loss: 0.0562 - accuracy: 0.9852Executing op __inference_train_function_3168 in device /job:localhost/replica:0/task:0/device:CPU:0\n",
            "248/313 [======================>.......] - ETA: 13s - loss: 0.0565 - accuracy: 0.9851Executing op __inference_train_function_3168 in device /job:localhost/replica:0/task:0/device:CPU:0\n",
            "249/313 [======================>.......] - ETA: 13s - loss: 0.0565 - accuracy: 0.9851Executing op __inference_train_function_3168 in device /job:localhost/replica:0/task:0/device:CPU:0\n",
            "250/313 [======================>.......] - ETA: 12s - loss: 0.0565 - accuracy: 0.9851Executing op __inference_train_function_3168 in device /job:localhost/replica:0/task:0/device:CPU:0\n",
            "251/313 [=======================>......] - ETA: 12s - loss: 0.0565 - accuracy: 0.9850Executing op __inference_train_function_3168 in device /job:localhost/replica:0/task:0/device:CPU:0\n",
            "252/313 [=======================>......] - ETA: 12s - loss: 0.0569 - accuracy: 0.9848Executing op __inference_train_function_3168 in device /job:localhost/replica:0/task:0/device:CPU:0\n",
            "253/313 [=======================>......] - ETA: 12s - loss: 0.0574 - accuracy: 0.9847Executing op __inference_train_function_3168 in device /job:localhost/replica:0/task:0/device:CPU:0\n",
            "254/313 [=======================>......] - ETA: 12s - loss: 0.0578 - accuracy: 0.9845Executing op __inference_train_function_3168 in device /job:localhost/replica:0/task:0/device:CPU:0\n",
            "255/313 [=======================>......] - ETA: 11s - loss: 0.0578 - accuracy: 0.9845Executing op __inference_train_function_3168 in device /job:localhost/replica:0/task:0/device:CPU:0\n",
            "256/313 [=======================>......] - ETA: 11s - loss: 0.0578 - accuracy: 0.9844Executing op __inference_train_function_3168 in device /job:localhost/replica:0/task:0/device:CPU:0\n",
            "257/313 [=======================>......] - ETA: 11s - loss: 0.0579 - accuracy: 0.9844Executing op __inference_train_function_3168 in device /job:localhost/replica:0/task:0/device:CPU:0\n",
            "258/313 [=======================>......] - ETA: 11s - loss: 0.0578 - accuracy: 0.9844Executing op __inference_train_function_3168 in device /job:localhost/replica:0/task:0/device:CPU:0\n",
            "259/313 [=======================>......] - ETA: 11s - loss: 0.0577 - accuracy: 0.9844Executing op __inference_train_function_3168 in device /job:localhost/replica:0/task:0/device:CPU:0\n",
            "260/313 [=======================>......] - ETA: 10s - loss: 0.0581 - accuracy: 0.9843Executing op __inference_train_function_3168 in device /job:localhost/replica:0/task:0/device:CPU:0\n",
            "261/313 [========================>.....] - ETA: 10s - loss: 0.0583 - accuracy: 0.9843Executing op __inference_train_function_3168 in device /job:localhost/replica:0/task:0/device:CPU:0\n",
            "262/313 [========================>.....] - ETA: 10s - loss: 0.0581 - accuracy: 0.9844Executing op __inference_train_function_3168 in device /job:localhost/replica:0/task:0/device:CPU:0\n",
            "263/313 [========================>.....] - ETA: 10s - loss: 0.0581 - accuracy: 0.9844Executing op __inference_train_function_3168 in device /job:localhost/replica:0/task:0/device:CPU:0\n",
            "264/313 [========================>.....] - ETA: 10s - loss: 0.0581 - accuracy: 0.9844Executing op __inference_train_function_3168 in device /job:localhost/replica:0/task:0/device:CPU:0\n",
            "265/313 [========================>.....] - ETA: 9s - loss: 0.0581 - accuracy: 0.9844 Executing op __inference_train_function_3168 in device /job:localhost/replica:0/task:0/device:CPU:0\n",
            "266/313 [========================>.....] - ETA: 9s - loss: 0.0581 - accuracy: 0.9844Executing op __inference_train_function_3168 in device /job:localhost/replica:0/task:0/device:CPU:0\n",
            "267/313 [========================>.....] - ETA: 9s - loss: 0.0586 - accuracy: 0.9843Executing op __inference_train_function_3168 in device /job:localhost/replica:0/task:0/device:CPU:0\n",
            "268/313 [========================>.....] - ETA: 9s - loss: 0.0585 - accuracy: 0.9843Executing op __inference_train_function_3168 in device /job:localhost/replica:0/task:0/device:CPU:0\n",
            "269/313 [========================>.....] - ETA: 9s - loss: 0.0583 - accuracy: 0.9844Executing op __inference_train_function_3168 in device /job:localhost/replica:0/task:0/device:CPU:0\n",
            "270/313 [========================>.....] - ETA: 9s - loss: 0.0582 - accuracy: 0.9844Executing op __inference_train_function_3168 in device /job:localhost/replica:0/task:0/device:CPU:0\n",
            "271/313 [========================>.....] - ETA: 8s - loss: 0.0583 - accuracy: 0.9844Executing op __inference_train_function_3168 in device /job:localhost/replica:0/task:0/device:CPU:0\n",
            "272/313 [=========================>....] - ETA: 8s - loss: 0.0584 - accuracy: 0.9843Executing op __inference_train_function_3168 in device /job:localhost/replica:0/task:0/device:CPU:0\n",
            "273/313 [=========================>....] - ETA: 8s - loss: 0.0584 - accuracy: 0.9843Executing op __inference_train_function_3168 in device /job:localhost/replica:0/task:0/device:CPU:0\n",
            "274/313 [=========================>....] - ETA: 8s - loss: 0.0585 - accuracy: 0.9843Executing op __inference_train_function_3168 in device /job:localhost/replica:0/task:0/device:CPU:0\n",
            "275/313 [=========================>....] - ETA: 8s - loss: 0.0586 - accuracy: 0.9842Executing op __inference_train_function_3168 in device /job:localhost/replica:0/task:0/device:CPU:0\n",
            "276/313 [=========================>....] - ETA: 7s - loss: 0.0585 - accuracy: 0.9843Executing op __inference_train_function_3168 in device /job:localhost/replica:0/task:0/device:CPU:0\n",
            "277/313 [=========================>....] - ETA: 7s - loss: 0.0584 - accuracy: 0.9843Executing op __inference_train_function_3168 in device /job:localhost/replica:0/task:0/device:CPU:0\n",
            "278/313 [=========================>....] - ETA: 7s - loss: 0.0587 - accuracy: 0.9842Executing op __inference_train_function_3168 in device /job:localhost/replica:0/task:0/device:CPU:0\n",
            "279/313 [=========================>....] - ETA: 7s - loss: 0.0587 - accuracy: 0.9842Executing op __inference_train_function_3168 in device /job:localhost/replica:0/task:0/device:CPU:0\n",
            "280/313 [=========================>....] - ETA: 6s - loss: 0.0587 - accuracy: 0.9842Executing op __inference_train_function_3168 in device /job:localhost/replica:0/task:0/device:CPU:0\n",
            "281/313 [=========================>....] - ETA: 6s - loss: 0.0587 - accuracy: 0.9842Executing op __inference_train_function_3168 in device /job:localhost/replica:0/task:0/device:CPU:0\n",
            "282/313 [==========================>...] - ETA: 6s - loss: 0.0589 - accuracy: 0.9841Executing op __inference_train_function_3168 in device /job:localhost/replica:0/task:0/device:CPU:0\n",
            "283/313 [==========================>...] - ETA: 6s - loss: 0.0591 - accuracy: 0.9841Executing op __inference_train_function_3168 in device /job:localhost/replica:0/task:0/device:CPU:0\n",
            "284/313 [==========================>...] - ETA: 6s - loss: 0.0593 - accuracy: 0.9841Executing op __inference_train_function_3168 in device /job:localhost/replica:0/task:0/device:CPU:0\n",
            "285/313 [==========================>...] - ETA: 5s - loss: 0.0592 - accuracy: 0.9841Executing op __inference_train_function_3168 in device /job:localhost/replica:0/task:0/device:CPU:0\n",
            "286/313 [==========================>...] - ETA: 5s - loss: 0.0593 - accuracy: 0.9841Executing op __inference_train_function_3168 in device /job:localhost/replica:0/task:0/device:CPU:0\n",
            "287/313 [==========================>...] - ETA: 5s - loss: 0.0593 - accuracy: 0.9840Executing op __inference_train_function_3168 in device /job:localhost/replica:0/task:0/device:CPU:0\n",
            "288/313 [==========================>...] - ETA: 5s - loss: 0.0594 - accuracy: 0.9840Executing op __inference_train_function_3168 in device /job:localhost/replica:0/task:0/device:CPU:0\n",
            "289/313 [==========================>...] - ETA: 5s - loss: 0.0595 - accuracy: 0.9840Executing op __inference_train_function_3168 in device /job:localhost/replica:0/task:0/device:CPU:0\n",
            "290/313 [==========================>...] - ETA: 4s - loss: 0.0596 - accuracy: 0.9839Executing op __inference_train_function_3168 in device /job:localhost/replica:0/task:0/device:CPU:0\n",
            "291/313 [==========================>...] - ETA: 4s - loss: 0.0596 - accuracy: 0.9839Executing op __inference_train_function_3168 in device /job:localhost/replica:0/task:0/device:CPU:0\n",
            "292/313 [==========================>...] - ETA: 4s - loss: 0.0596 - accuracy: 0.9840Executing op __inference_train_function_3168 in device /job:localhost/replica:0/task:0/device:CPU:0\n",
            "293/313 [===========================>..] - ETA: 4s - loss: 0.0595 - accuracy: 0.9840Executing op __inference_train_function_3168 in device /job:localhost/replica:0/task:0/device:CPU:0\n",
            "294/313 [===========================>..] - ETA: 4s - loss: 0.0594 - accuracy: 0.9841Executing op __inference_train_function_3168 in device /job:localhost/replica:0/task:0/device:CPU:0\n",
            "295/313 [===========================>..] - ETA: 3s - loss: 0.0594 - accuracy: 0.9841Executing op __inference_train_function_3168 in device /job:localhost/replica:0/task:0/device:CPU:0\n",
            "296/313 [===========================>..] - ETA: 3s - loss: 0.0594 - accuracy: 0.9841Executing op __inference_train_function_3168 in device /job:localhost/replica:0/task:0/device:CPU:0\n",
            "297/313 [===========================>..] - ETA: 3s - loss: 0.0595 - accuracy: 0.9841Executing op __inference_train_function_3168 in device /job:localhost/replica:0/task:0/device:CPU:0\n",
            "298/313 [===========================>..] - ETA: 3s - loss: 0.0595 - accuracy: 0.9840Executing op __inference_train_function_3168 in device /job:localhost/replica:0/task:0/device:CPU:0\n",
            "299/313 [===========================>..] - ETA: 2s - loss: 0.0594 - accuracy: 0.9840Executing op __inference_train_function_3168 in device /job:localhost/replica:0/task:0/device:CPU:0\n",
            "300/313 [===========================>..] - ETA: 2s - loss: 0.0593 - accuracy: 0.9841Executing op __inference_train_function_3168 in device /job:localhost/replica:0/task:0/device:CPU:0\n",
            "301/313 [===========================>..] - ETA: 2s - loss: 0.0592 - accuracy: 0.9841Executing op __inference_train_function_3168 in device /job:localhost/replica:0/task:0/device:CPU:0\n",
            "302/313 [===========================>..] - ETA: 2s - loss: 0.0595 - accuracy: 0.9841Executing op __inference_train_function_3168 in device /job:localhost/replica:0/task:0/device:CPU:0\n",
            "303/313 [============================>.] - ETA: 2s - loss: 0.0596 - accuracy: 0.9840Executing op __inference_train_function_3168 in device /job:localhost/replica:0/task:0/device:CPU:0\n",
            "304/313 [============================>.] - ETA: 1s - loss: 0.0597 - accuracy: 0.9840Executing op __inference_train_function_3168 in device /job:localhost/replica:0/task:0/device:CPU:0\n",
            "305/313 [============================>.] - ETA: 1s - loss: 0.0595 - accuracy: 0.9840Executing op __inference_train_function_3168 in device /job:localhost/replica:0/task:0/device:CPU:0\n",
            "306/313 [============================>.] - ETA: 1s - loss: 0.0595 - accuracy: 0.9840Executing op __inference_train_function_3168 in device /job:localhost/replica:0/task:0/device:CPU:0\n",
            "307/313 [============================>.] - ETA: 1s - loss: 0.0597 - accuracy: 0.9839Executing op __inference_train_function_3168 in device /job:localhost/replica:0/task:0/device:CPU:0\n",
            "308/313 [============================>.] - ETA: 1s - loss: 0.0599 - accuracy: 0.9839Executing op __inference_train_function_3168 in device /job:localhost/replica:0/task:0/device:CPU:0\n",
            "309/313 [============================>.] - ETA: 0s - loss: 0.0600 - accuracy: 0.9839Executing op __inference_train_function_3168 in device /job:localhost/replica:0/task:0/device:CPU:0\n",
            "310/313 [============================>.] - ETA: 0s - loss: 0.0602 - accuracy: 0.9838Executing op __inference_train_function_3168 in device /job:localhost/replica:0/task:0/device:CPU:0\n",
            "311/313 [============================>.] - ETA: 0s - loss: 0.0601 - accuracy: 0.9838Executing op __inference_train_function_3168 in device /job:localhost/replica:0/task:0/device:CPU:0\n",
            "312/313 [============================>.] - ETA: 0s - loss: 0.0601 - accuracy: 0.9838Executing op __inference_train_function_3168 in device /job:localhost/replica:0/task:0/device:CPU:0\n",
            "313/313 [==============================] - 66s 211ms/step - loss: 0.0601 - accuracy: 0.9838\n",
            "\n",
            "Epoch 00005: accuracy improved from 0.97720 to 0.98383, saving model to /content/LSTM.h5\n",
            "Executing op ReadVariableOp in device /job:localhost/replica:0/task:0/device:CPU:0\n",
            "Executing op Identity in device /job:localhost/replica:0/task:0/device:CPU:0\n",
            "Executing op ReadVariableOp in device /job:localhost/replica:0/task:0/device:CPU:0\n",
            "Executing op Identity in device /job:localhost/replica:0/task:0/device:CPU:0\n",
            "Executing op ReadVariableOp in device /job:localhost/replica:0/task:0/device:CPU:0\n",
            "Executing op Identity in device /job:localhost/replica:0/task:0/device:CPU:0\n",
            "Executing op ReadVariableOp in device /job:localhost/replica:0/task:0/device:CPU:0\n",
            "Executing op Identity in device /job:localhost/replica:0/task:0/device:CPU:0\n",
            "Executing op ReadVariableOp in device /job:localhost/replica:0/task:0/device:CPU:0\n",
            "Executing op Identity in device /job:localhost/replica:0/task:0/device:CPU:0\n",
            "Executing op ReadVariableOp in device /job:localhost/replica:0/task:0/device:CPU:0\n",
            "Executing op Identity in device /job:localhost/replica:0/task:0/device:CPU:0\n",
            "Executing op ReadVariableOp in device /job:localhost/replica:0/task:0/device:CPU:0\n",
            "Executing op Identity in device /job:localhost/replica:0/task:0/device:CPU:0\n",
            "Executing op ReadVariableOp in device /job:localhost/replica:0/task:0/device:CPU:0\n",
            "Executing op Identity in device /job:localhost/replica:0/task:0/device:CPU:0\n",
            "Executing op ReadVariableOp in device /job:localhost/replica:0/task:0/device:CPU:0\n",
            "Executing op Identity in device /job:localhost/replica:0/task:0/device:CPU:0\n",
            "Executing op ReadVariableOp in device /job:localhost/replica:0/task:0/device:CPU:0\n",
            "Executing op Identity in device /job:localhost/replica:0/task:0/device:CPU:0\n",
            "Executing op ReadVariableOp in device /job:localhost/replica:0/task:0/device:CPU:0\n",
            "Executing op Identity in device /job:localhost/replica:0/task:0/device:CPU:0\n",
            "Executing op ReadVariableOp in device /job:localhost/replica:0/task:0/device:CPU:0\n",
            "Executing op Identity in device /job:localhost/replica:0/task:0/device:CPU:0\n",
            "Executing op ReadVariableOp in device /job:localhost/replica:0/task:0/device:CPU:0\n",
            "Executing op Identity in device /job:localhost/replica:0/task:0/device:CPU:0\n",
            "Executing op ReadVariableOp in device /job:localhost/replica:0/task:0/device:CPU:0\n",
            "Executing op Identity in device /job:localhost/replica:0/task:0/device:CPU:0\n",
            "Executing op ReadVariableOp in device /job:localhost/replica:0/task:0/device:CPU:0\n",
            "Executing op Identity in device /job:localhost/replica:0/task:0/device:CPU:0\n",
            "Executing op ReadVariableOp in device /job:localhost/replica:0/task:0/device:CPU:0\n",
            "Executing op Identity in device /job:localhost/replica:0/task:0/device:CPU:0\n",
            "Executing op ReadVariableOp in device /job:localhost/replica:0/task:0/device:CPU:0\n",
            "Executing op Identity in device /job:localhost/replica:0/task:0/device:CPU:0\n",
            "Executing op ReadVariableOp in device /job:localhost/replica:0/task:0/device:CPU:0\n",
            "Executing op Identity in device /job:localhost/replica:0/task:0/device:CPU:0\n",
            "Executing op ReadVariableOp in device /job:localhost/replica:0/task:0/device:CPU:0\n",
            "Executing op Identity in device /job:localhost/replica:0/task:0/device:CPU:0\n",
            "Executing op ReadVariableOp in device /job:localhost/replica:0/task:0/device:CPU:0\n",
            "Executing op Identity in device /job:localhost/replica:0/task:0/device:CPU:0\n",
            "Executing op ReadVariableOp in device /job:localhost/replica:0/task:0/device:CPU:0\n",
            "Executing op Identity in device /job:localhost/replica:0/task:0/device:CPU:0\n",
            "Executing op ReadVariableOp in device /job:localhost/replica:0/task:0/device:CPU:0\n",
            "Executing op Identity in device /job:localhost/replica:0/task:0/device:CPU:0\n",
            "Executing op DeleteIterator in device /job:localhost/replica:0/task:0/device:CPU:0\n"
          ]
        },
        {
          "output_type": "execute_result",
          "data": {
            "text/plain": [
              "<keras.callbacks.History at 0x7f7dfb1e4350>"
            ]
          },
          "metadata": {},
          "execution_count": 50
        }
      ]
    },
    {
      "cell_type": "markdown",
      "metadata": {
        "id": "KJzVzzM--5Ox"
      },
      "source": [
        "**The training accuracy of the model turned out to be 0.9863**"
      ]
    },
    {
      "cell_type": "markdown",
      "metadata": {
        "id": "6osmXoKC_SPF"
      },
      "source": [
        "**Now predicting against the testing data**"
      ]
    },
    {
      "cell_type": "code",
      "metadata": {
        "id": "PwMv9xDFiGhF",
        "colab": {
          "base_uri": "https://localhost:8080/"
        },
        "outputId": "010ae9e7-7ae3-419f-ea5b-f2838fa5fda1"
      },
      "source": [
        "# y_pred = model.predict(x_test, batch_size = 128)\n",
        "y_pred=(model.predict(x_test) > 0.7).astype(\"int32\")"
      ],
      "execution_count": null,
      "outputs": [
        {
          "output_type": "stream",
          "name": "stdout",
          "text": [
            "Executing op ReadVariableOp in device /job:localhost/replica:0/task:0/device:CPU:0\n",
            "Executing op Identity in device /job:localhost/replica:0/task:0/device:CPU:0\n",
            "Executing op _EagerConst in device /job:localhost/replica:0/task:0/device:CPU:0\n",
            "Executing op RangeDataset in device /job:localhost/replica:0/task:0/device:CPU:0\n",
            "Executing op RepeatDataset in device /job:localhost/replica:0/task:0/device:CPU:0\n",
            "Executing op MapDataset in device /job:localhost/replica:0/task:0/device:CPU:0\n",
            "Executing op PrefetchDataset in device /job:localhost/replica:0/task:0/device:CPU:0\n",
            "Executing op FlatMapDataset in device /job:localhost/replica:0/task:0/device:CPU:0\n",
            "Executing op TensorDataset in device /job:localhost/replica:0/task:0/device:CPU:0\n",
            "Executing op RepeatDataset in device /job:localhost/replica:0/task:0/device:CPU:0\n",
            "Executing op ZipDataset in device /job:localhost/replica:0/task:0/device:CPU:0\n",
            "Executing op ParallelMapDatasetV2 in device /job:localhost/replica:0/task:0/device:CPU:0\n",
            "Executing op OptionsDataset in device /job:localhost/replica:0/task:0/device:CPU:0\n",
            "Executing op ReadVariableOp in device /job:localhost/replica:0/task:0/device:CPU:0\n",
            "Executing op Identity in device /job:localhost/replica:0/task:0/device:CPU:0\n",
            "Executing op AssignVariableOp in device /job:localhost/replica:0/task:0/device:CPU:0\n",
            "Executing op AnonymousIteratorV2 in device /job:localhost/replica:0/task:0/device:CPU:0\n",
            "Executing op MakeIterator in device /job:localhost/replica:0/task:0/device:CPU:0\n",
            "Executing op __inference_predict_function_7043 in device /job:localhost/replica:0/task:0/device:CPU:0\n",
            "Executing op __inference_predict_function_7043 in device /job:localhost/replica:0/task:0/device:CPU:0\n",
            "Executing op __inference_predict_function_7043 in device /job:localhost/replica:0/task:0/device:CPU:0\n",
            "Executing op __inference_predict_function_7043 in device /job:localhost/replica:0/task:0/device:CPU:0\n",
            "Executing op __inference_predict_function_7043 in device /job:localhost/replica:0/task:0/device:CPU:0\n",
            "Executing op __inference_predict_function_7043 in device /job:localhost/replica:0/task:0/device:CPU:0\n",
            "Executing op __inference_predict_function_7043 in device /job:localhost/replica:0/task:0/device:CPU:0\n",
            "Executing op __inference_predict_function_7043 in device /job:localhost/replica:0/task:0/device:CPU:0\n",
            "Executing op __inference_predict_function_7043 in device /job:localhost/replica:0/task:0/device:CPU:0\n",
            "Executing op __inference_predict_function_7043 in device /job:localhost/replica:0/task:0/device:CPU:0\n",
            "Executing op __inference_predict_function_7043 in device /job:localhost/replica:0/task:0/device:CPU:0\n",
            "Executing op __inference_predict_function_7043 in device /job:localhost/replica:0/task:0/device:CPU:0\n",
            "Executing op __inference_predict_function_7043 in device /job:localhost/replica:0/task:0/device:CPU:0\n",
            "Executing op __inference_predict_function_7043 in device /job:localhost/replica:0/task:0/device:CPU:0\n",
            "Executing op __inference_predict_function_7043 in device /job:localhost/replica:0/task:0/device:CPU:0\n",
            "Executing op __inference_predict_function_7043 in device /job:localhost/replica:0/task:0/device:CPU:0\n",
            "Executing op __inference_predict_function_7043 in device /job:localhost/replica:0/task:0/device:CPU:0\n",
            "Executing op __inference_predict_function_7043 in device /job:localhost/replica:0/task:0/device:CPU:0\n",
            "Executing op __inference_predict_function_7043 in device /job:localhost/replica:0/task:0/device:CPU:0\n",
            "Executing op __inference_predict_function_7043 in device /job:localhost/replica:0/task:0/device:CPU:0\n",
            "Executing op __inference_predict_function_7043 in device /job:localhost/replica:0/task:0/device:CPU:0\n",
            "Executing op __inference_predict_function_7043 in device /job:localhost/replica:0/task:0/device:CPU:0\n",
            "Executing op __inference_predict_function_7043 in device /job:localhost/replica:0/task:0/device:CPU:0\n",
            "Executing op __inference_predict_function_7043 in device /job:localhost/replica:0/task:0/device:CPU:0\n",
            "Executing op __inference_predict_function_7043 in device /job:localhost/replica:0/task:0/device:CPU:0\n",
            "Executing op __inference_predict_function_7043 in device /job:localhost/replica:0/task:0/device:CPU:0\n",
            "Executing op __inference_predict_function_7043 in device /job:localhost/replica:0/task:0/device:CPU:0\n",
            "Executing op __inference_predict_function_7043 in device /job:localhost/replica:0/task:0/device:CPU:0\n",
            "Executing op __inference_predict_function_7043 in device /job:localhost/replica:0/task:0/device:CPU:0\n",
            "Executing op __inference_predict_function_7043 in device /job:localhost/replica:0/task:0/device:CPU:0\n",
            "Executing op __inference_predict_function_7043 in device /job:localhost/replica:0/task:0/device:CPU:0\n",
            "Executing op __inference_predict_function_7043 in device /job:localhost/replica:0/task:0/device:CPU:0\n",
            "Executing op __inference_predict_function_7043 in device /job:localhost/replica:0/task:0/device:CPU:0\n",
            "Executing op __inference_predict_function_7043 in device /job:localhost/replica:0/task:0/device:CPU:0\n",
            "Executing op __inference_predict_function_7043 in device /job:localhost/replica:0/task:0/device:CPU:0\n",
            "Executing op __inference_predict_function_7043 in device /job:localhost/replica:0/task:0/device:CPU:0\n",
            "Executing op __inference_predict_function_7043 in device /job:localhost/replica:0/task:0/device:CPU:0\n",
            "Executing op __inference_predict_function_7043 in device /job:localhost/replica:0/task:0/device:CPU:0\n",
            "Executing op __inference_predict_function_7043 in device /job:localhost/replica:0/task:0/device:CPU:0\n",
            "Executing op __inference_predict_function_7043 in device /job:localhost/replica:0/task:0/device:CPU:0\n",
            "Executing op __inference_predict_function_7043 in device /job:localhost/replica:0/task:0/device:CPU:0\n",
            "Executing op __inference_predict_function_7043 in device /job:localhost/replica:0/task:0/device:CPU:0\n",
            "Executing op __inference_predict_function_7043 in device /job:localhost/replica:0/task:0/device:CPU:0\n",
            "Executing op __inference_predict_function_7043 in device /job:localhost/replica:0/task:0/device:CPU:0\n",
            "Executing op __inference_predict_function_7043 in device /job:localhost/replica:0/task:0/device:CPU:0\n",
            "Executing op __inference_predict_function_7043 in device /job:localhost/replica:0/task:0/device:CPU:0\n",
            "Executing op __inference_predict_function_7043 in device /job:localhost/replica:0/task:0/device:CPU:0\n",
            "Executing op __inference_predict_function_7043 in device /job:localhost/replica:0/task:0/device:CPU:0\n",
            "Executing op __inference_predict_function_7043 in device /job:localhost/replica:0/task:0/device:CPU:0\n",
            "Executing op __inference_predict_function_7043 in device /job:localhost/replica:0/task:0/device:CPU:0\n",
            "Executing op __inference_predict_function_7043 in device /job:localhost/replica:0/task:0/device:CPU:0\n",
            "Executing op __inference_predict_function_7043 in device /job:localhost/replica:0/task:0/device:CPU:0\n",
            "Executing op __inference_predict_function_7043 in device /job:localhost/replica:0/task:0/device:CPU:0\n",
            "Executing op __inference_predict_function_7043 in device /job:localhost/replica:0/task:0/device:CPU:0\n",
            "Executing op __inference_predict_function_7043 in device /job:localhost/replica:0/task:0/device:CPU:0\n",
            "Executing op __inference_predict_function_7043 in device /job:localhost/replica:0/task:0/device:CPU:0\n",
            "Executing op __inference_predict_function_7043 in device /job:localhost/replica:0/task:0/device:CPU:0\n",
            "Executing op __inference_predict_function_7043 in device /job:localhost/replica:0/task:0/device:CPU:0\n",
            "Executing op __inference_predict_function_7043 in device /job:localhost/replica:0/task:0/device:CPU:0\n",
            "Executing op __inference_predict_function_7043 in device /job:localhost/replica:0/task:0/device:CPU:0\n",
            "Executing op __inference_predict_function_7043 in device /job:localhost/replica:0/task:0/device:CPU:0\n",
            "Executing op __inference_predict_function_7043 in device /job:localhost/replica:0/task:0/device:CPU:0\n",
            "Executing op __inference_predict_function_7043 in device /job:localhost/replica:0/task:0/device:CPU:0\n",
            "Executing op __inference_predict_function_7043 in device /job:localhost/replica:0/task:0/device:CPU:0\n",
            "Executing op __inference_predict_function_7043 in device /job:localhost/replica:0/task:0/device:CPU:0\n",
            "Executing op __inference_predict_function_7043 in device /job:localhost/replica:0/task:0/device:CPU:0\n",
            "Executing op __inference_predict_function_7043 in device /job:localhost/replica:0/task:0/device:CPU:0\n",
            "Executing op __inference_predict_function_7043 in device /job:localhost/replica:0/task:0/device:CPU:0\n",
            "Executing op __inference_predict_function_7043 in device /job:localhost/replica:0/task:0/device:CPU:0\n",
            "Executing op __inference_predict_function_7043 in device /job:localhost/replica:0/task:0/device:CPU:0\n",
            "Executing op __inference_predict_function_7043 in device /job:localhost/replica:0/task:0/device:CPU:0\n",
            "Executing op __inference_predict_function_7043 in device /job:localhost/replica:0/task:0/device:CPU:0\n",
            "Executing op __inference_predict_function_7043 in device /job:localhost/replica:0/task:0/device:CPU:0\n",
            "Executing op __inference_predict_function_7043 in device /job:localhost/replica:0/task:0/device:CPU:0\n",
            "Executing op __inference_predict_function_7043 in device /job:localhost/replica:0/task:0/device:CPU:0\n",
            "Executing op __inference_predict_function_7043 in device /job:localhost/replica:0/task:0/device:CPU:0\n",
            "Executing op __inference_predict_function_7043 in device /job:localhost/replica:0/task:0/device:CPU:0\n",
            "Executing op __inference_predict_function_7043 in device /job:localhost/replica:0/task:0/device:CPU:0\n",
            "Executing op __inference_predict_function_7043 in device /job:localhost/replica:0/task:0/device:CPU:0\n",
            "Executing op __inference_predict_function_7043 in device /job:localhost/replica:0/task:0/device:CPU:0\n",
            "Executing op __inference_predict_function_7043 in device /job:localhost/replica:0/task:0/device:CPU:0\n",
            "Executing op __inference_predict_function_7043 in device /job:localhost/replica:0/task:0/device:CPU:0\n",
            "Executing op __inference_predict_function_7043 in device /job:localhost/replica:0/task:0/device:CPU:0\n",
            "Executing op __inference_predict_function_7043 in device /job:localhost/replica:0/task:0/device:CPU:0\n",
            "Executing op __inference_predict_function_7043 in device /job:localhost/replica:0/task:0/device:CPU:0\n",
            "Executing op __inference_predict_function_7043 in device /job:localhost/replica:0/task:0/device:CPU:0\n",
            "Executing op __inference_predict_function_7043 in device /job:localhost/replica:0/task:0/device:CPU:0\n",
            "Executing op __inference_predict_function_7043 in device /job:localhost/replica:0/task:0/device:CPU:0\n",
            "Executing op __inference_predict_function_7043 in device /job:localhost/replica:0/task:0/device:CPU:0\n",
            "Executing op __inference_predict_function_7043 in device /job:localhost/replica:0/task:0/device:CPU:0\n",
            "Executing op __inference_predict_function_7043 in device /job:localhost/replica:0/task:0/device:CPU:0\n",
            "Executing op __inference_predict_function_7043 in device /job:localhost/replica:0/task:0/device:CPU:0\n",
            "Executing op __inference_predict_function_7043 in device /job:localhost/replica:0/task:0/device:CPU:0\n",
            "Executing op __inference_predict_function_7043 in device /job:localhost/replica:0/task:0/device:CPU:0\n",
            "Executing op __inference_predict_function_7043 in device /job:localhost/replica:0/task:0/device:CPU:0\n",
            "Executing op __inference_predict_function_7043 in device /job:localhost/replica:0/task:0/device:CPU:0\n",
            "Executing op __inference_predict_function_7043 in device /job:localhost/replica:0/task:0/device:CPU:0\n",
            "Executing op __inference_predict_function_7043 in device /job:localhost/replica:0/task:0/device:CPU:0\n",
            "Executing op __inference_predict_function_7043 in device /job:localhost/replica:0/task:0/device:CPU:0\n",
            "Executing op __inference_predict_function_7043 in device /job:localhost/replica:0/task:0/device:CPU:0\n",
            "Executing op __inference_predict_function_7043 in device /job:localhost/replica:0/task:0/device:CPU:0\n",
            "Executing op __inference_predict_function_7043 in device /job:localhost/replica:0/task:0/device:CPU:0\n",
            "Executing op __inference_predict_function_7043 in device /job:localhost/replica:0/task:0/device:CPU:0\n",
            "Executing op __inference_predict_function_7043 in device /job:localhost/replica:0/task:0/device:CPU:0\n",
            "Executing op __inference_predict_function_7043 in device /job:localhost/replica:0/task:0/device:CPU:0\n",
            "Executing op __inference_predict_function_7043 in device /job:localhost/replica:0/task:0/device:CPU:0\n",
            "Executing op __inference_predict_function_7043 in device /job:localhost/replica:0/task:0/device:CPU:0\n",
            "Executing op __inference_predict_function_7043 in device /job:localhost/replica:0/task:0/device:CPU:0\n",
            "Executing op __inference_predict_function_7043 in device /job:localhost/replica:0/task:0/device:CPU:0\n",
            "Executing op __inference_predict_function_7043 in device /job:localhost/replica:0/task:0/device:CPU:0\n",
            "Executing op __inference_predict_function_7043 in device /job:localhost/replica:0/task:0/device:CPU:0\n",
            "Executing op __inference_predict_function_7043 in device /job:localhost/replica:0/task:0/device:CPU:0\n",
            "Executing op __inference_predict_function_7043 in device /job:localhost/replica:0/task:0/device:CPU:0\n",
            "Executing op __inference_predict_function_7043 in device /job:localhost/replica:0/task:0/device:CPU:0\n",
            "Executing op __inference_predict_function_7043 in device /job:localhost/replica:0/task:0/device:CPU:0\n",
            "Executing op __inference_predict_function_7043 in device /job:localhost/replica:0/task:0/device:CPU:0\n",
            "Executing op __inference_predict_function_7043 in device /job:localhost/replica:0/task:0/device:CPU:0\n",
            "Executing op __inference_predict_function_7043 in device /job:localhost/replica:0/task:0/device:CPU:0\n",
            "Executing op __inference_predict_function_7043 in device /job:localhost/replica:0/task:0/device:CPU:0\n",
            "Executing op __inference_predict_function_7043 in device /job:localhost/replica:0/task:0/device:CPU:0\n",
            "Executing op __inference_predict_function_7043 in device /job:localhost/replica:0/task:0/device:CPU:0\n",
            "Executing op __inference_predict_function_7043 in device /job:localhost/replica:0/task:0/device:CPU:0\n",
            "Executing op __inference_predict_function_7043 in device /job:localhost/replica:0/task:0/device:CPU:0\n",
            "Executing op __inference_predict_function_7043 in device /job:localhost/replica:0/task:0/device:CPU:0\n",
            "Executing op __inference_predict_function_7043 in device /job:localhost/replica:0/task:0/device:CPU:0\n",
            "Executing op __inference_predict_function_7043 in device /job:localhost/replica:0/task:0/device:CPU:0\n",
            "Executing op __inference_predict_function_7043 in device /job:localhost/replica:0/task:0/device:CPU:0\n",
            "Executing op __inference_predict_function_7043 in device /job:localhost/replica:0/task:0/device:CPU:0\n",
            "Executing op __inference_predict_function_7043 in device /job:localhost/replica:0/task:0/device:CPU:0\n",
            "Executing op __inference_predict_function_7043 in device /job:localhost/replica:0/task:0/device:CPU:0\n",
            "Executing op __inference_predict_function_7043 in device /job:localhost/replica:0/task:0/device:CPU:0\n",
            "Executing op __inference_predict_function_7043 in device /job:localhost/replica:0/task:0/device:CPU:0\n",
            "Executing op __inference_predict_function_7043 in device /job:localhost/replica:0/task:0/device:CPU:0\n",
            "Executing op __inference_predict_function_7043 in device /job:localhost/replica:0/task:0/device:CPU:0\n",
            "Executing op __inference_predict_function_7043 in device /job:localhost/replica:0/task:0/device:CPU:0\n",
            "Executing op __inference_predict_function_7043 in device /job:localhost/replica:0/task:0/device:CPU:0\n",
            "Executing op __inference_predict_function_7043 in device /job:localhost/replica:0/task:0/device:CPU:0\n",
            "Executing op __inference_predict_function_7043 in device /job:localhost/replica:0/task:0/device:CPU:0\n",
            "Executing op __inference_predict_function_7043 in device /job:localhost/replica:0/task:0/device:CPU:0\n",
            "Executing op __inference_predict_function_7043 in device /job:localhost/replica:0/task:0/device:CPU:0\n",
            "Executing op __inference_predict_function_7043 in device /job:localhost/replica:0/task:0/device:CPU:0\n",
            "Executing op __inference_predict_function_7043 in device /job:localhost/replica:0/task:0/device:CPU:0\n",
            "Executing op __inference_predict_function_7043 in device /job:localhost/replica:0/task:0/device:CPU:0\n",
            "Executing op __inference_predict_function_7043 in device /job:localhost/replica:0/task:0/device:CPU:0\n",
            "Executing op __inference_predict_function_7043 in device /job:localhost/replica:0/task:0/device:CPU:0\n",
            "Executing op __inference_predict_function_7043 in device /job:localhost/replica:0/task:0/device:CPU:0\n",
            "Executing op __inference_predict_function_7043 in device /job:localhost/replica:0/task:0/device:CPU:0\n",
            "Executing op __inference_predict_function_7043 in device /job:localhost/replica:0/task:0/device:CPU:0\n",
            "Executing op __inference_predict_function_7043 in device /job:localhost/replica:0/task:0/device:CPU:0\n",
            "Executing op __inference_predict_function_7043 in device /job:localhost/replica:0/task:0/device:CPU:0\n",
            "Executing op __inference_predict_function_7043 in device /job:localhost/replica:0/task:0/device:CPU:0\n",
            "Executing op __inference_predict_function_7043 in device /job:localhost/replica:0/task:0/device:CPU:0\n",
            "Executing op __inference_predict_function_7043 in device /job:localhost/replica:0/task:0/device:CPU:0\n",
            "Executing op __inference_predict_function_7043 in device /job:localhost/replica:0/task:0/device:CPU:0\n",
            "Executing op __inference_predict_function_7043 in device /job:localhost/replica:0/task:0/device:CPU:0\n",
            "Executing op __inference_predict_function_7043 in device /job:localhost/replica:0/task:0/device:CPU:0\n",
            "Executing op __inference_predict_function_7043 in device /job:localhost/replica:0/task:0/device:CPU:0\n",
            "Executing op __inference_predict_function_7043 in device /job:localhost/replica:0/task:0/device:CPU:0\n",
            "Executing op __inference_predict_function_7043 in device /job:localhost/replica:0/task:0/device:CPU:0\n",
            "Executing op __inference_predict_function_7043 in device /job:localhost/replica:0/task:0/device:CPU:0\n",
            "Executing op __inference_predict_function_7043 in device /job:localhost/replica:0/task:0/device:CPU:0\n",
            "Executing op __inference_predict_function_7043 in device /job:localhost/replica:0/task:0/device:CPU:0\n",
            "Executing op __inference_predict_function_7043 in device /job:localhost/replica:0/task:0/device:CPU:0\n",
            "Executing op __inference_predict_function_7043 in device /job:localhost/replica:0/task:0/device:CPU:0\n",
            "Executing op __inference_predict_function_7043 in device /job:localhost/replica:0/task:0/device:CPU:0\n",
            "Executing op __inference_predict_function_7043 in device /job:localhost/replica:0/task:0/device:CPU:0\n",
            "Executing op __inference_predict_function_7043 in device /job:localhost/replica:0/task:0/device:CPU:0\n",
            "Executing op __inference_predict_function_7043 in device /job:localhost/replica:0/task:0/device:CPU:0\n",
            "Executing op __inference_predict_function_7043 in device /job:localhost/replica:0/task:0/device:CPU:0\n",
            "Executing op __inference_predict_function_7043 in device /job:localhost/replica:0/task:0/device:CPU:0\n",
            "Executing op __inference_predict_function_7043 in device /job:localhost/replica:0/task:0/device:CPU:0\n",
            "Executing op __inference_predict_function_7043 in device /job:localhost/replica:0/task:0/device:CPU:0\n",
            "Executing op __inference_predict_function_7043 in device /job:localhost/replica:0/task:0/device:CPU:0\n",
            "Executing op __inference_predict_function_7043 in device /job:localhost/replica:0/task:0/device:CPU:0\n",
            "Executing op __inference_predict_function_7043 in device /job:localhost/replica:0/task:0/device:CPU:0\n",
            "Executing op __inference_predict_function_7043 in device /job:localhost/replica:0/task:0/device:CPU:0\n",
            "Executing op __inference_predict_function_7043 in device /job:localhost/replica:0/task:0/device:CPU:0\n",
            "Executing op __inference_predict_function_7043 in device /job:localhost/replica:0/task:0/device:CPU:0\n",
            "Executing op __inference_predict_function_7043 in device /job:localhost/replica:0/task:0/device:CPU:0\n",
            "Executing op __inference_predict_function_7043 in device /job:localhost/replica:0/task:0/device:CPU:0\n",
            "Executing op __inference_predict_function_7043 in device /job:localhost/replica:0/task:0/device:CPU:0\n",
            "Executing op __inference_predict_function_7043 in device /job:localhost/replica:0/task:0/device:CPU:0\n",
            "Executing op __inference_predict_function_7043 in device /job:localhost/replica:0/task:0/device:CPU:0\n",
            "Executing op __inference_predict_function_7043 in device /job:localhost/replica:0/task:0/device:CPU:0\n",
            "Executing op __inference_predict_function_7043 in device /job:localhost/replica:0/task:0/device:CPU:0\n",
            "Executing op __inference_predict_function_7043 in device /job:localhost/replica:0/task:0/device:CPU:0\n",
            "Executing op __inference_predict_function_7043 in device /job:localhost/replica:0/task:0/device:CPU:0\n",
            "Executing op __inference_predict_function_7043 in device /job:localhost/replica:0/task:0/device:CPU:0\n",
            "Executing op __inference_predict_function_7043 in device /job:localhost/replica:0/task:0/device:CPU:0\n",
            "Executing op __inference_predict_function_7043 in device /job:localhost/replica:0/task:0/device:CPU:0\n",
            "Executing op __inference_predict_function_7043 in device /job:localhost/replica:0/task:0/device:CPU:0\n",
            "Executing op __inference_predict_function_7043 in device /job:localhost/replica:0/task:0/device:CPU:0\n",
            "Executing op __inference_predict_function_7043 in device /job:localhost/replica:0/task:0/device:CPU:0\n",
            "Executing op __inference_predict_function_7043 in device /job:localhost/replica:0/task:0/device:CPU:0\n",
            "Executing op __inference_predict_function_7043 in device /job:localhost/replica:0/task:0/device:CPU:0\n",
            "Executing op __inference_predict_function_7043 in device /job:localhost/replica:0/task:0/device:CPU:0\n",
            "Executing op __inference_predict_function_7043 in device /job:localhost/replica:0/task:0/device:CPU:0\n",
            "Executing op __inference_predict_function_7043 in device /job:localhost/replica:0/task:0/device:CPU:0\n",
            "Executing op __inference_predict_function_7043 in device /job:localhost/replica:0/task:0/device:CPU:0\n",
            "Executing op __inference_predict_function_7043 in device /job:localhost/replica:0/task:0/device:CPU:0\n",
            "Executing op __inference_predict_function_7043 in device /job:localhost/replica:0/task:0/device:CPU:0\n",
            "Executing op __inference_predict_function_7043 in device /job:localhost/replica:0/task:0/device:CPU:0\n",
            "Executing op __inference_predict_function_7043 in device /job:localhost/replica:0/task:0/device:CPU:0\n",
            "Executing op __inference_predict_function_7043 in device /job:localhost/replica:0/task:0/device:CPU:0\n",
            "Executing op __inference_predict_function_7043 in device /job:localhost/replica:0/task:0/device:CPU:0\n",
            "Executing op __inference_predict_function_7043 in device /job:localhost/replica:0/task:0/device:CPU:0\n",
            "Executing op __inference_predict_function_7043 in device /job:localhost/replica:0/task:0/device:CPU:0\n",
            "Executing op __inference_predict_function_7043 in device /job:localhost/replica:0/task:0/device:CPU:0\n",
            "Executing op __inference_predict_function_7043 in device /job:localhost/replica:0/task:0/device:CPU:0\n",
            "Executing op __inference_predict_function_7043 in device /job:localhost/replica:0/task:0/device:CPU:0\n",
            "Executing op __inference_predict_function_7043 in device /job:localhost/replica:0/task:0/device:CPU:0\n",
            "Executing op __inference_predict_function_7043 in device /job:localhost/replica:0/task:0/device:CPU:0\n",
            "Executing op __inference_predict_function_7043 in device /job:localhost/replica:0/task:0/device:CPU:0\n",
            "Executing op __inference_predict_function_7043 in device /job:localhost/replica:0/task:0/device:CPU:0\n",
            "Executing op __inference_predict_function_7043 in device /job:localhost/replica:0/task:0/device:CPU:0\n",
            "Executing op __inference_predict_function_7043 in device /job:localhost/replica:0/task:0/device:CPU:0\n",
            "Executing op __inference_predict_function_7043 in device /job:localhost/replica:0/task:0/device:CPU:0\n",
            "Executing op __inference_predict_function_7043 in device /job:localhost/replica:0/task:0/device:CPU:0\n",
            "Executing op __inference_predict_function_7043 in device /job:localhost/replica:0/task:0/device:CPU:0\n",
            "Executing op __inference_predict_function_7043 in device /job:localhost/replica:0/task:0/device:CPU:0\n",
            "Executing op __inference_predict_function_7043 in device /job:localhost/replica:0/task:0/device:CPU:0\n",
            "Executing op __inference_predict_function_7043 in device /job:localhost/replica:0/task:0/device:CPU:0\n",
            "Executing op __inference_predict_function_7043 in device /job:localhost/replica:0/task:0/device:CPU:0\n",
            "Executing op __inference_predict_function_7043 in device /job:localhost/replica:0/task:0/device:CPU:0\n",
            "Executing op __inference_predict_function_7043 in device /job:localhost/replica:0/task:0/device:CPU:0\n",
            "Executing op __inference_predict_function_7043 in device /job:localhost/replica:0/task:0/device:CPU:0\n",
            "Executing op __inference_predict_function_7043 in device /job:localhost/replica:0/task:0/device:CPU:0\n",
            "Executing op __inference_predict_function_7043 in device /job:localhost/replica:0/task:0/device:CPU:0\n",
            "Executing op __inference_predict_function_7043 in device /job:localhost/replica:0/task:0/device:CPU:0\n",
            "Executing op __inference_predict_function_7043 in device /job:localhost/replica:0/task:0/device:CPU:0\n",
            "Executing op __inference_predict_function_7043 in device /job:localhost/replica:0/task:0/device:CPU:0\n",
            "Executing op __inference_predict_function_7043 in device /job:localhost/replica:0/task:0/device:CPU:0\n",
            "Executing op __inference_predict_function_7043 in device /job:localhost/replica:0/task:0/device:CPU:0\n",
            "Executing op __inference_predict_function_7043 in device /job:localhost/replica:0/task:0/device:CPU:0\n",
            "Executing op __inference_predict_function_7043 in device /job:localhost/replica:0/task:0/device:CPU:0\n",
            "Executing op __inference_predict_function_7043 in device /job:localhost/replica:0/task:0/device:CPU:0\n",
            "Executing op __inference_predict_function_7043 in device /job:localhost/replica:0/task:0/device:CPU:0\n",
            "Executing op __inference_predict_function_7043 in device /job:localhost/replica:0/task:0/device:CPU:0\n",
            "Executing op __inference_predict_function_7043 in device /job:localhost/replica:0/task:0/device:CPU:0\n",
            "Executing op __inference_predict_function_7043 in device /job:localhost/replica:0/task:0/device:CPU:0\n",
            "Executing op __inference_predict_function_7043 in device /job:localhost/replica:0/task:0/device:CPU:0\n",
            "Executing op __inference_predict_function_7043 in device /job:localhost/replica:0/task:0/device:CPU:0\n",
            "Executing op __inference_predict_function_7043 in device /job:localhost/replica:0/task:0/device:CPU:0\n",
            "Executing op __inference_predict_function_7043 in device /job:localhost/replica:0/task:0/device:CPU:0\n",
            "Executing op __inference_predict_function_7043 in device /job:localhost/replica:0/task:0/device:CPU:0\n",
            "Executing op __inference_predict_function_7043 in device /job:localhost/replica:0/task:0/device:CPU:0\n",
            "Executing op __inference_predict_function_7043 in device /job:localhost/replica:0/task:0/device:CPU:0\n",
            "Executing op __inference_predict_function_7043 in device /job:localhost/replica:0/task:0/device:CPU:0\n",
            "Executing op __inference_predict_function_7043 in device /job:localhost/replica:0/task:0/device:CPU:0\n",
            "Executing op __inference_predict_function_7043 in device /job:localhost/replica:0/task:0/device:CPU:0\n",
            "Executing op __inference_predict_function_7043 in device /job:localhost/replica:0/task:0/device:CPU:0\n",
            "Executing op __inference_predict_function_7043 in device /job:localhost/replica:0/task:0/device:CPU:0\n",
            "Executing op __inference_predict_function_7043 in device /job:localhost/replica:0/task:0/device:CPU:0\n",
            "Executing op __inference_predict_function_7043 in device /job:localhost/replica:0/task:0/device:CPU:0\n",
            "Executing op __inference_predict_function_7043 in device /job:localhost/replica:0/task:0/device:CPU:0\n",
            "Executing op __inference_predict_function_7043 in device /job:localhost/replica:0/task:0/device:CPU:0\n",
            "Executing op __inference_predict_function_7043 in device /job:localhost/replica:0/task:0/device:CPU:0\n",
            "Executing op __inference_predict_function_7043 in device /job:localhost/replica:0/task:0/device:CPU:0\n",
            "Executing op __inference_predict_function_7043 in device /job:localhost/replica:0/task:0/device:CPU:0\n",
            "Executing op __inference_predict_function_7043 in device /job:localhost/replica:0/task:0/device:CPU:0\n",
            "Executing op __inference_predict_function_7043 in device /job:localhost/replica:0/task:0/device:CPU:0\n",
            "Executing op __inference_predict_function_7043 in device /job:localhost/replica:0/task:0/device:CPU:0\n",
            "Executing op __inference_predict_function_7043 in device /job:localhost/replica:0/task:0/device:CPU:0\n",
            "Executing op __inference_predict_function_7043 in device /job:localhost/replica:0/task:0/device:CPU:0\n",
            "Executing op __inference_predict_function_7043 in device /job:localhost/replica:0/task:0/device:CPU:0\n",
            "Executing op __inference_predict_function_7043 in device /job:localhost/replica:0/task:0/device:CPU:0\n",
            "Executing op __inference_predict_function_7043 in device /job:localhost/replica:0/task:0/device:CPU:0\n",
            "Executing op __inference_predict_function_7043 in device /job:localhost/replica:0/task:0/device:CPU:0\n",
            "Executing op __inference_predict_function_7043 in device /job:localhost/replica:0/task:0/device:CPU:0\n",
            "Executing op __inference_predict_function_7043 in device /job:localhost/replica:0/task:0/device:CPU:0\n",
            "Executing op __inference_predict_function_7043 in device /job:localhost/replica:0/task:0/device:CPU:0\n",
            "Executing op __inference_predict_function_7043 in device /job:localhost/replica:0/task:0/device:CPU:0\n",
            "Executing op __inference_predict_function_7043 in device /job:localhost/replica:0/task:0/device:CPU:0\n",
            "Executing op __inference_predict_function_7043 in device /job:localhost/replica:0/task:0/device:CPU:0\n",
            "Executing op __inference_predict_function_7043 in device /job:localhost/replica:0/task:0/device:CPU:0\n",
            "Executing op __inference_predict_function_7043 in device /job:localhost/replica:0/task:0/device:CPU:0\n",
            "Executing op __inference_predict_function_7043 in device /job:localhost/replica:0/task:0/device:CPU:0\n",
            "Executing op __inference_predict_function_7043 in device /job:localhost/replica:0/task:0/device:CPU:0\n",
            "Executing op __inference_predict_function_7043 in device /job:localhost/replica:0/task:0/device:CPU:0\n",
            "Executing op __inference_predict_function_7043 in device /job:localhost/replica:0/task:0/device:CPU:0\n",
            "Executing op __inference_predict_function_7043 in device /job:localhost/replica:0/task:0/device:CPU:0\n",
            "Executing op __inference_predict_function_7043 in device /job:localhost/replica:0/task:0/device:CPU:0\n",
            "Executing op __inference_predict_function_7043 in device /job:localhost/replica:0/task:0/device:CPU:0\n",
            "Executing op __inference_predict_function_7043 in device /job:localhost/replica:0/task:0/device:CPU:0\n",
            "Executing op __inference_predict_function_7043 in device /job:localhost/replica:0/task:0/device:CPU:0\n",
            "Executing op __inference_predict_function_7043 in device /job:localhost/replica:0/task:0/device:CPU:0\n",
            "Executing op __inference_predict_function_7043 in device /job:localhost/replica:0/task:0/device:CPU:0\n",
            "Executing op __inference_predict_function_7043 in device /job:localhost/replica:0/task:0/device:CPU:0\n",
            "Executing op __inference_predict_function_7043 in device /job:localhost/replica:0/task:0/device:CPU:0\n",
            "Executing op __inference_predict_function_7043 in device /job:localhost/replica:0/task:0/device:CPU:0\n",
            "Executing op __inference_predict_function_7043 in device /job:localhost/replica:0/task:0/device:CPU:0\n",
            "Executing op __inference_predict_function_7043 in device /job:localhost/replica:0/task:0/device:CPU:0\n",
            "Executing op __inference_predict_function_7043 in device /job:localhost/replica:0/task:0/device:CPU:0\n",
            "Executing op __inference_predict_function_7043 in device /job:localhost/replica:0/task:0/device:CPU:0\n",
            "Executing op __inference_predict_function_7043 in device /job:localhost/replica:0/task:0/device:CPU:0\n",
            "Executing op __inference_predict_function_7043 in device /job:localhost/replica:0/task:0/device:CPU:0\n",
            "Executing op __inference_predict_function_7043 in device /job:localhost/replica:0/task:0/device:CPU:0\n",
            "Executing op __inference_predict_function_7043 in device /job:localhost/replica:0/task:0/device:CPU:0\n",
            "Executing op __inference_predict_function_7043 in device /job:localhost/replica:0/task:0/device:CPU:0\n",
            "Executing op __inference_predict_function_7043 in device /job:localhost/replica:0/task:0/device:CPU:0\n",
            "Executing op __inference_predict_function_7043 in device /job:localhost/replica:0/task:0/device:CPU:0\n",
            "Executing op __inference_predict_function_7043 in device /job:localhost/replica:0/task:0/device:CPU:0\n",
            "Executing op __inference_predict_function_7043 in device /job:localhost/replica:0/task:0/device:CPU:0\n",
            "Executing op __inference_predict_function_7043 in device /job:localhost/replica:0/task:0/device:CPU:0\n",
            "Executing op __inference_predict_function_7043 in device /job:localhost/replica:0/task:0/device:CPU:0\n",
            "Executing op __inference_predict_function_7043 in device /job:localhost/replica:0/task:0/device:CPU:0\n",
            "Executing op __inference_predict_function_7043 in device /job:localhost/replica:0/task:0/device:CPU:0\n",
            "Executing op __inference_predict_function_7043 in device /job:localhost/replica:0/task:0/device:CPU:0\n",
            "Executing op __inference_predict_function_7043 in device /job:localhost/replica:0/task:0/device:CPU:0\n",
            "Executing op __inference_predict_function_7043 in device /job:localhost/replica:0/task:0/device:CPU:0\n",
            "Executing op __inference_predict_function_7043 in device /job:localhost/replica:0/task:0/device:CPU:0\n",
            "Executing op __inference_predict_function_7043 in device /job:localhost/replica:0/task:0/device:CPU:0\n",
            "Executing op __inference_predict_function_7043 in device /job:localhost/replica:0/task:0/device:CPU:0\n",
            "Executing op ConcatV2 in device /job:localhost/replica:0/task:0/device:CPU:0\n",
            "Executing op DeleteIterator in device /job:localhost/replica:0/task:0/device:CPU:0\n"
          ]
        }
      ]
    },
    {
      "cell_type": "code",
      "metadata": {
        "id": "vgNImcrUeuQA",
        "colab": {
          "base_uri": "https://localhost:8080/"
        },
        "outputId": "67fa9772-b6e9-449b-a599-692c17ae95a9"
      },
      "source": [
        "y_pred"
      ],
      "execution_count": null,
      "outputs": [
        {
          "output_type": "execute_result",
          "data": {
            "text/plain": [
              "array([[1],\n",
              "       [0],\n",
              "       [0],\n",
              "       ...,\n",
              "       [0],\n",
              "       [0],\n",
              "       [0]], dtype=int32)"
            ]
          },
          "metadata": {},
          "execution_count": 52
        }
      ]
    },
    {
      "cell_type": "markdown",
      "metadata": {
        "id": "M4pVqE5N_gpn"
      },
      "source": [
        "**Displaying Total correct and incorrect prediction that our model has made while using the unknown testing data (i.e. x_test)**"
      ]
    },
    {
      "cell_type": "code",
      "metadata": {
        "id": "-zyXP7IrebZ-",
        "colab": {
          "base_uri": "https://localhost:8080/"
        },
        "outputId": "4e03b9f1-3030-4dab-8663-f8740650ad20"
      },
      "source": [
        "true = 0\n",
        "for i, y in enumerate(y_test):\n",
        "  if y == y_pred[i][0]:\n",
        "    true += 1\n",
        "\n",
        "print('Correct Prediction: {}'.format(true))\n",
        "print('Wrong Prediction: {}'.format(len(y_pred) - true))\n",
        "print('Accuracy: {}'.format(true/len(y_pred)*100))"
      ],
      "execution_count": null,
      "outputs": [
        {
          "output_type": "stream",
          "name": "stdout",
          "text": [
            "Correct Prediction: 8673\n",
            "Wrong Prediction: 1327\n",
            "Accuracy: 86.72999999999999\n"
          ]
        }
      ]
    },
    {
      "cell_type": "markdown",
      "metadata": {
        "id": "vgSVKEq4rjvk"
      },
      "source": [
        "To evaluate the model, we need to predict the sentiment using our x_test data and comparing the predictions with y_test (expected output) data. Then, we calculate the accuracy of the model by dividing numbers of correct prediction with the total data. **The accuracy on testing data turns out to be 86.14%**"
      ]
    },
    {
      "cell_type": "code",
      "metadata": {
        "id": "EI6cwcZMitsU"
      },
      "source": [
        "# !gdown --id 1EkuKCXOWe7dtIo2fLW0ylyIG4vxgLpV_"
      ],
      "execution_count": null,
      "outputs": []
    },
    {
      "cell_type": "markdown",
      "metadata": {
        "id": "TKx7yp94ACO9"
      },
      "source": [
        "**Loading the model that we saved earlier.**"
      ]
    },
    {
      "cell_type": "code",
      "metadata": {
        "id": "dQ_8VH6we4rb",
        "colab": {
          "base_uri": "https://localhost:8080/"
        },
        "outputId": "42a04190-285c-4e69-fc47-df3ffea5c028"
      },
      "source": [
        "loaded_model = load_model('/content/LSTM.h5')"
      ],
      "execution_count": null,
      "outputs": [
        {
          "output_type": "stream",
          "name": "stdout",
          "text": [
            "Executing op VarHandleOp in device /job:localhost/replica:0/task:0/device:CPU:0\n",
            "Executing op AssignVariableOp in device /job:localhost/replica:0/task:0/device:CPU:0\n",
            "Executing op VarHandleOp in device /job:localhost/replica:0/task:0/device:CPU:0\n",
            "Executing op AssignVariableOp in device /job:localhost/replica:0/task:0/device:CPU:0\n",
            "Executing op VarHandleOp in device /job:localhost/replica:0/task:0/device:CPU:0\n",
            "Executing op AssignVariableOp in device /job:localhost/replica:0/task:0/device:CPU:0\n",
            "Executing op _EagerConst in device /job:localhost/replica:0/task:0/device:CPU:0\n",
            "Executing op RandomUniform in device /job:localhost/replica:0/task:0/device:CPU:0\n",
            "Executing op Sub in device /job:localhost/replica:0/task:0/device:CPU:0\n",
            "Executing op Mul in device /job:localhost/replica:0/task:0/device:CPU:0\n",
            "Executing op AddV2 in device /job:localhost/replica:0/task:0/device:CPU:0\n",
            "Executing op VarHandleOp in device /job:localhost/replica:0/task:0/device:CPU:0\n",
            "Executing op AssignVariableOp in device /job:localhost/replica:0/task:0/device:CPU:0\n",
            "Executing op _EagerConst in device /job:localhost/replica:0/task:0/device:CPU:0\n",
            "Executing op RandomUniform in device /job:localhost/replica:0/task:0/device:CPU:0\n",
            "Executing op Sub in device /job:localhost/replica:0/task:0/device:CPU:0\n",
            "Executing op Mul in device /job:localhost/replica:0/task:0/device:CPU:0\n",
            "Executing op AddV2 in device /job:localhost/replica:0/task:0/device:CPU:0\n",
            "Executing op VarHandleOp in device /job:localhost/replica:0/task:0/device:CPU:0\n",
            "Executing op AssignVariableOp in device /job:localhost/replica:0/task:0/device:CPU:0\n",
            "Executing op _EagerConst in device /job:localhost/replica:0/task:0/device:CPU:0\n",
            "Executing op RandomStandardNormal in device /job:localhost/replica:0/task:0/device:CPU:0\n",
            "Executing op Mul in device /job:localhost/replica:0/task:0/device:CPU:0\n",
            "Executing op AddV2 in device /job:localhost/replica:0/task:0/device:CPU:0\n",
            "Executing op Qr in device /job:localhost/replica:0/task:0/device:CPU:0\n",
            "Executing op DiagPart in device /job:localhost/replica:0/task:0/device:CPU:0\n",
            "Executing op Sign in device /job:localhost/replica:0/task:0/device:CPU:0\n",
            "Executing op Mul in device /job:localhost/replica:0/task:0/device:CPU:0\n",
            "Executing op _EagerConst in device /job:localhost/replica:0/task:0/device:CPU:0\n",
            "Executing op Transpose in device /job:localhost/replica:0/task:0/device:CPU:0\n",
            "Executing op _EagerConst in device /job:localhost/replica:0/task:0/device:CPU:0\n",
            "Executing op Reshape in device /job:localhost/replica:0/task:0/device:CPU:0\n",
            "Executing op Mul in device /job:localhost/replica:0/task:0/device:CPU:0\n",
            "Executing op VarHandleOp in device /job:localhost/replica:0/task:0/device:CPU:0\n",
            "Executing op AssignVariableOp in device /job:localhost/replica:0/task:0/device:CPU:0\n",
            "Executing op _EagerConst in device /job:localhost/replica:0/task:0/device:CPU:0\n",
            "Executing op Fill in device /job:localhost/replica:0/task:0/device:CPU:0\n",
            "Executing op _EagerConst in device /job:localhost/replica:0/task:0/device:CPU:0\n",
            "Executing op Fill in device /job:localhost/replica:0/task:0/device:CPU:0\n",
            "Executing op _EagerConst in device /job:localhost/replica:0/task:0/device:CPU:0\n",
            "Executing op Fill in device /job:localhost/replica:0/task:0/device:CPU:0\n",
            "Executing op ConcatV2 in device /job:localhost/replica:0/task:0/device:CPU:0\n",
            "Executing op VarHandleOp in device /job:localhost/replica:0/task:0/device:CPU:0\n",
            "Executing op AssignVariableOp in device /job:localhost/replica:0/task:0/device:CPU:0\n",
            "Executing op _EagerConst in device /job:localhost/replica:0/task:0/device:CPU:0\n",
            "Executing op RandomUniform in device /job:localhost/replica:0/task:0/device:CPU:0\n",
            "Executing op Sub in device /job:localhost/replica:0/task:0/device:CPU:0\n",
            "Executing op Mul in device /job:localhost/replica:0/task:0/device:CPU:0\n",
            "Executing op AddV2 in device /job:localhost/replica:0/task:0/device:CPU:0\n",
            "Executing op VarHandleOp in device /job:localhost/replica:0/task:0/device:CPU:0\n",
            "Executing op AssignVariableOp in device /job:localhost/replica:0/task:0/device:CPU:0\n",
            "Executing op _EagerConst in device /job:localhost/replica:0/task:0/device:CPU:0\n",
            "Executing op Fill in device /job:localhost/replica:0/task:0/device:CPU:0\n",
            "Executing op VarHandleOp in device /job:localhost/replica:0/task:0/device:CPU:0\n",
            "Executing op AssignVariableOp in device /job:localhost/replica:0/task:0/device:CPU:0\n",
            "Executing op _EagerConst in device /job:localhost/replica:0/task:0/device:CPU:0\n",
            "Executing op AssignVariableOp in device /job:localhost/replica:0/task:0/device:CPU:0\n",
            "Executing op _EagerConst in device /job:localhost/replica:0/task:0/device:CPU:0\n",
            "Executing op AssignVariableOp in device /job:localhost/replica:0/task:0/device:CPU:0\n",
            "Executing op _EagerConst in device /job:localhost/replica:0/task:0/device:CPU:0\n",
            "Executing op AssignVariableOp in device /job:localhost/replica:0/task:0/device:CPU:0\n",
            "Executing op _EagerConst in device /job:localhost/replica:0/task:0/device:CPU:0\n",
            "Executing op AssignVariableOp in device /job:localhost/replica:0/task:0/device:CPU:0\n",
            "Executing op _EagerConst in device /job:localhost/replica:0/task:0/device:CPU:0\n",
            "Executing op AssignVariableOp in device /job:localhost/replica:0/task:0/device:CPU:0\n",
            "Executing op _EagerConst in device /job:localhost/replica:0/task:0/device:CPU:0\n",
            "Executing op AssignVariableOp in device /job:localhost/replica:0/task:0/device:CPU:0\n",
            "Executing op _EagerConst in device /job:localhost/replica:0/task:0/device:CPU:0\n",
            "Executing op Fill in device /job:localhost/replica:0/task:0/device:CPU:0\n",
            "Executing op VarHandleOp in device /job:localhost/replica:0/task:0/device:CPU:0\n",
            "Executing op AssignVariableOp in device /job:localhost/replica:0/task:0/device:CPU:0\n",
            "Executing op _EagerConst in device /job:localhost/replica:0/task:0/device:CPU:0\n",
            "Executing op Fill in device /job:localhost/replica:0/task:0/device:CPU:0\n",
            "Executing op VarHandleOp in device /job:localhost/replica:0/task:0/device:CPU:0\n",
            "Executing op AssignVariableOp in device /job:localhost/replica:0/task:0/device:CPU:0\n",
            "Executing op _EagerConst in device /job:localhost/replica:0/task:0/device:CPU:0\n",
            "Executing op Fill in device /job:localhost/replica:0/task:0/device:CPU:0\n",
            "Executing op VarHandleOp in device /job:localhost/replica:0/task:0/device:CPU:0\n",
            "Executing op AssignVariableOp in device /job:localhost/replica:0/task:0/device:CPU:0\n",
            "Executing op _EagerConst in device /job:localhost/replica:0/task:0/device:CPU:0\n",
            "Executing op Fill in device /job:localhost/replica:0/task:0/device:CPU:0\n",
            "Executing op VarHandleOp in device /job:localhost/replica:0/task:0/device:CPU:0\n",
            "Executing op AssignVariableOp in device /job:localhost/replica:0/task:0/device:CPU:0\n",
            "Executing op VarHandleOp in device /job:localhost/replica:0/task:0/device:CPU:0\n",
            "Executing op AssignVariableOp in device /job:localhost/replica:0/task:0/device:CPU:0\n",
            "Executing op _EagerConst in device /job:localhost/replica:0/task:0/device:CPU:0\n",
            "Executing op Fill in device /job:localhost/replica:0/task:0/device:CPU:0\n",
            "Executing op VarHandleOp in device /job:localhost/replica:0/task:0/device:CPU:0\n",
            "Executing op AssignVariableOp in device /job:localhost/replica:0/task:0/device:CPU:0\n",
            "Executing op _EagerConst in device /job:localhost/replica:0/task:0/device:CPU:0\n",
            "Executing op VarHandleOp in device /job:localhost/replica:0/task:0/device:CPU:0\n",
            "Executing op AssignVariableOp in device /job:localhost/replica:0/task:0/device:CPU:0\n",
            "Executing op _EagerConst in device /job:localhost/replica:0/task:0/device:CPU:0\n",
            "Executing op VarHandleOp in device /job:localhost/replica:0/task:0/device:CPU:0\n",
            "Executing op AssignVariableOp in device /job:localhost/replica:0/task:0/device:CPU:0\n",
            "Executing op VarHandleOp in device /job:localhost/replica:0/task:0/device:CPU:0\n",
            "Executing op AssignVariableOp in device /job:localhost/replica:0/task:0/device:CPU:0\n",
            "Executing op _EagerConst in device /job:localhost/replica:0/task:0/device:CPU:0\n",
            "Executing op VarHandleOp in device /job:localhost/replica:0/task:0/device:CPU:0\n",
            "Executing op AssignVariableOp in device /job:localhost/replica:0/task:0/device:CPU:0\n",
            "Executing op Fill in device /job:localhost/replica:0/task:0/device:CPU:0\n",
            "Executing op VarHandleOp in device /job:localhost/replica:0/task:0/device:CPU:0\n",
            "Executing op AssignVariableOp in device /job:localhost/replica:0/task:0/device:CPU:0\n",
            "Executing op Fill in device /job:localhost/replica:0/task:0/device:CPU:0\n",
            "Executing op VarHandleOp in device /job:localhost/replica:0/task:0/device:CPU:0\n",
            "Executing op AssignVariableOp in device /job:localhost/replica:0/task:0/device:CPU:0\n",
            "Executing op Fill in device /job:localhost/replica:0/task:0/device:CPU:0\n",
            "Executing op VarHandleOp in device /job:localhost/replica:0/task:0/device:CPU:0\n",
            "Executing op AssignVariableOp in device /job:localhost/replica:0/task:0/device:CPU:0\n",
            "Executing op Fill in device /job:localhost/replica:0/task:0/device:CPU:0\n",
            "Executing op VarHandleOp in device /job:localhost/replica:0/task:0/device:CPU:0\n",
            "Executing op AssignVariableOp in device /job:localhost/replica:0/task:0/device:CPU:0\n",
            "Executing op Fill in device /job:localhost/replica:0/task:0/device:CPU:0\n",
            "Executing op VarHandleOp in device /job:localhost/replica:0/task:0/device:CPU:0\n",
            "Executing op AssignVariableOp in device /job:localhost/replica:0/task:0/device:CPU:0\n",
            "Executing op Fill in device /job:localhost/replica:0/task:0/device:CPU:0\n",
            "Executing op VarHandleOp in device /job:localhost/replica:0/task:0/device:CPU:0\n",
            "Executing op AssignVariableOp in device /job:localhost/replica:0/task:0/device:CPU:0\n",
            "Executing op Fill in device /job:localhost/replica:0/task:0/device:CPU:0\n",
            "Executing op VarHandleOp in device /job:localhost/replica:0/task:0/device:CPU:0\n",
            "Executing op AssignVariableOp in device /job:localhost/replica:0/task:0/device:CPU:0\n",
            "Executing op Fill in device /job:localhost/replica:0/task:0/device:CPU:0\n",
            "Executing op VarHandleOp in device /job:localhost/replica:0/task:0/device:CPU:0\n",
            "Executing op AssignVariableOp in device /job:localhost/replica:0/task:0/device:CPU:0\n",
            "Executing op Fill in device /job:localhost/replica:0/task:0/device:CPU:0\n",
            "Executing op VarHandleOp in device /job:localhost/replica:0/task:0/device:CPU:0\n",
            "Executing op AssignVariableOp in device /job:localhost/replica:0/task:0/device:CPU:0\n",
            "Executing op Fill in device /job:localhost/replica:0/task:0/device:CPU:0\n",
            "Executing op VarHandleOp in device /job:localhost/replica:0/task:0/device:CPU:0\n",
            "Executing op AssignVariableOp in device /job:localhost/replica:0/task:0/device:CPU:0\n",
            "Executing op Fill in device /job:localhost/replica:0/task:0/device:CPU:0\n",
            "Executing op VarHandleOp in device /job:localhost/replica:0/task:0/device:CPU:0\n",
            "Executing op AssignVariableOp in device /job:localhost/replica:0/task:0/device:CPU:0\n",
            "Executing op Fill in device /job:localhost/replica:0/task:0/device:CPU:0\n",
            "Executing op VarHandleOp in device /job:localhost/replica:0/task:0/device:CPU:0\n",
            "Executing op AssignVariableOp in device /job:localhost/replica:0/task:0/device:CPU:0\n",
            "Executing op ReadVariableOp in device /job:localhost/replica:0/task:0/device:CPU:0\n",
            "Executing op Identity in device /job:localhost/replica:0/task:0/device:CPU:0\n",
            "Executing op ReadVariableOp in device /job:localhost/replica:0/task:0/device:CPU:0\n",
            "Executing op Identity in device /job:localhost/replica:0/task:0/device:CPU:0\n",
            "Executing op ReadVariableOp in device /job:localhost/replica:0/task:0/device:CPU:0\n",
            "Executing op Identity in device /job:localhost/replica:0/task:0/device:CPU:0\n",
            "Executing op ReadVariableOp in device /job:localhost/replica:0/task:0/device:CPU:0\n",
            "Executing op Identity in device /job:localhost/replica:0/task:0/device:CPU:0\n",
            "Executing op ReadVariableOp in device /job:localhost/replica:0/task:0/device:CPU:0\n",
            "Executing op Identity in device /job:localhost/replica:0/task:0/device:CPU:0\n",
            "Executing op ReadVariableOp in device /job:localhost/replica:0/task:0/device:CPU:0\n",
            "Executing op Identity in device /job:localhost/replica:0/task:0/device:CPU:0\n",
            "Executing op ReadVariableOp in device /job:localhost/replica:0/task:0/device:CPU:0\n",
            "Executing op Identity in device /job:localhost/replica:0/task:0/device:CPU:0\n",
            "Executing op ReadVariableOp in device /job:localhost/replica:0/task:0/device:CPU:0\n",
            "Executing op Identity in device /job:localhost/replica:0/task:0/device:CPU:0\n",
            "Executing op ReadVariableOp in device /job:localhost/replica:0/task:0/device:CPU:0\n",
            "Executing op Identity in device /job:localhost/replica:0/task:0/device:CPU:0\n",
            "Executing op ReadVariableOp in device /job:localhost/replica:0/task:0/device:CPU:0\n",
            "Executing op Identity in device /job:localhost/replica:0/task:0/device:CPU:0\n",
            "Executing op ReadVariableOp in device /job:localhost/replica:0/task:0/device:CPU:0\n",
            "Executing op Identity in device /job:localhost/replica:0/task:0/device:CPU:0\n",
            "Executing op ReadVariableOp in device /job:localhost/replica:0/task:0/device:CPU:0\n",
            "Executing op Identity in device /job:localhost/replica:0/task:0/device:CPU:0\n",
            "Executing op ReadVariableOp in device /job:localhost/replica:0/task:0/device:CPU:0\n",
            "Executing op Identity in device /job:localhost/replica:0/task:0/device:CPU:0\n",
            "Executing op _EagerConst in device /job:localhost/replica:0/task:0/device:CPU:0\n",
            "Executing op AssignVariableOp in device /job:localhost/replica:0/task:0/device:CPU:0\n",
            "Executing op _EagerConst in device /job:localhost/replica:0/task:0/device:CPU:0\n",
            "Executing op AssignVariableOp in device /job:localhost/replica:0/task:0/device:CPU:0\n",
            "Executing op _EagerConst in device /job:localhost/replica:0/task:0/device:CPU:0\n",
            "Executing op AssignVariableOp in device /job:localhost/replica:0/task:0/device:CPU:0\n",
            "Executing op _EagerConst in device /job:localhost/replica:0/task:0/device:CPU:0\n",
            "Executing op AssignVariableOp in device /job:localhost/replica:0/task:0/device:CPU:0\n",
            "Executing op _EagerConst in device /job:localhost/replica:0/task:0/device:CPU:0\n",
            "Executing op AssignVariableOp in device /job:localhost/replica:0/task:0/device:CPU:0\n",
            "Executing op _EagerConst in device /job:localhost/replica:0/task:0/device:CPU:0\n",
            "Executing op AssignVariableOp in device /job:localhost/replica:0/task:0/device:CPU:0\n",
            "Executing op _EagerConst in device /job:localhost/replica:0/task:0/device:CPU:0\n",
            "Executing op AssignVariableOp in device /job:localhost/replica:0/task:0/device:CPU:0\n",
            "Executing op _EagerConst in device /job:localhost/replica:0/task:0/device:CPU:0\n",
            "Executing op AssignVariableOp in device /job:localhost/replica:0/task:0/device:CPU:0\n",
            "Executing op _EagerConst in device /job:localhost/replica:0/task:0/device:CPU:0\n",
            "Executing op AssignVariableOp in device /job:localhost/replica:0/task:0/device:CPU:0\n",
            "Executing op _EagerConst in device /job:localhost/replica:0/task:0/device:CPU:0\n",
            "Executing op AssignVariableOp in device /job:localhost/replica:0/task:0/device:CPU:0\n",
            "Executing op _EagerConst in device /job:localhost/replica:0/task:0/device:CPU:0\n",
            "Executing op AssignVariableOp in device /job:localhost/replica:0/task:0/device:CPU:0\n",
            "Executing op _EagerConst in device /job:localhost/replica:0/task:0/device:CPU:0\n",
            "Executing op AssignVariableOp in device /job:localhost/replica:0/task:0/device:CPU:0\n",
            "Executing op _EagerConst in device /job:localhost/replica:0/task:0/device:CPU:0\n",
            "Executing op AssignVariableOp in device /job:localhost/replica:0/task:0/device:CPU:0\n"
          ]
        }
      ]
    },
    {
      "cell_type": "markdown",
      "metadata": {
        "id": "WEt9O9EfALjm"
      },
      "source": [
        "**Now we will test our model against a sample review created by us to check it's end result performance.**"
      ]
    },
    {
      "cell_type": "code",
      "metadata": {
        "id": "8veKm1Nwib7w"
      },
      "source": [
        "sample_review = \"Hi, the movie was bad and i did not like the action scenes.\""
      ],
      "execution_count": null,
      "outputs": []
    },
    {
      "cell_type": "markdown",
      "metadata": {
        "id": "80ZflOFJAWyJ"
      },
      "source": [
        "**Applying necessary cleaning and filtering.**"
      ]
    },
    {
      "cell_type": "code",
      "metadata": {
        "id": "QW57FMRek9gz",
        "colab": {
          "base_uri": "https://localhost:8080/"
        },
        "outputId": "3b8fdf66-8f03-4e17-91c5-02002b64b22a"
      },
      "source": [
        "regex = re.compile(r'[^a-zA-Z\\s]')\n",
        "sample_review = regex.sub('', sample_review)\n",
        "print('Cleaned: ', sample_review)"
      ],
      "execution_count": null,
      "outputs": [
        {
          "output_type": "stream",
          "name": "stdout",
          "text": [
            "Cleaned:  Hi the movie was bad and i did not like the action scenes\n"
          ]
        }
      ]
    },
    {
      "cell_type": "code",
      "metadata": {
        "id": "fhPRc_0qlDJu",
        "colab": {
          "base_uri": "https://localhost:8080/"
        },
        "outputId": "0e34c324-4ea4-46bd-c33a-48a77c2547da"
      },
      "source": [
        "words = sample_review.split(' ')\n",
        "filtered = [w for w in words if w not in english_stops]\n",
        "filtered = ' '.join(filtered)\n",
        "filtered = [filtered.lower()]\n",
        "print('Filtered: ', filtered)"
      ],
      "execution_count": null,
      "outputs": [
        {
          "output_type": "stream",
          "name": "stdout",
          "text": [
            "Filtered:  ['hi movie bad like action scenes']\n"
          ]
        }
      ]
    },
    {
      "cell_type": "markdown",
      "metadata": {
        "id": "wEcc5HfnAjt2"
      },
      "source": [
        "**Converting text to tokens.**"
      ]
    },
    {
      "cell_type": "code",
      "metadata": {
        "id": "gPtVaEcalJRN",
        "colab": {
          "base_uri": "https://localhost:8080/"
        },
        "outputId": "fc432e20-5de9-4f72-d0c8-eb35006bb08b"
      },
      "source": [
        "tokenize_words = token.texts_to_sequences(filtered)\n",
        "tokenize_words = pad_sequences(tokenize_words, maxlen=max_length, padding='post', truncating='post')\n",
        "print(tokenize_words)"
      ],
      "execution_count": null,
      "outputs": [
        {
          "output_type": "stream",
          "name": "stdout",
          "text": [
            "[[5175    3   19    6  114   60    0    0    0    0    0    0    0    0\n",
            "     0    0    0    0    0    0    0    0    0    0    0    0    0    0\n",
            "     0    0    0    0    0    0    0    0    0    0    0    0    0    0\n",
            "     0    0    0    0    0    0    0    0    0    0    0    0    0    0\n",
            "     0    0    0    0    0    0    0    0    0    0    0    0    0    0\n",
            "     0    0    0    0    0    0    0    0    0    0    0    0    0    0\n",
            "     0    0    0    0    0    0    0    0    0    0    0    0    0    0\n",
            "     0    0    0    0    0    0    0    0    0    0    0    0    0    0\n",
            "     0    0    0    0    0    0    0    0    0    0    0    0    0    0\n",
            "     0    0    0    0]]\n"
          ]
        }
      ]
    },
    {
      "cell_type": "markdown",
      "metadata": {
        "id": "_Vy_sOWkAuI-"
      },
      "source": [
        "**Predicting if the review is positive or negative using our trained model. We have used a threshold of 0.7, i.e. all values below 0.7 would be marked as 0 and values above it would be labelled 1.**"
      ]
    },
    {
      "cell_type": "code",
      "metadata": {
        "id": "xtpFo5uelQZf",
        "colab": {
          "base_uri": "https://localhost:8080/"
        },
        "outputId": "d7133734-80c6-4144-d6b6-3b7c806deffb"
      },
      "source": [
        "result = (loaded_model.predict(tokenize_words) > 0.7).astype(\"int32\")\n",
        "# result = loaded_model.predict(tokenize_words)"
      ],
      "execution_count": null,
      "outputs": [
        {
          "output_type": "stream",
          "name": "stdout",
          "text": [
            "Executing op ReadVariableOp in device /job:localhost/replica:0/task:0/device:CPU:0\n",
            "Executing op Identity in device /job:localhost/replica:0/task:0/device:CPU:0\n",
            "Executing op _EagerConst in device /job:localhost/replica:0/task:0/device:CPU:0\n",
            "Executing op RangeDataset in device /job:localhost/replica:0/task:0/device:CPU:0\n",
            "Executing op RepeatDataset in device /job:localhost/replica:0/task:0/device:CPU:0\n",
            "Executing op MapDataset in device /job:localhost/replica:0/task:0/device:CPU:0\n",
            "Executing op PrefetchDataset in device /job:localhost/replica:0/task:0/device:CPU:0\n",
            "Executing op FlatMapDataset in device /job:localhost/replica:0/task:0/device:CPU:0\n",
            "Executing op TensorDataset in device /job:localhost/replica:0/task:0/device:CPU:0\n",
            "Executing op RepeatDataset in device /job:localhost/replica:0/task:0/device:CPU:0\n",
            "Executing op ZipDataset in device /job:localhost/replica:0/task:0/device:CPU:0\n",
            "Executing op ParallelMapDatasetV2 in device /job:localhost/replica:0/task:0/device:CPU:0\n",
            "Executing op OptionsDataset in device /job:localhost/replica:0/task:0/device:CPU:0\n",
            "Executing op ReadVariableOp in device /job:localhost/replica:0/task:0/device:CPU:0\n",
            "Executing op Identity in device /job:localhost/replica:0/task:0/device:CPU:0\n",
            "Executing op AssignVariableOp in device /job:localhost/replica:0/task:0/device:CPU:0\n",
            "Executing op AnonymousIteratorV2 in device /job:localhost/replica:0/task:0/device:CPU:0\n",
            "Executing op MakeIterator in device /job:localhost/replica:0/task:0/device:CPU:0\n",
            "Executing op __inference_predict_function_8535 in device /job:localhost/replica:0/task:0/device:CPU:0\n",
            "Executing op Identity in device /job:localhost/replica:0/task:0/device:CPU:0\n",
            "Executing op DeleteIterator in device /job:localhost/replica:0/task:0/device:CPU:0\n"
          ]
        }
      ]
    },
    {
      "cell_type": "markdown",
      "metadata": {
        "id": "IHRpJDu9BP6U"
      },
      "source": [
        "**If the confidence score is 0, then the statement or review is negative. On the other hand, if the confidence score is 1, then the statement is positive.**"
      ]
    },
    {
      "cell_type": "code",
      "metadata": {
        "id": "6ZdAXSdflT69",
        "colab": {
          "base_uri": "https://localhost:8080/"
        },
        "outputId": "c58360b3-9467-46e5-abc4-33c047d0fe7b"
      },
      "source": [
        "if result == 1 :\n",
        "  print('positive')\n",
        "else :\n",
        "  print('negative')"
      ],
      "execution_count": null,
      "outputs": [
        {
          "output_type": "stream",
          "name": "stdout",
          "text": [
            "negative\n"
          ]
        }
      ]
    },
    {
      "cell_type": "markdown",
      "metadata": {
        "id": "BsijidmOBuK_"
      },
      "source": [
        "Hence, the review is correctly predicted as negative."
      ]
    }
  ]
}